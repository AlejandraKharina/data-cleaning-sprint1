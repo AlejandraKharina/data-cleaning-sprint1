{
 "cells": [
  {
   "cell_type": "markdown",
   "metadata": {
    "id": "fhq_eyov_Zcs"
   },
   "source": [
    "# Contenido <a id='back'></a>\n",
    "\n",
    "* [Introducción](#intro)\n",
    "* [Etapa 1. Descripción de los datos](#data_review)\n",
    "    * [Conclusiones](#data_review_conclusions)\n",
    "* [Etapa 2. Preprocesamiento de datos](#data_preprocessing)\n",
    "    * [2.1 Estilo del encabezado](#header_style)\n",
    "    * [2.2 Valores ausentes](#missing_values)\n",
    "    * [2.3 Duplicados](#duplicates)\n",
    "    * [2.4 Conclusiones](#data_preprocessing_conclusions)\n",
    "* [Etapa 3. Prueba de hipótesis](#hypothesis)\n",
    "    * [3.1 Hipótesis 1: actividad de los usuarios y las usuarias en las dos ciudades](#activity)\n",
    "* [Conclusiones](#end)"
   ]
  },
  {
   "cell_type": "markdown",
   "metadata": {
    "id": "VUC88oWjTJw2"
   },
   "source": [
    "## Introducción <a id='intro'></a>\n",
    "Como analista de datos, tu trabajo consiste en analizar datos para extraer información valiosa y tomar decisiones basadas en ellos. Esto implica diferentes etapas, como la descripción general de los datos, el preprocesamiento y la prueba de hipótesis.\n",
    "\n",
    "Siempre que investigamos, necesitamos formular hipótesis que después podamos probar. A veces aceptamos estas hipótesis; otras veces, las rechazamos. Para tomar las decisiones correctas, una empresa debe ser capaz de entender si está haciendo las suposiciones correctas.\n",
    "\n",
    "En este proyecto, compararás las preferencias musicales de las ciudades de Springfield y Shelbyville. Estudiarás datos reales de transmisión de música online para probar la hipótesis a continuación y comparar el comportamiento de los usuarios y las usuarias de estas dos ciudades.\n",
    "\n",
    "### Objetivo:\n",
    "Prueba la hipótesis:\n",
    "1. La actividad de los usuarios y las usuarias difiere según el día de la semana y dependiendo de la ciudad.\n",
    "\n",
    "\n",
    "### Etapas\n",
    "Los datos del comportamiento del usuario se almacenan en el archivo `/datasets/music_project_en.csv`. No hay ninguna información sobre la calidad de los datos, así que necesitarás examinarlos antes de probar la hipótesis.\n",
    "\n",
    "Primero, evaluarás la calidad de los datos y verás si los problemas son significativos. Entonces, durante el preprocesamiento de datos, tomarás en cuenta los problemas más críticos.\n",
    "\n",
    "Tu proyecto consistirá en tres etapas:\n",
    " 1. Descripción de los datos.\n",
    " 2. Preprocesamiento de datos.\n",
    " 3. Prueba de hipótesis.\n",
    "\n",
    "\n",
    "\n",
    "\n",
    "\n",
    "\n"
   ]
  },
  {
   "cell_type": "markdown",
   "metadata": {
    "id": "hDt6pg-Rw-1U"
   },
   "source": [
    "[Volver a Contenidos](#back)"
   ]
  },
  {
   "cell_type": "markdown",
   "metadata": {
    "id": "Ml1hmfXC_Zcs"
   },
   "source": [
    "## Etapa 1. Descripción de los datos <a id='data_review'></a>\n",
    "\n",
    "Abre los datos y examínalos."
   ]
  },
  {
   "cell_type": "markdown",
   "metadata": {
    "id": "57eAOGIz_Zcs"
   },
   "source": [
    "Necesitarás `pandas`, así que impórtalo."
   ]
  },
  {
   "cell_type": "code",
   "execution_count": 1,
   "metadata": {
    "id": "AXN7PHPN_Zcs"
   },
   "outputs": [],
   "source": [
    "import pandas as pd\n"
   ]
  },
  {
   "cell_type": "markdown",
   "metadata": {
    "id": "SG23P8tt_Zcs"
   },
   "source": [
    "Lee el archivo `music_project_en.csv` de la carpeta `/datasets/` y guárdalo en la variable `df`:"
   ]
  },
  {
   "cell_type": "code",
   "execution_count": 2,
   "metadata": {
    "id": "fFVu7vqh_Zct"
   },
   "outputs": [],
   "source": [
    "df = pd.read_csv('/datasets/music_project_en.csv')"
   ]
  },
  {
   "cell_type": "markdown",
   "metadata": {
    "id": "rDoOMd3uTqnZ"
   },
   "source": [
    "Muestra las 10 primeras filas de la tabla:"
   ]
  },
  {
   "cell_type": "code",
   "execution_count": 3,
   "metadata": {
    "id": "oWTVX3gW_Zct"
   },
   "outputs": [
    {
     "data": {
      "text/html": [
       "<div>\n",
       "<style scoped>\n",
       "    .dataframe tbody tr th:only-of-type {\n",
       "        vertical-align: middle;\n",
       "    }\n",
       "\n",
       "    .dataframe tbody tr th {\n",
       "        vertical-align: top;\n",
       "    }\n",
       "\n",
       "    .dataframe thead th {\n",
       "        text-align: right;\n",
       "    }\n",
       "</style>\n",
       "<table border=\"1\" class=\"dataframe\">\n",
       "  <thead>\n",
       "    <tr style=\"text-align: right;\">\n",
       "      <th></th>\n",
       "      <th>userID</th>\n",
       "      <th>Track</th>\n",
       "      <th>artist</th>\n",
       "      <th>genre</th>\n",
       "      <th>City</th>\n",
       "      <th>time</th>\n",
       "      <th>Day</th>\n",
       "    </tr>\n",
       "  </thead>\n",
       "  <tbody>\n",
       "    <tr>\n",
       "      <th>0</th>\n",
       "      <td>FFB692EC</td>\n",
       "      <td>Kamigata To Boots</td>\n",
       "      <td>The Mass Missile</td>\n",
       "      <td>rock</td>\n",
       "      <td>Shelbyville</td>\n",
       "      <td>20:28:33</td>\n",
       "      <td>Wednesday</td>\n",
       "    </tr>\n",
       "    <tr>\n",
       "      <th>1</th>\n",
       "      <td>55204538</td>\n",
       "      <td>Delayed Because of Accident</td>\n",
       "      <td>Andreas Rönnberg</td>\n",
       "      <td>rock</td>\n",
       "      <td>Springfield</td>\n",
       "      <td>14:07:09</td>\n",
       "      <td>Friday</td>\n",
       "    </tr>\n",
       "    <tr>\n",
       "      <th>2</th>\n",
       "      <td>20EC38</td>\n",
       "      <td>Funiculì funiculà</td>\n",
       "      <td>Mario Lanza</td>\n",
       "      <td>pop</td>\n",
       "      <td>Shelbyville</td>\n",
       "      <td>20:58:07</td>\n",
       "      <td>Wednesday</td>\n",
       "    </tr>\n",
       "    <tr>\n",
       "      <th>3</th>\n",
       "      <td>A3DD03C9</td>\n",
       "      <td>Dragons in the Sunset</td>\n",
       "      <td>Fire + Ice</td>\n",
       "      <td>folk</td>\n",
       "      <td>Shelbyville</td>\n",
       "      <td>08:37:09</td>\n",
       "      <td>Monday</td>\n",
       "    </tr>\n",
       "    <tr>\n",
       "      <th>4</th>\n",
       "      <td>E2DC1FAE</td>\n",
       "      <td>Soul People</td>\n",
       "      <td>Space Echo</td>\n",
       "      <td>dance</td>\n",
       "      <td>Springfield</td>\n",
       "      <td>08:34:34</td>\n",
       "      <td>Monday</td>\n",
       "    </tr>\n",
       "    <tr>\n",
       "      <th>5</th>\n",
       "      <td>842029A1</td>\n",
       "      <td>Chains</td>\n",
       "      <td>Obladaet</td>\n",
       "      <td>rusrap</td>\n",
       "      <td>Shelbyville</td>\n",
       "      <td>13:09:41</td>\n",
       "      <td>Friday</td>\n",
       "    </tr>\n",
       "    <tr>\n",
       "      <th>6</th>\n",
       "      <td>4CB90AA5</td>\n",
       "      <td>True</td>\n",
       "      <td>Roman Messer</td>\n",
       "      <td>dance</td>\n",
       "      <td>Springfield</td>\n",
       "      <td>13:00:07</td>\n",
       "      <td>Wednesday</td>\n",
       "    </tr>\n",
       "    <tr>\n",
       "      <th>7</th>\n",
       "      <td>F03E1C1F</td>\n",
       "      <td>Feeling This Way</td>\n",
       "      <td>Polina Griffith</td>\n",
       "      <td>dance</td>\n",
       "      <td>Springfield</td>\n",
       "      <td>20:47:49</td>\n",
       "      <td>Wednesday</td>\n",
       "    </tr>\n",
       "    <tr>\n",
       "      <th>8</th>\n",
       "      <td>8FA1D3BE</td>\n",
       "      <td>L’estate</td>\n",
       "      <td>Julia Dalia</td>\n",
       "      <td>ruspop</td>\n",
       "      <td>Springfield</td>\n",
       "      <td>09:17:40</td>\n",
       "      <td>Friday</td>\n",
       "    </tr>\n",
       "    <tr>\n",
       "      <th>9</th>\n",
       "      <td>E772D5C0</td>\n",
       "      <td>Pessimist</td>\n",
       "      <td>NaN</td>\n",
       "      <td>dance</td>\n",
       "      <td>Shelbyville</td>\n",
       "      <td>21:20:49</td>\n",
       "      <td>Wednesday</td>\n",
       "    </tr>\n",
       "  </tbody>\n",
       "</table>\n",
       "</div>"
      ],
      "text/plain": [
       "     userID                        Track            artist   genre  \\\n",
       "0  FFB692EC            Kamigata To Boots  The Mass Missile    rock   \n",
       "1  55204538  Delayed Because of Accident  Andreas Rönnberg    rock   \n",
       "2    20EC38            Funiculì funiculà       Mario Lanza     pop   \n",
       "3  A3DD03C9        Dragons in the Sunset        Fire + Ice    folk   \n",
       "4  E2DC1FAE                  Soul People        Space Echo   dance   \n",
       "5  842029A1                       Chains          Obladaet  rusrap   \n",
       "6  4CB90AA5                         True      Roman Messer   dance   \n",
       "7  F03E1C1F             Feeling This Way   Polina Griffith   dance   \n",
       "8  8FA1D3BE                     L’estate       Julia Dalia  ruspop   \n",
       "9  E772D5C0                    Pessimist               NaN   dance   \n",
       "\n",
       "        City        time        Day  \n",
       "0  Shelbyville  20:28:33  Wednesday  \n",
       "1  Springfield  14:07:09     Friday  \n",
       "2  Shelbyville  20:58:07  Wednesday  \n",
       "3  Shelbyville  08:37:09     Monday  \n",
       "4  Springfield  08:34:34     Monday  \n",
       "5  Shelbyville  13:09:41     Friday  \n",
       "6  Springfield  13:00:07  Wednesday  \n",
       "7  Springfield  20:47:49  Wednesday  \n",
       "8  Springfield  09:17:40     Friday  \n",
       "9  Shelbyville  21:20:49  Wednesday  "
      ]
     },
     "metadata": {},
     "output_type": "display_data"
    }
   ],
   "source": [
    "display(df.head(10))\n"
   ]
  },
  {
   "cell_type": "markdown",
   "metadata": {
    "id": "EO73Kwic_Zct"
   },
   "source": [
    "Obtén la información general sobre la tabla con un comando. Conoces el método que muestra la información general que necesitamos."
   ]
  },
  {
   "cell_type": "code",
   "execution_count": 4,
   "metadata": {
    "id": "DSf2kIb-_Zct"
   },
   "outputs": [
    {
     "name": "stdout",
     "output_type": "stream",
     "text": [
      "<class 'pandas.core.frame.DataFrame'>\n",
      "RangeIndex: 65079 entries, 0 to 65078\n",
      "Data columns (total 7 columns):\n",
      " #   Column    Non-Null Count  Dtype \n",
      "---  ------    --------------  ----- \n",
      " 0     userID  65079 non-null  object\n",
      " 1   Track     63736 non-null  object\n",
      " 2   artist    57512 non-null  object\n",
      " 3   genre     63881 non-null  object\n",
      " 4     City    65079 non-null  object\n",
      " 5   time      65079 non-null  object\n",
      " 6   Day       65079 non-null  object\n",
      "dtypes: object(7)\n",
      "memory usage: 3.5+ MB\n",
      "None\n"
     ]
    }
   ],
   "source": [
    "print(df.info())\n"
   ]
  },
  {
   "cell_type": "markdown",
   "metadata": {
    "id": "TaQ2Iwbr_Zct"
   },
   "source": [
    "Estas son nuestras observaciones sobre la tabla. Contiene siete columnas. Almacenan los mismos tipos de datos: `object`.\n",
    "\n",
    "Según la documentación:\n",
    "- `' userID'`: identificador del usuario o la usuaria;\n",
    "- `'Track'`: título de la canción;\n",
    "- `'artist'`: nombre del artista;\n",
    "- `'genre'`: género de la pista;\n",
    "- `'City'`: ciudad del usuario o la usuaria;\n",
    "- `'time'`: la hora exacta en la que se reprodujo la canción;\n",
    "- `'Day'`: día de la semana.\n",
    "\n",
    "Podemos ver tres problemas con el estilo en los encabezados de la tabla:\n",
    "1. Algunos encabezados están en mayúsculas, otros en minúsculas.\n",
    "2. Hay espacios en algunos encabezados.\n",
    "3. Un tercer problema que se puede observar en los encabezados de la tabla es la inconsistencia en el uso de espacios al inicio de los nombres de las columnas. Algunas columnas como ' userID' y 'City' tienen espacios al inicio, lo que podría causar problemas al referenciar estas columnas en el código. Para mejorar la consistencia y evitar errores potenciales, deberíamos eliminar estos espacios innecesarios y utilizar un formato mismo formato para todos los nombres de columnas.\n",
    "\n",
    "\n"
   ]
  },
  {
   "cell_type": "markdown",
   "metadata": {
    "id": "MCB6-dXG_Zct"
   },
   "source": [
    "### Escribe observaciones de tu parte. Estas son algunas de las preguntas que pueden ser útiles: <a id='data_review_conclusions'></a>\n",
    "\n",
    "`1.   Las filas incluyen datos de tipo 'object', que generalmente representan cadenas de texto. Cada fila parece registrar un evento de reproducción de una canción, abarcando detalles como el usuario, la pista, el artista, el género musical, la ciudad, el momento de la reproducción y el día de la semana. Esta estructura sugiere que el conjunto de datos está diseñado para capturar hábitos de escucha o preferencias musicales de los usuarios.\n",
    "\n",
    "`2.   Con 65,079 entradas, hay una cantidad considerable de datos que podrían ser suficientes para identificar tendencias generales en el comportamiento de los usuarios o la popularidad de ciertos géneros y artistas. Sin embargo, el análisis también dependerá de la formulación específica de las hipótesis. Por ejemplo, si el objetivo es comprender patrones de comportamiento específicos de ciertos grupos demográficos, podría ser necesario obtener datos adicionales sobre dichos grupos.\n",
    "\n",
    "`3.   Se han identificado valores ausentes en varias columnas, especialmente en 'Track', 'artist' y 'genre', lo que podría impactar el análisis si esos campos son esenciales para las hipótesis planteadas. También podría haber duplicados, aunque no se mencionan en el resumen, por lo que sería recomendable verificar su existencia. La consistencia en los tipos de datos parece adecuada, pero el estilo inconsistente de los encabezados y los espacios innecesarios pueden provocar errores al referenciar las columnas en el análisis de datos. Una limpieza exhaustiva de los datos es fundamental para garantizar la precisión de los resultados."
   ]
  },
  {
   "cell_type": "markdown",
   "metadata": {
    "id": "3eL__vcwViOi"
   },
   "source": [
    "[Volver a Contenidos](#back)"
   ]
  },
  {
   "cell_type": "markdown",
   "metadata": {
    "id": "SjYF6Ub9_Zct"
   },
   "source": [
    "## Etapa 2. Preprocesamiento de datos <a id='data_preprocessing'></a>\n",
    "\n",
    "El objetivo aquí es preparar los datos para que sean analizados.\n",
    "El primer paso es resolver cualquier problema con los encabezados. Luego podemos avanzar a los valores ausentes y duplicados. Empecemos.\n",
    "\n",
    "Corrige el formato en los encabezados de la tabla.\n"
   ]
  },
  {
   "cell_type": "markdown",
   "metadata": {
    "id": "dIaKXr29_Zct"
   },
   "source": [
    "### Estilo del encabezado <a id='header_style'></a>\n",
    "Muestra los encabezados de la tabla (los nombres de las columnas):"
   ]
  },
  {
   "cell_type": "code",
   "execution_count": 5,
   "metadata": {
    "id": "oKOTdF_Q_Zct"
   },
   "outputs": [
    {
     "name": "stdout",
     "output_type": "stream",
     "text": [
      "Index(['  userID', 'Track', 'artist', 'genre', '  City  ', 'time', 'Day'], dtype='object')\n"
     ]
    }
   ],
   "source": [
    "print(df.columns)\n"
   ]
  },
  {
   "cell_type": "markdown",
   "metadata": {
    "id": "zj5534cv_Zct"
   },
   "source": [
    "Cambia los encabezados de la tabla de acuerdo con las reglas del buen estilo:\n",
    "* Todos los caracteres deben ser minúsculas.\n",
    "* Elimina los espacios.\n",
    "* Si el nombre tiene varias palabras, utiliza snake_case."
   ]
  },
  {
   "cell_type": "markdown",
   "metadata": {
    "id": "Xu0zkfe5zNJe"
   },
   "source": [
    "Anteriormente, aprendiste acerca de la forma automática de cambiar el nombre de las columnas. Vamos a aplicarla ahora. Utiliza el bucle for para iterar sobre los nombres de las columnas y poner todos los caracteres en minúsculas. Cuando hayas terminado, vuelve a mostrar los encabezados de la tabla:"
   ]
  },
  {
   "cell_type": "code",
   "execution_count": 6,
   "metadata": {
    "id": "6I_RwwMhzM4e"
   },
   "outputs": [
    {
     "name": "stdout",
     "output_type": "stream",
     "text": [
      "Index(['  userid', 'track', 'artist', 'genre', '  city  ', 'time', 'day'], dtype='object')\n"
     ]
    }
   ],
   "source": [
    "df.columns = [column.lower() for column in df.columns]\n",
    "\n",
    "print(df.columns)\n"
   ]
  },
  {
   "cell_type": "markdown",
   "metadata": {
    "id": "pweIRxjSzPYW"
   },
   "source": [
    "Ahora, utilizando el mismo método, elimina los espacios al principio y al final de los nombres de las columnas e imprime los nombres de las columnas nuevamente:"
   ]
  },
  {
   "cell_type": "code",
   "execution_count": 7,
   "metadata": {
    "id": "vVQXbFyJzSYl"
   },
   "outputs": [
    {
     "name": "stdout",
     "output_type": "stream",
     "text": [
      "Index(['userid', 'track', 'artist', 'genre', 'city', 'time', 'day'], dtype='object')\n"
     ]
    }
   ],
   "source": [
    "new_col_names = []\n",
    "for old_name in df.columns:\n",
    "\tname_stripped = old_name.strip()\n",
    "\tname_lowered = name_stripped.lower()\n",
    "\tname_no_spaces = name_lowered.replace(' ', '_')\n",
    "\tnew_col_names.append(name_no_spaces)\n",
    "\n",
    "df.columns = new_col_names\n",
    "\n",
    "print(df.columns)\n"
   ]
  },
  {
   "cell_type": "markdown",
   "metadata": {
    "id": "yCb8MW1JzURd"
   },
   "source": [
    "Necesitamos aplicar la regla de snake_case a la columna `userid`. Debe ser `user_id`. Cambia el nombre de esta columna y muestra los nombres de todas las columnas cuando hayas terminado."
   ]
  },
  {
   "cell_type": "code",
   "execution_count": 8,
   "metadata": {
    "id": "ISlFqs5y_Zct"
   },
   "outputs": [
    {
     "name": "stdout",
     "output_type": "stream",
     "text": [
      "Index(['user_id', 'track', 'artist', 'genre', 'city', 'time', 'day'], dtype='object')\n"
     ]
    }
   ],
   "source": [
    "new_col_names = []\n",
    "for old_name in df.columns:\n",
    "\tname_stripped = old_name.strip()\n",
    "\tname_lowered = name_stripped.lower()\n",
    "\tname_no_spaces = name_lowered.replace(' ', '_')\n",
    "\tnew_col_names.append(name_no_spaces)\n",
    "\n",
    "df.columns = new_col_names\n",
    "\n",
    "df = df.rename(columns={'userid': 'user_id'})\n",
    "\n",
    "print(df.columns)\n"
   ]
  },
  {
   "cell_type": "markdown",
   "metadata": {
    "id": "1dqbh00J_Zct"
   },
   "source": [
    "Comprueba el resultado. Muestra los encabezados una vez más:"
   ]
  },
  {
   "cell_type": "code",
   "execution_count": 9,
   "metadata": {
    "id": "d4NOAmTW_Zct"
   },
   "outputs": [
    {
     "name": "stdout",
     "output_type": "stream",
     "text": [
      "Index(['user_id', 'track', 'artist', 'genre', 'city', 'time', 'day'], dtype='object')\n"
     ]
    }
   ],
   "source": [
    "print(df.columns)\n"
   ]
  },
  {
   "cell_type": "markdown",
   "metadata": {
    "id": "xYJk6ksJVpOl"
   },
   "source": [
    "[Volver a Contenidos](#back)"
   ]
  },
  {
   "cell_type": "markdown",
   "metadata": {
    "id": "5ISfbcfY_Zct"
   },
   "source": [
    "### Valores ausentes <a id='missing_values'></a>\n",
    " Primero, encuentra el número de valores ausentes en la tabla. Debes utilizar dos métodos en una secuencia para obtener el número de valores ausentes."
   ]
  },
  {
   "cell_type": "code",
   "execution_count": 10,
   "metadata": {
    "id": "RskX29qr_Zct"
   },
   "outputs": [
    {
     "name": "stdout",
     "output_type": "stream",
     "text": [
      "user_id       0\n",
      "track      1343\n",
      "artist     7567\n",
      "genre      1198\n",
      "city          0\n",
      "time          0\n",
      "day           0\n",
      "dtype: int64\n"
     ]
    }
   ],
   "source": [
    "print(df.isna().sum())\n"
   ]
  },
  {
   "cell_type": "markdown",
   "metadata": {
    "id": "qubhgnlO_Zct"
   },
   "source": [
    "No todos los valores ausentes afectan a la investigación. Por ejemplo, los valores ausentes en `track` y `artist` no son cruciales. Simplemente puedes reemplazarlos con valores predeterminados como el string `'unknown'` (desconocido).\n",
    "\n",
    "Pero los valores ausentes en `'genre'` pueden afectar la comparación entre las preferencias musicales de Springfield y Shelbyville. En la vida real, sería útil saber las razones por las cuales hay datos ausentes e intentar recuperarlos. Pero no tenemos esa oportunidad en este proyecto. Así que tendrás que:\n",
    "* rellenar estos valores ausentes con un valor predeterminado;\n",
    "* evaluar cuánto podrían afectar los valores ausentes a tus cómputos;"
   ]
  },
  {
   "cell_type": "markdown",
   "metadata": {
    "id": "fSv2laPA_Zct"
   },
   "source": [
    "Reemplazar los valores ausentes en las columnas `'track'`, `'artist'` y `'genre'` con el string `'unknown'`. Como mostramos anteriormente en las lecciones, la mejor forma de hacerlo es crear una lista que almacene los nombres de las columnas donde se necesita el reemplazo. Luego, utiliza esta lista e itera sobre las columnas donde se necesita el reemplazo haciendo el propio reemplazo."
   ]
  },
  {
   "cell_type": "code",
   "execution_count": 11,
   "metadata": {
    "id": "KplB5qWs_Zct"
   },
   "outputs": [],
   "source": [
    "import pandas as pd\n",
    "\n",
    "columns_to_replace = ['track', 'artist', 'genre']\n",
    "\n",
    "for col in columns_to_replace:\n",
    "\tdf.fillna('unknown', inplace=True)\n"
   ]
  },
  {
   "cell_type": "markdown",
   "metadata": {
    "id": "Ilsm-MZo_Zct"
   },
   "source": [
    "Ahora comprueba el resultado para asegurarte de que después del reemplazo no haya valores ausentes en el conjunto de datos. Para hacer esto, cuenta los valores ausentes nuevamente."
   ]
  },
  {
   "cell_type": "code",
   "execution_count": 12,
   "metadata": {
    "id": "Tq4nYRX4_Zct"
   },
   "outputs": [
    {
     "name": "stdout",
     "output_type": "stream",
     "text": [
      "user_id    0\n",
      "track      0\n",
      "artist     0\n",
      "genre      0\n",
      "city       0\n",
      "time       0\n",
      "day        0\n",
      "dtype: int64\n"
     ]
    }
   ],
   "source": [
    "print(df.isna().sum())"
   ]
  },
  {
   "cell_type": "markdown",
   "metadata": {
    "id": "74ZIBmq9VrsK"
   },
   "source": [
    "[Volver a Contenidos](#back)"
   ]
  },
  {
   "cell_type": "markdown",
   "metadata": {
    "id": "BWKRtBJ3_Zct"
   },
   "source": [
    "### Duplicados <a id='duplicates'></a>\n",
    "Encuentra el número de duplicados explícitos en la tabla. Una vez más, debes aplicar dos métodos en una secuencia para obtener la cantidad de duplicados explícitos."
   ]
  },
  {
   "cell_type": "code",
   "execution_count": 13,
   "metadata": {
    "id": "36eES_S0_Zct"
   },
   "outputs": [
    {
     "name": "stdout",
     "output_type": "stream",
     "text": [
      "3826\n"
     ]
    }
   ],
   "source": [
    "print(df.duplicated().sum())"
   ]
  },
  {
   "cell_type": "markdown",
   "metadata": {
    "id": "Ot25h6XR_Zct"
   },
   "source": [
    "Ahora, elimina todos los duplicados. Para ello, llama al método que hace exactamente esto."
   ]
  },
  {
   "cell_type": "code",
   "execution_count": 14,
   "metadata": {
    "id": "exFHq6tt_Zct"
   },
   "outputs": [],
   "source": [
    "df = df.drop_duplicates().reset_index(drop=True)\n"
   ]
  },
  {
   "cell_type": "markdown",
   "metadata": {
    "id": "Im2YwBEG_Zct"
   },
   "source": [
    "Comprobemos ahora si eliminamos con éxito todos los duplicados. Cuenta los duplicados explícitos una vez más para asegurarte de haberlos eliminado todos:"
   ]
  },
  {
   "cell_type": "code",
   "execution_count": 15,
   "metadata": {
    "id": "-8PuNWQ0_Zct"
   },
   "outputs": [
    {
     "name": "stdout",
     "output_type": "stream",
     "text": [
      "0\n"
     ]
    }
   ],
   "source": [
    "print(df.duplicated().sum())\n"
   ]
  },
  {
   "cell_type": "markdown",
   "metadata": {
    "id": "QlFBsxAr_Zct"
   },
   "source": [
    "Ahora queremos deshacernos de los duplicados implícitos en la columna `genre`. Por ejemplo, el nombre de un género se puede escribir de varias formas. Dichos errores también pueden afectar al resultado."
   ]
  },
  {
   "cell_type": "markdown",
   "metadata": {
    "id": "eSjWwsOh_Zct"
   },
   "source": [
    "Para hacerlo, primero mostremos una lista de nombres de género únicos, ordenados en orden alfabético. Para ello:\n",
    "* Extrae la columna `genre` del DataFrame.\n",
    "* Llama al método que devolverá todos los valores únicos en la columna extraída.\n"
   ]
  },
  {
   "cell_type": "code",
   "execution_count": 16,
   "metadata": {
    "id": "JIUcqzZN_Zct"
   },
   "outputs": [
    {
     "name": "stdout",
     "output_type": "stream",
     "text": [
      "['acid', 'acoustic', 'action', 'adult', 'africa', 'afrikaans', 'alternative', 'ambient', 'americana', 'animated', 'anime', 'arabesk', 'arabic', 'arena', 'argentinetango', 'art', 'audiobook', 'avantgarde', 'axé', 'baile', 'balkan', 'beats', 'bigroom', 'black', 'bluegrass', 'blues', 'bollywood', 'bossa', 'brazilian', 'breakbeat', 'breaks', 'broadway', 'cantautori', 'cantopop', 'canzone', 'caribbean', 'caucasian', 'celtic', 'chamber', 'children', 'chill', 'chinese', 'choral', 'christian', 'christmas', 'classical', 'classicmetal', 'club', 'colombian', 'comedy', 'conjazz', 'contemporary', 'country', 'cuban', 'dance', 'dancehall', 'dancepop', 'dark', 'death', 'deep', 'deutschrock', 'deutschspr', 'dirty', 'disco', 'dnb', 'documentary', 'downbeat', 'downtempo', 'drum', 'dub', 'dubstep', 'eastern', 'easy', 'electronic', 'electropop', 'emo', 'entehno', 'epicmetal', 'estrada', 'ethnic', 'eurofolk', 'european', 'experimental', 'extrememetal', 'fado', 'film', 'fitness', 'flamenco', 'folk', 'folklore', 'folkmetal', 'folkrock', 'folktronica', 'forró', 'frankreich', 'französisch', 'french', 'funk', 'future', 'gangsta', 'garage', 'german', 'ghazal', 'gitarre', 'glitch', 'gospel', 'gothic', 'grime', 'grunge', 'gypsy', 'handsup', \"hard'n'heavy\", 'hardcore', 'hardstyle', 'hardtechno', 'hip', 'hip-hop', 'hiphop', 'historisch', 'holiday', 'hop', 'horror', 'house', 'idm', 'independent', 'indian', 'indie', 'indipop', 'industrial', 'inspirational', 'instrumental', 'international', 'irish', 'jam', 'japanese', 'jazz', 'jewish', 'jpop', 'jungle', 'k-pop', 'karadeniz', 'karaoke', 'kayokyoku', 'korean', 'laiko', 'latin', 'latino', 'leftfield', 'local', 'lounge', 'loungeelectronic', 'lovers', 'malaysian', 'mandopop', 'marschmusik', 'meditative', 'mediterranean', 'melodic', 'metal', 'metalcore', 'mexican', 'middle', 'minimal', 'miscellaneous', 'modern', 'mood', 'mpb', 'muslim', 'native', 'neoklassik', 'neue', 'new', 'newage', 'newwave', 'nu', 'nujazz', 'numetal', 'oceania', 'old', 'opera', 'orchestral', 'other', 'piano', 'pop', 'popelectronic', 'popeurodance', 'post', 'posthardcore', 'postrock', 'power', 'progmetal', 'progressive', 'psychedelic', 'punjabi', 'punk', 'quebecois', 'ragga', 'ram', 'rancheras', 'rap', 'rave', 'reggae', 'reggaeton', 'regional', 'relax', 'religious', 'retro', 'rhythm', 'rnb', 'rnr', 'rock', 'rockabilly', 'romance', 'roots', 'ruspop', 'rusrap', 'rusrock', 'salsa', 'samba', 'schlager', 'self', 'sertanejo', 'shoegazing', 'showtunes', 'singer', 'ska', 'slow', 'smooth', 'soul', 'soulful', 'sound', 'soundtrack', 'southern', 'specialty', 'speech', 'spiritual', 'sport', 'stonerrock', 'surf', 'swing', 'synthpop', 'sängerportrait', 'tango', 'tanzorchester', 'taraftar', 'tech', 'techno', 'thrash', 'top', 'traditional', 'tradjazz', 'trance', 'tribal', 'trip', 'triphop', 'tropical', 'türk', 'türkçe', 'unknown', 'urban', 'uzbek', 'variété', 'vi', 'videogame', 'vocal', 'western', 'world', 'worldbeat', 'ïîï']\n"
     ]
    }
   ],
   "source": [
    "genre_column = df['genre']\n",
    "unique_genres = sorted(genre_column.unique())\n",
    "print(unique_genres)\n"
   ]
  },
  {
   "cell_type": "markdown",
   "metadata": {
    "id": "qej-Qmuo_Zct"
   },
   "source": [
    "Busca en la lista para encontrar duplicados implícitos del género `hiphop`. Estos pueden ser nombres escritos incorrectamente o nombres alternativos para el mismo género.\n",
    "\n",
    "Verás los siguientes duplicados implícitos:\n",
    "* `hip`\n",
    "* `hop`\n",
    "* `hip-hop`\n",
    "\n",
    "Para deshacerte de ellos, crea una función llamada `replace_wrong_genres()` con dos parámetros:\n",
    "* `wrong_genres=`: esta es una lista que contiene todos los valores que necesitas reemplazar.\n",
    "* `correct_genre=`: este es un string que vas a utilizar como reemplazo.\n",
    "\n",
    "Como resultado, la función debería corregir los nombres en la columna `'genre'` de la tabla `df`, es decir, remplazar cada valor de la lista `wrong_genres` por el valor en `correct_genre`.\n",
    "\n",
    "Dentro del cuerpo de la función, utiliza un bucle `'for'` para iterar sobre la lista de géneros incorrectos, extrae la columna `'genre'` y aplica el método `replace` para hacer correcciones."
   ]
  },
  {
   "cell_type": "code",
   "execution_count": 17,
   "metadata": {
    "id": "ErNDkmns_Zct"
   },
   "outputs": [],
   "source": [
    "def replace_wrong_genres(df, wrong_genres, correct_genre):\n",
    "    wrong_genres = ['hip', 'hop', 'hip-hop']\n",
    "    correct_genre = ['hiphop']\n",
    "    \n",
    "    for wrong_genre in wrong_genres:\n",
    "      \n",
    "        df['genre'] = df['genre'].replace(wrong_genre, correct_genre)\n"
   ]
  },
  {
   "cell_type": "code",
   "execution_count": 18,
   "metadata": {
    "id": "YN5i2hpmSo09"
   },
   "outputs": [],
   "source": [
    "def replace_wrong_genres(wrong_genres, correct_genre):\n",
    " \n",
    "    for genre in wrong_genres:\n",
    "       \n",
    "        df['genre'] = df['genre'].replace(genre, correct_genre)\n",
    "\n",
    "wrong_genres = ['hip', 'hop', 'hip-hop']\n",
    "\n",
    "correct_genre = 'hiphop'\n",
    "\n",
    "replace_wrong_genres(wrong_genres, correct_genre)\n"
   ]
  },
  {
   "cell_type": "markdown",
   "metadata": {
    "id": "zQKF16_RG15m"
   },
   "source": [
    "Asegúrate de que los nombres duplicados han sido eliminados. Muestra la lista de valores únicos de la columna `'genre'` una vez más:"
   ]
  },
  {
   "cell_type": "code",
   "execution_count": 19,
   "metadata": {
    "id": "wvixALnFG15m"
   },
   "outputs": [
    {
     "name": "stdout",
     "output_type": "stream",
     "text": [
      "['acid' 'acoustic' 'action' 'adult' 'africa' 'afrikaans' 'alternative'\n",
      " 'ambient' 'americana' 'animated' 'anime' 'arabesk' 'arabic' 'arena'\n",
      " 'argentinetango' 'art' 'audiobook' 'avantgarde' 'axé' 'baile' 'balkan'\n",
      " 'beats' 'bigroom' 'black' 'bluegrass' 'blues' 'bollywood' 'bossa'\n",
      " 'brazilian' 'breakbeat' 'breaks' 'broadway' 'cantautori' 'cantopop'\n",
      " 'canzone' 'caribbean' 'caucasian' 'celtic' 'chamber' 'children' 'chill'\n",
      " 'chinese' 'choral' 'christian' 'christmas' 'classical' 'classicmetal'\n",
      " 'club' 'colombian' 'comedy' 'conjazz' 'contemporary' 'country' 'cuban'\n",
      " 'dance' 'dancehall' 'dancepop' 'dark' 'death' 'deep' 'deutschrock'\n",
      " 'deutschspr' 'dirty' 'disco' 'dnb' 'documentary' 'downbeat' 'downtempo'\n",
      " 'drum' 'dub' 'dubstep' 'eastern' 'easy' 'electronic' 'electropop' 'emo'\n",
      " 'entehno' 'epicmetal' 'estrada' 'ethnic' 'eurofolk' 'european'\n",
      " 'experimental' 'extrememetal' 'fado' 'film' 'fitness' 'flamenco' 'folk'\n",
      " 'folklore' 'folkmetal' 'folkrock' 'folktronica' 'forró' 'frankreich'\n",
      " 'französisch' 'french' 'funk' 'future' 'gangsta' 'garage' 'german'\n",
      " 'ghazal' 'gitarre' 'glitch' 'gospel' 'gothic' 'grime' 'grunge' 'gypsy'\n",
      " 'handsup' \"hard'n'heavy\" 'hardcore' 'hardstyle' 'hardtechno' 'hiphop'\n",
      " 'historisch' 'holiday' 'horror' 'house' 'idm' 'independent' 'indian'\n",
      " 'indie' 'indipop' 'industrial' 'inspirational' 'instrumental'\n",
      " 'international' 'irish' 'jam' 'japanese' 'jazz' 'jewish' 'jpop' 'jungle'\n",
      " 'k-pop' 'karadeniz' 'karaoke' 'kayokyoku' 'korean' 'laiko' 'latin'\n",
      " 'latino' 'leftfield' 'local' 'lounge' 'loungeelectronic' 'lovers'\n",
      " 'malaysian' 'mandopop' 'marschmusik' 'meditative' 'mediterranean'\n",
      " 'melodic' 'metal' 'metalcore' 'mexican' 'middle' 'minimal'\n",
      " 'miscellaneous' 'modern' 'mood' 'mpb' 'muslim' 'native' 'neoklassik'\n",
      " 'neue' 'new' 'newage' 'newwave' 'nu' 'nujazz' 'numetal' 'oceania' 'old'\n",
      " 'opera' 'orchestral' 'other' 'piano' 'pop' 'popelectronic' 'popeurodance'\n",
      " 'post' 'posthardcore' 'postrock' 'power' 'progmetal' 'progressive'\n",
      " 'psychedelic' 'punjabi' 'punk' 'quebecois' 'ragga' 'ram' 'rancheras'\n",
      " 'rap' 'rave' 'reggae' 'reggaeton' 'regional' 'relax' 'religious' 'retro'\n",
      " 'rhythm' 'rnb' 'rnr' 'rock' 'rockabilly' 'romance' 'roots' 'ruspop'\n",
      " 'rusrap' 'rusrock' 'salsa' 'samba' 'schlager' 'self' 'sertanejo'\n",
      " 'shoegazing' 'showtunes' 'singer' 'ska' 'slow' 'smooth' 'soul' 'soulful'\n",
      " 'sound' 'soundtrack' 'southern' 'specialty' 'speech' 'spiritual' 'sport'\n",
      " 'stonerrock' 'surf' 'swing' 'synthpop' 'sängerportrait' 'tango'\n",
      " 'tanzorchester' 'taraftar' 'tech' 'techno' 'thrash' 'top' 'traditional'\n",
      " 'tradjazz' 'trance' 'tribal' 'trip' 'triphop' 'tropical' 'türk' 'türkçe'\n",
      " 'unknown' 'urban' 'uzbek' 'variété' 'vi' 'videogame' 'vocal' 'western'\n",
      " 'world' 'worldbeat' 'ïîï']\n"
     ]
    }
   ],
   "source": [
    "print(df['genre'].sort_values().unique())\n"
   ]
  },
  {
   "cell_type": "markdown",
   "metadata": {
    "id": "ALgNbvF3VtPA"
   },
   "source": [
    "[Volver a Contenidos](#back)"
   ]
  },
  {
   "cell_type": "markdown",
   "metadata": {
    "id": "jz6a9-7HQUDd"
   },
   "source": [
    "### Tus observaciones <a id='data_preprocessing_conclusions'></a>\n",
    "\n",
    "Al analizar los duplicados en el conjunto de datos, se observó que había dos tipos principales: duplicados explícitos y duplicados implícitos. Los duplicados explícitos son aquellos registros que son completamente idénticos a otros en la tabla. Para abordar estos, utilicé el método duplicated() de Pandas para contar cuántos registros estaban duplicados y luego drop_duplicates() para eliminarlos. Esto resultó en la eliminación exitosa de todos los duplicados explícitos, como se verificó al comprobar nuevamente los duplicados explícitos, que mostraron cero después de la eliminación.\n",
    "Por otro lado, los duplicados implícitos en la columna 'genre' presentaron un desafío diferente. Estos eran básicamente diferentes formas de escribir o referirse al mismo género musical, como 'hip', 'hop', y 'hip-hop', que debían unificarse bajo un nombre común, 'hiphop'. Para resolver esto, creé una función llamada replace_wrong_genres() que iteró sobre una lista de nombres de género incorrectos y los reemplazó por el nombre correcto. Esta función se aplicó a la columna 'genre', asegurando que todos los nombres de géneros fueran consistentes y eliminando cualquier duplicado implícito.\n",
    "Los resultados finales fueron satisfactorios, ya que al visualizar nuevamente la lista de géneros únicos, se consolidaron correctamente sin duplicados implícitos. Esto demuestra que la estrategia de eliminación fue efectiva para ambos tipos de duplicados, mejorando así la calidad y coherencia de los datos."
   ]
  },
  {
   "cell_type": "markdown",
   "metadata": {
    "id": "WttZHXH0SqKk"
   },
   "source": [
    "## Etapa 3. Prueba de hipótesis <a id='hypothesis'></a>"
   ]
  },
  {
   "cell_type": "markdown",
   "metadata": {
    "id": "Im936VVi_Zcu"
   },
   "source": [
    "### Hipótesis: comparar el comportamiento del usuario o la usuaria en las dos ciudades <a id='activity'></a>"
   ]
  },
  {
   "cell_type": "markdown",
   "metadata": {
    "id": "nwt_MuaL_Zcu"
   },
   "source": [
    "La hipótesis afirma que existen diferencias en la forma en que los usuarios y las usuarias de Springfield y Shelbyville consumen música. Para comprobar esto, usa los datos de tres días de la semana: lunes, miércoles y viernes.\n",
    "\n",
    "* Agrupa a los usuarios y las usuarias por ciudad.\n",
    "* Compara el número de canciones que cada grupo reprodujo el lunes, el miércoles y el viernes.\n"
   ]
  },
  {
   "cell_type": "markdown",
   "metadata": {
    "id": "8Dw_YMmT_Zcu"
   },
   "source": [
    "Realiza cada cálculo por separado.\n",
    "\n",
    "El primer paso es evaluar la actividad del usuario en cada ciudad. Recuerda las etapas dividir-aplicar-combinar de las que hablamos anteriormente en la lección. Tu objetivo ahora es agrupar los datos por ciudad, aplicar el método apropiado para contar durante la etapa de aplicación y luego encontrar la cantidad de canciones reproducidas en cada grupo especificando la columna para obtener el recuento.\n",
    "\n",
    "A continuación se muestra un ejemplo de cómo debería verse el resultado final:\n",
    "`df.groupby(by='....')['column'].method()`Realiza cada cálculo por separado.\n",
    "\n",
    "Para evaluar la actividad de los usuarios y las usuarias en cada ciudad, agrupa los datos por ciudad y encuentra la cantidad de canciones reproducidas en cada grupo.\n",
    "\n"
   ]
  },
  {
   "cell_type": "code",
   "execution_count": 20,
   "metadata": {
    "id": "0_Qs96oh_Zcu"
   },
   "outputs": [
    {
     "name": "stdout",
     "output_type": "stream",
     "text": [
      "<pandas.core.groupby.generic.DataFrameGroupBy object at 0x7f58b2e5a7c0>\n",
      "city\n",
      "Shelbyville    18512\n",
      "Springfield    42741\n",
      "Name: track, dtype: int64\n"
     ]
    }
   ],
   "source": [
    "print(df.groupby('city'))\n",
    "\n",
    "city_track = df.groupby('city')['track'].count()\n",
    "print(city_track)\n"
   ]
  },
  {
   "cell_type": "markdown",
   "metadata": {
    "id": "t_Qx-3NewAnK"
   },
   "source": [
    "Con este código se agrupa de una manera rapida y sencilla, permitiendonos encontrar los datos de una manera más rápida y eficáz "
   ]
  },
  {
   "cell_type": "markdown",
   "metadata": {
    "id": "dzli3w8o_Zcu"
   },
   "source": [
    "Ahora agrupemos los datos por día de la semana y encontremos el número de canciones reproducidas el lunes, miércoles y viernes. Utiliza el mismo método que antes, pero ahora necesitamos una agrupación diferente.\n"
   ]
  },
  {
   "cell_type": "code",
   "execution_count": 21,
   "metadata": {
    "id": "uZMKjiJz_Zcu"
   },
   "outputs": [
    {
     "name": "stdout",
     "output_type": "stream",
     "text": [
      "<pandas.core.groupby.generic.DataFrameGroupBy object at 0x7f58b2e5a850>\n",
      "day\n",
      "Friday       21840\n",
      "Monday       21354\n",
      "Wednesday    18059\n",
      "Name: track, dtype: int64\n"
     ]
    }
   ],
   "source": [
    "print(df.groupby('day'))\n",
    "\n",
    "day_track = df.groupby('day')['track'].count()\n",
    "print(day_track)\n"
   ]
  },
  {
   "cell_type": "markdown",
   "metadata": {
    "id": "cC2tNrlL_Zcu"
   },
   "source": [
    "Se a creado una nueva agrupaión, ahora por día de cada uno de las columnas, y hemos hecho tambien una agrupacion de las canciones por día."
   ]
  },
  {
   "cell_type": "markdown",
   "metadata": {
    "id": "POzs8bGa_Zcu"
   },
   "source": [
    "Ya sabes cómo contar entradas agrupándolas por ciudad o día. Ahora necesitas escribir una función que pueda contar entradas según ambos criterios simultáneamente.\n",
    "\n",
    "Crea la función `number_tracks()` para calcular el número de canciones reproducidas en un determinado día **y** ciudad. La función debe aceptar dos parámetros:\n",
    "\n",
    "- `day`: un día de la semana para filtrar. Por ejemplo, `'Monday'` (lunes).\n",
    "- `city`: una ciudad para filtrar. Por ejemplo, `'Springfield'`.\n",
    "\n",
    "Dentro de la función, aplicarás un filtrado consecutivo con indexación lógica.\n",
    "\n",
    "Primero filtra los datos por día y luego filtra la tabla resultante por ciudad.\n",
    "\n",
    "Después de filtrar los datos por dos criterios, cuenta el número de valores de la columna 'user_id' en la tabla resultante. Este recuento representa el número de entradas que estás buscando. Guarda el resultado en una nueva variable y devuélvelo desde la función."
   ]
  },
  {
   "cell_type": "code",
   "execution_count": 22,
   "metadata": {
    "id": "Nz3GdQB1_Zcu"
   },
   "outputs": [
    {
     "name": "stdout",
     "output_type": "stream",
     "text": [
      "          city  monday  wednesday  friday\n",
      "0  Springfield   15740      11056   15945\n",
      "1  Shelbyville    5614       7003    5895\n"
     ]
    }
   ],
   "source": [
    "city_day = pd.DataFrame(data = [['Springfield', 15740, 11056, 15945],\n",
    "    ['Shelbyville', 5614, 7003, 5895]],columns = ['city', 'monday', 'wednesday', 'friday'])\n",
    "print(city_day)\n",
    "\n",
    "def number_tracks(day, city):\n",
    "    track_list = df[(df['day'] == day) & (df['city'] == city)]\n",
    "    track_list_count = track_list['user_id'].count()\n",
    "    return track_list_count\n",
    "\n",
    "\n",
    "  "
   ]
  },
  {
   "cell_type": "code",
   "execution_count": 23,
   "metadata": {
    "id": "rJcRATNQ_Zcu"
   },
   "outputs": [
    {
     "data": {
      "text/plain": [
       "15740"
      ]
     },
     "execution_count": 23,
     "metadata": {},
     "output_type": "execute_result"
    }
   ],
   "source": [
    "number_tracks('Monday', 'Springfield')\n"
   ]
  },
  {
   "cell_type": "code",
   "execution_count": 24,
   "metadata": {
    "id": "hq_ncZ5T_Zcu"
   },
   "outputs": [
    {
     "data": {
      "text/plain": [
       "5614"
      ]
     },
     "execution_count": 24,
     "metadata": {},
     "output_type": "execute_result"
    }
   ],
   "source": [
    "number_tracks('Monday', 'Shelbyville')"
   ]
  },
  {
   "cell_type": "code",
   "execution_count": 25,
   "metadata": {
    "id": "_NTy2VPU_Zcu"
   },
   "outputs": [
    {
     "data": {
      "text/plain": [
       "11056"
      ]
     },
     "execution_count": 25,
     "metadata": {},
     "output_type": "execute_result"
    }
   ],
   "source": [
    "number_tracks('Wednesday', 'Springfield')"
   ]
  },
  {
   "cell_type": "code",
   "execution_count": 26,
   "metadata": {
    "id": "j2y3TAwo_Zcu"
   },
   "outputs": [
    {
     "data": {
      "text/plain": [
       "7003"
      ]
     },
     "execution_count": 26,
     "metadata": {},
     "output_type": "execute_result"
    }
   ],
   "source": [
    "number_tracks('Wednesday', 'Shelbyville')\n"
   ]
  },
  {
   "cell_type": "code",
   "execution_count": 27,
   "metadata": {
    "id": "vYDw5u_K_Zcu"
   },
   "outputs": [
    {
     "data": {
      "text/plain": [
       "15945"
      ]
     },
     "execution_count": 27,
     "metadata": {},
     "output_type": "execute_result"
    }
   ],
   "source": [
    "number_tracks('Friday', 'Springfield')\n"
   ]
  },
  {
   "cell_type": "code",
   "execution_count": 28,
   "metadata": {
    "id": "8_yzFtW3_Zcu"
   },
   "outputs": [
    {
     "data": {
      "text/plain": [
       "5895"
      ]
     },
     "execution_count": 28,
     "metadata": {},
     "output_type": "execute_result"
    }
   ],
   "source": [
    "number_tracks('Friday', 'Shelbyville')\n"
   ]
  },
  {
   "cell_type": "markdown",
   "metadata": {},
   "source": [
    "<div class=\"alert alert-block alert-success\">\n",
    "<b>Comentario del revisor (1ra Iteracion)</b> <a class=“tocSkip”></a>\n",
    "\n",
    "Muy bien utilizada la función! Cómo puedes observar el usar funciones ayuda a reducir la cantidad de código que se necesita para ejecutar acciones repetitivas. Bien redactada tu conclusión sobre este punto\n",
    "</div>"
   ]
  },
  {
   "cell_type": "markdown",
   "metadata": {
    "id": "-EgPIHYu_Zcu"
   },
   "source": [
    "**Conclusiones**\n",
    "\n",
    "Es correcta, sin embargo se requiere más investigación y analisis, para determinar el comportamiento."
   ]
  },
  {
   "cell_type": "markdown",
   "metadata": {
    "id": "p7nFQajCVw5B"
   },
   "source": [
    "[Volver a Contenidos](#back)"
   ]
  },
  {
   "cell_type": "markdown",
   "metadata": {
    "id": "ykKQ0N65_Zcv"
   },
   "source": [
    "# Conclusiones <a id='end'></a>"
   ]
  },
  {
   "cell_type": "markdown",
   "metadata": {
    "id": "tjUwbHb3_Zcv"
   },
   "source": [
    "Al analizar los datos de las canciones reproducidas en Springfield y Shelbyville durante los lunes, miércoles y viernes, se pueden identificar diferencias significativas en el comportamiento de los usuarios de ambas ciudades.\n",
    "En primer lugar, observamos que Springfield presenta un número considerablemente mayor de reproducciones en cada uno de los días analizados en comparación con Shelbyville. \n",
    "Por ejemplo, el lunes, Springfield registró 15,740 reproducciones, mientras que Shelbyville solo alcanzó 5,614. Esta tendencia se repite durante los demás días de la semana, con Springfield superando a Shelbyville en cada ocasión.\n",
    "Estos picos en la grafica podrían deberse a varios factores, como una población más numerosa en Springfield, una cultura musical más fuerte, la edad, o incluso diferencias en la disponibilidad de servicios de música en streaming en ambas ciudades.\n",
    "En conclusión, la hipótesis inicial que plantea la existencia de diferencias en el comportamiento de consumo musical entre los usuarios de Springfield y Shelbyville es correcta. \n",
    "Las cifras muestran claramente que los usuarios en Springfield consumen música con más frecuencia que en Shelbyville, lo que podría ser un tema interesante para estudios futuros sobre las causas de esta diferencia.\n",
    "En lo personal la hipotesis es correcta sin embargo podría hacerce otro tipo de analisis para poder determinar que es conveniente para el beneficio de la industria musical."
   ]
  }
 ],
 "metadata": {
  "ExecuteTimeLog": [
   {
    "duration": 296,
    "start_time": "2024-10-08T23:51:02.463Z"
   },
   {
    "duration": 91,
    "start_time": "2024-10-08T23:51:18.063Z"
   },
   {
    "duration": 7,
    "start_time": "2024-10-08T23:51:37.559Z"
   },
   {
    "duration": 22,
    "start_time": "2024-10-08T23:51:50.756Z"
   },
   {
    "duration": 3,
    "start_time": "2024-10-08T23:56:10.796Z"
   },
   {
    "duration": 4,
    "start_time": "2024-10-08T23:57:39.464Z"
   },
   {
    "duration": 4,
    "start_time": "2024-10-08T23:58:03.397Z"
   },
   {
    "duration": 9,
    "start_time": "2024-10-08T23:59:01.214Z"
   },
   {
    "duration": 3,
    "start_time": "2024-10-08T23:59:12.103Z"
   },
   {
    "duration": 18,
    "start_time": "2024-10-08T23:59:45.903Z"
   },
   {
    "duration": 56,
    "start_time": "2024-10-09T00:00:02.525Z"
   },
   {
    "duration": 19,
    "start_time": "2024-10-09T00:00:21.089Z"
   },
   {
    "duration": 8,
    "start_time": "2024-10-09T00:01:24.589Z"
   },
   {
    "duration": 42,
    "start_time": "2024-10-09T00:02:56.101Z"
   },
   {
    "duration": 52,
    "start_time": "2024-10-09T00:03:02.976Z"
   },
   {
    "duration": 42,
    "start_time": "2024-10-09T00:03:37.319Z"
   },
   {
    "duration": 6,
    "start_time": "2024-10-09T00:07:56.097Z"
   },
   {
    "duration": 4,
    "start_time": "2024-10-09T00:09:34.577Z"
   },
   {
    "duration": 9,
    "start_time": "2024-10-09T00:10:10.354Z"
   },
   {
    "duration": 6,
    "start_time": "2024-10-09T00:10:25.930Z"
   },
   {
    "duration": 3,
    "start_time": "2024-10-09T00:11:39.164Z"
   },
   {
    "duration": 245,
    "start_time": "2024-10-09T00:13:56.793Z"
   },
   {
    "duration": 29,
    "start_time": "2024-10-09T00:14:09.202Z"
   },
   {
    "duration": 30,
    "start_time": "2024-10-09T00:18:11.931Z"
   },
   {
    "duration": 78,
    "start_time": "2024-10-09T00:22:08.366Z"
   },
   {
    "duration": 29,
    "start_time": "2024-10-09T00:23:31.288Z"
   },
   {
    "duration": 4,
    "start_time": "2024-10-09T00:26:32.130Z"
   },
   {
    "duration": 17,
    "start_time": "2024-10-09T00:29:41.430Z"
   },
   {
    "duration": 21,
    "start_time": "2024-10-09T00:31:28.045Z"
   },
   {
    "duration": 20,
    "start_time": "2024-10-09T00:32:16.283Z"
   },
   {
    "duration": 40,
    "start_time": "2024-10-09T00:33:48.500Z"
   },
   {
    "duration": 21,
    "start_time": "2024-10-09T00:35:36.978Z"
   },
   {
    "duration": 10,
    "start_time": "2024-10-09T00:45:12.332Z"
   },
   {
    "duration": 11,
    "start_time": "2024-10-09T00:45:22.127Z"
   },
   {
    "duration": 3,
    "start_time": "2024-10-09T00:46:34.187Z"
   },
   {
    "duration": 19,
    "start_time": "2024-10-09T00:46:52.680Z"
   },
   {
    "duration": 12,
    "start_time": "2024-10-09T00:47:20.468Z"
   },
   {
    "duration": 13,
    "start_time": "2024-10-09T00:47:41.761Z"
   },
   {
    "duration": 12,
    "start_time": "2024-10-09T00:48:30.405Z"
   },
   {
    "duration": 14,
    "start_time": "2024-10-09T00:48:36.183Z"
   },
   {
    "duration": 12,
    "start_time": "2024-10-09T00:48:39.607Z"
   },
   {
    "duration": 3,
    "start_time": "2024-10-09T00:48:57.737Z"
   },
   {
    "duration": 6,
    "start_time": "2024-10-09T00:55:55.603Z"
   },
   {
    "duration": 4,
    "start_time": "2024-10-09T00:56:18.108Z"
   },
   {
    "duration": 6,
    "start_time": "2024-10-09T00:56:40.746Z"
   },
   {
    "duration": 18,
    "start_time": "2024-10-09T00:56:47.754Z"
   },
   {
    "duration": 14,
    "start_time": "2024-10-09T00:56:53.345Z"
   },
   {
    "duration": 8,
    "start_time": "2024-10-09T00:57:08.935Z"
   },
   {
    "duration": 14,
    "start_time": "2024-10-09T00:57:15.130Z"
   },
   {
    "duration": 15,
    "start_time": "2024-10-09T00:57:18.851Z"
   },
   {
    "duration": 13,
    "start_time": "2024-10-09T00:57:24.234Z"
   },
   {
    "duration": 12,
    "start_time": "2024-10-09T00:57:28.462Z"
   },
   {
    "duration": 280,
    "start_time": "2024-10-09T03:20:27.469Z"
   },
   {
    "duration": 92,
    "start_time": "2024-10-09T03:20:27.751Z"
   },
   {
    "duration": 6,
    "start_time": "2024-10-09T03:20:27.845Z"
   },
   {
    "duration": 20,
    "start_time": "2024-10-09T03:20:27.853Z"
   },
   {
    "duration": 3,
    "start_time": "2024-10-09T03:20:27.875Z"
   },
   {
    "duration": 4,
    "start_time": "2024-10-09T03:20:27.880Z"
   },
   {
    "duration": 29,
    "start_time": "2024-10-09T03:20:27.885Z"
   },
   {
    "duration": 9,
    "start_time": "2024-10-09T03:20:27.915Z"
   },
   {
    "duration": 3,
    "start_time": "2024-10-09T03:20:27.926Z"
   },
   {
    "duration": 16,
    "start_time": "2024-10-09T03:20:27.932Z"
   },
   {
    "duration": 80,
    "start_time": "2024-10-09T03:20:27.949Z"
   },
   {
    "duration": 20,
    "start_time": "2024-10-09T03:20:28.030Z"
   },
   {
    "duration": 40,
    "start_time": "2024-10-09T03:20:28.052Z"
   },
   {
    "duration": 56,
    "start_time": "2024-10-09T03:20:28.094Z"
   },
   {
    "duration": 38,
    "start_time": "2024-10-09T03:20:28.152Z"
   },
   {
    "duration": 21,
    "start_time": "2024-10-09T03:20:28.192Z"
   },
   {
    "duration": 3,
    "start_time": "2024-10-09T03:20:28.215Z"
   },
   {
    "duration": 7,
    "start_time": "2024-10-09T03:20:28.219Z"
   },
   {
    "duration": 6,
    "start_time": "2024-10-09T03:20:28.228Z"
   },
   {
    "duration": 8,
    "start_time": "2024-10-09T03:20:28.236Z"
   },
   {
    "duration": 8,
    "start_time": "2024-10-09T03:20:28.246Z"
   },
   {
    "duration": 5,
    "start_time": "2024-10-09T03:20:28.256Z"
   },
   {
    "duration": 50,
    "start_time": "2024-10-09T03:20:28.263Z"
   },
   {
    "duration": 10,
    "start_time": "2024-10-09T03:20:28.315Z"
   },
   {
    "duration": 12,
    "start_time": "2024-10-09T03:20:28.327Z"
   },
   {
    "duration": 11,
    "start_time": "2024-10-09T03:20:28.340Z"
   },
   {
    "duration": 12,
    "start_time": "2024-10-09T03:20:28.353Z"
   },
   {
    "duration": 43,
    "start_time": "2024-10-09T03:20:28.369Z"
   },
   {
    "duration": 155,
    "start_time": "2024-10-09T15:59:25.255Z"
   },
   {
    "duration": 12,
    "start_time": "2024-10-09T16:06:04.344Z"
   },
   {
    "duration": 11,
    "start_time": "2024-10-09T16:15:39.745Z"
   },
   {
    "duration": 302,
    "start_time": "2024-10-09T16:16:08.111Z"
   },
   {
    "duration": 132,
    "start_time": "2024-10-09T16:16:13.710Z"
   },
   {
    "duration": 13,
    "start_time": "2024-10-09T16:41:08.735Z"
   },
   {
    "duration": 21,
    "start_time": "2024-10-09T19:27:32.335Z"
   },
   {
    "duration": 3,
    "start_time": "2024-10-09T19:27:43.444Z"
   },
   {
    "duration": 3,
    "start_time": "2024-10-09T19:27:47.204Z"
   },
   {
    "duration": 4,
    "start_time": "2024-10-09T19:27:50.256Z"
   },
   {
    "duration": 14,
    "start_time": "2024-10-09T19:27:54.216Z"
   },
   {
    "duration": 4,
    "start_time": "2024-10-09T19:27:59.961Z"
   },
   {
    "duration": 17,
    "start_time": "2024-10-09T19:28:09.637Z"
   },
   {
    "duration": 54,
    "start_time": "2024-10-09T19:28:26.215Z"
   },
   {
    "duration": 60,
    "start_time": "2024-10-09T19:28:36.146Z"
   },
   {
    "duration": 46,
    "start_time": "2024-10-09T19:28:38.116Z"
   },
   {
    "duration": 44,
    "start_time": "2024-10-09T19:28:40.979Z"
   },
   {
    "duration": 6,
    "start_time": "2024-10-09T20:53:07.833Z"
   },
   {
    "duration": 3,
    "start_time": "2024-10-09T20:53:32.626Z"
   },
   {
    "duration": 8,
    "start_time": "2024-10-09T20:53:38.486Z"
   },
   {
    "duration": 6,
    "start_time": "2024-10-09T20:54:01.067Z"
   },
   {
    "duration": 2,
    "start_time": "2024-10-09T20:54:23.360Z"
   },
   {
    "duration": 9,
    "start_time": "2024-10-09T20:57:33.162Z"
   },
   {
    "duration": 9,
    "start_time": "2024-10-09T20:57:38.295Z"
   },
   {
    "duration": 7,
    "start_time": "2024-10-09T20:57:43.412Z"
   },
   {
    "duration": 14,
    "start_time": "2024-10-09T20:57:48.303Z"
   },
   {
    "duration": 13,
    "start_time": "2024-10-09T20:57:52.479Z"
   },
   {
    "duration": 14,
    "start_time": "2024-10-09T20:57:55.673Z"
   },
   {
    "duration": 13,
    "start_time": "2024-10-09T20:58:00.512Z"
   },
   {
    "duration": 12,
    "start_time": "2024-10-09T20:58:04.272Z"
   },
   {
    "duration": 341,
    "start_time": "2024-10-09T23:16:09.724Z"
   },
   {
    "duration": 132,
    "start_time": "2024-10-09T23:16:10.068Z"
   },
   {
    "duration": 12,
    "start_time": "2024-10-09T23:16:10.202Z"
   },
   {
    "duration": 24,
    "start_time": "2024-10-09T23:16:10.217Z"
   },
   {
    "duration": 3,
    "start_time": "2024-10-09T23:16:10.243Z"
   },
   {
    "duration": 3,
    "start_time": "2024-10-09T23:16:10.248Z"
   },
   {
    "duration": 4,
    "start_time": "2024-10-09T23:16:10.253Z"
   },
   {
    "duration": 9,
    "start_time": "2024-10-09T23:16:10.259Z"
   },
   {
    "duration": 4,
    "start_time": "2024-10-09T23:16:10.305Z"
   },
   {
    "duration": 17,
    "start_time": "2024-10-09T23:16:10.314Z"
   },
   {
    "duration": 72,
    "start_time": "2024-10-09T23:16:10.333Z"
   },
   {
    "duration": 19,
    "start_time": "2024-10-09T23:16:10.407Z"
   },
   {
    "duration": 40,
    "start_time": "2024-10-09T23:16:10.428Z"
   },
   {
    "duration": 70,
    "start_time": "2024-10-09T23:16:10.470Z"
   },
   {
    "duration": 40,
    "start_time": "2024-10-09T23:16:10.541Z"
   },
   {
    "duration": 22,
    "start_time": "2024-10-09T23:16:10.583Z"
   },
   {
    "duration": 4,
    "start_time": "2024-10-09T23:16:10.607Z"
   },
   {
    "duration": 7,
    "start_time": "2024-10-09T23:16:10.613Z"
   },
   {
    "duration": 3,
    "start_time": "2024-10-09T23:16:10.622Z"
   },
   {
    "duration": 10,
    "start_time": "2024-10-09T23:16:10.626Z"
   },
   {
    "duration": 9,
    "start_time": "2024-10-09T23:16:10.638Z"
   },
   {
    "duration": 6,
    "start_time": "2024-10-09T23:16:10.649Z"
   },
   {
    "duration": 51,
    "start_time": "2024-10-09T23:16:10.657Z"
   },
   {
    "duration": 13,
    "start_time": "2024-10-09T23:16:10.709Z"
   },
   {
    "duration": 13,
    "start_time": "2024-10-09T23:16:10.725Z"
   },
   {
    "duration": 12,
    "start_time": "2024-10-09T23:16:10.740Z"
   },
   {
    "duration": 14,
    "start_time": "2024-10-09T23:16:10.754Z"
   },
   {
    "duration": 40,
    "start_time": "2024-10-09T23:16:10.771Z"
   },
   {
    "duration": 155,
    "start_time": "2024-10-11T17:05:48.400Z"
   },
   {
    "duration": 286,
    "start_time": "2024-10-11T17:06:00.832Z"
   },
   {
    "duration": 124,
    "start_time": "2024-10-11T17:06:02.766Z"
   },
   {
    "duration": 13,
    "start_time": "2024-10-11T17:06:05.214Z"
   },
   {
    "duration": 21,
    "start_time": "2024-10-11T17:06:07.829Z"
   },
   {
    "duration": 3,
    "start_time": "2024-10-11T17:06:12.631Z"
   },
   {
    "duration": 4,
    "start_time": "2024-10-11T17:06:15.268Z"
   },
   {
    "duration": 3,
    "start_time": "2024-10-11T17:06:16.851Z"
   },
   {
    "duration": 9,
    "start_time": "2024-10-11T17:06:18.714Z"
   },
   {
    "duration": 3,
    "start_time": "2024-10-11T17:06:20.862Z"
   },
   {
    "duration": 17,
    "start_time": "2024-10-11T17:06:25.573Z"
   },
   {
    "duration": 54,
    "start_time": "2024-10-11T17:06:28.569Z"
   },
   {
    "duration": 18,
    "start_time": "2024-10-11T17:06:30.171Z"
   },
   {
    "duration": 41,
    "start_time": "2024-10-11T17:06:34.403Z"
   },
   {
    "duration": 55,
    "start_time": "2024-10-11T17:06:36.566Z"
   },
   {
    "duration": 39,
    "start_time": "2024-10-11T17:06:38.546Z"
   },
   {
    "duration": 8,
    "start_time": "2024-10-11T17:06:46.536Z"
   },
   {
    "duration": 2,
    "start_time": "2024-10-11T17:06:52.130Z"
   },
   {
    "duration": 9,
    "start_time": "2024-10-11T17:06:56.630Z"
   },
   {
    "duration": 38,
    "start_time": "2024-10-11T17:06:58.671Z"
   },
   {
    "duration": 328,
    "start_time": "2024-10-11T20:09:00.347Z"
   },
   {
    "duration": 134,
    "start_time": "2024-10-11T20:09:00.678Z"
   },
   {
    "duration": 12,
    "start_time": "2024-10-11T20:09:00.814Z"
   },
   {
    "duration": 22,
    "start_time": "2024-10-11T20:09:00.828Z"
   },
   {
    "duration": 3,
    "start_time": "2024-10-11T20:09:00.853Z"
   },
   {
    "duration": 4,
    "start_time": "2024-10-11T20:09:00.857Z"
   },
   {
    "duration": 4,
    "start_time": "2024-10-11T20:09:00.863Z"
   },
   {
    "duration": 44,
    "start_time": "2024-10-11T20:09:00.869Z"
   },
   {
    "duration": 3,
    "start_time": "2024-10-11T20:09:00.915Z"
   },
   {
    "duration": 18,
    "start_time": "2024-10-11T20:09:00.920Z"
   },
   {
    "duration": 76,
    "start_time": "2024-10-11T20:09:00.940Z"
   },
   {
    "duration": 18,
    "start_time": "2024-10-11T20:09:01.018Z"
   },
   {
    "duration": 45,
    "start_time": "2024-10-11T20:09:01.037Z"
   },
   {
    "duration": 65,
    "start_time": "2024-10-11T20:09:01.085Z"
   },
   {
    "duration": 40,
    "start_time": "2024-10-11T20:09:01.152Z"
   },
   {
    "duration": 19,
    "start_time": "2024-10-11T20:09:01.194Z"
   },
   {
    "duration": 3,
    "start_time": "2024-10-11T20:09:01.215Z"
   },
   {
    "duration": 8,
    "start_time": "2024-10-11T20:09:01.220Z"
   },
   {
    "duration": 39,
    "start_time": "2024-10-11T20:09:01.229Z"
   },
   {
    "duration": 9,
    "start_time": "2024-10-11T20:09:01.270Z"
   },
   {
    "duration": 37,
    "start_time": "2024-10-11T20:09:01.281Z"
   },
   {
    "duration": 6,
    "start_time": "2024-10-11T20:09:01.320Z"
   },
   {
    "duration": 15,
    "start_time": "2024-10-11T20:09:01.328Z"
   },
   {
    "duration": 12,
    "start_time": "2024-10-11T20:09:01.345Z"
   },
   {
    "duration": 14,
    "start_time": "2024-10-11T20:09:01.358Z"
   },
   {
    "duration": 47,
    "start_time": "2024-10-11T20:09:01.373Z"
   },
   {
    "duration": 15,
    "start_time": "2024-10-11T20:09:01.422Z"
   },
   {
    "duration": 12,
    "start_time": "2024-10-11T20:09:01.439Z"
   },
   {
    "duration": 154,
    "start_time": "2024-10-21T19:51:28.216Z"
   },
   {
    "duration": 12,
    "start_time": "2024-10-21T19:51:41.548Z"
   },
   {
    "duration": 302,
    "start_time": "2024-10-21T19:51:51.904Z"
   },
   {
    "duration": 107,
    "start_time": "2024-10-21T19:51:55.066Z"
   },
   {
    "duration": 12,
    "start_time": "2024-10-21T19:52:08.611Z"
   },
   {
    "duration": 22,
    "start_time": "2024-10-21T19:52:34.168Z"
   },
   {
    "duration": 20,
    "start_time": "2024-10-21T19:53:13.545Z"
   },
   {
    "duration": 3,
    "start_time": "2024-10-21T19:53:23.101Z"
   },
   {
    "duration": 3,
    "start_time": "2024-10-21T19:53:30.378Z"
   },
   {
    "duration": 3,
    "start_time": "2024-10-21T19:54:55.179Z"
   },
   {
    "duration": 9,
    "start_time": "2024-10-21T19:54:56.948Z"
   },
   {
    "duration": 6,
    "start_time": "2024-10-21T19:55:00.491Z"
   },
   {
    "duration": 17,
    "start_time": "2024-10-21T19:55:02.376Z"
   },
   {
    "duration": 54,
    "start_time": "2024-10-21T19:55:05.175Z"
   },
   {
    "duration": 18,
    "start_time": "2024-10-21T19:55:06.923Z"
   },
   {
    "duration": 44,
    "start_time": "2024-10-21T19:55:09.988Z"
   },
   {
    "duration": 45,
    "start_time": "2024-10-21T19:55:18.206Z"
   },
   {
    "duration": 42,
    "start_time": "2024-10-21T19:55:23.011Z"
   },
   {
    "duration": 5,
    "start_time": "2024-10-21T19:55:28.150Z"
   },
   {
    "duration": 3,
    "start_time": "2024-10-21T19:55:32.809Z"
   },
   {
    "duration": 8,
    "start_time": "2024-10-21T19:55:34.811Z"
   },
   {
    "duration": 40,
    "start_time": "2024-10-21T19:55:37.591Z"
   },
   {
    "duration": 37,
    "start_time": "2024-10-21T19:57:01.492Z"
   },
   {
    "duration": 38,
    "start_time": "2024-10-21T19:57:21.307Z"
   },
   {
    "duration": 38,
    "start_time": "2024-10-21T19:58:24.996Z"
   },
   {
    "duration": 6,
    "start_time": "2024-10-21T19:58:42.770Z"
   },
   {
    "duration": 3,
    "start_time": "2024-10-21T19:58:52.412Z"
   },
   {
    "duration": 16,
    "start_time": "2024-10-21T19:58:56.996Z"
   },
   {
    "duration": 45,
    "start_time": "2024-10-21T19:58:59.353Z"
   },
   {
    "duration": 17,
    "start_time": "2024-10-21T19:59:00.935Z"
   },
   {
    "duration": 36,
    "start_time": "2024-10-21T19:59:03.664Z"
   },
   {
    "duration": 41,
    "start_time": "2024-10-21T19:59:07.948Z"
   },
   {
    "duration": 37,
    "start_time": "2024-10-21T19:59:11.725Z"
   },
   {
    "duration": 37,
    "start_time": "2024-10-21T20:12:53.799Z"
   },
   {
    "duration": 42,
    "start_time": "2024-10-21T20:13:11.398Z"
   },
   {
    "duration": 40,
    "start_time": "2024-10-21T20:13:38.137Z"
   },
   {
    "duration": 6,
    "start_time": "2024-10-21T20:15:17.697Z"
   },
   {
    "duration": 32,
    "start_time": "2024-10-21T20:16:11.990Z"
   },
   {
    "duration": 313,
    "start_time": "2024-10-21T21:45:24.068Z"
   },
   {
    "duration": 126,
    "start_time": "2024-10-21T21:45:24.383Z"
   },
   {
    "duration": 12,
    "start_time": "2024-10-21T21:45:24.511Z"
   },
   {
    "duration": 22,
    "start_time": "2024-10-21T21:45:24.524Z"
   },
   {
    "duration": 2,
    "start_time": "2024-10-21T21:45:24.550Z"
   },
   {
    "duration": 23,
    "start_time": "2024-10-21T21:45:24.554Z"
   },
   {
    "duration": 3,
    "start_time": "2024-10-21T21:45:24.579Z"
   },
   {
    "duration": 24,
    "start_time": "2024-10-21T21:45:24.584Z"
   },
   {
    "duration": 4,
    "start_time": "2024-10-21T21:45:24.610Z"
   },
   {
    "duration": 21,
    "start_time": "2024-10-21T21:45:24.616Z"
   },
   {
    "duration": 70,
    "start_time": "2024-10-21T21:45:24.639Z"
   },
   {
    "duration": 17,
    "start_time": "2024-10-21T21:45:24.713Z"
   },
   {
    "duration": 61,
    "start_time": "2024-10-21T21:45:24.732Z"
   },
   {
    "duration": 45,
    "start_time": "2024-10-21T21:45:24.804Z"
   },
   {
    "duration": 49,
    "start_time": "2024-10-21T21:45:24.851Z"
   },
   {
    "duration": 5,
    "start_time": "2024-10-21T21:45:24.902Z"
   },
   {
    "duration": 3,
    "start_time": "2024-10-21T21:45:24.909Z"
   },
   {
    "duration": 8,
    "start_time": "2024-10-21T21:45:24.914Z"
   },
   {
    "duration": 31,
    "start_time": "2024-10-21T21:45:24.923Z"
   },
   {
    "duration": 11,
    "start_time": "2024-10-21T21:45:24.986Z"
   },
   {
    "duration": 8,
    "start_time": "2024-10-21T21:45:25.000Z"
   },
   {
    "duration": 6,
    "start_time": "2024-10-21T21:45:25.009Z"
   },
   {
    "duration": 12,
    "start_time": "2024-10-21T21:45:25.017Z"
   },
   {
    "duration": 11,
    "start_time": "2024-10-21T21:45:25.031Z"
   },
   {
    "duration": 32,
    "start_time": "2024-10-21T21:45:25.044Z"
   },
   {
    "duration": 17,
    "start_time": "2024-10-21T21:45:25.080Z"
   },
   {
    "duration": 13,
    "start_time": "2024-10-21T21:45:25.099Z"
   },
   {
    "duration": 11,
    "start_time": "2024-10-21T21:45:25.114Z"
   }
  ],
  "colab": {
   "collapsed_sections": [
    "E0vqbgi9ay0H",
    "VUC88oWjTJw2"
   ],
   "provenance": []
  },
  "kernelspec": {
   "display_name": "Python [conda env:base] *",
   "language": "python",
   "name": "conda-base-py"
  },
  "language_info": {
   "codemirror_mode": {
    "name": "ipython",
    "version": 3
   },
   "file_extension": ".py",
   "mimetype": "text/x-python",
   "name": "python",
   "nbconvert_exporter": "python",
   "pygments_lexer": "ipython3",
   "version": "3.12.7"
  },
  "toc": {
   "base_numbering": 1,
   "nav_menu": {},
   "number_sections": true,
   "sideBar": true,
   "skip_h1_title": true,
   "title_cell": "Table of Contents",
   "title_sidebar": "Contents",
   "toc_cell": false,
   "toc_position": {},
   "toc_section_display": true,
   "toc_window_display": false
  }
 },
 "nbformat": 4,
 "nbformat_minor": 4
}
