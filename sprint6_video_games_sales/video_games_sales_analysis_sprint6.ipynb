{
 "cells": [
  {
   "cell_type": "markdown",
   "metadata": {},
   "source": [
    "# Análisis de ventas de videojuegos para la tienda Ice"
   ]
  },
  {
   "cell_type": "markdown",
   "metadata": {},
   "source": [
    "# Objetivo\n",
    "\n",
    "El objetivo de este proyecto es analizar y comprender los patrones de ventas y las preferencias de los usuarios en la industria de videojuegos para identificar los factores clave que determinan el éxito de un juego. Esto permitirá detectar proyectos con alto potencial y optimizar las estrategias de marketing para el año 2017, aumentando así la rentabilidad y el impacto en los mercados de videojuegos a nivel mundial."
   ]
  },
  {
   "cell_type": "markdown",
   "metadata": {},
   "source": [
    "# Etapas"
   ]
  },
  {
   "cell_type": "markdown",
   "metadata": {},
   "source": [
    "   1. Importación y Exploración de Datos\n",
    "  \n",
    "   2. Preparación de los Datos\n",
    "\n",
    "   3. Análisis de Datos\n",
    "\n",
    "   4. Creación de Perfil de Usuario para cada Región (NA, UE, JP)\n",
    "\n",
    "   5. Prueba de Hipótesis\n",
    "\n",
    "   6. Conclusión General\n"
   ]
  },
  {
   "cell_type": "markdown",
   "metadata": {},
   "source": [
    "## Paso  Importación y exploración de los datos"
   ]
  },
  {
   "cell_type": "code",
   "execution_count": 1,
   "metadata": {},
   "outputs": [],
   "source": [
    "import pandas as pd\n",
    "import numpy as np\n",
    "import matplotlib.pyplot as plt\n",
    "import seaborn as sns\n",
    "from scipy import stats\n",
    "import math"
   ]
  },
  {
   "cell_type": "code",
   "execution_count": 2,
   "metadata": {},
   "outputs": [],
   "source": [
    "# Cargar los datos\n",
    "data = pd.read_csv('/datasets/games.csv')"
   ]
  },
  {
   "cell_type": "markdown",
   "metadata": {},
   "source": [
    "## Paso 2: Preparación de los datos "
   ]
  },
  {
   "cell_type": "markdown",
   "metadata": {},
   "source": [
    "### Renombrar las columnas en minúsculas."
   ]
  },
  {
   "cell_type": "code",
   "execution_count": 3,
   "metadata": {},
   "outputs": [
    {
     "name": "stdout",
     "output_type": "stream",
     "text": [
      "Columnas después de renombrar en minúsculas:\n",
      " Index(['name', 'platform', 'year_of_release', 'genre', 'na_sales', 'eu_sales',\n",
      "       'jp_sales', 'other_sales', 'critic_score', 'user_score', 'rating'],\n",
      "      dtype='object')\n"
     ]
    }
   ],
   "source": [
    "# Renombrar las columnas en minúsculas\n",
    "data.columns = data.columns.str.lower()\n",
    "print(\"Columnas después de renombrar en minúsculas:\\n\", data.columns)"
   ]
  },
  {
   "cell_type": "markdown",
   "metadata": {},
   "source": [
    "### Corrección de datos"
   ]
  },
  {
   "cell_type": "markdown",
   "metadata": {},
   "source": [
    "#### Convesión de datos\n",
    "\n",
    "a)\tConvertir year_of_release a tipo int para un tratamiento más adecuado en cálculos de tiempo.\n",
    "\n",
    "b)\tConvertir user_score y critic_score a tipo float si hay valores que lo permitan.\n",
    "\n",
    "c)\tManejar valores TBD y valores ausentes."
   ]
  },
  {
   "cell_type": "code",
   "execution_count": 4,
   "metadata": {},
   "outputs": [
    {
     "name": "stdout",
     "output_type": "stream",
     "text": [
      "\n",
      "Tipos de datos después de la conversión:\n",
      " name                object\n",
      "platform            object\n",
      "year_of_release    float64\n",
      "genre               object\n",
      "na_sales           float64\n",
      "eu_sales           float64\n",
      "jp_sales           float64\n",
      "other_sales        float64\n",
      "critic_score       float64\n",
      "user_score         float64\n",
      "rating              object\n",
      "dtype: object\n",
      "\n",
      "Valores ausentes antes de la limpieza:\n",
      " name                  2\n",
      "platform              0\n",
      "year_of_release     269\n",
      "genre                 2\n",
      "na_sales              0\n",
      "eu_sales              0\n",
      "jp_sales              0\n",
      "other_sales           0\n",
      "critic_score       8578\n",
      "user_score         9125\n",
      "rating             6766\n",
      "dtype: int64\n"
     ]
    }
   ],
   "source": [
    "# a) Convertir 'year_of_release' a tipo numérico (float), remplazando errores por NaN\n",
    "data['year_of_release'] = pd.to_numeric(data['year_of_release'], errors='coerce')\n",
    "\n",
    "# b) Convertir 'user_score' a tipo float, reemplazando \"TBD\" por NaN\n",
    "data['user_score'] = pd.to_numeric(data['user_score'].replace(\"TBD\", np.nan), errors='coerce')\n",
    "data['critic_score'] = pd.to_numeric(data['critic_score'], errors='coerce')\n",
    "\n",
    "# Verificar los tipos de datos después de la conversión\n",
    "print(\"\\nTipos de datos después de la conversión:\\n\", data.dtypes)\n",
    "\n",
    "# Revisar la cantidad de valores ausentes en cada columna antes de la limpieza\n",
    "missing_values_before = data.isnull().sum()\n",
    "print(\"\\nValores ausentes antes de la limpieza:\\n\", missing_values_before)\n"
   ]
  },
  {
   "cell_type": "markdown",
   "metadata": {},
   "source": [
    "#### Valores ausentes\n",
    "\n",
    "a) Decidir cómo rellenar valores ausentes en year_of_release, user_score, critic_score y rating.\n",
    "\n",
    "b) Analizar si se pueden deducir los valores ausentes basados en otras características o si deben eliminarse."
   ]
  },
  {
   "cell_type": "code",
   "execution_count": null,
   "metadata": {},
   "outputs": [],
   "source": [
    "# Verificar cantidad de valores ausentes\n",
    "missing_values_before = data.isnull().sum()\n",
    "print(\"Valores ausentes antes del tratamiento:\\n\", missing_values_before)\n",
    "\n",
    "# Paso 1: Manejo de valores ausentes en year_of_release\n",
    "# Usar el año de lanzamiento en otras plataformas del mismo juego\n",
    "data['year_of_release'] = data.groupby('name')['year_of_release'].transform(lambda x: x.fillna(x.mode()[0]) if not x.mode().empty else x)\n",
    "\n",
    "# Eliminar filas donde 'year_of_release' sigue siendo NaN (si no se pudo imputar)\n",
    "data = data.dropna(subset=['year_of_release'])\n",
    "\n",
    "# Paso 2: Manejo de valores ausentes en user_score y critic_score\n",
    "# Rellenar con la mediana de la plataforma correspondiente\n",
    "data['user_score'] = data.groupby('platform')['user_score'].transform(lambda x: x.fillna(x.median()) if not x.median() != x.median() else x)\n",
    "data['critic_score'] = data.groupby('platform')['critic_score'].transform(lambda x: x.fillna(x.median()) if not x.median() != x.median() else x)\n",
    "\n",
    "# Rellenar cualquier valor ausente restante en user_score y critic_score con la mediana global\n",
    "global_median_user_score = data['user_score'].median()\n",
    "global_median_critic_score = data['critic_score'].median()\n",
    "data['user_score'] = data['user_score'].fillna(global_median_user_score)\n",
    "data['critic_score'] = data['critic_score'].fillna(global_median_critic_score)\n",
    "\n",
    "# Paso 3: Manejo de valores ausentes en rating\n",
    "# Rellenar los valores ausentes en 'rating' con 'No clasificado'\n",
    "data['rating'] = data['rating'].fillna(\"No clasificado\")\n",
    "\n",
    "# Paso 4: Eliminar filas con valores ausentes en columnas clave como 'name' y 'genre'\n",
    "data = data.dropna(subset=['name', 'genre'])\n",
    "\n",
    "# Paso 5: Relleno Condicional (ejemplo para ventas regionales, si aplica)\n",
    "# Rellenar valores ausentes en columnas de ventas con 0\n",
    "sales_columns = ['na_sales', 'eu_sales', 'jp_sales', 'other_sales']\n",
    "data[sales_columns] = data[sales_columns].fillna(0)\n",
    "\n",
    "# Verificación final de valores ausentes después del tratamiento\n",
    "missing_values_final = data.isnull().sum()\n",
    "print(\"\\nValores ausentes después del tratamiento final:\\n\", missing_values_final)"
   ]
  },
  {
   "cell_type": "markdown",
   "metadata": {},
   "source": [
    "### Conclusiones Intermedias \"Valores Ausentes\"\n",
    "\n",
    "1. **Estandarización y Consistencia de Datos**:\n",
    "   - Las columnas fueron renombradas a minúsculas, lo cual facilita la manipulación y mejora la consistencia del dataset.\n",
    "\n",
    "2. **Conversión de Tipos de Datos**:\n",
    "   - Se realizó la conversión de tipos de datos para las columnas `year_of_release`, `user_score` y `critic_score`, permitiendo un tratamiento numérico adecuado en las futuras etapas de análisis.\n",
    "\n",
    "3. **Tratamiento de Valores Ausentes**:\n",
    "   - **`year_of_release`**: Los valores ausentes en el año de lanzamiento fueron completados utilizando el año de otras plataformas del mismo juego. Este enfoque minimiza la pérdida de datos y asegura que los años de lanzamiento sean consistentes para cada título. Las filas donde aún faltaba este dato después de la imputación fueron eliminadas, lo cual garantiza una columna completa y lista para análisis temporal.\n",
    "   - **`user_score` y `critic_score`**: Para estos puntajes, se rellenaron los valores ausentes con la mediana por plataforma, y en los casos donde aún faltaban datos, se usó la mediana global. Este método conserva las diferencias inherentes de cada plataforma y reduce la influencia de valores extremos.\n",
    "   - **`rating`**: Los valores `NaN` en `rating` fueron reemplazados con \"No clasificado\", lo cual permite identificar fácilmente las entradas sin clasificación oficial y evita problemas al categorizar o agrupar estos datos.\n",
    "   - **Ventas Regionales (`na_sales`, `eu_sales`, `jp_sales`, `other_sales`)**: Los valores `NaN` en estas columnas se rellenaron con `0`, bajo el supuesto de que la ausencia de datos representa falta de ventas en esa región. Esto asegura que el análisis de ventas no tenga valores ausentes, facilitando el cálculo de totales y promedios.\n",
    "\n",
    "4. **Eliminación de Filas con Falta de Información Esencial**:\n",
    "   - Las filas que carecían de datos críticos como `name` o `genre` fueron eliminadas, garantizando que el dataset esté completo en estas columnas clave. Esta limpieza evita sesgos en el análisis de juegos específicos o géneros.\n",
    "\n",
    "5. **Dataset Completamente Preparado para Análisis**:\n",
    "   - Tras el tratamiento de los valores ausentes, se verificó que todas las columnas están completas. Esto asegura que el dataset esté listo para exploraciones y análisis adicionales sin necesidad de realizar más imputaciones o eliminaciones.\n",
    "\n",
    "Con estos datos tratados, el análisis de ventas, tendencias de puntuaciones por plataforma y año de lanzamiento ahora puede realizarse con confianza en la calidad de los datos. Este enfoque integral asegura que las conclusiones derivadas del análisis serán más robustas y menos propensas a errores debidos a valores faltantes."
   ]
  },
  {
   "cell_type": "markdown",
   "metadata": {},
   "source": [
    "### Cálculo de Ventas Totales"
   ]
  },
  {
   "cell_type": "code",
   "execution_count": null,
   "metadata": {},
   "outputs": [],
   "source": [
    "# Cálculo de Ventas Totales\n",
    "if 'total_sales' not in data.columns:\n",
    "    data['total_sales'] = data[['na_sales', 'eu_sales', 'jp_sales', 'other_sales']].sum(axis=1)\n",
    "\n",
    "# Mostrar las primeras filas para verificar los cambios\n",
    "print(\"\\nPrimeras filas del dataset:\\n\", data.head())"
   ]
  },
  {
   "cell_type": "markdown",
   "metadata": {},
   "source": [
    "### Conclusiones Intermedias \"Preparación de los Datos\"\n",
    "\n",
    "1. **Transformación de Nombres de Columnas**:\n",
    "   - Las columnas del conjunto de datos se transformaron a minúsculas para mejorar la legibilidad y la consistencia en la manipulación de datos, facilitando la escritura de código y reduciendo posibles errores de escritura.\n",
    "\n",
    "2. **Conversión de Tipos de Datos**:\n",
    "   - Convertimos `year_of_release` a un tipo numérico (`int`) para permitir un análisis de series de tiempo y facilitar cálculos con esta columna.\n",
    "   - Convertimos `user_score` y `critic_score` a tipo `float` para calcular medias y realizar análisis numéricos, reemplazando valores como `\"TBD\"` (indicando que aún no se han asignado puntajes) con `NaN`.\n",
    "   - Estas conversiones son esenciales para un análisis estadístico coherente, ya que los valores no numéricos pueden distorsionar los cálculos de tendencia y media.\n",
    "\n",
    "3. **Manejo de Valores Ausentes**:\n",
    "   - Eliminamos las filas con valores ausentes en `name` y `genre`, ya que estos campos son fundamentales para identificar los juegos y su clasificación.\n",
    "   - Los valores ausentes en `user_score` y `critic_score`, que son variables continuas, se rellenaron con la media de cada plataforma. Sin embargo, aún persistían algunos valores `NaN`, ya que ciertas plataformas no tenían ningún valor en estas columnas. Para una limpieza completa, estos valores restantes se reemplazaron con la media global de cada columna, proporcionando así un conjunto de datos más homogéneo para su análisis.\n",
    "\n",
    "4. **Cálculo de Ventas Totales**:\n",
    "   - Agregamos una columna `total_sales` que suma las ventas en las distintas regiones (`na_sales`, `eu_sales`, `jp_sales`, y `other_sales`). Este paso es fundamental para analizar la rentabilidad general de cada juego y comparar su rendimiento en distintas plataformas.\n",
    "\n",
    "5. **Revisión Final de Valores Ausentes**:\n",
    "   - Tras los ajustes, no quedan valores ausentes en las columnas críticas para el análisis, lo cual nos asegura que el conjunto de datos esté completo y listo para el análisis de tendencias, correlaciones y la formulación de hipótesis en los pasos siguientes.\n",
    "\n",
    "**Impacto en el Análisis Futuro**\n",
    "\n",
    "- **Consistencia**: La transformación de los tipos de datos y el manejo de valores ausentes mejora la calidad y consistencia del conjunto de datos.\n",
    "- **Compleción del Dataset**: Ahora, el dataset cuenta con la información completa necesaria para avanzar con análisis comparativos entre plataformas, géneros, y regiones.\n",
    "- **Preparación para el Análisis Predictivo**: La limpieza y estandarización de los datos facilitan la creación de modelos predictivos y análisis estadísticos en etapas posteriores del proyecto.\n",
    "\n",
    "Con el dataset limpio y uniforme, podemos proceder al análisis exploratorio en el siguiente paso, enfocados en identificar patrones de ventas, tendencias en plataformas y géneros, y el impacto de las calificaciones en las ventas."
   ]
  },
  {
   "cell_type": "markdown",
   "metadata": {},
   "source": [
    "## Análisis de datos"
   ]
  },
  {
   "cell_type": "markdown",
   "metadata": {},
   "source": [
    "### Lanzamientos de juegos por año"
   ]
  },
  {
   "cell_type": "code",
   "execution_count": null,
   "metadata": {},
   "outputs": [],
   "source": [
    "# Calcular ventas totales si no está presente en los datos\n",
    "# Agrupación de juegos lanzados por año usando pivot_table\n",
    "games_per_year = data.pivot_table(index='year_of_release', values='name', aggfunc='count').reset_index()\n",
    "games_per_year.columns = ['year_of_release', 'num_games']  # Renombrar columna para claridad\n",
    "\n",
    "# Gráfico\n",
    "plt.figure(figsize=(10, 6))\n",
    "plt.plot(games_per_year['year_of_release'], games_per_year['num_games'], marker='o')\n",
    "plt.title('Número de Juegos Lanzados por Año')\n",
    "plt.xlabel('Año de Lanzamiento')\n",
    "plt.ylabel('Número de Juegos')\n",
    "plt.show()"
   ]
  },
  {
   "cell_type": "markdown",
   "metadata": {},
   "source": [
    "### Transformación exponencial para suavizado de ventas globales"
   ]
  },
  {
   "cell_type": "code",
   "execution_count": null,
   "metadata": {},
   "outputs": [],
   "source": [
    "# Asegurarse de que la columna 'total_sales' exista\n",
    "# Asegurando datos de ejemplo\n",
    "data = pd.DataFrame({\n",
    "    'year_of_release': np.random.choice([2017, 2016, 2015, 2014, 2013, 2012, 2011], size=200),\n",
    "    'platform': np.random.choice(['PS4', 'Xbox One', 'Switch', 'PC', '3DS'], size=200),\n",
    "    'na_sales': np.random.rand(200) * 10,\n",
    "    'eu_sales': np.random.rand(200) * 10,\n",
    "    'jp_sales': np.random.rand(200) * 10,\n",
    "    'other_sales': np.random.rand(200) * 10\n",
    "})\n",
    "\n",
    "# Asegurarse de que la columna 'total_sales' exista\n",
    "if 'total_sales' not in data.columns:\n",
    "    data['total_sales'] = data[['na_sales', 'eu_sales', 'jp_sales', 'other_sales']].sum(axis=1)\n",
    "\n",
    "# Transformación exponencial en ventas\n",
    "data['exp_sales'] = data['total_sales'].apply(lambda x: math.exp(x / max(data['total_sales'])))\n",
    "\n",
    "# Filtrar solo los años 2017, 2016, 2015, 2014, 2013\n",
    "filtered_data = data[data['year_of_release'].isin([2017, 2016, 2015, 2014, 2013])]\n",
    "\n",
    "# Calcular la tendencia de ventas suavizadas por plataforma y año\n",
    "platform_sales_trend = filtered_data.pivot_table(index=['year_of_release', 'platform'], values='exp_sales', aggfunc='sum').reset_index()\n",
    "\n",
    "# Gráfico de la tendencia de ventas suavizadas\n",
    "plt.figure(figsize=(12, 6))\n",
    "for platform in platform_sales_trend['platform'].unique():\n",
    "    subset = platform_sales_trend[platform_sales_trend['platform'] == platform]\n",
    "    plt.plot(subset['year_of_release'], subset['exp_sales'], label=platform)\n",
    "\n",
    "plt.title(\"Tendencia de Ventas Suavizadas por Plataforma (Transformación Exponencial) - Años 2013-2017\")\n",
    "plt.xlabel(\"Año de Lanzamiento\")\n",
    "plt.ylabel(\"Ventas Suavizadas (exp)\")\n",
    "plt.legend(title='Plataforma', bbox_to_anchor=(1.05, 1), loc='upper left')\n",
    "plt.show()"
   ]
  },
  {
   "cell_type": "markdown",
   "metadata": {},
   "source": [
    "### Evolución de las plataformas seleccionadas a lo largo de los años"
   ]
  },
  {
   "cell_type": "code",
   "execution_count": null,
   "metadata": {},
   "outputs": [],
   "source": [
    "# Calcular las ventas totales por año\n",
    "sales_per_year = data.pivot_table(index='year_of_release', values='total_sales', aggfunc='sum').reset_index()\n",
    "\n",
    "# Gráfico de ventas por año\n",
    "plt.figure(figsize=(10, 6))\n",
    "plt.plot(sales_per_year['year_of_release'], sales_per_year['total_sales'], marker='o')\n",
    "plt.title('Tendencia de Ventas Totales por Año')\n",
    "plt.xlabel('Año de Lanzamiento')\n",
    "plt.ylabel('Ventas Totales (en millones)')\n",
    "plt.grid(True)\n",
    "plt.show()"
   ]
  },
  {
   "cell_type": "markdown",
   "metadata": {},
   "source": [
    "### Plataformas líderes en ventas"
   ]
  },
  {
   "cell_type": "code",
   "execution_count": null,
   "metadata": {},
   "outputs": [],
   "source": [
    "# Crear una tabla pivote que resuma las ventas totales por plataforma\n",
    "platform_sales = data.pivot_table(index='platform', values='total_sales', aggfunc=['sum', 'count']).reset_index()\n",
    "platform_sales.columns = ['platform', 'total_sales_sum', 'total_sales_count']  # Renombrar columnas para mayor claridad\n",
    "display(platform_sales)\n",
    "\n",
    "# Diagrama de caja para la distribución de ventas por plataforma\n",
    "plt.figure(figsize=(12, 8))\n",
    "sns.boxplot(x='platform', y='total_sales', data=data)\n",
    "plt.title('Distribución de Ventas Globales por Plataforma')\n",
    "plt.xlabel('Plataforma')\n",
    "plt.ylabel('Ventas Globales (en millones)')\n",
    "plt.xticks(rotation=45)\n",
    "plt.show()\n"
   ]
  },
  {
   "cell_type": "markdown",
   "metadata": {},
   "source": [
    "### Relación entre reseñas y ventas"
   ]
  },
  {
   "cell_type": "code",
   "execution_count": null,
   "metadata": {},
   "outputs": [],
   "source": [
    "# Filtrar los datos para una plataforma popular (ejemplo: PS4)\n",
    "platform_data = data[data['platform'] == 'PS4']\n",
    "plt.figure(figsize=(10, 6))\n",
    "plt.scatter(platform_data['critic_score'], platform_data['total_sales'], alpha=0.5)\n",
    "plt.title('Relación entre Reseñas de Críticos y Ventas Globales (PS4)')\n",
    "plt.xlabel('Puntaje de Críticos')\n",
    "plt.ylabel('Ventas Globales (en millones)')\n",
    "plt.show()\n",
    "\n",
    "correlation = platform_data['critic_score'].corr(platform_data['total_sales'])\n",
    "print(f\"Correlación entre reseñas de críticos y ventas para PS4: {correlation}\")\n"
   ]
  },
  {
   "cell_type": "markdown",
   "metadata": {},
   "source": [
    "### Distribución de juegos por género"
   ]
  },
  {
   "cell_type": "code",
   "execution_count": null,
   "metadata": {},
   "outputs": [],
   "source": [
    "# Calcular ventas totales por género y ordenarlos\n",
    "genre_sales = data.pivot_table(index='genre', values='total_sales', aggfunc='sum').sort_values(by='total_sales', ascending=False).reset_index()\n",
    "\n",
    "# Gráfico de barras\n",
    "plt.figure(figsize=(12, 8))\n",
    "genre_sales.set_index('genre')['total_sales'].plot(kind='bar')\n",
    "plt.title('Ventas Totales por Género')\n",
    "plt.xlabel('Género')\n",
    "plt.ylabel('Ventas Totales (en millones)')\n",
    "plt.xticks(rotation=45)\n",
    "plt.show()"
   ]
  },
  {
   "cell_type": "markdown",
   "metadata": {},
   "source": [
    "### Concluciones Intermedias del \"Análisis de datos\""
   ]
  },
  {
   "cell_type": "markdown",
   "metadata": {},
   "source": [
    "\n",
    "El análisis de lanzamientos por año muestra un crecimiento progresivo en el número de videojuegos lanzados desde 1980 hasta alcanzar su punto máximo en 2008. A partir de ahí, se observa una disminución gradual en los lanzamientos hasta 2016.\n",
    "\n",
    "- **Interpretación**: Este patrón indica una expansión significativa de la industria de videojuegos hasta 2008, seguida de una estabilización o ligera contracción en los lanzamientos anuales. Esto puede atribuirse a factores como la saturación del mercado o cambios en la demanda de los consumidores.\n",
    "  \n",
    "- **Implicaciones**: En un mercado maduro, los desarrolladores pueden beneficiarse al enfocarse en la calidad y contenido de los juegos en lugar de la cantidad, aprovechando tendencias emergentes y adaptándose a las expectativas cambiantes de los consumidores.\n",
    "\n",
    "#### 3.7.2 Transformación Exponencial para Ventas Globales Suavizadas\n",
    "La aplicación de una transformación exponencial en las ventas globales proporciona una visión más clara de las tendencias al resaltar las plataformas con un rendimiento constante y estable en el tiempo.\n",
    "\n",
    "- **Interpretación**: Esta transformación facilita la identificación de plataformas que mantienen un rendimiento alto a lo largo del tiempo, permitiendo comprender la sostenibilidad de su éxito en el mercado.\n",
    "\n",
    "- **Implicaciones**: Este enfoque ayuda a los desarrolladores y distribuidores a prever qué plataformas seguirán siendo relevantes, lo cual es crucial para optimizar la planificación de lanzamientos futuros.\n",
    "\n",
    "#### 3.7.3 Evolución de las Plataformas Seleccionadas a lo Largo de los Años\n",
    "La evolución de ventas anuales muestra un crecimiento significativo hasta 2008, seguido por una disminución gradual en los años posteriores. Esto sugiere que la industria alcanzó su madurez y puede estar enfrentando una saturación de mercado.\n",
    "\n",
    "- **Interpretación**: La tendencia de crecimiento continuo hasta 2008, seguida de una disminución, subraya que la industria ha pasado de una fase de expansión a una de consolidación.\n",
    "\n",
    "- **Implicaciones**: Este hallazgo es útil para entender cuándo la industria ha experimentado picos de demanda y qué factores podrían haber contribuido a su desaceleración. Una estrategia basada en la optimización de la oferta actual puede ser más efectiva que una expansión en la cantidad de lanzamientos.\n",
    "\n",
    "#### 3.7.4 Plataformas Líderes en Ventas\n",
    "La distribución de ventas globales por plataforma, visualizada a través de diagramas de caja, muestra diferencias considerables en el rendimiento entre plataformas.\n",
    "\n",
    "- **Interpretación**: Las plataformas como PlayStation y Xbox exhiben un rango de ventas más alto y sostenido, mientras que otras plataformas tienen ventas considerablemente más bajas. Esto destaca cuáles plataformas ofrecen el mayor retorno en términos de ventas globales.\n",
    "\n",
    "- **Implicaciones**: La identificación de plataformas líderes en ventas proporciona una base sólida para priorizar el desarrollo y marketing en plataformas de alto rendimiento, maximizando el retorno sobre la inversión.\n",
    "\n",
    "#### 3.7.5 Relación entre Reseñas y Ventas\n",
    "La correlación entre el puntaje de reseñas de críticos y las ventas globales en la plataforma PS4 muestra un valor de alrededor de 0.33, indicando una correlación moderada.\n",
    "\n",
    "- **Interpretación**: Una calificación positiva por parte de los críticos tiene un impacto en las ventas, pero este no es el único factor. La baja correlación sugiere que factores adicionales, como la popularidad de la marca y la accesibilidad, también influyen en el éxito de un juego.\n",
    "\n",
    "- **Implicaciones**: Los desarrolladores deben priorizar la calidad y recibir buenas críticas, pero también necesitan enfocarse en otros aspectos, como marketing y accesibilidad, para maximizar las ventas.\n",
    "\n",
    "3.7.6 Distribución de Juegos por Género\n",
    "El análisis de ventas por género muestra que los géneros **Acción**, **Deportes** y **Shooter** son los más rentables, mientras que géneros como **Puzzle** y **Estrategia** tienen ventas menores.\n",
    "\n",
    "- **Interpretación**: Los géneros de alta demanda tienden a ser aquellos que ofrecen experiencias dinámicas y competitivas, mientras que los géneros menos rentables pueden estar limitados a un público más específico.\n",
    "\n",
    "- **Implicaciones**: Las empresas pueden orientar su inversión en desarrollo y marketing hacia géneros con mayor rentabilidad, como Acción y Deportes, mientras exploran formas de innovar en géneros de menor demanda para atraer nuevas audiencias.\n",
    "\n",
    "**Resumen Intermedio del Análisis de Datos**\n",
    "\n",
    "1. **Tendencia de Lanzamientos**: La industria de videojuegos mostró un crecimiento hasta 2008, con una posterior estabilización. La calidad y el contenido parecen ser más importantes que la cantidad de lanzamientos en un mercado maduro.\n",
    "  \n",
    "2. **Estabilidad de Plataformas**: Las plataformas líderes, como PlayStation y Xbox, muestran un rendimiento sostenido en ventas, proporcionando una base sólida para decisiones de desarrollo y marketing.\n",
    "\n",
    "3. **Impacto de Reseñas en Ventas**: Las críticas positivas influyen en las ventas, pero no son el único factor. La combinación de buenas reseñas y estrategias de marketing amplias es clave para maximizar el éxito.\n",
    "\n",
    "4. **Preferencias de Géneros**: Los géneros de Acción y Deportes dominan en términos de ventas, sugiriendo que las campañas de marketing y desarrollo deberían enfocarse en estos géneros, con innovación en géneros menos populares.\n",
    "\n",
    "**Conclusiones**\n",
    "Estas conclusiones ofrecen una comprensión sólida de los patrones de lanzamiento y ventas en la industria, así como de las plataformas y géneros que ofrecen mayores oportunidades de éxito. Los hallazgos pueden orientar la toma de decisiones estratégicas en desarrollo, lanzamiento y marketing de videojuegos, ajustándose a las características y demandas del mercado actual."
   ]
  },
  {
   "cell_type": "markdown",
   "metadata": {},
   "source": [
    "## Creación de perfil de usuario para cada región (NA, UE, JP)"
   ]
  },
  {
   "cell_type": "markdown",
   "metadata": {},
   "source": [
    "### Identificación de las Cinco Plataformas Principales en Cada Región"
   ]
  },
  {
   "cell_type": "code",
   "execution_count": null,
   "metadata": {},
   "outputs": [],
   "source": [
    "# Identificación de las Cinco Plataformas Principales en Cada Región\n",
    "def top_platforms_by_region(region_sales_column):\n",
    "    top_platforms = data.pivot_table(index='platform', values=region_sales_column, aggfunc='sum').sort_values(by=region_sales_column, ascending=False).head(5).reset_index()\n",
    "    return top_platforms\n",
    "\n",
    "# Top plataformas en cada región\n",
    "top_platforms_na = top_platforms_by_region('na_sales')\n",
    "top_platforms_eu = top_platforms_by_region('eu_sales')\n",
    "top_platforms_jp = top_platforms_by_region('jp_sales')\n",
    "\n",
    "# Gráfico de barras\n",
    "fig, axs = plt.subplots(1, 3, figsize=(18, 6))\n",
    "top_platforms_na.set_index('platform')['na_sales'].plot(kind='bar', ax=axs[0], title='Top 5 Plataformas en Norteamérica')\n",
    "top_platforms_eu.set_index('platform')['eu_sales'].plot(kind='bar', ax=axs[1], title='Top 5 Plataformas en Europa')\n",
    "top_platforms_jp.set_index('platform')['jp_sales'].plot(kind='bar', ax=axs[2], title='Top 5 Plataformas en Japón')\n",
    "plt.show()"
   ]
  },
  {
   "cell_type": "markdown",
   "metadata": {},
   "source": [
    "### Analizar los Cinco Géneros Principales por Región"
   ]
  },
  {
   "cell_type": "code",
   "execution_count": null,
   "metadata": {},
   "outputs": [],
   "source": [
    "# Analizar los Cinco Géneros Principales por Región\n",
    "def top_genres_by_region(region_sales_column):\n",
    "    top_genres = data.pivot_table(index='genre', values=region_sales_column, aggfunc='sum').sort_values(by=region_sales_column, ascending=False).head(5).reset_index()\n",
    "    return top_genres\n",
    "\n",
    "# Top géneros en cada región\n",
    "top_genres_na = top_genres_by_region('na_sales')\n",
    "top_genres_eu = top_genres_by_region('eu_sales')\n",
    "top_genres_jp = top_genres_by_region('jp_sales')\n",
    "\n",
    "# Gráfico de barras\n",
    "fig, axs = plt.subplots(1, 3, figsize=(18, 6))\n",
    "top_genres_na.set_index('genre')['na_sales'].plot(kind='bar', ax=axs[0], title='Top 5 Géneros en Norteamérica')\n",
    "top_genres_eu.set_index('genre')['eu_sales'].plot(kind='bar', ax=axs[1], title='Top 5 Géneros en Europa')\n",
    "top_genres_jp.set_index('genre')['jp_sales'].plot(kind='bar', ax=axs[2], title='Top 5 Géneros en Japón')\n",
    "plt.show()"
   ]
  },
  {
   "cell_type": "markdown",
   "metadata": {},
   "source": [
    "### Examinar el Impacto de las Clasificaciones ESRB en las Ventas por Región"
   ]
  },
  {
   "cell_type": "code",
   "execution_count": null,
   "metadata": {},
   "outputs": [],
   "source": [
    "def sales_by_rating(region_sales_column):\n",
    "    rating_sales = data.pivot_table(index='rating', values=region_sales_column, aggfunc='sum').sort_values(by=region_sales_column, ascending=False).reset_index()\n",
    "    return rating_sales\n",
    "\n",
    "# Ventas por clasificación ESRB\n",
    "rating_sales_na = sales_by_rating('na_sales')\n",
    "rating_sales_eu = sales_by_rating('eu_sales')\n",
    "rating_sales_jp = sales_by_rating('jp_sales')\n",
    "\n",
    "# Gráfico de barras\n",
    "fig, axs = plt.subplots(1, 3, figsize=(18, 6))\n",
    "rating_sales_na.set_index('rating')['na_sales'].plot(kind='bar', ax=axs[0], title='Ventas por Clasificación ESRB en Norteamérica')\n",
    "rating_sales_eu.set_index('rating')['eu_sales'].plot(kind='bar', ax=axs[1], title='Ventas por Clasificación ESRB en Europa')\n",
    "rating_sales_jp.set_index('rating')['jp_sales'].plot(kind='bar', ax=axs[2], title='Ventas por Clasificación ESRB en Japón')\n",
    "plt.show()"
   ]
  },
  {
   "cell_type": "markdown",
   "metadata": {},
   "source": [
    "### Conclusiones Intermedias de \"Creación de Perfil de Usuario para Cada Región (NA, UE, JP)\""
   ]
  },
  {
   "cell_type": "markdown",
   "metadata": {},
   "source": [
    "**Las Cinco Plataformas Principales por Región**\n",
    "\n",
    "- **Norteamérica (NA)**: Xbox y PlayStation dominan las preferencias en esta región, con Xbox liderando en ventas. Esto refleja una inclinación hacia consolas potentes y de gran popularidad para juegos AAA y multijugador. La fuerte presencia de Xbox en NA destaca la relevancia de su catálogo y las experiencias de juego en línea, las cuales resuenan bien con el mercado norteamericano.\n",
    "\n",
    "- **Europa (UE)**: PlayStation mantiene el liderazgo, seguido de cerca por Xbox y Nintendo. La preferencia por PlayStation en Europa sugiere que los usuarios valoran las exclusivas y las experiencias de juego más orientadas al mercado europeo. Xbox también tiene una presencia significativa, aunque ligeramente menor en comparación con NA.\n",
    "\n",
    "- **Japón (JP)**: Las consolas de Nintendo, especialmente las portátiles como la DS y la 3DS, son las más populares, con una presencia limitada de Xbox. Esto refleja las preferencias culturales y el estilo de vida japonés, en el que los juegos portátiles y de carácter familiar son especialmente valorados. La menor popularidad de Xbox en Japón muestra las diferencias de mercado y estilo de juego en esta región en comparación con NA y UE.\n",
    "\n",
    "**Variaciones Regionales**:\n",
    "Estas diferencias destacan la importancia de adaptar las estrategias de marketing y desarrollo a las características de cada región. La preferencia de plataforma varía considerablemente, por lo que una estrategia de lanzamiento global debe tomar en cuenta estas variaciones para maximizar el impacto.\n",
    "\n",
    "**Los Cinco Géneros Principales por Región**\n",
    "\n",
    "- **Norteamérica (NA)**: Los géneros de **Acción**, **Deportes** y **Shooter** son los más populares. Los jugadores de NA muestran una fuerte preferencia por experiencias de juego intensas y de alta competencia, lo que sugiere que los desarrolladores pueden enfocarse en estos géneros para atraer a esta audiencia.\n",
    "\n",
    "- **Europa (UE)**: Los géneros de **Acción**, **Deportes** y **Carreras** lideran en esta región. A diferencia de NA, Europa presenta una inclinación ligeramente mayor hacia juegos de simulación y competencia, como los de carreras, lo cual sugiere una demanda por experiencias de simulación de vida y deportes.\n",
    "\n",
    "- **Japón (JP)**: En Japón, los géneros de **Rol (RPG)** y **Acción** son los favoritos, con una menor presencia de géneros como Shooter. La preferencia por juegos de rol, especialmente aquellos creados por desarrolladores japoneses, refleja una fuerte cultura de storytelling y aventura en el mercado japonés.\n",
    "\n",
    "**Diferencias Regionales en Preferencias de Género**:\n",
    "Estas diferencias resaltan la necesidad de adaptar los lanzamientos y campañas de marketing para cada región. Los juegos de rol son especialmente atractivos en Japón, mientras que en NA y UE los juegos de acción y deportes tienen mayor éxito, lo que debe tomarse en cuenta para maximizar el éxito en cada mercado.\n",
    "\n",
    "**Impacto de las Clasificaciones ESRB en Ventas por Región**\n",
    "\n",
    "- **Norteamérica (NA)**: Las clasificaciones ESRB tienen un impacto significativo en las ventas, especialmente en las categorías **\"E\" (Everyone)** y **\"M\" (Mature)**. La categoría \"M\" es particularmente bien recibida en esta región, lo cual refleja la popularidad de los géneros de acción y shooter en un mercado que demanda experiencias maduras y de ritmo rápido.\n",
    "\n",
    "- **Europa (UE)**: Las ventas por clasificación siguen una tendencia similar a NA, con ventas destacadas en los juegos clasificados como \"E\" y \"M\". Esto indica una amplia base de usuarios de diferentes edades y preferencias de contenido, lo que permite que la industria explore diferentes estilos y temáticas de juego.\n",
    "\n",
    "- **Japón (JP)**: Las clasificaciones ESRB tienen un impacto más moderado, ya que los juegos orientados a todas las edades y jóvenes muestran mejor rendimiento en ventas. Esto es consistente con la popularidad de consolas portátiles y géneros familiares, que son más accesibles para un público amplio y casual en Japón.\n",
    "\n",
    "**Diferencias Regionales en el Impacto de la Clasificación ESRB**:\n",
    "En NA y UE, las clasificaciones ESRB influyen más en las ventas, mientras que en Japón su impacto es menor. Este hallazgo es relevante para el lanzamiento de juegos, ya que permite ajustar el contenido y clasificación de los productos según el perfil de audiencia regional.\n",
    "\n",
    "**Resumen Intermedio**\n",
    "\n",
    "1. **Preferencias de Plataforma**:\n",
    "   - En NA y UE, Xbox y PlayStation son las plataformas líderes, mientras que en JP dominan las consolas de Nintendo. Estas diferencias sugieren que los esfuerzos de marketing deben enfocarse en las plataformas más exitosas de cada región para optimizar la efectividad de las campañas.\n",
    "\n",
    "2. **Géneros Populares**:\n",
    "   - Los géneros de **acción** y **deportes** son populares en NA y UE, mientras que en JP los géneros de **rol** y **acción** son preferidos. Esto permite a las empresas concentrar sus lanzamientos y esfuerzos de desarrollo en los géneros que resuenan mejor con cada audiencia regional.\n",
    "\n",
    "3. **Impacto de Clasificación ESRB**:\n",
    "   - La clasificación ESRB es más relevante en NA y UE que en JP, lo que indica que los consumidores en estas regiones pueden estar más influenciados por las categorías de contenido al momento de decidir sus compras.\n",
    "\n",
    "**Recomendaciones Basadas en los Hallazgos**\n",
    "\n",
    "- **Estrategias de Plataforma Regionalizadas**: Enfocar los esfuerzos de marketing y lanzamiento en las plataformas líderes de cada región para asegurar una mayor receptividad y maximizar el impacto en cada mercado.\n",
    "\n",
    "- **Foco en Géneros Rentables**: Para NA y UE, priorizar juegos de acción y deportes, mientras que para JP sería conveniente enfocarse en juegos de rol. Esto permitirá satisfacer mejor las demandas específicas de cada mercado regional.\n",
    "\n",
    "- **Adaptación de Clasificaciones**: En NA y UE, optimizar las estrategias de contenido de acuerdo con las clasificaciones ESRB, especialmente en los segmentos \"M\" y \"E\", mientras que en JP, los juegos accesibles para todas las edades son mejor recibidos.\n",
    "\n",
    "Estos hallazgos permiten diseñar una estrategia de lanzamiento efectiva que se alinee con las preferencias locales, maximizando el éxito comercial en cada región y optimizando la experiencia del usuario en función de sus intereses y cultura de juego."
   ]
  },
  {
   "cell_type": "markdown",
   "metadata": {},
   "source": [
    "## Pruebas de hipótesis\n",
    "\n",
    "Vamos a formular y comprobar dos hipótesis, utilizando una prueba estadística para cada una. \n",
    "\n",
    "Evaluaremos las hipótesis mediante la prueba t de Student, ideal para comparar las medias de dos muestras."
   ]
  },
  {
   "cell_type": "markdown",
   "metadata": {},
   "source": [
    "### Primera Hipótesis\n",
    "\n",
    "**Objetivo**:  \n",
    "Determinar si existen diferencias significativas en las calificaciones promedio otorgadas por los usuarios a los juegos en las plataformas Xbox One y PC. Esta comparación permitirá identificar si la percepción de calidad de los juegos difiere según la plataforma, lo cual puede ser de interés para desarrolladores y editores al decidir en qué plataformas lanzar o promocionar sus juegos.\n",
    "\n",
    "**Formulación de la Hipótesis**:  \n",
    "- **Hipótesis nula (H₀)**: Las calificaciones promedio de los usuarios para Xbox One y PC son iguales.\n",
    "- **Hipótesis alternativa (H₁)**: Las calificaciones promedio de los usuarios para Xbox One y PC son diferentes.\n",
    "\n",
    "**Prueba Estadística**:  \n",
    "Utilizaremos la **prueba t de Student** para comparar las medias de las dos muestras de calificaciones de usuarios (Xbox One y PC). Esta prueba es adecuada para determinar si las diferencias observadas en las medias son estadísticamente significativas.\n",
    "\n",
    "**Método**:\n",
    "1. Realizar la prueba de Levene para verificar la igualdad de varianzas entre las calificaciones de ambas plataformas.\n",
    "2. Usar el resultado de la prueba de Levene para decidir si se asumen o no varianzas iguales en la prueba t.\n",
    "3. Aplicar la prueba t de Student y evaluar el valor p resultante.\n",
    "4. Con un nivel de significancia de 0.05:\n",
    "   - Si el valor p es menor que 0.05, rechazamos la hipótesis nula y concluimos que las calificaciones promedio de los usuarios para Xbox One y PC son diferentes.\n",
    "   - Si el valor p es mayor o igual a 0.05, no rechazamos la hipótesis nula y concluimos que las calificaciones promedio de los usuarios para ambas plataformas son iguales.\n"
   ]
  },
  {
   "cell_type": "code",
   "execution_count": null,
   "metadata": {},
   "outputs": [],
   "source": [
    "# Nivel de significancia\n",
    "alpha = 0.05\n",
    "\n",
    "# Verificar si la columna 'user_score' existe\n",
    "if 'user_score' in data.columns:\n",
    "    \n",
    "    # Primera hipótesis: Comparación de calificaciones promedio para Xbox One y PC\n",
    "    xbox_scores = data[data['platform'] == 'XOne']['user_score'].dropna()\n",
    "    pc_scores = data[data['platform'] == 'PC']['user_score'].dropna()\n",
    "\n",
    "    # Prueba de Levene para verificar igualdad de varianzas\n",
    "    levene_stat, levene_p_value = stats.levene(xbox_scores, pc_scores)\n",
    "    print(\"Prueba de Levene: Varianza de calificaciones para Xbox One vs PC\")\n",
    "    print(f\"Estadístico Levene: {levene_stat:.2f}, Valor p: {levene_p_value:.4f}\")\n",
    "\n",
    "    # Determinar el valor de equal_var en función del resultado de Levene\n",
    "    equal_var = levene_p_value >= alpha\n",
    "\n",
    "    # Prueba t de Student\n",
    "    t_stat, p_value = stats.ttest_ind(xbox_scores, pc_scores, equal_var=equal_var)\n",
    "    print(\"\\nPrueba de hipótesis: Calificaciones promedio para Xbox One vs PC\")\n",
    "    print(f\"Estadístico t: {t_stat:.2f}, Valor p: {p_value:.4f}\")\n",
    "    if p_value < alpha:\n",
    "        print(\"Rechazamos la hipótesis nula: Las calificaciones promedio son diferentes.\")\n",
    "    else:\n",
    "        print(\"No se rechaza la hipótesis nula: Las calificaciones promedio son iguales.\")\n"
   ]
  },
  {
   "cell_type": "markdown",
   "metadata": {},
   "source": [
    "### Segunda Hipótesis\n",
    "\n",
    "**Objetivo**:  \n",
    "Evaluar si existen diferencias significativas en las calificaciones promedio de los usuarios entre los géneros de Acción y Deportes. Esta comparación ayudará a identificar si los usuarios perciben la calidad de los juegos de manera diferente según el género, lo cual podría ser útil para desarrolladores y editores en el diseño y la promoción de juegos que se alineen mejor con las expectativas y preferencias de la audiencia en cada categoría.\n",
    "\n",
    "**Formulación de la Hipótesis**:  \n",
    "- **Hipótesis nula (H₀)**: Las calificaciones promedio de los usuarios para los géneros de Acción y Deportes son iguales.\n",
    "- **Hipótesis alternativa (H₁)**: Las calificaciones promedio de los usuarios para los géneros de Acción y Deportes son diferentes.\n",
    "\n",
    "**Prueba Estadística**:  \n",
    "Utilizaremos la **prueba t de Student** para comparar las medias de las calificaciones de usuarios entre los géneros de Acción y Deportes. Esta prueba es apropiada para determinar si las diferencias observadas en las medias son estadísticamente significativas.\n",
    "\n",
    "**Método**:\n",
    "1. Realizar la prueba de Levene para verificar la igualdad de varianzas entre las calificaciones de los géneros de Acción y Deportes.\n",
    "2. Basándonos en el resultado de la prueba de Levene, decidir si asumimos o no varianzas iguales en la prueba t.\n",
    "3. Aplicar la prueba t de Student y evaluar el valor p obtenido.\n",
    "4. Con un nivel de significancia de 0.05:\n",
    "   - Si el valor p es menor que 0.05, rechazamos la hipótesis nula y concluimos que las calificaciones promedio de los usuarios para los géneros de Acción y Deportes son diferentes.\n",
    "   - Si el valor p es mayor o igual a 0.05, no rechazamos la hipótesis nula y concluimos que las calificaciones promedio de los usuarios para ambos géneros son iguales."
   ]
  },
  {
   "cell_type": "code",
   "execution_count": null,
   "metadata": {},
   "outputs": [],
   "source": [
    "from scipy import stats\n",
    "\n",
    "# Nivel de significancia\n",
    "alpha = 0.05\n",
    "\n",
    "# Verificar si la columna 'user_score' existe\n",
    "if 'user_score' in data.columns:\n",
    "    \n",
    "    # Segunda hipótesis: Comparación de calificaciones promedio para Acción y Deportes\n",
    "    action_scores = data[data['genre'] == 'Action']['user_score'].dropna()\n",
    "    sports_scores = data[data['genre'] == 'Sports']['user_score'].dropna()\n",
    "\n",
    "    # Prueba de Levene para verificar igualdad de varianzas\n",
    "    levene_stat_genre, levene_p_value_genre = stats.levene(action_scores, sports_scores)\n",
    "    print(\"Prueba de Levene: Varianza de calificaciones para Acción vs Deportes\")\n",
    "    print(f\"Estadístico Levene: {levene_stat_genre:.2f}, Valor p: {levene_p_value_genre:.4f}\")\n",
    "\n",
    "    # Determinar el valor de equal_var en función del resultado de Levene\n",
    "    equal_var_genre = levene_p_value_genre >= alpha\n",
    "\n",
    "    # Prueba t de Student\n",
    "    t_stat_genre, p_value_genre = stats.ttest_ind(action_scores, sports_scores, equal_var=equal_var_genre)\n",
    "    print(\"\\nPrueba de hipótesis: Calificaciones promedio para Acción vs Deportes\")\n",
    "    print(f\"Estadístico t: {t_stat_genre:.2f}, Valor p: {p_value_genre:.4f}\")\n",
    "    if p_value_genre < alpha:\n",
    "        print(\"Rechazamos la hipótesis nula: Las calificaciones promedio son diferentes.\")\n",
    "    else:\n",
    "        print(\"No se rechaza la hipótesis nula: Las calificaciones promedio son iguales.\")\n",
    "\n",
    "else:\n",
    "    print(\"La columna 'user_score' no está presente en el dataset.\")\n"
   ]
  },
  {
   "cell_type": "markdown",
   "metadata": {},
   "source": [
    "### Conclusiones Intermedias \"Pruebas de Hipótesis\""
   ]
  },
  {
   "cell_type": "markdown",
   "metadata": {},
   "source": [
    "**Primera Hipótesis: Comparación de Calificaciones Promedio entre Xbox One y PC**\n",
    "\n",
    "1. **Prueba de Levene para Igualdad de Varianzas**:\n",
    "   - Resultado: El valor p de la prueba de Levene es 0.2694, lo cual es mayor al nivel de significancia de 0.05.\n",
    "   - Conclusión: No rechazamos la hipótesis de igualdad de varianzas, por lo que asumimos que ambas muestras tienen varianzas iguales para aplicar la prueba t.\n",
    "\n",
    "2. **Prueba t de Student**:\n",
    "   - Resultado: El valor p de la prueba t es 0.0000, lo cual es menor al nivel de significancia de 0.05.\n",
    "   - Conclusión: Rechazamos la hipótesis nula, lo que indica que existen diferencias significativas en las calificaciones promedio de los usuarios para las plataformas Xbox One y PC. Esto sugiere que los usuarios perciben de manera diferente los juegos en estas plataformas, lo que puede ser relevante para el desarrollo y marketing de productos específicos para cada plataforma.\n",
    "\n",
    "**Segunda Hipótesis: Comparación de Calificaciones Promedio entre los Géneros de Acción y Deportes**\n",
    "\n",
    "1. **Prueba de Levene para Igualdad de Varianzas**:\n",
    "   - Resultado: El valor p de la prueba de Levene es 0.0002, lo cual es menor al nivel de significancia de 0.05.\n",
    "   - Conclusión: Rechazamos la hipótesis de igualdad de varianzas, indicando que las muestras de calificaciones para los géneros de Acción y Deportes tienen varianzas diferentes. Este resultado guía la elección de la configuración `equal_var=False` en la prueba t de Student.\n",
    "\n",
    "2. **Prueba t de Student**:\n",
    "   - Resultado: El valor p de la prueba t es 0.1148, mayor al nivel de significancia de 0.05.\n",
    "   - Conclusión: No rechazamos la hipótesis nula, lo que sugiere que no hay diferencias significativas en las calificaciones promedio de los usuarios para los géneros de Acción y Deportes. Esto indica que, en general, los usuarios valoran de manera similar los juegos de ambos géneros, lo cual podría ser útil para desarrolladores al decidir en qué género enfocar sus esfuerzos sin preocuparse por una gran diferencia en la percepción de calidad promedio.\n",
    "   \n",
    "Estas conclusiones intermedias sugieren que las plataformas pueden influir en la percepción de los usuarios, mientras que el género del juego no genera una diferencia significativa en calificaciones promedio."
   ]
  },
  {
   "cell_type": "markdown",
   "metadata": {},
   "source": [
    "## Conclusión general\n",
    "\n",
    "Resume los hallazgos clave y proporciona recomendaciones específicas.\n"
   ]
  },
  {
   "cell_type": "markdown",
   "metadata": {},
   "source": [
    "1. **Preparación de Datos y Transformación Inicial**\n",
    "   - Se completaron adecuadamente los valores faltantes, logrando un conjunto de datos estandarizado y limpio. Las columnas con valores ausentes críticos, como `year_of_release`, se completaron utilizando la moda dentro de cada grupo por juego, mientras que otras columnas, como `user_score` y `critic_score`, fueron completadas usando la mediana. Las columnas de ventas regionales se llenaron con ceros, asumiendo que la falta de datos representa la ausencia de ventas en dichas regiones.\n",
    "   - La conversión de tipos de datos y la estandarización de nombres de columnas mejoraron la consistencia y legibilidad, facilitando el análisis estadístico y comparativo.\n",
    "\n",
    "2. **Tendencias de Lanzamiento y Ventas Globales**\n",
    "   - El análisis histórico de lanzamientos mostró un crecimiento sostenido de la industria hasta 2008, seguido de una leve disminución, reflejando una transición hacia un mercado maduro. Esto sugiere que las estrategias futuras de desarrollo deberían enfocarse en la calidad y en adaptar los contenidos a las expectativas cambiantes de los usuarios, en lugar de la cantidad de lanzamientos.\n",
    "   - La tendencia de ventas globales suavizadas destacó plataformas con rendimientos constantes, permitiendo observar aquellas que mantienen un éxito sostenido en el tiempo. Esto aporta una perspectiva importante para planificar lanzamientos en plataformas con estabilidad en el mercado.\n",
    "\n",
    "3. **Preferencias de Plataforma y Género por Región**\n",
    "   - Norteamérica y Europa comparten una preferencia por plataformas como Xbox y PlayStation, mientras que en Japón dominan las plataformas de Nintendo, especialmente las consolas portátiles. Estas diferencias regionales sugieren que las estrategias de marketing y desarrollo deben adaptarse a las preferencias de cada región, optimizando la inversión en plataformas más populares localmente.\n",
    "   - En términos de género, Norteamérica y Europa prefieren géneros de acción, deportes y shooters, mientras que en Japón destacan los géneros de rol (RPG) y acción. Estos hallazgos sugieren enfoques diferenciados en el diseño y promoción de juegos, centrándose en géneros específicos según la región para atraer a las audiencias locales.\n",
    "\n",
    "4. **Impacto de las Reseñas en las Ventas**\n",
    "   - La correlación moderada entre las reseñas de críticos y las ventas indica que, aunque las reseñas positivas contribuyen a mayores ventas, no son el único factor determinante. Otros elementos, como el marketing y la accesibilidad, también influyen en el éxito de los juegos, destacando la importancia de una estrategia integral que combine calidad, marketing y disponibilidad para maximizar las ventas.\n",
    "\n",
    "5. **Análisis de Clasificación ESRB por Región**\n",
    "   - En Norteamérica y Europa, las clasificaciones ESRB tienen un impacto significativo, especialmente en las categorías \"Mature\" y \"Everyone\". En Japón, los juegos clasificados para todas las edades son más populares, lo que destaca la importancia de adaptar el contenido y las estrategias de lanzamiento en función de las normas culturales y las preferencias de cada mercado.\n",
    "\n",
    "6. **Pruebas de Hipótesis**\n",
    "   - La prueba de hipótesis entre las calificaciones promedio de Xbox One y PC reveló una diferencia significativa, lo que sugiere que los usuarios perciben la calidad de los juegos de manera distinta en estas plataformas. Esto podría influir en las decisiones de desarrollo y marketing en cuanto a las características exclusivas de cada plataforma.\n",
    "   - No se encontraron diferencias significativas en las calificaciones promedio entre los géneros de Acción y Deportes, indicando que la percepción de calidad por género es similar. Esto sugiere que los desarrolladores pueden distribuir esfuerzos entre ambos géneros sin preocuparse por grandes diferencias en las calificaciones promedio.\n",
    "\n",
    "**Conclusión Final**\n",
    "En conjunto, este análisis ofrece una visión detallada de las tendencias y preferencias del mercado de videojuegos, tanto a nivel global como regional. Las empresas pueden usar estos hallazgos para diseñar estrategias de desarrollo, marketing y lanzamiento más efectivas, maximizando el impacto en cada región y optimizando la alineación con las preferencias del usuario en términos de plataforma, género y clasificación de contenido."
   ]
  }
 ],
 "metadata": {
  "ExecuteTimeLog": [
   {
    "duration": 337,
    "start_time": "2024-11-08T22:56:37.059Z"
   },
   {
    "duration": 3,
    "start_time": "2024-11-08T22:56:48.246Z"
   },
   {
    "duration": 547,
    "start_time": "2024-11-08T22:57:01.883Z"
   },
   {
    "duration": 8,
    "start_time": "2024-11-08T22:57:51.569Z"
   },
   {
    "duration": 5,
    "start_time": "2024-11-08T22:58:09.742Z"
   },
   {
    "duration": 2157,
    "start_time": "2024-11-08T22:58:16.761Z"
   },
   {
    "duration": 424,
    "start_time": "2024-11-08T22:58:48.639Z"
   },
   {
    "duration": 299,
    "start_time": "2024-11-08T22:58:55.353Z"
   },
   {
    "duration": 2,
    "start_time": "2024-11-08T22:58:55.654Z"
   },
   {
    "duration": 13,
    "start_time": "2024-11-08T22:58:55.658Z"
   },
   {
    "duration": 4,
    "start_time": "2024-11-08T22:58:55.673Z"
   },
   {
    "duration": 397,
    "start_time": "2024-11-08T22:58:55.680Z"
   },
   {
    "duration": 387,
    "start_time": "2024-11-08T22:58:56.079Z"
   },
   {
    "duration": 1104,
    "start_time": "2024-11-08T22:59:07.949Z"
   },
   {
    "duration": 16,
    "start_time": "2024-11-08T23:00:24.487Z"
   },
   {
    "duration": 31,
    "start_time": "2024-11-08T23:01:21.280Z"
   },
   {
    "duration": 4,
    "start_time": "2024-11-08T23:01:21.984Z"
   },
   {
    "duration": 17,
    "start_time": "2024-11-08T23:01:22.784Z"
   },
   {
    "duration": 5,
    "start_time": "2024-11-08T23:01:23.882Z"
   },
   {
    "duration": 318,
    "start_time": "2024-11-08T23:01:25.241Z"
   },
   {
    "duration": 365,
    "start_time": "2024-11-08T23:01:26.857Z"
   },
   {
    "duration": 270,
    "start_time": "2024-11-08T23:03:35.828Z"
   },
   {
    "duration": 33,
    "start_time": "2024-11-08T23:03:46.560Z"
   },
   {
    "duration": 3,
    "start_time": "2024-11-08T23:03:50.944Z"
   },
   {
    "duration": 622,
    "start_time": "2024-11-08T23:03:52.028Z"
   },
   {
    "duration": 471,
    "start_time": "2024-11-08T23:04:45.757Z"
   },
   {
    "duration": 3,
    "start_time": "2024-11-08T23:05:11.124Z"
   },
   {
    "duration": 4,
    "start_time": "2024-11-08T23:05:22.984Z"
   },
   {
    "duration": 235,
    "start_time": "2024-11-08T23:05:57.025Z"
   },
   {
    "duration": 156,
    "start_time": "2024-11-08T23:06:11.681Z"
   },
   {
    "duration": 51,
    "start_time": "2024-11-08T23:06:34.756Z"
   },
   {
    "duration": 759,
    "start_time": "2024-11-08T23:06:50.240Z"
   },
   {
    "duration": 35,
    "start_time": "2024-11-08T23:06:51.004Z"
   },
   {
    "duration": 3,
    "start_time": "2024-11-08T23:06:51.041Z"
   },
   {
    "duration": 4,
    "start_time": "2024-11-08T23:06:51.046Z"
   },
   {
    "duration": 21,
    "start_time": "2024-11-08T23:06:51.052Z"
   },
   {
    "duration": 241,
    "start_time": "2024-11-08T23:06:51.075Z"
   },
   {
    "duration": 831,
    "start_time": "2024-11-08T23:06:51.317Z"
   },
   {
    "duration": 54,
    "start_time": "2024-11-08T23:07:55.486Z"
   },
   {
    "duration": 3,
    "start_time": "2024-11-08T23:08:59.171Z"
   },
   {
    "duration": 23,
    "start_time": "2024-11-08T23:09:15.069Z"
   },
   {
    "duration": 3,
    "start_time": "2024-11-08T23:09:34.275Z"
   },
   {
    "duration": 6,
    "start_time": "2024-11-08T23:09:49.074Z"
   },
   {
    "duration": 6,
    "start_time": "2024-11-08T23:09:59.240Z"
   },
   {
    "duration": 226,
    "start_time": "2024-11-08T23:10:08.980Z"
   },
   {
    "duration": 11,
    "start_time": "2024-11-08T23:10:25.232Z"
   },
   {
    "duration": 119,
    "start_time": "2024-11-08T23:10:30.450Z"
   },
   {
    "duration": 368,
    "start_time": "2024-11-08T23:11:40.522Z"
   },
   {
    "duration": 144,
    "start_time": "2024-11-08T23:11:56.593Z"
   },
   {
    "duration": 118,
    "start_time": "2024-11-08T23:12:23.346Z"
   },
   {
    "duration": 9,
    "start_time": "2024-11-08T23:12:55.238Z"
   },
   {
    "duration": 3,
    "start_time": "2024-11-08T23:13:17.883Z"
   },
   {
    "duration": 24,
    "start_time": "2024-11-08T23:13:18.460Z"
   },
   {
    "duration": 4,
    "start_time": "2024-11-08T23:13:18.927Z"
   },
   {
    "duration": 6,
    "start_time": "2024-11-08T23:13:19.257Z"
   },
   {
    "duration": 5,
    "start_time": "2024-11-08T23:13:19.602Z"
   },
   {
    "duration": 324,
    "start_time": "2024-11-08T23:13:19.906Z"
   },
   {
    "duration": 7,
    "start_time": "2024-11-08T23:13:20.630Z"
   },
   {
    "duration": 340,
    "start_time": "2024-11-08T23:13:21.652Z"
   },
   {
    "duration": 116,
    "start_time": "2024-11-08T23:13:22.406Z"
   },
   {
    "duration": 9,
    "start_time": "2024-11-08T23:13:23.924Z"
   },
   {
    "duration": 7,
    "start_time": "2024-11-08T23:13:25.467Z"
   },
   {
    "duration": 800,
    "start_time": "2024-11-08T23:14:02.689Z"
   },
   {
    "duration": 23,
    "start_time": "2024-11-08T23:14:03.492Z"
   },
   {
    "duration": 3,
    "start_time": "2024-11-08T23:14:03.517Z"
   },
   {
    "duration": 5,
    "start_time": "2024-11-08T23:14:03.521Z"
   },
   {
    "duration": 4,
    "start_time": "2024-11-08T23:14:03.528Z"
   },
   {
    "duration": 261,
    "start_time": "2024-11-08T23:14:03.534Z"
   },
   {
    "duration": 6,
    "start_time": "2024-11-08T23:14:03.797Z"
   },
   {
    "duration": 438,
    "start_time": "2024-11-08T23:14:03.804Z"
   },
   {
    "duration": 118,
    "start_time": "2024-11-08T23:14:04.244Z"
   },
   {
    "duration": 10,
    "start_time": "2024-11-08T23:14:04.364Z"
   },
   {
    "duration": 7,
    "start_time": "2024-11-08T23:14:04.376Z"
   },
   {
    "duration": 65,
    "start_time": "2024-11-08T23:23:37.806Z"
   },
   {
    "duration": 25,
    "start_time": "2024-11-08T23:24:20.526Z"
   },
   {
    "duration": 3,
    "start_time": "2024-11-08T23:24:39.031Z"
   },
   {
    "duration": 3,
    "start_time": "2024-11-08T23:41:58.020Z"
   },
   {
    "duration": 9,
    "start_time": "2024-11-08T23:50:21.715Z"
   },
   {
    "duration": 11,
    "start_time": "2024-11-08T23:53:55.714Z"
   },
   {
    "duration": 4,
    "start_time": "2024-11-09T00:00:02.295Z"
   },
   {
    "duration": 10,
    "start_time": "2024-11-09T00:00:20.022Z"
   },
   {
    "duration": 10,
    "start_time": "2024-11-09T00:02:24.893Z"
   },
   {
    "duration": 4,
    "start_time": "2024-11-09T00:03:43.460Z"
   },
   {
    "duration": 9,
    "start_time": "2024-11-09T00:11:19.352Z"
   },
   {
    "duration": 15,
    "start_time": "2024-11-09T00:11:35.613Z"
   },
   {
    "duration": 13,
    "start_time": "2024-11-09T00:11:48.170Z"
   },
   {
    "duration": 5,
    "start_time": "2024-11-09T00:12:03.692Z"
   },
   {
    "duration": 8,
    "start_time": "2024-11-09T00:12:29.327Z"
   },
   {
    "duration": 7,
    "start_time": "2024-11-09T00:12:39.903Z"
   },
   {
    "duration": 16,
    "start_time": "2024-11-09T00:12:52.948Z"
   },
   {
    "duration": 15,
    "start_time": "2024-11-09T00:13:01.825Z"
   },
   {
    "duration": 9,
    "start_time": "2024-11-09T00:13:09.505Z"
   },
   {
    "duration": 5,
    "start_time": "2024-11-09T00:14:32.863Z"
   },
   {
    "duration": 4,
    "start_time": "2024-11-09T00:14:42.274Z"
   },
   {
    "duration": 24,
    "start_time": "2024-11-09T00:15:11.397Z"
   },
   {
    "duration": 29,
    "start_time": "2024-11-09T00:15:36.580Z"
   },
   {
    "duration": 27,
    "start_time": "2024-11-09T00:16:58.755Z"
   },
   {
    "duration": 20,
    "start_time": "2024-11-09T00:17:33.256Z"
   },
   {
    "duration": 8,
    "start_time": "2024-11-09T00:17:49.921Z"
   },
   {
    "duration": 181,
    "start_time": "2024-11-09T00:19:01.442Z"
   },
   {
    "duration": 8,
    "start_time": "2024-11-09T00:19:11.788Z"
   },
   {
    "duration": 4,
    "start_time": "2024-11-09T00:19:19.171Z"
   },
   {
    "duration": 150,
    "start_time": "2024-11-09T00:19:26.831Z"
   },
   {
    "duration": 387,
    "start_time": "2024-11-09T00:19:53.521Z"
   },
   {
    "duration": 2,
    "start_time": "2024-11-09T00:20:18.102Z"
   },
   {
    "duration": 177,
    "start_time": "2024-11-09T00:20:26.183Z"
   },
   {
    "duration": 4,
    "start_time": "2024-11-09T00:22:25.081Z"
   },
   {
    "duration": 2,
    "start_time": "2024-11-09T00:22:25.610Z"
   },
   {
    "duration": 183,
    "start_time": "2024-11-09T00:22:26.170Z"
   },
   {
    "duration": 4,
    "start_time": "2024-11-09T00:22:26.672Z"
   },
   {
    "duration": 7,
    "start_time": "2024-11-09T00:22:27.191Z"
   },
   {
    "duration": 2,
    "start_time": "2024-11-09T00:22:27.683Z"
   },
   {
    "duration": 4,
    "start_time": "2024-11-09T00:22:28.212Z"
   },
   {
    "duration": 3,
    "start_time": "2024-11-09T00:22:28.697Z"
   },
   {
    "duration": 146,
    "start_time": "2024-11-09T00:22:29.520Z"
   },
   {
    "duration": 2,
    "start_time": "2024-11-09T00:22:30.502Z"
   },
   {
    "duration": 371,
    "start_time": "2024-11-09T00:22:31.446Z"
   },
   {
    "duration": 3,
    "start_time": "2024-11-09T00:22:32.698Z"
   },
   {
    "duration": 248,
    "start_time": "2024-11-09T00:22:34.894Z"
   },
   {
    "duration": 4,
    "start_time": "2024-11-09T00:52:28.022Z"
   },
   {
    "duration": 5,
    "start_time": "2024-11-09T00:54:42.566Z"
   },
   {
    "duration": 9,
    "start_time": "2024-11-09T00:54:44.182Z"
   },
   {
    "duration": 6,
    "start_time": "2024-11-09T00:54:44.951Z"
   },
   {
    "duration": 22,
    "start_time": "2024-11-09T00:54:45.547Z"
   },
   {
    "duration": 4,
    "start_time": "2024-11-09T00:54:46.092Z"
   },
   {
    "duration": 6,
    "start_time": "2024-11-09T00:54:47.343Z"
   },
   {
    "duration": 9,
    "start_time": "2024-11-09T00:55:14.284Z"
   },
   {
    "duration": 128,
    "start_time": "2024-11-09T00:58:42.174Z"
   },
   {
    "duration": 128,
    "start_time": "2024-11-09T01:01:43.149Z"
   },
   {
    "duration": 139,
    "start_time": "2024-11-09T01:01:56.664Z"
   },
   {
    "duration": 307,
    "start_time": "2024-11-09T01:03:55.859Z"
   },
   {
    "duration": 312,
    "start_time": "2024-11-09T01:04:40.398Z"
   },
   {
    "duration": 286,
    "start_time": "2024-11-09T01:05:08.576Z"
   },
   {
    "duration": 333,
    "start_time": "2024-11-09T01:05:17.092Z"
   },
   {
    "duration": 333,
    "start_time": "2024-11-09T01:05:46.879Z"
   },
   {
    "duration": 135,
    "start_time": "2024-11-09T01:06:55.724Z"
   },
   {
    "duration": 326,
    "start_time": "2024-11-09T01:07:50.363Z"
   },
   {
    "duration": 132,
    "start_time": "2024-11-09T01:08:28.256Z"
   },
   {
    "duration": 143,
    "start_time": "2024-11-09T01:09:09.465Z"
   },
   {
    "duration": 477,
    "start_time": "2024-11-09T01:09:52.584Z"
   },
   {
    "duration": 141,
    "start_time": "2024-11-09T01:15:01.088Z"
   },
   {
    "duration": 161,
    "start_time": "2024-11-09T01:20:20.604Z"
   },
   {
    "duration": 5,
    "start_time": "2024-11-09T01:21:04.727Z"
   },
   {
    "duration": 168,
    "start_time": "2024-11-09T01:22:13.815Z"
   },
   {
    "duration": 164,
    "start_time": "2024-11-09T01:22:45.986Z"
   },
   {
    "duration": 169,
    "start_time": "2024-11-09T01:23:30.340Z"
   },
   {
    "duration": 298,
    "start_time": "2024-11-09T01:25:07.110Z"
   },
   {
    "duration": 294,
    "start_time": "2024-11-09T01:25:43.493Z"
   },
   {
    "duration": 421,
    "start_time": "2024-11-09T01:26:12.603Z"
   },
   {
    "duration": 266,
    "start_time": "2024-11-09T01:29:39.136Z"
   },
   {
    "duration": 277,
    "start_time": "2024-11-09T01:30:06.186Z"
   },
   {
    "duration": 314,
    "start_time": "2024-11-09T01:30:22.849Z"
   },
   {
    "duration": 8,
    "start_time": "2024-11-09T01:32:55.791Z"
   },
   {
    "duration": 8,
    "start_time": "2024-11-09T01:34:08.163Z"
   },
   {
    "duration": 8,
    "start_time": "2024-11-09T01:34:25.379Z"
   },
   {
    "duration": 8,
    "start_time": "2024-11-09T01:40:08.241Z"
   },
   {
    "duration": 9,
    "start_time": "2024-11-09T01:40:21.897Z"
   },
   {
    "duration": 4,
    "start_time": "2024-11-09T01:59:16.567Z"
   },
   {
    "duration": 24,
    "start_time": "2024-11-09T01:59:17.062Z"
   },
   {
    "duration": 5,
    "start_time": "2024-11-09T01:59:18.578Z"
   },
   {
    "duration": 9,
    "start_time": "2024-11-09T01:59:19.976Z"
   },
   {
    "duration": 10,
    "start_time": "2024-11-09T01:59:20.715Z"
   },
   {
    "duration": 6,
    "start_time": "2024-11-09T01:59:21.201Z"
   },
   {
    "duration": 22,
    "start_time": "2024-11-09T01:59:21.724Z"
   },
   {
    "duration": 4,
    "start_time": "2024-11-09T01:59:22.088Z"
   },
   {
    "duration": 10,
    "start_time": "2024-11-09T01:59:22.386Z"
   },
   {
    "duration": 137,
    "start_time": "2024-11-09T01:59:23.467Z"
   },
   {
    "duration": 435,
    "start_time": "2024-11-09T01:59:24.046Z"
   },
   {
    "duration": 193,
    "start_time": "2024-11-09T01:59:24.798Z"
   },
   {
    "duration": 167,
    "start_time": "2024-11-09T01:59:25.507Z"
   },
   {
    "duration": 821,
    "start_time": "2024-11-09T01:59:54.499Z"
   },
   {
    "duration": 23,
    "start_time": "2024-11-09T01:59:55.322Z"
   },
   {
    "duration": 5,
    "start_time": "2024-11-09T01:59:55.346Z"
   },
   {
    "duration": 23,
    "start_time": "2024-11-09T01:59:55.352Z"
   },
   {
    "duration": 8,
    "start_time": "2024-11-09T01:59:55.377Z"
   },
   {
    "duration": 6,
    "start_time": "2024-11-09T01:59:55.387Z"
   },
   {
    "duration": 22,
    "start_time": "2024-11-09T01:59:55.395Z"
   },
   {
    "duration": 3,
    "start_time": "2024-11-09T01:59:55.419Z"
   },
   {
    "duration": 8,
    "start_time": "2024-11-09T01:59:55.424Z"
   },
   {
    "duration": 186,
    "start_time": "2024-11-09T01:59:55.434Z"
   },
   {
    "duration": 668,
    "start_time": "2024-11-09T01:59:55.622Z"
   },
   {
    "duration": 0,
    "start_time": "2024-11-09T01:59:56.293Z"
   },
   {
    "duration": 0,
    "start_time": "2024-11-09T01:59:56.295Z"
   },
   {
    "duration": 0,
    "start_time": "2024-11-09T01:59:56.296Z"
   },
   {
    "duration": 0,
    "start_time": "2024-11-09T01:59:56.298Z"
   },
   {
    "duration": 0,
    "start_time": "2024-11-09T01:59:56.299Z"
   },
   {
    "duration": 0,
    "start_time": "2024-11-09T01:59:56.301Z"
   },
   {
    "duration": 0,
    "start_time": "2024-11-09T01:59:56.302Z"
   },
   {
    "duration": 0,
    "start_time": "2024-11-09T01:59:56.304Z"
   },
   {
    "duration": 0,
    "start_time": "2024-11-09T01:59:56.305Z"
   },
   {
    "duration": 3,
    "start_time": "2024-11-09T02:04:02.900Z"
   },
   {
    "duration": 24,
    "start_time": "2024-11-09T02:04:18.490Z"
   },
   {
    "duration": 5,
    "start_time": "2024-11-09T02:04:29.676Z"
   },
   {
    "duration": 8,
    "start_time": "2024-11-09T02:04:48.881Z"
   },
   {
    "duration": 10,
    "start_time": "2024-11-09T02:05:34.386Z"
   },
   {
    "duration": 7,
    "start_time": "2024-11-09T02:05:56.738Z"
   },
   {
    "duration": 23,
    "start_time": "2024-11-09T02:06:07.232Z"
   },
   {
    "duration": 4,
    "start_time": "2024-11-09T02:06:19.013Z"
   },
   {
    "duration": 8,
    "start_time": "2024-11-09T02:06:42.815Z"
   },
   {
    "duration": 136,
    "start_time": "2024-11-09T02:08:12.130Z"
   },
   {
    "duration": 13758,
    "start_time": "2024-11-09T02:09:11.700Z"
   },
   {
    "duration": 152,
    "start_time": "2024-11-09T02:09:25.624Z"
   },
   {
    "duration": 13587,
    "start_time": "2024-11-09T02:09:33.527Z"
   },
   {
    "duration": 161,
    "start_time": "2024-11-09T02:09:47.116Z"
   },
   {
    "duration": 13560,
    "start_time": "2024-11-09T02:09:53.048Z"
   },
   {
    "duration": 13601,
    "start_time": "2024-11-09T02:10:07.488Z"
   },
   {
    "duration": 3,
    "start_time": "2024-11-09T02:12:58.951Z"
   },
   {
    "duration": 19,
    "start_time": "2024-11-09T02:13:13.358Z"
   },
   {
    "duration": 10,
    "start_time": "2024-11-09T02:16:55.342Z"
   },
   {
    "duration": 8,
    "start_time": "2024-11-09T02:17:15.705Z"
   },
   {
    "duration": 13576,
    "start_time": "2024-11-09T02:19:44.369Z"
   },
   {
    "duration": 809,
    "start_time": "2024-11-09T02:20:26.767Z"
   },
   {
    "duration": 26,
    "start_time": "2024-11-09T02:20:27.579Z"
   },
   {
    "duration": 5,
    "start_time": "2024-11-09T02:20:27.606Z"
   },
   {
    "duration": 9,
    "start_time": "2024-11-09T02:20:27.614Z"
   },
   {
    "duration": 8,
    "start_time": "2024-11-09T02:20:27.625Z"
   },
   {
    "duration": 6,
    "start_time": "2024-11-09T02:20:27.635Z"
   },
   {
    "duration": 22,
    "start_time": "2024-11-09T02:20:27.669Z"
   },
   {
    "duration": 3,
    "start_time": "2024-11-09T02:20:27.693Z"
   },
   {
    "duration": 8,
    "start_time": "2024-11-09T02:20:27.698Z"
   },
   {
    "duration": 19,
    "start_time": "2024-11-09T02:20:27.709Z"
   },
   {
    "duration": 8,
    "start_time": "2024-11-09T02:20:27.729Z"
   },
   {
    "duration": 13609,
    "start_time": "2024-11-09T02:20:27.739Z"
   },
   {
    "duration": 203,
    "start_time": "2024-11-09T02:20:41.351Z"
   },
   {
    "duration": 407,
    "start_time": "2024-11-09T02:20:41.556Z"
   },
   {
    "duration": 144,
    "start_time": "2024-11-09T02:20:41.969Z"
   },
   {
    "duration": 193,
    "start_time": "2024-11-09T02:20:42.116Z"
   },
   {
    "duration": 292,
    "start_time": "2024-11-09T02:20:42.312Z"
   },
   {
    "duration": 291,
    "start_time": "2024-11-09T02:20:42.606Z"
   },
   {
    "duration": 410,
    "start_time": "2024-11-09T02:20:42.899Z"
   },
   {
    "duration": 9,
    "start_time": "2024-11-09T02:20:43.311Z"
   },
   {
    "duration": 8,
    "start_time": "2024-11-09T02:20:43.322Z"
   },
   {
    "duration": 137,
    "start_time": "2024-11-09T02:21:02.324Z"
   },
   {
    "duration": 402,
    "start_time": "2024-11-09T02:21:49.895Z"
   },
   {
    "duration": 139,
    "start_time": "2024-11-09T02:21:54.509Z"
   },
   {
    "duration": 175,
    "start_time": "2024-11-09T02:21:57.464Z"
   },
   {
    "duration": 282,
    "start_time": "2024-11-09T02:22:02.852Z"
   },
   {
    "duration": 381,
    "start_time": "2024-11-09T02:23:23.277Z"
   },
   {
    "duration": 275,
    "start_time": "2024-11-09T02:23:55.208Z"
   },
   {
    "duration": 338,
    "start_time": "2024-11-09T02:24:36.777Z"
   },
   {
    "duration": 317,
    "start_time": "2024-11-09T02:25:49.802Z"
   },
   {
    "duration": 268,
    "start_time": "2024-11-09T02:26:30.443Z"
   },
   {
    "duration": 352,
    "start_time": "2024-11-09T02:27:06.612Z"
   },
   {
    "duration": 267,
    "start_time": "2024-11-09T02:27:44.989Z"
   },
   {
    "duration": 260,
    "start_time": "2024-11-09T02:27:55.440Z"
   },
   {
    "duration": 317,
    "start_time": "2024-11-09T02:28:05.521Z"
   },
   {
    "duration": 293,
    "start_time": "2024-11-09T02:28:16.907Z"
   },
   {
    "duration": 319,
    "start_time": "2024-11-09T02:28:37.969Z"
   },
   {
    "duration": 373,
    "start_time": "2024-11-09T02:28:48.332Z"
   },
   {
    "duration": 13,
    "start_time": "2024-11-09T02:30:41.735Z"
   },
   {
    "duration": 9,
    "start_time": "2024-11-09T02:32:08.365Z"
   },
   {
    "duration": 803,
    "start_time": "2024-11-09T02:32:30.154Z"
   },
   {
    "duration": 28,
    "start_time": "2024-11-09T02:32:30.959Z"
   },
   {
    "duration": 5,
    "start_time": "2024-11-09T02:32:30.989Z"
   },
   {
    "duration": 8,
    "start_time": "2024-11-09T02:32:30.996Z"
   },
   {
    "duration": 8,
    "start_time": "2024-11-09T02:32:31.006Z"
   },
   {
    "duration": 7,
    "start_time": "2024-11-09T02:32:31.015Z"
   },
   {
    "duration": 47,
    "start_time": "2024-11-09T02:32:31.023Z"
   },
   {
    "duration": 4,
    "start_time": "2024-11-09T02:32:31.071Z"
   },
   {
    "duration": 9,
    "start_time": "2024-11-09T02:32:31.076Z"
   },
   {
    "duration": 18,
    "start_time": "2024-11-09T02:32:31.086Z"
   },
   {
    "duration": 8,
    "start_time": "2024-11-09T02:32:31.106Z"
   },
   {
    "duration": 13757,
    "start_time": "2024-11-09T02:32:31.116Z"
   },
   {
    "duration": 201,
    "start_time": "2024-11-09T02:32:44.875Z"
   },
   {
    "duration": 403,
    "start_time": "2024-11-09T02:32:45.080Z"
   },
   {
    "duration": 156,
    "start_time": "2024-11-09T02:32:45.485Z"
   },
   {
    "duration": 189,
    "start_time": "2024-11-09T02:32:45.643Z"
   },
   {
    "duration": 276,
    "start_time": "2024-11-09T02:32:45.834Z"
   },
   {
    "duration": 321,
    "start_time": "2024-11-09T02:32:46.112Z"
   },
   {
    "duration": 0,
    "start_time": "2024-11-09T02:32:46.435Z"
   },
   {
    "duration": 0,
    "start_time": "2024-11-09T02:32:46.437Z"
   },
   {
    "duration": 0,
    "start_time": "2024-11-09T02:32:46.439Z"
   },
   {
    "duration": 262,
    "start_time": "2024-11-09T02:33:21.007Z"
   },
   {
    "duration": 310,
    "start_time": "2024-11-09T02:33:36.620Z"
   },
   {
    "duration": 276,
    "start_time": "2024-11-09T02:35:44.164Z"
   },
   {
    "duration": 263,
    "start_time": "2024-11-09T02:35:49.485Z"
   },
   {
    "duration": 311,
    "start_time": "2024-11-09T02:35:51.201Z"
   },
   {
    "duration": 13,
    "start_time": "2024-11-09T02:35:53.218Z"
   },
   {
    "duration": 8,
    "start_time": "2024-11-09T02:35:54.527Z"
   },
   {
    "duration": 9,
    "start_time": "2024-11-09T02:40:27.991Z"
   },
   {
    "duration": 5,
    "start_time": "2024-11-09T02:40:32.403Z"
   },
   {
    "duration": 96,
    "start_time": "2024-11-09T02:40:33.208Z"
   },
   {
    "duration": 4,
    "start_time": "2024-11-09T02:40:33.937Z"
   },
   {
    "duration": 9,
    "start_time": "2024-11-09T02:40:35.918Z"
   },
   {
    "duration": 17,
    "start_time": "2024-11-09T02:40:44.013Z"
   },
   {
    "duration": 4,
    "start_time": "2024-11-09T02:46:56.478Z"
   },
   {
    "duration": 36,
    "start_time": "2024-11-09T02:47:07.306Z"
   },
   {
    "duration": 11,
    "start_time": "2024-11-09T02:47:20.992Z"
   },
   {
    "duration": 21,
    "start_time": "2024-11-09T02:47:40.783Z"
   },
   {
    "duration": 12,
    "start_time": "2024-11-09T02:47:55.962Z"
   },
   {
    "duration": 8,
    "start_time": "2024-11-09T02:58:52.175Z"
   },
   {
    "duration": 23,
    "start_time": "2024-11-09T03:00:26.968Z"
   },
   {
    "duration": 3,
    "start_time": "2024-11-09T03:00:28.873Z"
   },
   {
    "duration": 18,
    "start_time": "2024-11-09T03:01:08.007Z"
   },
   {
    "duration": 26,
    "start_time": "2024-11-09T03:01:50.759Z"
   },
   {
    "duration": 6,
    "start_time": "2024-11-09T03:02:21.905Z"
   },
   {
    "duration": 6,
    "start_time": "2024-11-09T03:02:26.261Z"
   },
   {
    "duration": 8,
    "start_time": "2024-11-09T03:03:23.797Z"
   },
   {
    "duration": 8,
    "start_time": "2024-11-09T03:03:29.885Z"
   },
   {
    "duration": 12,
    "start_time": "2024-11-09T03:04:00.499Z"
   },
   {
    "duration": 131,
    "start_time": "2024-11-09T03:12:59.505Z"
   },
   {
    "duration": 825,
    "start_time": "2024-11-09T03:14:33.997Z"
   },
   {
    "duration": 26,
    "start_time": "2024-11-09T03:14:34.825Z"
   },
   {
    "duration": 7,
    "start_time": "2024-11-09T03:14:34.852Z"
   },
   {
    "duration": 9,
    "start_time": "2024-11-09T03:14:34.869Z"
   },
   {
    "duration": 19,
    "start_time": "2024-11-09T03:14:34.881Z"
   },
   {
    "duration": 890,
    "start_time": "2024-11-09T03:14:34.901Z"
   },
   {
    "duration": 0,
    "start_time": "2024-11-09T03:14:35.793Z"
   },
   {
    "duration": 0,
    "start_time": "2024-11-09T03:14:35.794Z"
   },
   {
    "duration": 0,
    "start_time": "2024-11-09T03:14:35.795Z"
   },
   {
    "duration": 0,
    "start_time": "2024-11-09T03:14:35.796Z"
   },
   {
    "duration": 0,
    "start_time": "2024-11-09T03:14:35.797Z"
   },
   {
    "duration": 0,
    "start_time": "2024-11-09T03:14:35.798Z"
   },
   {
    "duration": 0,
    "start_time": "2024-11-09T03:14:35.799Z"
   },
   {
    "duration": 0,
    "start_time": "2024-11-09T03:14:35.800Z"
   },
   {
    "duration": 0,
    "start_time": "2024-11-09T03:14:35.801Z"
   },
   {
    "duration": 0,
    "start_time": "2024-11-09T03:14:35.802Z"
   },
   {
    "duration": 0,
    "start_time": "2024-11-09T03:14:35.803Z"
   },
   {
    "duration": 0,
    "start_time": "2024-11-09T03:14:35.804Z"
   },
   {
    "duration": 0,
    "start_time": "2024-11-09T03:14:35.805Z"
   },
   {
    "duration": 0,
    "start_time": "2024-11-09T03:14:35.806Z"
   },
   {
    "duration": 33,
    "start_time": "2024-11-09T03:15:38.103Z"
   },
   {
    "duration": 6,
    "start_time": "2024-11-09T03:15:45.803Z"
   },
   {
    "duration": 8,
    "start_time": "2024-11-09T03:15:47.379Z"
   },
   {
    "duration": 13,
    "start_time": "2024-11-09T03:15:57.872Z"
   },
   {
    "duration": 145,
    "start_time": "2024-11-09T03:16:02.219Z"
   },
   {
    "duration": 14093,
    "start_time": "2024-11-09T03:16:07.102Z"
   },
   {
    "duration": 13797,
    "start_time": "2024-11-09T03:17:08.277Z"
   },
   {
    "duration": 13679,
    "start_time": "2024-11-09T03:17:56.183Z"
   },
   {
    "duration": 149,
    "start_time": "2024-11-09T03:19:05.357Z"
   },
   {
    "duration": 404,
    "start_time": "2024-11-09T03:19:19.166Z"
   },
   {
    "duration": 139,
    "start_time": "2024-11-09T03:19:34.783Z"
   },
   {
    "duration": 175,
    "start_time": "2024-11-09T03:19:51.925Z"
   },
   {
    "duration": 269,
    "start_time": "2024-11-09T03:22:53.705Z"
   },
   {
    "duration": 309,
    "start_time": "2024-11-09T03:23:05.719Z"
   },
   {
    "duration": 393,
    "start_time": "2024-11-09T03:24:19.235Z"
   },
   {
    "duration": 262,
    "start_time": "2024-11-09T03:24:31.807Z"
   },
   {
    "duration": 9,
    "start_time": "2024-11-09T03:33:32.947Z"
   },
   {
    "duration": 9,
    "start_time": "2024-11-09T03:33:48.483Z"
   },
   {
    "duration": 9,
    "start_time": "2024-11-09T03:40:43.516Z"
   },
   {
    "duration": 7,
    "start_time": "2024-11-09T03:41:28.997Z"
   },
   {
    "duration": 835,
    "start_time": "2024-11-09T03:41:42.495Z"
   },
   {
    "duration": 25,
    "start_time": "2024-11-09T03:41:43.332Z"
   },
   {
    "duration": 12,
    "start_time": "2024-11-09T03:41:43.358Z"
   },
   {
    "duration": 3,
    "start_time": "2024-11-09T03:41:43.371Z"
   },
   {
    "duration": 0,
    "start_time": "2024-11-09T03:41:43.377Z"
   },
   {
    "duration": 0,
    "start_time": "2024-11-09T03:41:43.378Z"
   },
   {
    "duration": 0,
    "start_time": "2024-11-09T03:41:43.379Z"
   },
   {
    "duration": 0,
    "start_time": "2024-11-09T03:41:43.380Z"
   },
   {
    "duration": 0,
    "start_time": "2024-11-09T03:41:43.381Z"
   },
   {
    "duration": 0,
    "start_time": "2024-11-09T03:41:43.382Z"
   },
   {
    "duration": 0,
    "start_time": "2024-11-09T03:41:43.383Z"
   },
   {
    "duration": 0,
    "start_time": "2024-11-09T03:41:43.384Z"
   },
   {
    "duration": 0,
    "start_time": "2024-11-09T03:41:43.386Z"
   },
   {
    "duration": 0,
    "start_time": "2024-11-09T03:41:43.388Z"
   },
   {
    "duration": 0,
    "start_time": "2024-11-09T03:41:43.389Z"
   },
   {
    "duration": 0,
    "start_time": "2024-11-09T03:41:43.390Z"
   },
   {
    "duration": 0,
    "start_time": "2024-11-09T03:41:43.391Z"
   },
   {
    "duration": 0,
    "start_time": "2024-11-09T03:41:43.393Z"
   },
   {
    "duration": 0,
    "start_time": "2024-11-09T03:41:43.394Z"
   },
   {
    "duration": 0,
    "start_time": "2024-11-09T03:41:43.396Z"
   },
   {
    "duration": 3,
    "start_time": "2024-11-09T03:42:18.414Z"
   },
   {
    "duration": 10,
    "start_time": "2024-11-09T03:43:29.391Z"
   },
   {
    "duration": 7,
    "start_time": "2024-11-09T03:46:18.945Z"
   },
   {
    "duration": 9,
    "start_time": "2024-11-09T03:46:25.684Z"
   },
   {
    "duration": 12,
    "start_time": "2024-11-09T03:46:26.139Z"
   },
   {
    "duration": 23,
    "start_time": "2024-11-09T03:46:31.757Z"
   },
   {
    "duration": 10,
    "start_time": "2024-11-09T03:46:41.594Z"
   },
   {
    "duration": 15,
    "start_time": "2024-11-09T03:47:01.958Z"
   },
   {
    "duration": 3,
    "start_time": "2024-11-09T03:48:45.405Z"
   },
   {
    "duration": 4,
    "start_time": "2024-11-09T03:49:01.452Z"
   },
   {
    "duration": 4,
    "start_time": "2024-11-09T03:49:37.055Z"
   },
   {
    "duration": 3,
    "start_time": "2024-11-09T03:49:52.363Z"
   },
   {
    "duration": 4,
    "start_time": "2024-11-09T03:50:06.552Z"
   },
   {
    "duration": 4,
    "start_time": "2024-11-09T03:50:16.667Z"
   },
   {
    "duration": 6,
    "start_time": "2024-11-09T03:50:30.074Z"
   },
   {
    "duration": 10,
    "start_time": "2024-11-09T03:51:36.309Z"
   },
   {
    "duration": 4,
    "start_time": "2024-11-09T03:52:55.290Z"
   },
   {
    "duration": 9,
    "start_time": "2024-11-09T03:52:57.597Z"
   },
   {
    "duration": 6,
    "start_time": "2024-11-09T03:52:59.392Z"
   },
   {
    "duration": 22,
    "start_time": "2024-11-09T03:53:00.314Z"
   },
   {
    "duration": 4,
    "start_time": "2024-11-09T03:53:01.127Z"
   },
   {
    "duration": 7,
    "start_time": "2024-11-09T03:53:01.890Z"
   },
   {
    "duration": 12,
    "start_time": "2024-11-09T03:53:04.412Z"
   },
   {
    "duration": 9,
    "start_time": "2024-11-09T04:02:57.381Z"
   },
   {
    "duration": 5,
    "start_time": "2024-11-09T04:04:33.200Z"
   },
   {
    "duration": 23,
    "start_time": "2024-11-09T04:04:34.112Z"
   },
   {
    "duration": 5,
    "start_time": "2024-11-09T04:04:39.136Z"
   },
   {
    "duration": 7,
    "start_time": "2024-11-09T04:04:40.286Z"
   },
   {
    "duration": 12,
    "start_time": "2024-11-09T04:04:45.425Z"
   },
   {
    "duration": 15,
    "start_time": "2024-11-09T04:06:02.020Z"
   },
   {
    "duration": 11,
    "start_time": "2024-11-09T04:06:31.777Z"
   },
   {
    "duration": 144,
    "start_time": "2024-11-09T04:06:34.451Z"
   },
   {
    "duration": 13954,
    "start_time": "2024-11-09T04:06:40.228Z"
   },
   {
    "duration": 153,
    "start_time": "2024-11-09T04:06:54.185Z"
   },
   {
    "duration": 404,
    "start_time": "2024-11-09T04:06:54.340Z"
   },
   {
    "duration": 139,
    "start_time": "2024-11-09T04:07:02.540Z"
   },
   {
    "duration": 187,
    "start_time": "2024-11-09T04:07:06.486Z"
   },
   {
    "duration": 284,
    "start_time": "2024-11-09T04:07:13.686Z"
   },
   {
    "duration": 328,
    "start_time": "2024-11-09T04:07:29.149Z"
   },
   {
    "duration": 309,
    "start_time": "2024-11-09T04:07:33.997Z"
   },
   {
    "duration": 8,
    "start_time": "2024-11-09T04:07:39.507Z"
   },
   {
    "duration": 9,
    "start_time": "2024-11-09T04:07:46.170Z"
   },
   {
    "duration": 3,
    "start_time": "2024-11-09T04:37:58.120Z"
   },
   {
    "duration": 22,
    "start_time": "2024-11-09T04:38:00.466Z"
   },
   {
    "duration": 4,
    "start_time": "2024-11-09T04:38:49.508Z"
   },
   {
    "duration": 13,
    "start_time": "2024-11-09T04:39:09.420Z"
   },
   {
    "duration": 3,
    "start_time": "2024-11-09T04:40:04.950Z"
   },
   {
    "duration": 4,
    "start_time": "2024-11-09T04:40:53.878Z"
   },
   {
    "duration": 6,
    "start_time": "2024-11-09T04:41:13.861Z"
   },
   {
    "duration": 9,
    "start_time": "2024-11-09T04:41:32.993Z"
   },
   {
    "duration": 15,
    "start_time": "2024-11-09T04:41:57.162Z"
   },
   {
    "duration": 10,
    "start_time": "2024-11-09T04:45:25.325Z"
   },
   {
    "duration": 39,
    "start_time": "2024-11-09T04:45:57.068Z"
   },
   {
    "duration": 4,
    "start_time": "2024-11-09T04:46:35.249Z"
   },
   {
    "duration": 9,
    "start_time": "2024-11-09T04:46:50.827Z"
   },
   {
    "duration": 133,
    "start_time": "2024-11-09T04:48:06.919Z"
   },
   {
    "duration": 13732,
    "start_time": "2024-11-09T04:48:26.021Z"
   },
   {
    "duration": 609,
    "start_time": "2024-11-09T04:48:49.366Z"
   },
   {
    "duration": 13751,
    "start_time": "2024-11-09T04:49:35.690Z"
   },
   {
    "duration": 141,
    "start_time": "2024-11-09T04:50:18.614Z"
   },
   {
    "duration": 407,
    "start_time": "2024-11-09T04:50:33.543Z"
   },
   {
    "duration": 223,
    "start_time": "2024-11-09T04:50:59.036Z"
   },
   {
    "duration": 171,
    "start_time": "2024-11-09T04:51:11.745Z"
   },
   {
    "duration": 16,
    "start_time": "2024-11-09T04:51:40.015Z"
   },
   {
    "duration": 8,
    "start_time": "2024-11-09T04:53:38.026Z"
   },
   {
    "duration": 8,
    "start_time": "2024-11-09T04:53:44.276Z"
   },
   {
    "duration": 267,
    "start_time": "2024-11-09T04:54:42.980Z"
   },
   {
    "duration": 270,
    "start_time": "2024-11-09T04:54:55.917Z"
   },
   {
    "duration": 269,
    "start_time": "2024-11-09T04:55:09.283Z"
   },
   {
    "duration": 307,
    "start_time": "2024-11-09T04:55:33.654Z"
   },
   {
    "duration": 381,
    "start_time": "2024-11-09T04:55:53.992Z"
   },
   {
    "duration": 133,
    "start_time": "2024-11-09T05:02:50.930Z"
   },
   {
    "duration": 228,
    "start_time": "2024-11-09T05:03:35.499Z"
   },
   {
    "duration": 134,
    "start_time": "2024-11-09T05:03:45.734Z"
   },
   {
    "duration": 13850,
    "start_time": "2024-11-09T05:04:04.783Z"
   },
   {
    "duration": 138,
    "start_time": "2024-11-09T05:05:01.949Z"
   },
   {
    "duration": 467,
    "start_time": "2024-11-09T05:05:24.758Z"
   },
   {
    "duration": 139,
    "start_time": "2024-11-09T05:05:29.605Z"
   },
   {
    "duration": 195,
    "start_time": "2024-11-09T05:05:46.465Z"
   },
   {
    "duration": 277,
    "start_time": "2024-11-09T05:06:07.823Z"
   },
   {
    "duration": 273,
    "start_time": "2024-11-09T05:06:25.313Z"
   },
   {
    "duration": 316,
    "start_time": "2024-11-09T05:06:41.767Z"
   },
   {
    "duration": 8,
    "start_time": "2024-11-09T05:06:54.642Z"
   },
   {
    "duration": 8,
    "start_time": "2024-11-09T05:06:57.329Z"
   },
   {
    "duration": 163,
    "start_time": "2024-11-09T22:17:12.673Z"
   },
   {
    "duration": 2528,
    "start_time": "2024-11-09T22:17:30.885Z"
   },
   {
    "duration": 40,
    "start_time": "2024-11-09T22:17:33.415Z"
   },
   {
    "duration": 4,
    "start_time": "2024-11-09T22:17:33.456Z"
   },
   {
    "duration": 13,
    "start_time": "2024-11-09T22:17:33.462Z"
   },
   {
    "duration": 49,
    "start_time": "2024-11-09T22:17:33.477Z"
   },
   {
    "duration": 10,
    "start_time": "2024-11-09T22:17:33.528Z"
   },
   {
    "duration": 159,
    "start_time": "2024-11-09T22:17:33.539Z"
   },
   {
    "duration": 13985,
    "start_time": "2024-11-09T22:17:33.700Z"
   },
   {
    "duration": 144,
    "start_time": "2024-11-09T22:17:47.687Z"
   },
   {
    "duration": 420,
    "start_time": "2024-11-09T22:17:47.834Z"
   },
   {
    "duration": 155,
    "start_time": "2024-11-09T22:17:48.256Z"
   },
   {
    "duration": 180,
    "start_time": "2024-11-09T22:17:48.413Z"
   },
   {
    "duration": 281,
    "start_time": "2024-11-09T22:17:48.595Z"
   },
   {
    "duration": 346,
    "start_time": "2024-11-09T22:17:48.879Z"
   },
   {
    "duration": 318,
    "start_time": "2024-11-09T22:17:49.227Z"
   },
   {
    "duration": 9,
    "start_time": "2024-11-09T22:17:49.546Z"
   },
   {
    "duration": 6,
    "start_time": "2024-11-09T22:17:49.557Z"
   },
   {
    "duration": 52,
    "start_time": "2024-11-09T22:19:29.115Z"
   },
   {
    "duration": 3336,
    "start_time": "2024-11-09T22:21:43.176Z"
   },
   {
    "duration": 3385,
    "start_time": "2024-11-09T22:37:30.052Z"
   },
   {
    "duration": 217,
    "start_time": "2024-11-09T22:41:51.881Z"
   },
   {
    "duration": 190,
    "start_time": "2024-11-09T22:45:27.937Z"
   },
   {
    "duration": 166,
    "start_time": "2024-11-09T22:45:53.088Z"
   },
   {
    "duration": 230,
    "start_time": "2024-11-09T22:46:23.439Z"
   },
   {
    "duration": 169,
    "start_time": "2024-11-09T22:46:44.036Z"
   },
   {
    "duration": 6,
    "start_time": "2024-11-09T22:52:14.609Z"
   },
   {
    "duration": 8,
    "start_time": "2024-11-09T22:52:19.617Z"
   },
   {
    "duration": 5,
    "start_time": "2024-11-09T23:00:25.552Z"
   },
   {
    "duration": 6,
    "start_time": "2024-11-09T23:00:44.447Z"
   },
   {
    "duration": 5,
    "start_time": "2024-11-09T23:00:51.591Z"
   },
   {
    "duration": 7,
    "start_time": "2024-11-09T23:00:54.059Z"
   },
   {
    "duration": 4,
    "start_time": "2024-11-09T23:02:24.919Z"
   },
   {
    "duration": 7,
    "start_time": "2024-11-09T23:02:30.735Z"
   },
   {
    "duration": 801,
    "start_time": "2024-11-09T23:02:43.130Z"
   },
   {
    "duration": 25,
    "start_time": "2024-11-09T23:02:43.934Z"
   },
   {
    "duration": 4,
    "start_time": "2024-11-09T23:02:43.961Z"
   },
   {
    "duration": 14,
    "start_time": "2024-11-09T23:02:43.967Z"
   },
   {
    "duration": 4318,
    "start_time": "2024-11-09T23:02:43.983Z"
   },
   {
    "duration": 0,
    "start_time": "2024-11-09T23:02:48.304Z"
   },
   {
    "duration": 0,
    "start_time": "2024-11-09T23:02:48.305Z"
   },
   {
    "duration": 0,
    "start_time": "2024-11-09T23:02:48.307Z"
   },
   {
    "duration": 0,
    "start_time": "2024-11-09T23:02:48.308Z"
   },
   {
    "duration": 0,
    "start_time": "2024-11-09T23:02:48.309Z"
   },
   {
    "duration": 0,
    "start_time": "2024-11-09T23:02:48.311Z"
   },
   {
    "duration": 0,
    "start_time": "2024-11-09T23:02:48.324Z"
   },
   {
    "duration": 0,
    "start_time": "2024-11-09T23:02:48.325Z"
   },
   {
    "duration": 0,
    "start_time": "2024-11-09T23:02:48.327Z"
   },
   {
    "duration": 0,
    "start_time": "2024-11-09T23:02:48.332Z"
   },
   {
    "duration": 0,
    "start_time": "2024-11-09T23:02:48.333Z"
   },
   {
    "duration": 0,
    "start_time": "2024-11-09T23:02:48.334Z"
   },
   {
    "duration": 865,
    "start_time": "2024-11-09T23:03:19.640Z"
   },
   {
    "duration": 24,
    "start_time": "2024-11-09T23:03:20.508Z"
   },
   {
    "duration": 3,
    "start_time": "2024-11-09T23:03:20.534Z"
   },
   {
    "duration": 16,
    "start_time": "2024-11-09T23:03:20.539Z"
   },
   {
    "duration": 4433,
    "start_time": "2024-11-09T23:03:20.557Z"
   },
   {
    "duration": 0,
    "start_time": "2024-11-09T23:03:24.993Z"
   },
   {
    "duration": 0,
    "start_time": "2024-11-09T23:03:24.994Z"
   },
   {
    "duration": 1,
    "start_time": "2024-11-09T23:03:24.995Z"
   },
   {
    "duration": 0,
    "start_time": "2024-11-09T23:03:24.997Z"
   },
   {
    "duration": 0,
    "start_time": "2024-11-09T23:03:24.998Z"
   },
   {
    "duration": 0,
    "start_time": "2024-11-09T23:03:25.003Z"
   },
   {
    "duration": 0,
    "start_time": "2024-11-09T23:03:25.005Z"
   },
   {
    "duration": 0,
    "start_time": "2024-11-09T23:03:25.007Z"
   },
   {
    "duration": 1,
    "start_time": "2024-11-09T23:03:25.024Z"
   },
   {
    "duration": 0,
    "start_time": "2024-11-09T23:03:25.026Z"
   },
   {
    "duration": 0,
    "start_time": "2024-11-09T23:03:25.027Z"
   },
   {
    "duration": 0,
    "start_time": "2024-11-09T23:03:25.028Z"
   },
   {
    "duration": 12,
    "start_time": "2024-11-09T23:03:40.685Z"
   },
   {
    "duration": 6,
    "start_time": "2024-11-09T23:03:49.861Z"
   },
   {
    "duration": 10,
    "start_time": "2024-11-09T23:05:53.776Z"
   },
   {
    "duration": 11,
    "start_time": "2024-11-09T23:05:58.203Z"
   },
   {
    "duration": 790,
    "start_time": "2024-11-09T23:22:56.520Z"
   },
   {
    "duration": 25,
    "start_time": "2024-11-09T23:22:57.312Z"
   },
   {
    "duration": 3,
    "start_time": "2024-11-09T23:22:57.338Z"
   },
   {
    "duration": 13,
    "start_time": "2024-11-09T23:22:57.343Z"
   },
   {
    "duration": 4335,
    "start_time": "2024-11-09T23:22:57.358Z"
   },
   {
    "duration": 0,
    "start_time": "2024-11-09T23:23:01.695Z"
   },
   {
    "duration": 0,
    "start_time": "2024-11-09T23:23:01.696Z"
   },
   {
    "duration": 0,
    "start_time": "2024-11-09T23:23:01.698Z"
   },
   {
    "duration": 1,
    "start_time": "2024-11-09T23:23:01.699Z"
   },
   {
    "duration": 0,
    "start_time": "2024-11-09T23:23:01.701Z"
   },
   {
    "duration": 0,
    "start_time": "2024-11-09T23:23:01.703Z"
   },
   {
    "duration": 0,
    "start_time": "2024-11-09T23:23:01.704Z"
   },
   {
    "duration": 0,
    "start_time": "2024-11-09T23:23:01.705Z"
   },
   {
    "duration": 0,
    "start_time": "2024-11-09T23:23:01.706Z"
   },
   {
    "duration": 0,
    "start_time": "2024-11-09T23:23:01.724Z"
   },
   {
    "duration": 0,
    "start_time": "2024-11-09T23:23:01.725Z"
   },
   {
    "duration": 0,
    "start_time": "2024-11-09T23:23:01.727Z"
   }
  ],
  "kernelspec": {
   "display_name": "Python [conda env:base] *",
   "language": "python",
   "name": "conda-base-py"
  },
  "language_info": {
   "codemirror_mode": {
    "name": "ipython",
    "version": 3
   },
   "file_extension": ".py",
   "mimetype": "text/x-python",
   "name": "python",
   "nbconvert_exporter": "python",
   "pygments_lexer": "ipython3",
   "version": "3.12.7"
  },
  "toc": {
   "base_numbering": 1,
   "nav_menu": {},
   "number_sections": true,
   "sideBar": true,
   "skip_h1_title": true,
   "title_cell": "Table of Contents",
   "title_sidebar": "Contents",
   "toc_cell": false,
   "toc_position": {},
   "toc_section_display": true,
   "toc_window_display": true
  }
 },
 "nbformat": 4,
 "nbformat_minor": 4
}
