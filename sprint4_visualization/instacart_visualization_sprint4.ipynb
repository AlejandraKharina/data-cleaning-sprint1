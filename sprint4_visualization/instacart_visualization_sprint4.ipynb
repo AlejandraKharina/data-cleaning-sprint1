{
 "cells": [
  {
   "cell_type": "markdown",
   "id": "mhIvmmkW414q",
   "metadata": {
    "id": "mhIvmmkW414q"
   },
   "source": [
    "# Introducción\n",
    "\n",
    "Instacart es una plataforma de entregas de comestibles donde la clientela puede registrar un pedido y hacer que se lo entreguen, similar a Uber Eats y Door Dash.\n",
    "El conjunto de datos que te hemos proporcionado tiene modificaciones del original. Redujimos el tamaño del conjunto para que tus cálculos se hicieran más rápido e introdujimos valores ausentes y duplicados. Tuvimos cuidado de conservar las distribuciones de los datos originales cuando hicimos los cambios.\n",
    "\n",
    "Debes completar tres pasos. Para cada uno de ellos, escribe una breve introducción que refleje con claridad cómo pretendes resolver cada paso, y escribe párrafos explicatorios que justifiquen tus decisiones al tiempo que avanzas en tu solución.  También escribe una conclusión que resuma tus hallazgos y elecciones.\n"
   ]
  },
  {
   "cell_type": "markdown",
   "id": "3MbyzpOQZ5Or",
   "metadata": {
    "id": "3MbyzpOQZ5Or"
   },
   "source": [
    "## Diccionario de datos\n",
    "\n",
    "Hay cinco tablas en el conjunto de datos, y tendrás que usarlas todas para hacer el preprocesamiento de datos y el análisis exploratorio de datos. A continuación se muestra un diccionario de datos que enumera las columnas de cada tabla y describe los datos que contienen.\n",
    "\n",
    "- `instacart_orders.csv`: cada fila corresponde a un pedido en la aplicación Instacart.\n",
    "    - `'order_id'`: número de ID que identifica de manera única cada pedido.\n",
    "    - `'user_id'`: número de ID que identifica de manera única la cuenta de cada cliente.\n",
    "    - `'order_number'`: el número de veces que este cliente ha hecho un pedido.\n",
    "    - `'order_dow'`: día de la semana en que se hizo el pedido (0 si es domingo).\n",
    "    - `'order_hour_of_day'`: hora del día en que se hizo el pedido.\n",
    "    - `'days_since_prior_order'`: número de días transcurridos desde que este cliente hizo su pedido anterior.\n",
    "- `products.csv`: cada fila corresponde a un producto único que pueden comprar los clientes.\n",
    "    - `'product_id'`: número ID que identifica de manera única cada producto.\n",
    "    - `'product_name'`: nombre del producto.\n",
    "    - `'aisle_id'`: número ID que identifica de manera única cada categoría de pasillo de víveres.\n",
    "    - `'department_id'`: número ID que identifica de manera única cada departamento de víveres.\n",
    "- `order_products.csv`: cada fila corresponde a un artículo pedido en un pedido.\n",
    "    - `'order_id'`: número de ID que identifica de manera única cada pedido.\n",
    "    - `'product_id'`: número ID que identifica de manera única cada producto.\n",
    "    - `'add_to_cart_order'`: el orden secuencial en el que se añadió cada artículo en el carrito.\n",
    "    - `'reordered'`: 0 si el cliente nunca ha pedido este producto antes, 1 si lo ha pedido.\n",
    "- `aisles.csv`\n",
    "    - `'aisle_id'`: número ID que identifica de manera única cada categoría de pasillo de víveres.\n",
    "    - `'aisle'`: nombre del pasillo.\n",
    "- `departments.csv`\n",
    "    - `'department_id'`: número ID que identifica de manera única cada departamento de víveres.\n",
    "    - `'department'`: nombre del departamento."
   ]
  },
  {
   "cell_type": "markdown",
   "id": "n3Ha_cNSZ8lK",
   "metadata": {
    "id": "n3Ha_cNSZ8lK"
   },
   "source": [
    "# Paso 1. Descripción de los datos\n",
    "\n",
    "Lee los archivos de datos (`/datasets/instacart_orders.csv`, `/datasets/products.csv`, `/datasets/aisles.csv`, `/datasets/departments.csv` y `/datasets/order_products.csv`) con `pd.read_csv()` usando los parámetros adecuados para leer los datos correctamente. Verifica la información para cada DataFrame creado.\n"
   ]
  },
  {
   "cell_type": "markdown",
   "id": "OmlQPLlyaAfR",
   "metadata": {
    "id": "OmlQPLlyaAfR"
   },
   "source": [
    "## Plan de solución\n",
    "\n",
    "Escribe aquí tu plan de solución para el Paso 1. Descripción de los datos."
   ]
  },
  {
   "cell_type": "code",
   "execution_count": 1,
   "id": "fbf1adab",
   "metadata": {
    "id": "fbf1adab"
   },
   "outputs": [],
   "source": [
    "# importar librerías\n",
    "import pandas as pd\n",
    "import numpy as np\n",
    "import matplotlib.pyplot as plt\n",
    "import seaborn as sns"
   ]
  },
  {
   "cell_type": "code",
   "execution_count": 2,
   "id": "ad36396d",
   "metadata": {
    "id": "ad36396d"
   },
   "outputs": [],
   "source": [
    "# leer conjuntos de datos en los DataFrames\n",
    "instacart_order = pd.read_csv('/datasets/instacart_orders.csv', sep=';')\n",
    "products = pd.read_csv('/datasets/products.csv', sep=';')\n",
    "aisles = pd.read_csv('/datasets/aisles.csv', sep=';')\n",
    "departments = pd.read_csv('/datasets/departments.csv', sep=';')\n",
    "order_products = pd.read_csv('/datasets/order_products.csv', sep=';')"
   ]
  },
  {
   "cell_type": "code",
   "execution_count": 3,
   "id": "ad6a1efa",
   "metadata": {
    "id": "ad6a1efa"
   },
   "outputs": [
    {
     "name": "stdout",
     "output_type": "stream",
     "text": [
      "<class 'pandas.core.frame.DataFrame'>\n",
      "RangeIndex: 478967 entries, 0 to 478966\n",
      "Data columns (total 6 columns):\n",
      " #   Column                  Non-Null Count   Dtype  \n",
      "---  ------                  --------------   -----  \n",
      " 0   order_id                478967 non-null  int64  \n",
      " 1   user_id                 478967 non-null  int64  \n",
      " 2   order_number            478967 non-null  int64  \n",
      " 3   order_dow               478967 non-null  int64  \n",
      " 4   order_hour_of_day       478967 non-null  int64  \n",
      " 5   days_since_prior_order  450148 non-null  float64\n",
      "dtypes: float64(1), int64(5)\n",
      "memory usage: 21.9 MB\n",
      "None\n"
     ]
    }
   ],
   "source": [
    "# mostrar información del DataFrame\n",
    "print(instacart_order.info(show_counts=True))"
   ]
  },
  {
   "cell_type": "code",
   "execution_count": 4,
   "id": "5130e05e",
   "metadata": {
    "id": "5130e05e"
   },
   "outputs": [
    {
     "name": "stdout",
     "output_type": "stream",
     "text": [
      "<class 'pandas.core.frame.DataFrame'>\n",
      "RangeIndex: 49694 entries, 0 to 49693\n",
      "Data columns (total 4 columns):\n",
      " #   Column         Non-Null Count  Dtype \n",
      "---  ------         --------------  ----- \n",
      " 0   product_id     49694 non-null  int64 \n",
      " 1   product_name   48436 non-null  object\n",
      " 2   aisle_id       49694 non-null  int64 \n",
      " 3   department_id  49694 non-null  int64 \n",
      "dtypes: int64(3), object(1)\n",
      "memory usage: 1.5+ MB\n"
     ]
    }
   ],
   "source": [
    "# mostrar información del DataFrame\n",
    "products.info(show_counts=True)"
   ]
  },
  {
   "cell_type": "code",
   "execution_count": 5,
   "id": "d8370c05",
   "metadata": {
    "id": "d8370c05"
   },
   "outputs": [
    {
     "name": "stdout",
     "output_type": "stream",
     "text": [
      "<class 'pandas.core.frame.DataFrame'>\n",
      "RangeIndex: 4545007 entries, 0 to 4545006\n",
      "Data columns (total 4 columns):\n",
      " #   Column             Non-Null Count    Dtype  \n",
      "---  ------             --------------    -----  \n",
      " 0   order_id           4545007 non-null  int64  \n",
      " 1   product_id         4545007 non-null  int64  \n",
      " 2   add_to_cart_order  4544171 non-null  float64\n",
      " 3   reordered          4545007 non-null  int64  \n",
      "dtypes: float64(1), int64(3)\n",
      "memory usage: 138.7 MB\n"
     ]
    }
   ],
   "source": [
    "# mostrar información del DataFrame\n",
    "order_products.info(show_counts=True)"
   ]
  },
  {
   "cell_type": "code",
   "execution_count": 6,
   "id": "59e2090f",
   "metadata": {
    "id": "59e2090f"
   },
   "outputs": [
    {
     "name": "stdout",
     "output_type": "stream",
     "text": [
      "<class 'pandas.core.frame.DataFrame'>\n",
      "RangeIndex: 134 entries, 0 to 133\n",
      "Data columns (total 2 columns):\n",
      " #   Column    Non-Null Count  Dtype \n",
      "---  ------    --------------  ----- \n",
      " 0   aisle_id  134 non-null    int64 \n",
      " 1   aisle     134 non-null    object\n",
      "dtypes: int64(1), object(1)\n",
      "memory usage: 2.2+ KB\n"
     ]
    }
   ],
   "source": [
    "# mostrar información del DataFrame\n",
    "aisles.info(show_counts=True)"
   ]
  },
  {
   "cell_type": "code",
   "execution_count": 7,
   "id": "6fc81694",
   "metadata": {
    "id": "6fc81694"
   },
   "outputs": [
    {
     "name": "stdout",
     "output_type": "stream",
     "text": [
      "<class 'pandas.core.frame.DataFrame'>\n",
      "RangeIndex: 21 entries, 0 to 20\n",
      "Data columns (total 2 columns):\n",
      " #   Column         Non-Null Count  Dtype \n",
      "---  ------         --------------  ----- \n",
      " 0   department_id  21 non-null     int64 \n",
      " 1   department     21 non-null     object\n",
      "dtypes: int64(1), object(1)\n",
      "memory usage: 464.0+ bytes\n"
     ]
    }
   ],
   "source": [
    "# mostrar información del DataFrame\n",
    "departments.info(show_counts=True)"
   ]
  },
  {
   "cell_type": "markdown",
   "id": "t75BD19oaR5f",
   "metadata": {
    "id": "t75BD19oaR5f"
   },
   "source": [
    "## Conclusiones\n",
    "\n",
    "Escribe aquí tus conclusiones intermedias sobre el Paso 1. Descripción de los datos.\n",
    "\n",
    "  **Tras realizar un análisis inicial de los conjuntos de datos, se han obtenido varias observaciones y conclusiones importantes que pueden guiar los siguientes pasos en el análisis de los datos de Instacart:**\n",
    "\n",
    "**Tamaño de los DataFrames:\n",
    "\n",
    "    *instacart_order: Contiene 478,967 registros y 6 columnas. Este dataframe es fundamental para entender la frecuencia y los patrones de compra de los usuarios.\n",
    "\n",
    "    *products: Tiene 49,694 entradas y 4 columnas, lo que proporciona información clave sobre los productos disponibles en la tienda.\n",
    "\n",
    "    *order_products: Es el dataframe más grande, con 4,545,007 registros y 4 columnas. Es crucial para analizar qué productos son comprados y en qué orden.\n",
    "\n",
    "    *aisles: Contiene 134 entradas, mostrando la categorización de los productos en pasillos, lo cual es útil para la segmentación de productos.\n",
    "\n",
    "    *departments: Tiene solo 21 entradas, proporcionando una vista general de los departamentos en la tienda.\n",
    "\n",
    "**Valores Nulos:\n",
    "\n",
    "    *En instacart_order, la columna days_since_prior_order tiene 28,819 valores nulos, lo que podría ser relevante para el análisis del comportamiento del cliente, ya que esta columna indica el tiempo desde el último pedido.\n",
    "\n",
    "    *En products, product_name tiene 1,258 valores nulos. Es esencial manejar estos nulos, ya que podrían afectar los análisis relacionados con los productos.\n",
    "\n",
    "    *En order_products, la columna add_to_cart_order presenta 83,836 valores nulos, lo que sugiere que hay productos que no tienen un orden de adición al carrito registrado. Esto podría afectar el análisis de la secuencia de compra.\n",
    "\n",
    "**Tipos de Datos:\n",
    "\n",
    "    *Las columnas de identificación, como order_id, user_id, product_id, y aisle_id, son de tipo entero, lo que es adecuado para su función.\n",
    "\n",
    "    *Las columnas que representan cantidades, como add_to_cart_order y days_since_prior_order, son de tipo float64, lo que permite manejar valores decimales.\n",
    "\n",
    "    *Los datos categóricos como product_name, aisle, y department son de tipo objeto, que es apropiado para texto. Es posible que se necesiten transformaciones o codificaciones adicionales para ciertos análisis.\n",
    "\n",
    "**Memoria Utilizada:\n",
    "\n",
    "    *Los dataframes tienen un uso de memoria que varía desde 464 bytes (departments) hasta 138.7 MB (order_products). Esto indica que, aunque algunos conjuntos de datos son pequeños, otros son significativamente más grandes y pueden requerir optimización para el análisis.\n",
    "\n",
    "   *Esta descripción y análisis inicial del conjunto de datos sienta las bases para un análisis más profundo y detallado en las siguientes etapas del proyecto."
   ]
  },
  {
   "cell_type": "markdown",
   "id": "8RJHqxVmaVsF",
   "metadata": {
    "id": "8RJHqxVmaVsF"
   },
   "source": [
    "# Paso 2. Preprocesamiento de los datos\n",
    "\n",
    "Preprocesa los datos de la siguiente manera:\n",
    "\n",
    "- Verifica y corrige los tipos de datos (por ejemplo, asegúrate de que las columnas de ID sean números enteros).\n",
    "- Identifica y completa los valores ausentes.\n",
    "- Identifica y elimina los valores duplicados.\n",
    "\n",
    "Asegúrate de explicar qué tipos de valores ausentes y duplicados encontraste, cómo los completaste o eliminaste y por qué usaste esos métodos. ¿Por qué crees que estos valores ausentes y duplicados pueden haber estado presentes en el conjunto de datos?"
   ]
  },
  {
   "cell_type": "markdown",
   "id": "p6poABZQaZYb",
   "metadata": {
    "id": "p6poABZQaZYb"
   },
   "source": [
    "## Plan de solución\n",
    "\n",
    "Escribe aquí tu plan para el Paso 2. Preprocesamiento de los datos.\n",
    "\n",
    "***PLAN DE SOLUCIÓN***\n",
    "\n",
    "**El preprocesamiento incluirá la conversión de tipos de datos, la identificación y manejo de valores ausentes y duplicados, y la limpieza de datos en general para preparar el conjunto de datos para su análisis."
   ]
  },
  {
   "cell_type": "code",
   "execution_count": 8,
   "id": "eaa38a1a",
   "metadata": {},
   "outputs": [
    {
     "name": "stdout",
     "output_type": "stream",
     "text": [
      "order_id                    int64\n",
      "user_id                     int64\n",
      "order_number                int64\n",
      "order_dow                   int64\n",
      "order_hour_of_day           int64\n",
      "days_since_prior_order    float64\n",
      "dtype: object\n",
      "\n",
      "product_id        int64\n",
      "product_name     object\n",
      "aisle_id          int64\n",
      "department_id     int64\n",
      "dtype: object\n",
      "\n",
      "order_id               int64\n",
      "product_id             int64\n",
      "add_to_cart_order    float64\n",
      "reordered              int64\n",
      "dtype: object\n",
      "\n",
      "aisle_id     int64\n",
      "aisle       object\n",
      "dtype: object\n",
      "\n",
      "department_id     int64\n",
      "department       object\n",
      "dtype: object\n",
      "\n"
     ]
    }
   ],
   "source": [
    "# Convertir columnas de ID a enteros\n",
    "instacart_order['order_id'] = instacart_order['order_id'].astype(int)\n",
    "instacart_order['user_id'] = instacart_order['user_id'].astype(int)\n",
    "products['product_id'] = products['product_id'].astype(int)\n",
    "products['aisle_id'] = products['aisle_id'].astype(int)\n",
    "products['department_id'] = products['department_id'].astype(int)\n",
    "order_products['order_id'] = order_products['order_id'].astype(int)\n",
    "order_products['product_id'] = order_products['product_id'].astype(int)\n",
    "\n",
    "#Verifica la corrección \n",
    "print(instacart_order.dtypes)\n",
    "print()\n",
    "print(products.dtypes)\n",
    "print()\n",
    "print(order_products.dtypes)\n",
    "print()\n",
    "print(aisles.dtypes)\n",
    "print()\n",
    "print(departments.dtypes)\n",
    "print()"
   ]
  },
  {
   "cell_type": "markdown",
   "id": "07357848-dc64-4156-9cc3-01ff4365226d",
   "metadata": {
    "id": "07357848-dc64-4156-9cc3-01ff4365226d"
   },
   "source": [
    "## Encuentra y elimina los valores duplicados (y describe cómo tomaste tus decisiones)."
   ]
  },
  {
   "cell_type": "markdown",
   "id": "f179f0a9",
   "metadata": {
    "id": "f179f0a9"
   },
   "source": [
    "### `instacart_orders` data frame"
   ]
  },
  {
   "cell_type": "code",
   "execution_count": 9,
   "id": "b99297a5-405a-463d-8535-9adc3da4ad74",
   "metadata": {
    "id": "b99297a5-405a-463d-8535-9adc3da4ad74"
   },
   "outputs": [
    {
     "data": {
      "text/html": [
       "<div>\n",
       "<style scoped>\n",
       "    .dataframe tbody tr th:only-of-type {\n",
       "        vertical-align: middle;\n",
       "    }\n",
       "\n",
       "    .dataframe tbody tr th {\n",
       "        vertical-align: top;\n",
       "    }\n",
       "\n",
       "    .dataframe thead th {\n",
       "        text-align: right;\n",
       "    }\n",
       "</style>\n",
       "<table border=\"1\" class=\"dataframe\">\n",
       "  <thead>\n",
       "    <tr style=\"text-align: right;\">\n",
       "      <th></th>\n",
       "      <th>order_id</th>\n",
       "      <th>user_id</th>\n",
       "      <th>order_number</th>\n",
       "      <th>order_dow</th>\n",
       "      <th>order_hour_of_day</th>\n",
       "      <th>days_since_prior_order</th>\n",
       "    </tr>\n",
       "  </thead>\n",
       "  <tbody>\n",
       "    <tr>\n",
       "      <th>30371</th>\n",
       "      <td>1918001</td>\n",
       "      <td>188546</td>\n",
       "      <td>14</td>\n",
       "      <td>3</td>\n",
       "      <td>2</td>\n",
       "      <td>16.0</td>\n",
       "    </tr>\n",
       "    <tr>\n",
       "      <th>99462</th>\n",
       "      <td>794638</td>\n",
       "      <td>50898</td>\n",
       "      <td>24</td>\n",
       "      <td>3</td>\n",
       "      <td>2</td>\n",
       "      <td>2.0</td>\n",
       "    </tr>\n",
       "    <tr>\n",
       "      <th>119251</th>\n",
       "      <td>408114</td>\n",
       "      <td>68324</td>\n",
       "      <td>4</td>\n",
       "      <td>3</td>\n",
       "      <td>2</td>\n",
       "      <td>18.0</td>\n",
       "    </tr>\n",
       "    <tr>\n",
       "      <th>142258</th>\n",
       "      <td>2845099</td>\n",
       "      <td>31189</td>\n",
       "      <td>11</td>\n",
       "      <td>3</td>\n",
       "      <td>2</td>\n",
       "      <td>7.0</td>\n",
       "    </tr>\n",
       "    <tr>\n",
       "      <th>145574</th>\n",
       "      <td>794638</td>\n",
       "      <td>50898</td>\n",
       "      <td>24</td>\n",
       "      <td>3</td>\n",
       "      <td>2</td>\n",
       "      <td>2.0</td>\n",
       "    </tr>\n",
       "    <tr>\n",
       "      <th>164581</th>\n",
       "      <td>1112182</td>\n",
       "      <td>202304</td>\n",
       "      <td>84</td>\n",
       "      <td>3</td>\n",
       "      <td>2</td>\n",
       "      <td>6.0</td>\n",
       "    </tr>\n",
       "    <tr>\n",
       "      <th>200059</th>\n",
       "      <td>1782114</td>\n",
       "      <td>106752</td>\n",
       "      <td>1</td>\n",
       "      <td>3</td>\n",
       "      <td>2</td>\n",
       "      <td>NaN</td>\n",
       "    </tr>\n",
       "    <tr>\n",
       "      <th>204042</th>\n",
       "      <td>2125197</td>\n",
       "      <td>14050</td>\n",
       "      <td>48</td>\n",
       "      <td>3</td>\n",
       "      <td>2</td>\n",
       "      <td>3.0</td>\n",
       "    </tr>\n",
       "    <tr>\n",
       "      <th>215294</th>\n",
       "      <td>2160484</td>\n",
       "      <td>107525</td>\n",
       "      <td>16</td>\n",
       "      <td>3</td>\n",
       "      <td>2</td>\n",
       "      <td>30.0</td>\n",
       "    </tr>\n",
       "    <tr>\n",
       "      <th>223105</th>\n",
       "      <td>2160484</td>\n",
       "      <td>107525</td>\n",
       "      <td>16</td>\n",
       "      <td>3</td>\n",
       "      <td>2</td>\n",
       "      <td>30.0</td>\n",
       "    </tr>\n",
       "    <tr>\n",
       "      <th>230807</th>\n",
       "      <td>1918001</td>\n",
       "      <td>188546</td>\n",
       "      <td>14</td>\n",
       "      <td>3</td>\n",
       "      <td>2</td>\n",
       "      <td>16.0</td>\n",
       "    </tr>\n",
       "    <tr>\n",
       "      <th>242618</th>\n",
       "      <td>1021560</td>\n",
       "      <td>53767</td>\n",
       "      <td>3</td>\n",
       "      <td>3</td>\n",
       "      <td>2</td>\n",
       "      <td>9.0</td>\n",
       "    </tr>\n",
       "    <tr>\n",
       "      <th>250626</th>\n",
       "      <td>467134</td>\n",
       "      <td>63189</td>\n",
       "      <td>21</td>\n",
       "      <td>3</td>\n",
       "      <td>2</td>\n",
       "      <td>2.0</td>\n",
       "    </tr>\n",
       "    <tr>\n",
       "      <th>257934</th>\n",
       "      <td>1919531</td>\n",
       "      <td>191501</td>\n",
       "      <td>32</td>\n",
       "      <td>3</td>\n",
       "      <td>2</td>\n",
       "      <td>7.0</td>\n",
       "    </tr>\n",
       "    <tr>\n",
       "      <th>259636</th>\n",
       "      <td>2282673</td>\n",
       "      <td>86751</td>\n",
       "      <td>49</td>\n",
       "      <td>3</td>\n",
       "      <td>2</td>\n",
       "      <td>2.0</td>\n",
       "    </tr>\n",
       "    <tr>\n",
       "      <th>266232</th>\n",
       "      <td>1782114</td>\n",
       "      <td>106752</td>\n",
       "      <td>1</td>\n",
       "      <td>3</td>\n",
       "      <td>2</td>\n",
       "      <td>NaN</td>\n",
       "    </tr>\n",
       "    <tr>\n",
       "      <th>273805</th>\n",
       "      <td>1112182</td>\n",
       "      <td>202304</td>\n",
       "      <td>84</td>\n",
       "      <td>3</td>\n",
       "      <td>2</td>\n",
       "      <td>6.0</td>\n",
       "    </tr>\n",
       "    <tr>\n",
       "      <th>284038</th>\n",
       "      <td>2845099</td>\n",
       "      <td>31189</td>\n",
       "      <td>11</td>\n",
       "      <td>3</td>\n",
       "      <td>2</td>\n",
       "      <td>7.0</td>\n",
       "    </tr>\n",
       "    <tr>\n",
       "      <th>311713</th>\n",
       "      <td>1021560</td>\n",
       "      <td>53767</td>\n",
       "      <td>3</td>\n",
       "      <td>3</td>\n",
       "      <td>2</td>\n",
       "      <td>9.0</td>\n",
       "    </tr>\n",
       "    <tr>\n",
       "      <th>314427</th>\n",
       "      <td>1286742</td>\n",
       "      <td>183220</td>\n",
       "      <td>48</td>\n",
       "      <td>3</td>\n",
       "      <td>2</td>\n",
       "      <td>4.0</td>\n",
       "    </tr>\n",
       "    <tr>\n",
       "      <th>321100</th>\n",
       "      <td>408114</td>\n",
       "      <td>68324</td>\n",
       "      <td>4</td>\n",
       "      <td>3</td>\n",
       "      <td>2</td>\n",
       "      <td>18.0</td>\n",
       "    </tr>\n",
       "    <tr>\n",
       "      <th>323900</th>\n",
       "      <td>1919531</td>\n",
       "      <td>191501</td>\n",
       "      <td>32</td>\n",
       "      <td>3</td>\n",
       "      <td>2</td>\n",
       "      <td>7.0</td>\n",
       "    </tr>\n",
       "    <tr>\n",
       "      <th>324868</th>\n",
       "      <td>2232988</td>\n",
       "      <td>82565</td>\n",
       "      <td>1</td>\n",
       "      <td>3</td>\n",
       "      <td>2</td>\n",
       "      <td>NaN</td>\n",
       "    </tr>\n",
       "    <tr>\n",
       "      <th>345917</th>\n",
       "      <td>2232988</td>\n",
       "      <td>82565</td>\n",
       "      <td>1</td>\n",
       "      <td>3</td>\n",
       "      <td>2</td>\n",
       "      <td>NaN</td>\n",
       "    </tr>\n",
       "    <tr>\n",
       "      <th>354993</th>\n",
       "      <td>391768</td>\n",
       "      <td>57671</td>\n",
       "      <td>19</td>\n",
       "      <td>3</td>\n",
       "      <td>2</td>\n",
       "      <td>10.0</td>\n",
       "    </tr>\n",
       "    <tr>\n",
       "      <th>371905</th>\n",
       "      <td>391768</td>\n",
       "      <td>57671</td>\n",
       "      <td>19</td>\n",
       "      <td>3</td>\n",
       "      <td>2</td>\n",
       "      <td>10.0</td>\n",
       "    </tr>\n",
       "    <tr>\n",
       "      <th>394347</th>\n",
       "      <td>467134</td>\n",
       "      <td>63189</td>\n",
       "      <td>21</td>\n",
       "      <td>3</td>\n",
       "      <td>2</td>\n",
       "      <td>2.0</td>\n",
       "    </tr>\n",
       "    <tr>\n",
       "      <th>411408</th>\n",
       "      <td>1286742</td>\n",
       "      <td>183220</td>\n",
       "      <td>48</td>\n",
       "      <td>3</td>\n",
       "      <td>2</td>\n",
       "      <td>4.0</td>\n",
       "    </tr>\n",
       "    <tr>\n",
       "      <th>415163</th>\n",
       "      <td>2282673</td>\n",
       "      <td>86751</td>\n",
       "      <td>49</td>\n",
       "      <td>3</td>\n",
       "      <td>2</td>\n",
       "      <td>2.0</td>\n",
       "    </tr>\n",
       "    <tr>\n",
       "      <th>441599</th>\n",
       "      <td>2125197</td>\n",
       "      <td>14050</td>\n",
       "      <td>48</td>\n",
       "      <td>3</td>\n",
       "      <td>2</td>\n",
       "      <td>3.0</td>\n",
       "    </tr>\n",
       "  </tbody>\n",
       "</table>\n",
       "</div>"
      ],
      "text/plain": [
       "        order_id  user_id  order_number  order_dow  order_hour_of_day  \\\n",
       "30371    1918001   188546            14          3                  2   \n",
       "99462     794638    50898            24          3                  2   \n",
       "119251    408114    68324             4          3                  2   \n",
       "142258   2845099    31189            11          3                  2   \n",
       "145574    794638    50898            24          3                  2   \n",
       "164581   1112182   202304            84          3                  2   \n",
       "200059   1782114   106752             1          3                  2   \n",
       "204042   2125197    14050            48          3                  2   \n",
       "215294   2160484   107525            16          3                  2   \n",
       "223105   2160484   107525            16          3                  2   \n",
       "230807   1918001   188546            14          3                  2   \n",
       "242618   1021560    53767             3          3                  2   \n",
       "250626    467134    63189            21          3                  2   \n",
       "257934   1919531   191501            32          3                  2   \n",
       "259636   2282673    86751            49          3                  2   \n",
       "266232   1782114   106752             1          3                  2   \n",
       "273805   1112182   202304            84          3                  2   \n",
       "284038   2845099    31189            11          3                  2   \n",
       "311713   1021560    53767             3          3                  2   \n",
       "314427   1286742   183220            48          3                  2   \n",
       "321100    408114    68324             4          3                  2   \n",
       "323900   1919531   191501            32          3                  2   \n",
       "324868   2232988    82565             1          3                  2   \n",
       "345917   2232988    82565             1          3                  2   \n",
       "354993    391768    57671            19          3                  2   \n",
       "371905    391768    57671            19          3                  2   \n",
       "394347    467134    63189            21          3                  2   \n",
       "411408   1286742   183220            48          3                  2   \n",
       "415163   2282673    86751            49          3                  2   \n",
       "441599   2125197    14050            48          3                  2   \n",
       "\n",
       "        days_since_prior_order  \n",
       "30371                     16.0  \n",
       "99462                      2.0  \n",
       "119251                    18.0  \n",
       "142258                     7.0  \n",
       "145574                     2.0  \n",
       "164581                     6.0  \n",
       "200059                     NaN  \n",
       "204042                     3.0  \n",
       "215294                    30.0  \n",
       "223105                    30.0  \n",
       "230807                    16.0  \n",
       "242618                     9.0  \n",
       "250626                     2.0  \n",
       "257934                     7.0  \n",
       "259636                     2.0  \n",
       "266232                     NaN  \n",
       "273805                     6.0  \n",
       "284038                     7.0  \n",
       "311713                     9.0  \n",
       "314427                     4.0  \n",
       "321100                    18.0  \n",
       "323900                     7.0  \n",
       "324868                     NaN  \n",
       "345917                     NaN  \n",
       "354993                    10.0  \n",
       "371905                    10.0  \n",
       "394347                     2.0  \n",
       "411408                     4.0  \n",
       "415163                     2.0  \n",
       "441599                     3.0  "
      ]
     },
     "metadata": {},
     "output_type": "display_data"
    }
   ],
   "source": [
    "# Revisa si hay pedidos duplicados\n",
    "duplicated_orders = instacart_order[instacart_order.duplicated(keep=False)]\n",
    "display(duplicated_orders)"
   ]
  },
  {
   "cell_type": "markdown",
   "id": "PEkwUX_gvt5A",
   "metadata": {
    "id": "PEkwUX_gvt5A"
   },
   "source": [
    "¿Tienes líneas duplicadas? Si sí, ¿qué tienen en común?\n",
    "\n",
    "***SI***\n",
    "\n",
    "***Al revisar la información proporcionada, parece que las filas duplicadas tienen en común principalmente estos aspectos:***\n",
    "\n",
    "Día y Hora del Pedido: Todos los pedidos duplicados se realizaron el miércoles (order_dow = 3) a las 2 a.m. (order_hour_of_day = 2).\n",
    "Usuario y Número de Pedido: Algunos registros duplicados pertenecen al mismo user_id y tienen el mismo order_number. Esto indica que algunos usuarios pueden haber realizado pedidos duplicados en la misma fecha y hora.\n",
    "Días Desde el Pedido Anterior: En varios casos, los duplicados muestran valores idénticos en la columna days_since_prior_order, lo que sugiere que algunos usuarios pueden haber realizado un pedido repetido de un intervalo específico de días después de su último pedido.\n",
    "Estos duplicados podrían ser el resultado de errores en el registro de datos, como la duplicación accidental de pedidos para ciertos usuarios en un día y hora específicos. Podrías considerar eliminarlos si son registros innecesarios o investigar más para confirmar si son verdaderos duplicados (pedidos registrados más de una vez por error) o si representan una acción intencionada (como repetir el pedido en otro horario similar)."
   ]
  },
  {
   "cell_type": "code",
   "execution_count": 10,
   "id": "0d44de5d",
   "metadata": {
    "id": "0d44de5d"
   },
   "outputs": [
    {
     "data": {
      "text/html": [
       "<div>\n",
       "<style scoped>\n",
       "    .dataframe tbody tr th:only-of-type {\n",
       "        vertical-align: middle;\n",
       "    }\n",
       "\n",
       "    .dataframe tbody tr th {\n",
       "        vertical-align: top;\n",
       "    }\n",
       "\n",
       "    .dataframe thead th {\n",
       "        text-align: right;\n",
       "    }\n",
       "</style>\n",
       "<table border=\"1\" class=\"dataframe\">\n",
       "  <thead>\n",
       "    <tr style=\"text-align: right;\">\n",
       "      <th></th>\n",
       "      <th>order_id</th>\n",
       "      <th>user_id</th>\n",
       "      <th>order_number</th>\n",
       "      <th>order_dow</th>\n",
       "      <th>order_hour_of_day</th>\n",
       "      <th>days_since_prior_order</th>\n",
       "    </tr>\n",
       "  </thead>\n",
       "  <tbody>\n",
       "    <tr>\n",
       "      <th>4838</th>\n",
       "      <td>2766110</td>\n",
       "      <td>162084</td>\n",
       "      <td>41</td>\n",
       "      <td>3</td>\n",
       "      <td>2</td>\n",
       "      <td>16.0</td>\n",
       "    </tr>\n",
       "    <tr>\n",
       "      <th>5156</th>\n",
       "      <td>2190225</td>\n",
       "      <td>138285</td>\n",
       "      <td>18</td>\n",
       "      <td>3</td>\n",
       "      <td>2</td>\n",
       "      <td>11.0</td>\n",
       "    </tr>\n",
       "    <tr>\n",
       "      <th>15506</th>\n",
       "      <td>553049</td>\n",
       "      <td>58599</td>\n",
       "      <td>13</td>\n",
       "      <td>3</td>\n",
       "      <td>2</td>\n",
       "      <td>7.0</td>\n",
       "    </tr>\n",
       "    <tr>\n",
       "      <th>18420</th>\n",
       "      <td>382357</td>\n",
       "      <td>120200</td>\n",
       "      <td>19</td>\n",
       "      <td>3</td>\n",
       "      <td>2</td>\n",
       "      <td>11.0</td>\n",
       "    </tr>\n",
       "    <tr>\n",
       "      <th>24691</th>\n",
       "      <td>690242</td>\n",
       "      <td>77357</td>\n",
       "      <td>2</td>\n",
       "      <td>3</td>\n",
       "      <td>2</td>\n",
       "      <td>9.0</td>\n",
       "    </tr>\n",
       "    <tr>\n",
       "      <th>...</th>\n",
       "      <td>...</td>\n",
       "      <td>...</td>\n",
       "      <td>...</td>\n",
       "      <td>...</td>\n",
       "      <td>...</td>\n",
       "      <td>...</td>\n",
       "    </tr>\n",
       "    <tr>\n",
       "      <th>457013</th>\n",
       "      <td>3384021</td>\n",
       "      <td>14881</td>\n",
       "      <td>6</td>\n",
       "      <td>3</td>\n",
       "      <td>2</td>\n",
       "      <td>30.0</td>\n",
       "    </tr>\n",
       "    <tr>\n",
       "      <th>458816</th>\n",
       "      <td>910166</td>\n",
       "      <td>164782</td>\n",
       "      <td>18</td>\n",
       "      <td>3</td>\n",
       "      <td>2</td>\n",
       "      <td>4.0</td>\n",
       "    </tr>\n",
       "    <tr>\n",
       "      <th>459635</th>\n",
       "      <td>1680532</td>\n",
       "      <td>106435</td>\n",
       "      <td>6</td>\n",
       "      <td>3</td>\n",
       "      <td>2</td>\n",
       "      <td>21.0</td>\n",
       "    </tr>\n",
       "    <tr>\n",
       "      <th>468324</th>\n",
       "      <td>222962</td>\n",
       "      <td>54979</td>\n",
       "      <td>59</td>\n",
       "      <td>3</td>\n",
       "      <td>2</td>\n",
       "      <td>3.0</td>\n",
       "    </tr>\n",
       "    <tr>\n",
       "      <th>477526</th>\n",
       "      <td>2592344</td>\n",
       "      <td>46860</td>\n",
       "      <td>38</td>\n",
       "      <td>3</td>\n",
       "      <td>2</td>\n",
       "      <td>3.0</td>\n",
       "    </tr>\n",
       "  </tbody>\n",
       "</table>\n",
       "<p>121 rows × 6 columns</p>\n",
       "</div>"
      ],
      "text/plain": [
       "        order_id  user_id  order_number  order_dow  order_hour_of_day  \\\n",
       "4838     2766110   162084            41          3                  2   \n",
       "5156     2190225   138285            18          3                  2   \n",
       "15506     553049    58599            13          3                  2   \n",
       "18420     382357   120200            19          3                  2   \n",
       "24691     690242    77357             2          3                  2   \n",
       "...          ...      ...           ...        ...                ...   \n",
       "457013   3384021    14881             6          3                  2   \n",
       "458816    910166   164782            18          3                  2   \n",
       "459635   1680532   106435             6          3                  2   \n",
       "468324    222962    54979            59          3                  2   \n",
       "477526   2592344    46860            38          3                  2   \n",
       "\n",
       "        days_since_prior_order  \n",
       "4838                      16.0  \n",
       "5156                      11.0  \n",
       "15506                      7.0  \n",
       "18420                     11.0  \n",
       "24691                      9.0  \n",
       "...                        ...  \n",
       "457013                    30.0  \n",
       "458816                     4.0  \n",
       "459635                    21.0  \n",
       "468324                     3.0  \n",
       "477526                     3.0  \n",
       "\n",
       "[121 rows x 6 columns]"
      ]
     },
     "metadata": {},
     "output_type": "display_data"
    }
   ],
   "source": [
    "# Basándote en tus hallazgos,\n",
    "# Verifica todos los pedidos que se hicieron el miércoles a las 2:00 a.m.\n",
    "wednesday_2am_orders = instacart_order[(instacart_order['order_dow'] == 3) & (instacart_order['order_hour_of_day'] == 2)]\n",
    "\n",
    "display(wednesday_2am_orders)"
   ]
  },
  {
   "cell_type": "markdown",
   "id": "vu2OWyoqwOx5",
   "metadata": {
    "id": "vu2OWyoqwOx5"
   },
   "source": [
    "¿Qué sugiere este resultado?\n",
    "\n",
    "*El análisis muestra que existen pedidos duplicados y un patrón claro en los pedidos realizados el miércoles a las 2 a.m.*\n",
    "\n",
    "*Duplicados de Pedido:*\n",
    "\n",
    "Se han identificado varias filas duplicadas en el dataframe. Estas duplicaciones no son accidentales, ya que coinciden en el user_id, order_number, y la fecha y hora del pedido (order_dow = 3 y order_hour_of_day = 2).\n",
    "La mayoría de estos duplicados tienen el mismo valor en days_since_prior_order, sugiriendo que podrían ser repeticiones de pedidos previos a intervalos específicos.\n",
    "Pedidos el Miércoles a las 2 a.m.:\n",
    "\n",
    "Al filtrar los pedidos realizados el miércoles a las 2 a.m., se obtuvieron 121 registros, lo que indica que muchos pedidos se están realizando a esta hora."
   ]
  },
  {
   "cell_type": "code",
   "execution_count": 11,
   "id": "480563c7",
   "metadata": {
    "id": "480563c7"
   },
   "outputs": [],
   "source": [
    "# Elimina los pedidos duplicados\n",
    "instacart_order = instacart_order.drop_duplicates()"
   ]
  },
  {
   "cell_type": "code",
   "execution_count": 12,
   "id": "0b2396a2",
   "metadata": {
    "id": "0b2396a2"
   },
   "outputs": [
    {
     "name": "stdout",
     "output_type": "stream",
     "text": [
      "0\n"
     ]
    }
   ],
   "source": [
    "# Vuelve a verificar si hay filas duplicadas\n",
    "print(instacart_order.duplicated().sum())"
   ]
  },
  {
   "cell_type": "code",
   "execution_count": 13,
   "id": "f6113ef1",
   "metadata": {
    "id": "f6113ef1"
   },
   "outputs": [
    {
     "data": {
      "text/html": [
       "<div>\n",
       "<style scoped>\n",
       "    .dataframe tbody tr th:only-of-type {\n",
       "        vertical-align: middle;\n",
       "    }\n",
       "\n",
       "    .dataframe tbody tr th {\n",
       "        vertical-align: top;\n",
       "    }\n",
       "\n",
       "    .dataframe thead th {\n",
       "        text-align: right;\n",
       "    }\n",
       "</style>\n",
       "<table border=\"1\" class=\"dataframe\">\n",
       "  <thead>\n",
       "    <tr style=\"text-align: right;\">\n",
       "      <th></th>\n",
       "      <th>order_id</th>\n",
       "      <th>user_id</th>\n",
       "      <th>order_number</th>\n",
       "      <th>order_dow</th>\n",
       "      <th>order_hour_of_day</th>\n",
       "      <th>days_since_prior_order</th>\n",
       "    </tr>\n",
       "  </thead>\n",
       "  <tbody>\n",
       "  </tbody>\n",
       "</table>\n",
       "</div>"
      ],
      "text/plain": [
       "Empty DataFrame\n",
       "Columns: [order_id, user_id, order_number, order_dow, order_hour_of_day, days_since_prior_order]\n",
       "Index: []"
      ]
     },
     "metadata": {},
     "output_type": "display_data"
    }
   ],
   "source": [
    "# Vuelve a verificar si hay IDs duplicados de pedidos\n",
    "duplicated_order_ids = instacart_order[instacart_order.duplicated(subset=['order_id'], keep=False)]\n",
    "display(duplicated_order_ids)"
   ]
  },
  {
   "cell_type": "markdown",
   "id": "5e8905ae",
   "metadata": {
    "id": "5e8905ae"
   },
   "source": [
    "Describe brevemente tus hallazgos y lo que hiciste con ellos\n",
    "\n",
    "**Hallazgos**\n",
    "\n",
    "- Duplicados Identificados: Se identificaron varias filas duplicadas en el dataframe, las cuales comparten:\n",
    "\n",
    "  - Día y Hora del Pedido: Todos los pedidos duplicados fueron realizados el miércoles a las 2 a.m. (order_dow = 3 y order_hour_of_day = 2).\n",
    "  - Usuario y Número de Pedido: Algunos registros duplicados pertenecen al mismo user_id y tienen el mismo order_number, sugiriendo que los usuarios podrían haber realizado pedidos duplicados en la misma fecha y hora.\n",
    "  - Días Desde el Pedido Anterior: Muchos de los duplicados muestran el mismo valor en days_since_prior_order, indicando que podrían ser repeticiones de pedidos realizados en intervalos específicos.\n",
    "  - Pedidos a las 2 a.m.: Al filtrar los pedidos realizados a esa hora, se obtuvieron 121 registros, lo que sugiere un patrón en el comportamiento de los usuarios que podrían estar repitiendo pedidos a esta hora.\n",
    "\n",
    "**Acciones Realizadas**\n",
    "\n",
    "- Eliminación de Duplicados: Se utilizó la función drop_duplicates() para eliminar las filas duplicadas del dataframe. Posteriormente, se verificó que no quedaran filas duplicadas, confirmando que el dataframe ahora solo contiene registros únicos.\n",
    "\n",
    "**Conclusiones**\n",
    "\n",
    "*Los resultados sugieren que existen patrones de comportamiento que podrían requerir atención, como el hecho de que muchos usuarios realizan pedidos a la misma hora. La eliminación de duplicados y la verificación de IDs únicos ayudan a mantener la integridad de los datos. Para futuras investigaciones, podría ser útil analizar si los pedidos duplicados a la misma hora corresponden a una práctica habitual de los usuarios o si son errores de entrada que necesitan ser corregidos en el sistema.*"
   ]
  },
  {
   "cell_type": "markdown",
   "id": "45e6bc46",
   "metadata": {
    "id": "45e6bc46"
   },
   "source": [
    "### `products` data frame"
   ]
  },
  {
   "cell_type": "code",
   "execution_count": 14,
   "id": "5f526b5b-8175-46fa-a0fd-441767d50e64",
   "metadata": {
    "id": "5f526b5b-8175-46fa-a0fd-441767d50e64"
   },
   "outputs": [
    {
     "name": "stdout",
     "output_type": "stream",
     "text": [
      "Número de filas totalmente duplicadas: 0\n"
     ]
    }
   ],
   "source": [
    "# Verifica si hay filas totalmente duplicadas\n",
    "total_duplicates = products.duplicated().sum()\n",
    "print(f\"Número de filas totalmente duplicadas: {total_duplicates}\")"
   ]
  },
  {
   "cell_type": "code",
   "execution_count": 15,
   "id": "88daa4f4",
   "metadata": {
    "id": "88daa4f4"
   },
   "outputs": [
    {
     "name": "stdout",
     "output_type": "stream",
     "text": [
      "Número de productos con IDs duplicados: 0\n"
     ]
    },
    {
     "data": {
      "text/html": [
       "<div>\n",
       "<style scoped>\n",
       "    .dataframe tbody tr th:only-of-type {\n",
       "        vertical-align: middle;\n",
       "    }\n",
       "\n",
       "    .dataframe tbody tr th {\n",
       "        vertical-align: top;\n",
       "    }\n",
       "\n",
       "    .dataframe thead th {\n",
       "        text-align: right;\n",
       "    }\n",
       "</style>\n",
       "<table border=\"1\" class=\"dataframe\">\n",
       "  <thead>\n",
       "    <tr style=\"text-align: right;\">\n",
       "      <th></th>\n",
       "      <th>product_id</th>\n",
       "      <th>product_name</th>\n",
       "      <th>aisle_id</th>\n",
       "      <th>department_id</th>\n",
       "    </tr>\n",
       "  </thead>\n",
       "  <tbody>\n",
       "  </tbody>\n",
       "</table>\n",
       "</div>"
      ],
      "text/plain": [
       "Empty DataFrame\n",
       "Columns: [product_id, product_name, aisle_id, department_id]\n",
       "Index: []"
      ]
     },
     "metadata": {},
     "output_type": "display_data"
    }
   ],
   "source": [
    "# Verifica si hay IDs duplicadas de productos\n",
    "duplicated_product_ids = products[products.duplicated(subset=['product_id'], keep=False)]\n",
    "print(f\"Número de productos con IDs duplicados: {duplicated_product_ids.shape[0]}\")\n",
    "display(duplicated_product_ids)"
   ]
  },
  {
   "cell_type": "code",
   "execution_count": 16,
   "id": "c773f0bf",
   "metadata": {
    "id": "c773f0bf"
   },
   "outputs": [
    {
     "name": "stdout",
     "output_type": "stream",
     "text": [
      "Número de productos con nombres duplicados: 1258\n"
     ]
    },
    {
     "data": {
      "text/html": [
       "<div>\n",
       "<style scoped>\n",
       "    .dataframe tbody tr th:only-of-type {\n",
       "        vertical-align: middle;\n",
       "    }\n",
       "\n",
       "    .dataframe tbody tr th {\n",
       "        vertical-align: top;\n",
       "    }\n",
       "\n",
       "    .dataframe thead th {\n",
       "        text-align: right;\n",
       "    }\n",
       "</style>\n",
       "<table border=\"1\" class=\"dataframe\">\n",
       "  <thead>\n",
       "    <tr style=\"text-align: right;\">\n",
       "      <th></th>\n",
       "      <th>product_id</th>\n",
       "      <th>product_name</th>\n",
       "      <th>aisle_id</th>\n",
       "      <th>department_id</th>\n",
       "      <th>product_name_upper</th>\n",
       "    </tr>\n",
       "  </thead>\n",
       "  <tbody>\n",
       "    <tr>\n",
       "      <th>37</th>\n",
       "      <td>38</td>\n",
       "      <td>NaN</td>\n",
       "      <td>100</td>\n",
       "      <td>21</td>\n",
       "      <td>NaN</td>\n",
       "    </tr>\n",
       "    <tr>\n",
       "      <th>71</th>\n",
       "      <td>72</td>\n",
       "      <td>NaN</td>\n",
       "      <td>100</td>\n",
       "      <td>21</td>\n",
       "      <td>NaN</td>\n",
       "    </tr>\n",
       "    <tr>\n",
       "      <th>109</th>\n",
       "      <td>110</td>\n",
       "      <td>NaN</td>\n",
       "      <td>100</td>\n",
       "      <td>21</td>\n",
       "      <td>NaN</td>\n",
       "    </tr>\n",
       "    <tr>\n",
       "      <th>296</th>\n",
       "      <td>297</td>\n",
       "      <td>NaN</td>\n",
       "      <td>100</td>\n",
       "      <td>21</td>\n",
       "      <td>NaN</td>\n",
       "    </tr>\n",
       "    <tr>\n",
       "      <th>416</th>\n",
       "      <td>417</td>\n",
       "      <td>NaN</td>\n",
       "      <td>100</td>\n",
       "      <td>21</td>\n",
       "      <td>NaN</td>\n",
       "    </tr>\n",
       "    <tr>\n",
       "      <th>...</th>\n",
       "      <td>...</td>\n",
       "      <td>...</td>\n",
       "      <td>...</td>\n",
       "      <td>...</td>\n",
       "      <td>...</td>\n",
       "    </tr>\n",
       "    <tr>\n",
       "      <th>49552</th>\n",
       "      <td>49553</td>\n",
       "      <td>NaN</td>\n",
       "      <td>100</td>\n",
       "      <td>21</td>\n",
       "      <td>NaN</td>\n",
       "    </tr>\n",
       "    <tr>\n",
       "      <th>49574</th>\n",
       "      <td>49575</td>\n",
       "      <td>NaN</td>\n",
       "      <td>100</td>\n",
       "      <td>21</td>\n",
       "      <td>NaN</td>\n",
       "    </tr>\n",
       "    <tr>\n",
       "      <th>49640</th>\n",
       "      <td>49641</td>\n",
       "      <td>NaN</td>\n",
       "      <td>100</td>\n",
       "      <td>21</td>\n",
       "      <td>NaN</td>\n",
       "    </tr>\n",
       "    <tr>\n",
       "      <th>49663</th>\n",
       "      <td>49664</td>\n",
       "      <td>NaN</td>\n",
       "      <td>100</td>\n",
       "      <td>21</td>\n",
       "      <td>NaN</td>\n",
       "    </tr>\n",
       "    <tr>\n",
       "      <th>49668</th>\n",
       "      <td>49669</td>\n",
       "      <td>NaN</td>\n",
       "      <td>100</td>\n",
       "      <td>21</td>\n",
       "      <td>NaN</td>\n",
       "    </tr>\n",
       "  </tbody>\n",
       "</table>\n",
       "<p>1258 rows × 5 columns</p>\n",
       "</div>"
      ],
      "text/plain": [
       "       product_id product_name  aisle_id  department_id product_name_upper\n",
       "37             38          NaN       100             21                NaN\n",
       "71             72          NaN       100             21                NaN\n",
       "109           110          NaN       100             21                NaN\n",
       "296           297          NaN       100             21                NaN\n",
       "416           417          NaN       100             21                NaN\n",
       "...           ...          ...       ...            ...                ...\n",
       "49552       49553          NaN       100             21                NaN\n",
       "49574       49575          NaN       100             21                NaN\n",
       "49640       49641          NaN       100             21                NaN\n",
       "49663       49664          NaN       100             21                NaN\n",
       "49668       49669          NaN       100             21                NaN\n",
       "\n",
       "[1258 rows x 5 columns]"
      ]
     },
     "metadata": {},
     "output_type": "display_data"
    }
   ],
   "source": [
    "# Revisa si hay nombres duplicados de productos (convierte los nombres a letras mayúsculas para compararlos mejor)\n",
    "duplicated_product_names = products[products.duplicated(subset=['product_name'], keep=False)].copy()\n",
    "duplicated_product_names.loc[:, 'product_name_upper'] = duplicated_product_names['product_name'].str.upper()\n",
    "\n",
    "print(f\"Número de productos con nombres duplicados: {duplicated_product_names.shape[0]}\")\n",
    "display(duplicated_product_names)"
   ]
  },
  {
   "cell_type": "code",
   "execution_count": 17,
   "id": "01efd02e",
   "metadata": {
    "id": "01efd02e"
   },
   "outputs": [
    {
     "name": "stdout",
     "output_type": "stream",
     "text": [
      "Número de productos con nombres duplicados (sin valores faltantes): 0\n"
     ]
    },
    {
     "data": {
      "text/html": [
       "<div>\n",
       "<style scoped>\n",
       "    .dataframe tbody tr th:only-of-type {\n",
       "        vertical-align: middle;\n",
       "    }\n",
       "\n",
       "    .dataframe tbody tr th {\n",
       "        vertical-align: top;\n",
       "    }\n",
       "\n",
       "    .dataframe thead th {\n",
       "        text-align: right;\n",
       "    }\n",
       "</style>\n",
       "<table border=\"1\" class=\"dataframe\">\n",
       "  <thead>\n",
       "    <tr style=\"text-align: right;\">\n",
       "      <th></th>\n",
       "      <th>product_id</th>\n",
       "      <th>product_name</th>\n",
       "      <th>aisle_id</th>\n",
       "      <th>department_id</th>\n",
       "    </tr>\n",
       "  </thead>\n",
       "  <tbody>\n",
       "  </tbody>\n",
       "</table>\n",
       "</div>"
      ],
      "text/plain": [
       "Empty DataFrame\n",
       "Columns: [product_id, product_name, aisle_id, department_id]\n",
       "Index: []"
      ]
     },
     "metadata": {},
     "output_type": "display_data"
    }
   ],
   "source": [
    "# Revisa si hay nombres duplicados de productos no faltantes\n",
    "\n",
    "non_missing_product_names = products[products['product_name'].notna()]\n",
    "duplicated_non_missing_names = non_missing_product_names[non_missing_product_names.duplicated(subset=['product_name'], keep=False)].copy()\n",
    "\n",
    "print(f\"Número de productos con nombres duplicados (sin valores faltantes): {duplicated_non_missing_names.shape[0]}\")\n",
    "display(duplicated_non_missing_names)"
   ]
  },
  {
   "cell_type": "markdown",
   "id": "9da8d293",
   "metadata": {
    "id": "9da8d293"
   },
   "source": [
    "Describe brevemente tus hallazgos y lo que hiciste con ellos.\n",
    "\n",
    "**Hallazgos\n",
    "\n",
    "*Al analizar el DataFrame products, se encontraron los siguientes resultados:*\n",
    "\n",
    "    Filas Totalmente Duplicadas: No se encontraron filas completamente duplicadas en el DataFrame. Esto indica que no hay registros idénticos en todos los campos.\n",
    "\n",
    "    IDs de Productos Duplicadas: No se detectaron duplicados en la columna product_id, lo que garantiza que cada producto tiene un identificador único en el conjunto de datos.\n",
    "\n",
    "    Nombres de Productos Duplicados: Se encontraron 1258 registros con nombres de productos duplicados, muchos de los cuales tenían el valor \"Unknown\". Esto podría señalar productos sin nombre asignado o productos registrados incorrectamente.\n",
    "    Al filtrar para revisar nombres de productos sin valores faltantes (NaN), se observó que no existen nombres duplicados en productos con nombres válidos.\n",
    "\n",
    "**Acciones Tomadas\n",
    "\n",
    "    *Duplicados en product_name: Los nombres duplicados que son \"Unknown\" pueden indicar productos sin especificar. Como medida de limpieza, estos registros podrían revisarse o reemplazarse, pero no se eliminaron en este paso para evitar la pérdida de datos.\n",
    "\n",
    "    *Revisión de Consistencia: Se verificó que cada product_id sea único y que los nombres duplicados con datos válidos no existen, lo cual mantiene la integridad del DataFrame.\n",
    "\n",
    "    *En resumen, el DataFrame products está limpio en términos de duplicados en las columnas clave, aunque los registros con el nombre \"Unknown\" podrían analizarse más adelante para una limpieza adicional."
   ]
  },
  {
   "cell_type": "markdown",
   "id": "60f30db1",
   "metadata": {
    "id": "60f30db1"
   },
   "source": [
    "### `departments` data frame"
   ]
  },
  {
   "cell_type": "code",
   "execution_count": 18,
   "id": "fb410ad4-0fbf-4b80-bb09-23fdea79afe3",
   "metadata": {
    "id": "fb410ad4-0fbf-4b80-bb09-23fdea79afe3"
   },
   "outputs": [
    {
     "name": "stdout",
     "output_type": "stream",
     "text": [
      "Número de filas totalmente duplicadas en `departments`: 0\n"
     ]
    }
   ],
   "source": [
    "# Revisa si hay filas totalmente duplicadas\n",
    "total_duplicates_departments = departments.duplicated().sum()\n",
    "print(f\"Número de filas totalmente duplicadas en `departments`: {total_duplicates_departments}\")"
   ]
  },
  {
   "cell_type": "code",
   "execution_count": 19,
   "id": "332b12bb",
   "metadata": {
    "id": "332b12bb"
   },
   "outputs": [
    {
     "name": "stdout",
     "output_type": "stream",
     "text": [
      "Número de IDs de departamento duplicados: 0\n"
     ]
    },
    {
     "data": {
      "text/html": [
       "<div>\n",
       "<style scoped>\n",
       "    .dataframe tbody tr th:only-of-type {\n",
       "        vertical-align: middle;\n",
       "    }\n",
       "\n",
       "    .dataframe tbody tr th {\n",
       "        vertical-align: top;\n",
       "    }\n",
       "\n",
       "    .dataframe thead th {\n",
       "        text-align: right;\n",
       "    }\n",
       "</style>\n",
       "<table border=\"1\" class=\"dataframe\">\n",
       "  <thead>\n",
       "    <tr style=\"text-align: right;\">\n",
       "      <th></th>\n",
       "      <th>department_id</th>\n",
       "      <th>department</th>\n",
       "    </tr>\n",
       "  </thead>\n",
       "  <tbody>\n",
       "  </tbody>\n",
       "</table>\n",
       "</div>"
      ],
      "text/plain": [
       "Empty DataFrame\n",
       "Columns: [department_id, department]\n",
       "Index: []"
      ]
     },
     "metadata": {},
     "output_type": "display_data"
    }
   ],
   "source": [
    "# Revisa si hay IDs duplicadas de productos\n",
    "duplicated_department_ids = departments[departments.duplicated(subset=['department_id'], keep=False)]\n",
    "print(f\"Número de IDs de departamento duplicados: {duplicated_department_ids.shape[0]}\")\n",
    "display(duplicated_department_ids)"
   ]
  },
  {
   "cell_type": "markdown",
   "id": "bd30d78e",
   "metadata": {
    "id": "bd30d78e"
   },
   "source": [
    "Describe brevemente tus hallazgos y lo que hiciste con ellos.\n",
    "\n",
    "    - No se encontraron filas totalmente duplicadas en el DataFrame departments.\n",
    "    - No se encontraron duplicados en department_id, lo cual confirma que cada departamento tiene un identificador único.\n",
    "     \n",
    "   *El DataFrame departments está libre de duplicados en las columnas principales, manteniendo la integridad y la unicidad de los datos.*"
   ]
  },
  {
   "cell_type": "markdown",
   "id": "889349c1",
   "metadata": {
    "id": "889349c1"
   },
   "source": [
    "### `aisles` data frame"
   ]
  },
  {
   "cell_type": "code",
   "execution_count": 20,
   "id": "9da89fb9-4679-40f5-ad0d-c34df753a3f8",
   "metadata": {
    "id": "9da89fb9-4679-40f5-ad0d-c34df753a3f8"
   },
   "outputs": [
    {
     "name": "stdout",
     "output_type": "stream",
     "text": [
      "Número de filas totalmente duplicadas en `aisles`: 0\n"
     ]
    }
   ],
   "source": [
    "# Revisa si hay filas totalmente duplicadas\n",
    "total_duplicates_aisles = aisles.duplicated().sum()\n",
    "print(f\"Número de filas totalmente duplicadas en `aisles`: {total_duplicates_aisles}\")"
   ]
  },
  {
   "cell_type": "code",
   "execution_count": 21,
   "id": "da7c2822",
   "metadata": {
    "id": "da7c2822"
   },
   "outputs": [
    {
     "name": "stdout",
     "output_type": "stream",
     "text": [
      "Número de IDs de pasillo duplicados: 0\n"
     ]
    },
    {
     "data": {
      "text/html": [
       "<div>\n",
       "<style scoped>\n",
       "    .dataframe tbody tr th:only-of-type {\n",
       "        vertical-align: middle;\n",
       "    }\n",
       "\n",
       "    .dataframe tbody tr th {\n",
       "        vertical-align: top;\n",
       "    }\n",
       "\n",
       "    .dataframe thead th {\n",
       "        text-align: right;\n",
       "    }\n",
       "</style>\n",
       "<table border=\"1\" class=\"dataframe\">\n",
       "  <thead>\n",
       "    <tr style=\"text-align: right;\">\n",
       "      <th></th>\n",
       "      <th>aisle_id</th>\n",
       "      <th>aisle</th>\n",
       "    </tr>\n",
       "  </thead>\n",
       "  <tbody>\n",
       "  </tbody>\n",
       "</table>\n",
       "</div>"
      ],
      "text/plain": [
       "Empty DataFrame\n",
       "Columns: [aisle_id, aisle]\n",
       "Index: []"
      ]
     },
     "metadata": {},
     "output_type": "display_data"
    }
   ],
   "source": [
    "# Revisa si hay IDs duplicadas de productos\n",
    "duplicated_aisle_ids = aisles[aisles.duplicated(subset=['aisle_id'], keep=False)]\n",
    "print(f\"Número de IDs de pasillo duplicados: {duplicated_aisle_ids.shape[0]}\")\n",
    "display(duplicated_aisle_ids)"
   ]
  },
  {
   "cell_type": "markdown",
   "id": "ac63826f",
   "metadata": {
    "id": "ac63826f"
   },
   "source": [
    "Describe brevemente tus hallazgos y lo que hiciste con ellos.\n",
    "\n",
    "    - No se encontraron filas totalmente duplicadas en el DataFrame aisles.\n",
    "    - No se encontraron duplicados en aisle_id, asegurando que cada pasillo tenga un identificador único.\n",
    "     \n",
    "   *El DataFrame aisles no contiene duplicados en las filas o en los identificadores de pasillo, lo que garantiza que los datos sean consistentes y sin redundancias.*"
   ]
  },
  {
   "cell_type": "markdown",
   "id": "274cd06a",
   "metadata": {
    "id": "274cd06a"
   },
   "source": [
    "### `order_products` data frame"
   ]
  },
  {
   "cell_type": "code",
   "execution_count": 22,
   "id": "52326689-84a8-4b8f-a881-7c68780f62c9",
   "metadata": {
    "id": "52326689-84a8-4b8f-a881-7c68780f62c9"
   },
   "outputs": [
    {
     "name": "stdout",
     "output_type": "stream",
     "text": [
      "Número de filas totalmente duplicadas: 0\n"
     ]
    }
   ],
   "source": [
    "# Revisa si hay filas totalmente duplicadas\n",
    "total_duplicates = order_products.duplicated().sum()\n",
    "print(f\"Número de filas totalmente duplicadas: {total_duplicates}\")\n",
    "\n",
    "# Si hay duplicados completos, los eliminamos\n",
    "if total_duplicates > 0:\n",
    "    order_products = order_products.drop_duplicates()\n",
    "    print(\"Filas totalmente duplicadas eliminadas.\")"
   ]
  },
  {
   "cell_type": "code",
   "execution_count": 23,
   "id": "7b861391",
   "metadata": {
    "id": "7b861391"
   },
   "outputs": [
    {
     "name": "stdout",
     "output_type": "stream",
     "text": [
      "Número de combinaciones duplicadas de order_id y product_id: 0\n"
     ]
    },
    {
     "data": {
      "text/html": [
       "<div>\n",
       "<style scoped>\n",
       "    .dataframe tbody tr th:only-of-type {\n",
       "        vertical-align: middle;\n",
       "    }\n",
       "\n",
       "    .dataframe tbody tr th {\n",
       "        vertical-align: top;\n",
       "    }\n",
       "\n",
       "    .dataframe thead th {\n",
       "        text-align: right;\n",
       "    }\n",
       "</style>\n",
       "<table border=\"1\" class=\"dataframe\">\n",
       "  <thead>\n",
       "    <tr style=\"text-align: right;\">\n",
       "      <th></th>\n",
       "      <th>order_id</th>\n",
       "      <th>product_id</th>\n",
       "      <th>add_to_cart_order</th>\n",
       "      <th>reordered</th>\n",
       "    </tr>\n",
       "  </thead>\n",
       "  <tbody>\n",
       "  </tbody>\n",
       "</table>\n",
       "</div>"
      ],
      "text/plain": [
       "Empty DataFrame\n",
       "Columns: [order_id, product_id, add_to_cart_order, reordered]\n",
       "Index: []"
      ]
     },
     "metadata": {},
     "output_type": "display_data"
    }
   ],
   "source": [
    "# Vuelve a verificar si hay cualquier otro duplicado engañoso\n",
    "duplicated_order_product_pairs = order_products[order_products.duplicated(subset=['order_id', 'product_id'], keep=False)]\n",
    "\n",
    "print(f\"Número de combinaciones duplicadas de order_id y product_id: {duplicated_order_product_pairs.shape[0]}\")\n",
    "display(duplicated_order_product_pairs)\n",
    "\n",
    "if not duplicated_order_product_pairs.empty:\n",
    "    order_products = order_products.drop_duplicates(subset=['order_id', 'product_id'])\n",
    "    print(\"Duplicados engañosos eliminados.\")\n"
   ]
  },
  {
   "cell_type": "markdown",
   "id": "0b890492",
   "metadata": {
    "id": "0b890492"
   },
   "source": [
    "Describe brevemente tus hallazgos y lo que hiciste con ellos.\n",
    "\n",
    "**Hallazgos y Acciones\n",
    "\n",
    "*Filas Totalmente Duplicadas:\n",
    "Se detectan y eliminan registros que son duplicados completos.\n",
    "\n",
    "*Duplicados Engañosos:\n",
    "Si una combinación de order_id y product_id aparece más de una vez, esto sugiere que el mismo producto fue agregado varias veces al mismo pedido.\n",
    "     \n",
    "     He investigado que en estos casos, se conserva un solo registro por combinación de order_id y product_id, así con este proceso asegura que cada pedido contenga entradas únicas por producto, eliminando posibles errores de registro o duplicaciones accidentales."
   ]
  },
  {
   "cell_type": "markdown",
   "id": "1e46de76",
   "metadata": {
    "id": "1e46de76"
   },
   "source": [
    "## Encuentra y elimina los valores ausentes\n",
    "\n",
    "Al trabajar con valores duplicados, pudimos observar que también nos falta investigar valores ausentes:\n",
    "\n",
    "* La columna `'product_name'` de la tabla products.\n",
    "* La columna `'days_since_prior_order'` de la tabla orders.\n",
    "* La columna `'add_to_cart_order'` de la tabla order_productos."
   ]
  },
  {
   "cell_type": "markdown",
   "id": "c0aebd78",
   "metadata": {
    "id": "c0aebd78"
   },
   "source": [
    "### `products` data frame"
   ]
  },
  {
   "cell_type": "code",
   "execution_count": 24,
   "id": "fe4a8b0f",
   "metadata": {
    "id": "fe4a8b0f"
   },
   "outputs": [
    {
     "name": "stdout",
     "output_type": "stream",
     "text": [
      "Número de nombres de productos ausentes: 1258\n"
     ]
    },
    {
     "data": {
      "text/html": [
       "<div>\n",
       "<style scoped>\n",
       "    .dataframe tbody tr th:only-of-type {\n",
       "        vertical-align: middle;\n",
       "    }\n",
       "\n",
       "    .dataframe tbody tr th {\n",
       "        vertical-align: top;\n",
       "    }\n",
       "\n",
       "    .dataframe thead th {\n",
       "        text-align: right;\n",
       "    }\n",
       "</style>\n",
       "<table border=\"1\" class=\"dataframe\">\n",
       "  <thead>\n",
       "    <tr style=\"text-align: right;\">\n",
       "      <th></th>\n",
       "      <th>product_id</th>\n",
       "      <th>product_name</th>\n",
       "      <th>aisle_id</th>\n",
       "      <th>department_id</th>\n",
       "    </tr>\n",
       "  </thead>\n",
       "  <tbody>\n",
       "    <tr>\n",
       "      <th>37</th>\n",
       "      <td>38</td>\n",
       "      <td>NaN</td>\n",
       "      <td>100</td>\n",
       "      <td>21</td>\n",
       "    </tr>\n",
       "    <tr>\n",
       "      <th>71</th>\n",
       "      <td>72</td>\n",
       "      <td>NaN</td>\n",
       "      <td>100</td>\n",
       "      <td>21</td>\n",
       "    </tr>\n",
       "    <tr>\n",
       "      <th>109</th>\n",
       "      <td>110</td>\n",
       "      <td>NaN</td>\n",
       "      <td>100</td>\n",
       "      <td>21</td>\n",
       "    </tr>\n",
       "    <tr>\n",
       "      <th>296</th>\n",
       "      <td>297</td>\n",
       "      <td>NaN</td>\n",
       "      <td>100</td>\n",
       "      <td>21</td>\n",
       "    </tr>\n",
       "    <tr>\n",
       "      <th>416</th>\n",
       "      <td>417</td>\n",
       "      <td>NaN</td>\n",
       "      <td>100</td>\n",
       "      <td>21</td>\n",
       "    </tr>\n",
       "    <tr>\n",
       "      <th>...</th>\n",
       "      <td>...</td>\n",
       "      <td>...</td>\n",
       "      <td>...</td>\n",
       "      <td>...</td>\n",
       "    </tr>\n",
       "    <tr>\n",
       "      <th>49552</th>\n",
       "      <td>49553</td>\n",
       "      <td>NaN</td>\n",
       "      <td>100</td>\n",
       "      <td>21</td>\n",
       "    </tr>\n",
       "    <tr>\n",
       "      <th>49574</th>\n",
       "      <td>49575</td>\n",
       "      <td>NaN</td>\n",
       "      <td>100</td>\n",
       "      <td>21</td>\n",
       "    </tr>\n",
       "    <tr>\n",
       "      <th>49640</th>\n",
       "      <td>49641</td>\n",
       "      <td>NaN</td>\n",
       "      <td>100</td>\n",
       "      <td>21</td>\n",
       "    </tr>\n",
       "    <tr>\n",
       "      <th>49663</th>\n",
       "      <td>49664</td>\n",
       "      <td>NaN</td>\n",
       "      <td>100</td>\n",
       "      <td>21</td>\n",
       "    </tr>\n",
       "    <tr>\n",
       "      <th>49668</th>\n",
       "      <td>49669</td>\n",
       "      <td>NaN</td>\n",
       "      <td>100</td>\n",
       "      <td>21</td>\n",
       "    </tr>\n",
       "  </tbody>\n",
       "</table>\n",
       "<p>1258 rows × 4 columns</p>\n",
       "</div>"
      ],
      "text/plain": [
       "       product_id product_name  aisle_id  department_id\n",
       "37             38          NaN       100             21\n",
       "71             72          NaN       100             21\n",
       "109           110          NaN       100             21\n",
       "296           297          NaN       100             21\n",
       "416           417          NaN       100             21\n",
       "...           ...          ...       ...            ...\n",
       "49552       49553          NaN       100             21\n",
       "49574       49575          NaN       100             21\n",
       "49640       49641          NaN       100             21\n",
       "49663       49664          NaN       100             21\n",
       "49668       49669          NaN       100             21\n",
       "\n",
       "[1258 rows x 4 columns]"
      ]
     },
     "metadata": {},
     "output_type": "display_data"
    }
   ],
   "source": [
    "# Encuentra los valores ausentes en la columna 'product_name' \n",
    "missing_product_names = products[products['product_name'].isna()]\n",
    "print(f\"Número de nombres de productos ausentes: {missing_product_names.shape[0]}\")\n",
    "display(missing_product_names)"
   ]
  },
  {
   "cell_type": "markdown",
   "id": "-A6x1AbJhjkp",
   "metadata": {
    "id": "-A6x1AbJhjkp"
   },
   "source": [
    "Describe brevemente cuáles son tus hallazgos.\n",
    "\n",
    "**Número de Valores Ausentes:**\n",
    "\n",
    "*Se identificaron 1,258 nombres de productos ausentes en la columna product_name de la tabla products. Esto representa una proporción considerable de los datos en esta columna, sugiriendo que hay productos en el conjunto de datos que no tienen un nombre asociado.\n",
    "\n",
    "**Patrón en los Valores Ausentes:**\n",
    "\n",
    "*Al observar los IDs de productos con nombres ausentes, se puede notar que muchos de ellos están relacionados con el pasillo con ID 100 y el departamento con ID 21. Esto sugiere que hay un patrón en la forma en que se registraron estos productos, donde los nombres pueden no haberse asignado correctamente durante el proceso de carga de datos."
   ]
  },
  {
   "cell_type": "code",
   "execution_count": 25,
   "id": "e96167bc",
   "metadata": {
    "id": "e96167bc"
   },
   "outputs": [
    {
     "name": "stdout",
     "output_type": "stream",
     "text": [
      "Número de productos ausentes relacionados con aisle_id 100: 1258\n"
     ]
    }
   ],
   "source": [
    "#  ¿Todos los nombres de productos ausentes están relacionados con el pasillo con ID 100?\n",
    "aisle_100_missing = missing_product_names[missing_product_names['aisle_id'] == 100]\n",
    "print(f\"Número de productos ausentes relacionados con aisle_id 100: {aisle_100_missing.shape[0]}\")"
   ]
  },
  {
   "cell_type": "markdown",
   "id": "WRpIfXRphpSL",
   "metadata": {
    "id": "WRpIfXRphpSL"
   },
   "source": [
    "Describe brevemente cuáles son tus hallazgos.\n",
    "\n",
    "**Relación con el Pasillo (Aisle ID 100):**\n",
    "\n",
    "*Todos los 1,258 productos con nombres ausentes están relacionados con el pasillo con ID 100. Este hallazgo sugiere que el pasillo en cuestión podría estar siendo utilizado para almacenar productos que no han sido categorizados adecuadamente o que están etiquetados como desconocidos. Esto podría indicar un problema en la gestión de inventario o en el proceso de carga de datos.\n",
    "\n",
    "**Relación con el Departamento (Department ID 21):**\n",
    "\n",
    "*De manera similar, todos los 1,258 productos ausentes también están relacionados con el departamento con ID 21. Esto refuerza la idea de que existe un vínculo entre los productos sin nombre y su clasificación en este departamento específico. Al igual que con el pasillo, esto podría sugerir que los productos en este departamento no están siendo identificados correctamente."
   ]
  },
  {
   "cell_type": "code",
   "execution_count": 26,
   "id": "8fd0a541",
   "metadata": {
    "id": "8fd0a541"
   },
   "outputs": [
    {
     "name": "stdout",
     "output_type": "stream",
     "text": [
      "Número de productos ausentes relacionados con department_id 21: 1258\n"
     ]
    }
   ],
   "source": [
    "# ¿Todos los nombres de productos ausentes están relacionados con el departamento con ID 21?\n",
    "department_21_missing = missing_product_names[missing_product_names['department_id'] == 21]\n",
    "print(f\"Número de productos ausentes relacionados con department_id 21: {department_21_missing.shape[0]}\")"
   ]
  },
  {
   "cell_type": "markdown",
   "id": "qDpdYn1Fht_I",
   "metadata": {
    "id": "qDpdYn1Fht_I"
   },
   "source": [
    "Describe brevemente cuáles son tus hallazgos.\n",
    "\n",
    "**Total de Productos Ausentes:**\n",
    "\n",
    "*Todos los 1,258 productos con nombres ausentes están relacionados con el departamento con ID 21. Este resultado indica que cada uno de los productos sin nombre se encuentra categorizado bajo este departamento específico."
   ]
  },
  {
   "cell_type": "code",
   "execution_count": 27,
   "id": "325c3464",
   "metadata": {
    "id": "325c3464"
   },
   "outputs": [
    {
     "data": {
      "text/html": [
       "<div>\n",
       "<style scoped>\n",
       "    .dataframe tbody tr th:only-of-type {\n",
       "        vertical-align: middle;\n",
       "    }\n",
       "\n",
       "    .dataframe tbody tr th {\n",
       "        vertical-align: top;\n",
       "    }\n",
       "\n",
       "    .dataframe thead th {\n",
       "        text-align: right;\n",
       "    }\n",
       "</style>\n",
       "<table border=\"1\" class=\"dataframe\">\n",
       "  <thead>\n",
       "    <tr style=\"text-align: right;\">\n",
       "      <th></th>\n",
       "      <th>aisle_id</th>\n",
       "      <th>aisle</th>\n",
       "    </tr>\n",
       "  </thead>\n",
       "  <tbody>\n",
       "    <tr>\n",
       "      <th>99</th>\n",
       "      <td>100</td>\n",
       "      <td>missing</td>\n",
       "    </tr>\n",
       "  </tbody>\n",
       "</table>\n",
       "</div>"
      ],
      "text/plain": [
       "    aisle_id    aisle\n",
       "99       100  missing"
      ]
     },
     "metadata": {},
     "output_type": "display_data"
    },
    {
     "data": {
      "text/html": [
       "<div>\n",
       "<style scoped>\n",
       "    .dataframe tbody tr th:only-of-type {\n",
       "        vertical-align: middle;\n",
       "    }\n",
       "\n",
       "    .dataframe tbody tr th {\n",
       "        vertical-align: top;\n",
       "    }\n",
       "\n",
       "    .dataframe thead th {\n",
       "        text-align: right;\n",
       "    }\n",
       "</style>\n",
       "<table border=\"1\" class=\"dataframe\">\n",
       "  <thead>\n",
       "    <tr style=\"text-align: right;\">\n",
       "      <th></th>\n",
       "      <th>department_id</th>\n",
       "      <th>department</th>\n",
       "    </tr>\n",
       "  </thead>\n",
       "  <tbody>\n",
       "    <tr>\n",
       "      <th>20</th>\n",
       "      <td>21</td>\n",
       "      <td>missing</td>\n",
       "    </tr>\n",
       "  </tbody>\n",
       "</table>\n",
       "</div>"
      ],
      "text/plain": [
       "    department_id department\n",
       "20             21    missing"
      ]
     },
     "metadata": {},
     "output_type": "display_data"
    }
   ],
   "source": [
    "# Usa las tablas department y aisle para revisar los datos del pasillo con ID 100 y el departamento con ID 21.\n",
    "aisle_info = aisles[aisles['aisle_id'] == 100]\n",
    "department_info = departments[departments['department_id'] == 21]\n",
    "display(aisle_info)\n",
    "display(department_info)"
   ]
  },
  {
   "cell_type": "markdown",
   "id": "nqhSTUPhhvEJ",
   "metadata": {
    "id": "nqhSTUPhhvEJ"
   },
   "source": [
    "Describe brevemente cuáles son tus hallazgos.\n",
    "\n",
    "**Información del Pasillo (Aisle ID 100):**\n",
    "\n",
    "*El pasillo con ID 100 está etiquetado como \"missing\". Esto implica que no se ha proporcionado una descripción adecuada para este pasillo, lo que puede generar confusión sobre su contenido y afectar la navegación de los clientes dentro de la tienda.\n",
    "\n",
    "**Información del Departamento (Department ID 21):*\n",
    "\n",
    "*El departamento con ID 21 también está etiquetado como \"missing\". Al igual que el pasillo, esta falta de descripción sugiere que no hay información clara sobre qué productos se encuentran en este departamento."
   ]
  },
  {
   "cell_type": "code",
   "execution_count": 28,
   "id": "6b295120",
   "metadata": {
    "id": "6b295120"
   },
   "outputs": [
    {
     "name": "stdout",
     "output_type": "stream",
     "text": [
      "Nombres de productos ausentes completados como 'Unknown'.\n"
     ]
    }
   ],
   "source": [
    "# Completa los nombres de productos ausentes con 'Unknown'\n",
    "products['product_name'].fillna('Unknown', inplace=True)\n",
    "print(\"Nombres de productos ausentes completados como 'Unknown'.\")"
   ]
  },
  {
   "cell_type": "markdown",
   "id": "fc70e5ad",
   "metadata": {
    "id": "fc70e5ad"
   },
   "source": [
    "Describe brevemente tus hallazgos y lo que hiciste con ellos.\n",
    "\n",
    "**Identificación de Valores Ausentes:**\n",
    "\n",
    "*Durante el análisis de la tabla de productos, se identificaron 1,258 nombres de productos ausentes en la columna product_name. Esto representaba una porción significativa de la base de datos de productos.\n",
    "\n",
    "**Razonamiento Detrás de la Completar con 'Unknown':**\n",
    "\n",
    "*Dado que la ausencia de nombres de productos puede causar confusión y afectar las operaciones comerciales, decidí completar estos valores faltantes con la etiqueta 'Unknown'. Esto permite que los registros permanezcan en la base de datos y evita la pérdida de información asociada con los productos que no tienen un nombre específico.\n",
    "Al utilizar 'Unknown', los productos pueden seguir siendo referenciados en el sistema, lo que permite realizar análisis y operaciones, aunque con una advertencia sobre la falta de información detallada*\n",
    "\n",
    "**Implementación:**\n",
    "\n",
    "    Utilicé la función fillna() de Pandas para reemplazar todos los valores ausentes en la columna product_name con 'Unknown'. La acción se llevó a cabo en el marco de datos original, asegurando que el cambio se aplicara directamente.\n",
    "    Se imprimió un mensaje confirmando que los nombres de productos ausentes se completaron exitosamente."
   ]
  },
  {
   "cell_type": "code",
   "execution_count": 29,
   "id": "93e41d96",
   "metadata": {
    "id": "93e41d96"
   },
   "outputs": [
    {
     "name": "stdout",
     "output_type": "stream",
     "text": [
      "Número de pedidos con valores ausentes: 28817\n"
     ]
    },
    {
     "data": {
      "text/html": [
       "<div>\n",
       "<style scoped>\n",
       "    .dataframe tbody tr th:only-of-type {\n",
       "        vertical-align: middle;\n",
       "    }\n",
       "\n",
       "    .dataframe tbody tr th {\n",
       "        vertical-align: top;\n",
       "    }\n",
       "\n",
       "    .dataframe thead th {\n",
       "        text-align: right;\n",
       "    }\n",
       "</style>\n",
       "<table border=\"1\" class=\"dataframe\">\n",
       "  <thead>\n",
       "    <tr style=\"text-align: right;\">\n",
       "      <th></th>\n",
       "      <th>order_id</th>\n",
       "      <th>user_id</th>\n",
       "      <th>order_number</th>\n",
       "      <th>order_dow</th>\n",
       "      <th>order_hour_of_day</th>\n",
       "      <th>days_since_prior_order</th>\n",
       "    </tr>\n",
       "  </thead>\n",
       "  <tbody>\n",
       "    <tr>\n",
       "      <th>28</th>\n",
       "      <td>133707</td>\n",
       "      <td>182261</td>\n",
       "      <td>1</td>\n",
       "      <td>3</td>\n",
       "      <td>10</td>\n",
       "      <td>NaN</td>\n",
       "    </tr>\n",
       "    <tr>\n",
       "      <th>96</th>\n",
       "      <td>787445</td>\n",
       "      <td>25685</td>\n",
       "      <td>1</td>\n",
       "      <td>6</td>\n",
       "      <td>18</td>\n",
       "      <td>NaN</td>\n",
       "    </tr>\n",
       "    <tr>\n",
       "      <th>100</th>\n",
       "      <td>294410</td>\n",
       "      <td>111449</td>\n",
       "      <td>1</td>\n",
       "      <td>0</td>\n",
       "      <td>19</td>\n",
       "      <td>NaN</td>\n",
       "    </tr>\n",
       "    <tr>\n",
       "      <th>103</th>\n",
       "      <td>2869915</td>\n",
       "      <td>123958</td>\n",
       "      <td>1</td>\n",
       "      <td>4</td>\n",
       "      <td>16</td>\n",
       "      <td>NaN</td>\n",
       "    </tr>\n",
       "    <tr>\n",
       "      <th>104</th>\n",
       "      <td>2521921</td>\n",
       "      <td>42286</td>\n",
       "      <td>1</td>\n",
       "      <td>3</td>\n",
       "      <td>18</td>\n",
       "      <td>NaN</td>\n",
       "    </tr>\n",
       "    <tr>\n",
       "      <th>...</th>\n",
       "      <td>...</td>\n",
       "      <td>...</td>\n",
       "      <td>...</td>\n",
       "      <td>...</td>\n",
       "      <td>...</td>\n",
       "      <td>...</td>\n",
       "    </tr>\n",
       "    <tr>\n",
       "      <th>478895</th>\n",
       "      <td>2589657</td>\n",
       "      <td>205028</td>\n",
       "      <td>1</td>\n",
       "      <td>0</td>\n",
       "      <td>16</td>\n",
       "      <td>NaN</td>\n",
       "    </tr>\n",
       "    <tr>\n",
       "      <th>478896</th>\n",
       "      <td>2222353</td>\n",
       "      <td>141211</td>\n",
       "      <td>1</td>\n",
       "      <td>2</td>\n",
       "      <td>13</td>\n",
       "      <td>NaN</td>\n",
       "    </tr>\n",
       "    <tr>\n",
       "      <th>478922</th>\n",
       "      <td>2272807</td>\n",
       "      <td>204154</td>\n",
       "      <td>1</td>\n",
       "      <td>1</td>\n",
       "      <td>15</td>\n",
       "      <td>NaN</td>\n",
       "    </tr>\n",
       "    <tr>\n",
       "      <th>478926</th>\n",
       "      <td>2499542</td>\n",
       "      <td>68810</td>\n",
       "      <td>1</td>\n",
       "      <td>4</td>\n",
       "      <td>19</td>\n",
       "      <td>NaN</td>\n",
       "    </tr>\n",
       "    <tr>\n",
       "      <th>478945</th>\n",
       "      <td>1387033</td>\n",
       "      <td>22496</td>\n",
       "      <td>1</td>\n",
       "      <td>5</td>\n",
       "      <td>14</td>\n",
       "      <td>NaN</td>\n",
       "    </tr>\n",
       "  </tbody>\n",
       "</table>\n",
       "<p>28817 rows × 6 columns</p>\n",
       "</div>"
      ],
      "text/plain": [
       "        order_id  user_id  order_number  order_dow  order_hour_of_day  \\\n",
       "28        133707   182261             1          3                 10   \n",
       "96        787445    25685             1          6                 18   \n",
       "100       294410   111449             1          0                 19   \n",
       "103      2869915   123958             1          4                 16   \n",
       "104      2521921    42286             1          3                 18   \n",
       "...          ...      ...           ...        ...                ...   \n",
       "478895   2589657   205028             1          0                 16   \n",
       "478896   2222353   141211             1          2                 13   \n",
       "478922   2272807   204154             1          1                 15   \n",
       "478926   2499542    68810             1          4                 19   \n",
       "478945   1387033    22496             1          5                 14   \n",
       "\n",
       "        days_since_prior_order  \n",
       "28                         NaN  \n",
       "96                         NaN  \n",
       "100                        NaN  \n",
       "103                        NaN  \n",
       "104                        NaN  \n",
       "...                        ...  \n",
       "478895                     NaN  \n",
       "478896                     NaN  \n",
       "478922                     NaN  \n",
       "478926                     NaN  \n",
       "478945                     NaN  \n",
       "\n",
       "[28817 rows x 6 columns]"
      ]
     },
     "metadata": {},
     "output_type": "display_data"
    }
   ],
   "source": [
    "# Encuentra los valores ausentes\n",
    "missing_orders = instacart_order[instacart_order.isna().any(axis=1)]\n",
    "print(f\"Número de pedidos con valores ausentes: {missing_orders.shape[0]}\")\n",
    "display(missing_orders)"
   ]
  },
  {
   "cell_type": "code",
   "execution_count": 30,
   "id": "166e5a86",
   "metadata": {
    "id": "166e5a86"
   },
   "outputs": [
    {
     "name": "stdout",
     "output_type": "stream",
     "text": [
      "Número de pedidos con valores ausentes que no son el primer pedido: 0\n"
     ]
    }
   ],
   "source": [
    "# ¿Hay algún valor ausente que no sea el primer pedido del cliente?\n",
    "non_first_order_missing = missing_orders[missing_orders['order_number'] != 1]\n",
    "print(f\"Número de pedidos con valores ausentes que no son el primer pedido: {non_first_order_missing.shape[0]}\")"
   ]
  },
  {
   "cell_type": "markdown",
   "id": "4e23d089",
   "metadata": {
    "id": "4e23d089"
   },
   "source": [
    "Describe brevemente tus hallazgos y lo que hiciste con ellos.\n",
    "\n",
    "**Hallazgos**\n",
    "\n",
    "*Identificación de Valores Ausentes:*\n",
    "\n",
    "    Se encontraron 28,817 pedidos con al menos un valor ausente en el DataFrame instacart_order. Esto representa un porcentaje significativo del total de pedidos y podría sugerir problemas en la recopilación de datos, errores de entrada o que ciertos campos no se registran de manera consistente.\n",
    "\n",
    "*Evaluación de Pedidos No Primeros:*\n",
    "\n",
    "    Al verificar si había pedidos con valores ausentes que no fueran el primer pedido del cliente, se encontró que no hay pedidos con valores ausentes que no sean el primer pedido. Esto indica que todos los pedidos con datos faltantes son efectivamente el primer pedido para cada cliente.\n",
    "\n",
    "**Acciones Realizadas:\n",
    "\n",
    "*Registro y evaluación de los valores ausentes en el DataFrame para comprender mejor la calidad de los datos.\n",
    "Discusión sobre la implicación de los valores ausentes en los primeros pedidos, sugiriendo que ciertos campos pueden ser opcionales o no aplicables en estos casos. Esto ayuda a guiar las decisiones sobre el manejo de los datos en futuros análisis.*"
   ]
  },
  {
   "cell_type": "markdown",
   "id": "69dc9ca4",
   "metadata": {
    "id": "69dc9ca4"
   },
   "source": [
    "### `order_products` data frame"
   ]
  },
  {
   "cell_type": "code",
   "execution_count": 31,
   "id": "b8240253",
   "metadata": {
    "id": "b8240253"
   },
   "outputs": [
    {
     "name": "stdout",
     "output_type": "stream",
     "text": [
      "Número de registros en order_products con valores ausentes: 836\n"
     ]
    },
    {
     "data": {
      "text/html": [
       "<div>\n",
       "<style scoped>\n",
       "    .dataframe tbody tr th:only-of-type {\n",
       "        vertical-align: middle;\n",
       "    }\n",
       "\n",
       "    .dataframe tbody tr th {\n",
       "        vertical-align: top;\n",
       "    }\n",
       "\n",
       "    .dataframe thead th {\n",
       "        text-align: right;\n",
       "    }\n",
       "</style>\n",
       "<table border=\"1\" class=\"dataframe\">\n",
       "  <thead>\n",
       "    <tr style=\"text-align: right;\">\n",
       "      <th></th>\n",
       "      <th>order_id</th>\n",
       "      <th>product_id</th>\n",
       "      <th>add_to_cart_order</th>\n",
       "      <th>reordered</th>\n",
       "    </tr>\n",
       "  </thead>\n",
       "  <tbody>\n",
       "    <tr>\n",
       "      <th>737</th>\n",
       "      <td>2449164</td>\n",
       "      <td>5068</td>\n",
       "      <td>NaN</td>\n",
       "      <td>0</td>\n",
       "    </tr>\n",
       "    <tr>\n",
       "      <th>9926</th>\n",
       "      <td>1968313</td>\n",
       "      <td>43867</td>\n",
       "      <td>NaN</td>\n",
       "      <td>0</td>\n",
       "    </tr>\n",
       "    <tr>\n",
       "      <th>14394</th>\n",
       "      <td>2926893</td>\n",
       "      <td>11688</td>\n",
       "      <td>NaN</td>\n",
       "      <td>0</td>\n",
       "    </tr>\n",
       "    <tr>\n",
       "      <th>16418</th>\n",
       "      <td>1717990</td>\n",
       "      <td>4142</td>\n",
       "      <td>NaN</td>\n",
       "      <td>0</td>\n",
       "    </tr>\n",
       "    <tr>\n",
       "      <th>30114</th>\n",
       "      <td>1959075</td>\n",
       "      <td>42828</td>\n",
       "      <td>NaN</td>\n",
       "      <td>1</td>\n",
       "    </tr>\n",
       "    <tr>\n",
       "      <th>...</th>\n",
       "      <td>...</td>\n",
       "      <td>...</td>\n",
       "      <td>...</td>\n",
       "      <td>...</td>\n",
       "    </tr>\n",
       "    <tr>\n",
       "      <th>4505662</th>\n",
       "      <td>1800005</td>\n",
       "      <td>7411</td>\n",
       "      <td>NaN</td>\n",
       "      <td>0</td>\n",
       "    </tr>\n",
       "    <tr>\n",
       "      <th>4511400</th>\n",
       "      <td>1633337</td>\n",
       "      <td>260</td>\n",
       "      <td>NaN</td>\n",
       "      <td>0</td>\n",
       "    </tr>\n",
       "    <tr>\n",
       "      <th>4517562</th>\n",
       "      <td>404157</td>\n",
       "      <td>9517</td>\n",
       "      <td>NaN</td>\n",
       "      <td>0</td>\n",
       "    </tr>\n",
       "    <tr>\n",
       "      <th>4534112</th>\n",
       "      <td>1673227</td>\n",
       "      <td>17835</td>\n",
       "      <td>NaN</td>\n",
       "      <td>0</td>\n",
       "    </tr>\n",
       "    <tr>\n",
       "      <th>4535739</th>\n",
       "      <td>1832957</td>\n",
       "      <td>17949</td>\n",
       "      <td>NaN</td>\n",
       "      <td>1</td>\n",
       "    </tr>\n",
       "  </tbody>\n",
       "</table>\n",
       "<p>836 rows × 4 columns</p>\n",
       "</div>"
      ],
      "text/plain": [
       "         order_id  product_id  add_to_cart_order  reordered\n",
       "737       2449164        5068                NaN          0\n",
       "9926      1968313       43867                NaN          0\n",
       "14394     2926893       11688                NaN          0\n",
       "16418     1717990        4142                NaN          0\n",
       "30114     1959075       42828                NaN          1\n",
       "...           ...         ...                ...        ...\n",
       "4505662   1800005        7411                NaN          0\n",
       "4511400   1633337         260                NaN          0\n",
       "4517562    404157        9517                NaN          0\n",
       "4534112   1673227       17835                NaN          0\n",
       "4535739   1832957       17949                NaN          1\n",
       "\n",
       "[836 rows x 4 columns]"
      ]
     },
     "metadata": {},
     "output_type": "display_data"
    }
   ],
   "source": [
    "# Encuentra los valores ausentes\n",
    "missing_order_products = order_products[order_products.isna().any(axis=1)]\n",
    "print(f\"Número de registros en order_products con valores ausentes: {missing_order_products.shape[0]}\")\n",
    "display(missing_order_products)"
   ]
  },
  {
   "cell_type": "code",
   "execution_count": 32,
   "id": "9a78e5ee",
   "metadata": {
    "id": "9a78e5ee"
   },
   "outputs": [
    {
     "name": "stdout",
     "output_type": "stream",
     "text": [
      "Valor mínimo en 'add_to_cart_order': 1.0\n",
      "Valor máximo en 'add_to_cart_order': 64.0\n"
     ]
    }
   ],
   "source": [
    "# ¿Cuáles son los valores mínimos y máximos en esta columna?\n",
    "print(\"Valor mínimo en 'add_to_cart_order':\", order_products['add_to_cart_order'].min())\n",
    "print(\"Valor máximo en 'add_to_cart_order':\", order_products['add_to_cart_order'].max())"
   ]
  },
  {
   "cell_type": "markdown",
   "id": "-Z2Ja215jW78",
   "metadata": {
    "id": "-Z2Ja215jW78"
   },
   "source": [
    "Describe brevemente cuáles son tus hallazgos.\n",
    "\n",
    "**Identificación de Valores Ausentes:**\n",
    "\n",
    "Se encontraron 836 registros en el DataFrame order_products que contienen valores ausentes. Esto representa una pequeña proporción del total de registros, pero sigue siendo significativo para el análisis y la integridad de los datos.\n",
    "Los valores ausentes se encuentran en la columna add_to_cart_order, que indica el orden en que los productos fueron añadidos al carrito. Esto es relevante porque puede influir en la interpretación del comportamiento del cliente y en el análisis de las decisiones de compra.\n",
    "\n",
    "**Valores Mínimos y Máximos:**\n",
    "\n",
    "El valor mínimo en la columna add_to_cart_order es 1.0, lo que indica que el primer artículo en el carrito siempre tiene un índice de 1, como se esperaba.\n",
    "El valor máximo en esta columna es 64.0, lo que sugiere que un solo pedido puede contener hasta 64 productos diferentes. Este rango indica una gran variedad en la cantidad de productos que los clientes pueden seleccionar en un solo pedido."
   ]
  },
  {
   "cell_type": "code",
   "execution_count": 33,
   "id": "ab9d0c2b",
   "metadata": {
    "id": "ab9d0c2b"
   },
   "outputs": [
    {
     "name": "stdout",
     "output_type": "stream",
     "text": [
      "IDs de pedidos con valores ausentes en 'add_to_cart_order': [2449164 1968313 2926893 1717990 1959075  844733   61355  936852  264710\n",
      " 1564093  129627  293169 2849370 1386261 3308010  903110 2136777 3347453\n",
      " 1888628  165801 2094761 1038146 2997021  813364 2256933  171934 2409109\n",
      " 1730767 1169835  733526  404157 3125735  747668 1800005 1961723  871281\n",
      "  388234 1648217 1477139  102236 1021563 1832957 2721963  678116 1220886\n",
      " 1673227 2999801 1633337 2470674 2625444 1677118 2479011 3383594 1183255\n",
      " 1713430 2652650 1598369 1916118  854647 1302315  888470  180546 2621907\n",
      " 1308785 2729254    9310 2170451 2979697 1625713 1529171]\n"
     ]
    }
   ],
   "source": [
    "# Guarda todas las IDs de pedidos que tengan un valor ausente en 'add_to_cart_order'\n",
    "missing_add_to_cart_orders = missing_order_products['order_id'].unique()\n",
    "print(f\"IDs de pedidos con valores ausentes en 'add_to_cart_order': {missing_add_to_cart_orders}\")"
   ]
  },
  {
   "cell_type": "code",
   "execution_count": 34,
   "id": "54c31695",
   "metadata": {
    "id": "54c31695"
   },
   "outputs": [
    {
     "name": "stdout",
     "output_type": "stream",
     "text": [
      "Conteo mínimo de productos en pedidos con valores ausentes: 1\n"
     ]
    }
   ],
   "source": [
    "# ¿Todos los pedidos con valores ausentes tienen más de 64 productos?\n",
    "# Agrupa todos los pedidos con datos ausentes por su ID de pedido.\n",
    "# Cuenta el número de 'product_id' en cada pedido y revisa el valor mínimo del conteo.\n",
    "grouped_missing_orders = missing_order_products.groupby('order_id').size()\n",
    "min_count_missing = grouped_missing_orders.min()\n",
    "print(f\"Conteo mínimo de productos en pedidos con valores ausentes: {min_count_missing}\")"
   ]
  },
  {
   "cell_type": "markdown",
   "id": "p9V6pddtjglj",
   "metadata": {
    "id": "p9V6pddtjglj"
   },
   "source": [
    "Describe brevemente cuáles son tus hallazgos.\n",
    "\n",
    "**IDs de Pedidos con Valores Ausentes:**\n",
    "\n",
    "Se identificaron un total de 70 IDs de pedidos que tienen valores ausentes en la columna add_to_cart_order. Esto indica que, en al menos esos pedidos, no se registró el orden en que se añadieron los productos al carrito.\n",
    "\n",
    "**Conteo de Productos en Pedidos con Valores Ausentes:**\n",
    "\n",
    "Al agrupar los pedidos con valores ausentes por su ID, se determinó que el conteo mínimo de productos en estos pedidos es 1. Esto significa que, en algunos casos, un pedido con un producto solo tiene un valor ausente en add_to_cart_order.\n",
    "Esto implica que no todos los pedidos con valores ausentes tienen más de 64 productos, ya que hay al menos un pedido con solo un producto."
   ]
  },
  {
   "cell_type": "code",
   "execution_count": 35,
   "id": "7a987d08",
   "metadata": {
    "id": "7a987d08"
   },
   "outputs": [
    {
     "name": "stdout",
     "output_type": "stream",
     "text": [
      "Valores ausentes en 'add_to_cart_order' reemplazados por 999 y convertidos a tipo entero.\n"
     ]
    }
   ],
   "source": [
    "# Remplaza los valores ausentes en la columna 'add_to_cart? con 999 y convierte la columna al tipo entero.\n",
    "order_products['add_to_cart_order'].fillna(999, inplace=True)\n",
    "order_products['add_to_cart_order'] = order_products['add_to_cart_order'].astype(int)\n",
    "print(\"Valores ausentes en 'add_to_cart_order' reemplazados por 999 y convertidos a tipo entero.\")"
   ]
  },
  {
   "cell_type": "markdown",
   "id": "fea4bcc7",
   "metadata": {
    "id": "fea4bcc7"
   },
   "source": [
    "Describe brevemente tus hallazgos y lo que hiciste con ellos.\n",
    "\n",
    "**Reemplazo de Valores Ausentes:**\n",
    "\n",
    "Se reemplazaron los valores ausentes en la columna add_to_cart_order con el valor 999. Esta elección de valor es importante, ya que 999 es un número que no se utilizará naturalmente en el contexto de los pedidos de productos, donde los valores típicos van de 1 a 64 (que representan la posición de los productos en el carrito).\n",
    "\n",
    "**Conversión a Tipo Entero:**\n",
    "\n",
    "Después del reemplazo, la columna add_to_cart_order se convirtió al tipo entero. Esto asegura que los datos sean consistentes y que cualquier análisis posterior se pueda realizar sin problemas de tipo de dato."
   ]
  },
  {
   "cell_type": "markdown",
   "id": "RnplPFY1gSrb",
   "metadata": {
    "id": "RnplPFY1gSrb"
   },
   "source": [
    "## Conclusiones\n",
    "\n",
    "### Conclusiones Intermedias sobre el Paso 2: Preprocesamiento de los Datos\n",
    "\n",
    "    El preprocesamiento de los datos es un paso crucial en el análisis de datos, ya que establece la calidad y la integridad de la información que se utilizará en el análisis posterior. A través de la identificación y el manejo de valores ausentes en las tres tablas clave (products, orders y order_products), se han realizado las siguientes observaciones y acciones:\n",
    "\n",
    "**Identificación de Valores Ausentes:**\n",
    "\n",
    "* En la tabla products, se encontraron 1,258 nombres de productos ausentes, todos asociados con el pasillo ID 100 y el departamento ID 21. Esto indica un problema de categorización o registro que debería ser investigado más a fondo.\n",
    "\n",
    "* En la tabla orders, se registraron 28,817 pedidos con al menos un valor ausente, todos relacionados con el primer pedido del cliente, lo que sugiere que ciertos campos pueden ser opcionales en estas entradas.\n",
    "\n",
    "* En la tabla order_products, se identificaron 836 registros con valores ausentes en la columna add_to_cart_order. Este hallazgo es relevante ya que puede impactar la comprensión del comportamiento del cliente y las decisiones de compra.\n",
    "\n",
    "**Patrones Observados:**\n",
    "\n",
    "* La ausencia de nombres de productos en la tabla products parece estar concentrada en un área específica del inventario, lo que sugiere que los productos en esa categoría no están siendo bien gestionados o etiquetados. Esto podría afectar la experiencia del cliente y la gestión del inventario.\n",
    "\n",
    "* La ausencia de datos en la tabla orders se relaciona únicamente con los primeros pedidos de los clientes, lo que podría indicar que se necesita revisar el proceso de entrada de datos para esos casos específicos.\n",
    "\n",
    "* En la tabla order_products, los pedidos con valores ausentes no necesariamente tienen una gran cantidad de productos, lo que muestra que incluso un solo producto puede estar mal documentado.\n",
    "\n",
    "**Acciones Realizadas:**\n",
    "\n",
    "* Se decidió reemplazar los nombres de productos ausentes con la etiqueta 'Unknown' para mantener la integridad de la base de datos sin eliminar los registros. Esto asegura que los análisis futuros puedan incluir estos productos, aunque con una advertencia sobre la falta de información.\n",
    "\n",
    "* En la columna add_to_cart_order de la tabla order_products, los valores ausentes fueron reemplazados por 999 y convertidos al tipo entero. Este valor es fácilmente identificable como un marcador de datos ausentes y permite que el análisis se realice sin interrupciones por problemas de tipo de dato.\n",
    "\n",
    "***Es crucial investigar las causas de los valores ausentes, especialmente en el pasillo ID 100 y el departamento ID 21, para mejorar la calidad de los datos y la gestión del inventario.\n",
    "Se sugiere implementar controles en el sistema de entrada de datos para prevenir la falta de información en futuros registros, especialmente en los primeros pedidos de los clientes.\n",
    "Se debería evaluar el impacto de los valores marcados como 'Unknown' y 999 en el análisis posterior, asegurando que se manejen adecuadamente para no afectar las conclusiones.***\n",
    "\n",
    "***En resumen, el preprocesamiento ha permitido identificar y abordar problemas significativos relacionados con la calidad de los datos, sentando una base sólida para análisis más profundos y significativos en pasos posteriores. La atención a los valores ausentes es fundamental para garantizar la precisión y utilidad de los análisis futuros.***"
   ]
  },
  {
   "cell_type": "markdown",
   "id": "UjrOIwTcz3ri",
   "metadata": {
    "id": "UjrOIwTcz3ri"
   },
   "source": [
    "# Paso 3. Análisis de los datos\n",
    "\n",
    "Una vez los datos estén procesados y listos, haz el siguiente análisis:"
   ]
  },
  {
   "cell_type": "markdown",
   "id": "turkish-kidney",
   "metadata": {
    "id": "turkish-kidney"
   },
   "source": [
    "# [A] Fácil (deben completarse todos para aprobar)\n",
    "\n",
    "1. Verifica que los valores en las columnas `'order_hour_of_day'` y `'order_dow'` en la tabla orders sean razonables (es decir, `'order_hour_of_day'` oscile entre 0 y 23 y `'order_dow'` oscile entre 0 y 6).\n",
    "2. Crea un gráfico que muestre el número de personas que hacen pedidos dependiendo de la hora del día.\n",
    "3. Crea un gráfico que muestre qué día de la semana la gente hace sus compras.\n",
    "4. Crea un gráfico que muestre el tiempo que la gente espera hasta hacer su siguiente pedido, y comenta sobre los valores mínimos y máximos."
   ]
  },
  {
   "cell_type": "markdown",
   "id": "short-capability",
   "metadata": {
    "id": "short-capability"
   },
   "source": [
    "### [A1] Verifica que los valores sean sensibles"
   ]
  },
  {
   "cell_type": "code",
   "execution_count": 36,
   "id": "growing-fruit",
   "metadata": {
    "id": "growing-fruit"
   },
   "outputs": [
    {
     "name": "stdout",
     "output_type": "stream",
     "text": [
      "Todos los valores en 'order_hour_of_day' están en el rango de 0 a 23.\n"
     ]
    }
   ],
   "source": [
    "try:\n",
    "    assert instacart_order['order_hour_of_day'].between(0, 23).all(), \"order_hour_of_day fuera del rango 0-23\"\n",
    "    print(\"Todos los valores en 'order_hour_of_day' están en el rango de 0 a 23.\")\n",
    "except AssertionError as e:\n",
    "    print(e)"
   ]
  },
  {
   "cell_type": "code",
   "execution_count": 37,
   "id": "accessory-malaysia",
   "metadata": {
    "id": "accessory-malaysia"
   },
   "outputs": [
    {
     "name": "stdout",
     "output_type": "stream",
     "text": [
      "Todos los valores en 'order_dow' están en el rango de 0 a 6.\n"
     ]
    }
   ],
   "source": [
    "try:\n",
    "    assert instacart_order['order_dow'].between(0, 6).all(), \"order_dow fuera del rango 0-6\"\n",
    "    print(\"Todos los valores en 'order_dow' están en el rango de 0 a 6.\")\n",
    "except AssertionError as e:\n",
    "    print(e)"
   ]
  },
  {
   "cell_type": "markdown",
   "id": "hmR2GNQ6lCsX",
   "metadata": {
    "id": "hmR2GNQ6lCsX"
   },
   "source": [
    "Escribe aquí tus conclusiones.\n",
    "\n",
    "    Los datos en las columnas order_hour_of_day y order_dow han pasado las verificaciones de sensibilidad, lo que es un indicativo positivo para la calidad de los datos en el conjunto."
   ]
  },
  {
   "cell_type": "code",
   "execution_count": 38,
   "id": "a36cca27",
   "metadata": {
    "id": "a36cca27"
   },
   "outputs": [
    {
     "data": {
      "image/png": "[encoded data removed]",
      "text/plain": [
       "<Figure size 1000x600 with 1 Axes>"
      ]
     },
     "metadata": {},
     "output_type": "display_data"
    }
   ],
   "source": [
    "plt.figure(figsize=(10, 6))\n",
    "instacart_order['order_hour_of_day'].value_counts().sort_index().plot(kind='bar')\n",
    "plt.title('Número de pedidos por hora del día')\n",
    "plt.xlabel('Hora del día')\n",
    "plt.ylabel('Número de pedidos')\n",
    "plt.show()"
   ]
  },
  {
   "cell_type": "markdown",
   "id": "11270eed",
   "metadata": {
    "id": "11270eed"
   },
   "source": [
    "Escribe aquí tus conclusiones\n",
    "\n",
    "**Conclusiones:**\n",
    "\n",
    "    Distribución de Pedidos: El gráfico muestra cuántos pedidos se realizan en cada hora del día. Se puede observar que hay un patrón en el comportamiento de los clientes a lo largo del día.\n",
    "\n",
    "    Picos en Horarios: Es probable que se registren picos de actividad durante las horas pico, como el mediodía y la tarde, lo que sugiere que los clientes prefieren hacer sus pedidos durante estas horas en lugar de la madrugada o a horas inusuales.\n",
    "\n",
    "    Implicaciones para Estrategias de Marketing: Conocer las horas de mayor actividad puede ayudar a optimizar estrategias de marketing, promociones y gestión de inventario, para asegurar que los productos estén disponibles durante las horas con mayor demanda."
   ]
  },
  {
   "cell_type": "markdown",
   "id": "documented-command",
   "metadata": {
    "id": "documented-command"
   },
   "source": [
    "### [A3] ¿Qué día de la semana compran víveres las personas?"
   ]
  },
  {
   "cell_type": "code",
   "execution_count": 39,
   "id": "chief-digit",
   "metadata": {
    "id": "chief-digit"
   },
   "outputs": [
    {
     "data": {
      "image/png": "[encoded data removed]",
      "text/plain": [
       "<Figure size 1000x600 with 1 Axes>"
      ]
     },
     "metadata": {},
     "output_type": "display_data"
    }
   ],
   "source": [
    "plt.figure(figsize=(10, 6))\n",
    "instacart_order['order_dow'].value_counts().sort_index().plot(kind='bar')\n",
    "plt.title('Pedidos por día de la semana')\n",
    "plt.xlabel('Día de la semana')\n",
    "plt.ylabel('Número de pedidos')\n",
    "plt.show()"
   ]
  },
  {
   "cell_type": "markdown",
   "id": "dominant-lightning",
   "metadata": {
    "id": "dominant-lightning"
   },
   "source": [
    "Escribe aquí tus conclusiones\n",
    "\n",
    "**Conclusiones:**\n",
    "\n",
    "    Patrón Semanal de Compras: El gráfico revela que los días de la semana afectan el número de pedidos. Es común que los fines de semana, especialmente el sábado y el domingo, tengan más pedidos.\n",
    "\n",
    "    Días Laborales vs. Fin de Semana: Los días laborales pueden mostrar un volumen de pedidos más bajo, sugiriendo que las personas hacen más compras durante el tiempo libre.\n",
    "\n",
    "    Estrategias de Marketing Dirigidas: Comprender en qué días la gente compra más puede ser útil para planificar campañas publicitarias y promociones, así como para gestionar los recursos de manera más efectiva."
   ]
  },
  {
   "cell_type": "markdown",
   "id": "cutting-concert",
   "metadata": {
    "id": "cutting-concert"
   },
   "source": [
    "### [A4] ¿Cuánto tiempo esperan las personas hasta hacer otro pedido? Comenta sobre los valores mínimos y máximos."
   ]
  },
  {
   "cell_type": "code",
   "execution_count": 40,
   "id": "c231f523",
   "metadata": {
    "id": "c231f523"
   },
   "outputs": [
    {
     "data": {
      "image/png": "[encoded data removed]",
      "text/plain": [
       "<Figure size 1000x600 with 1 Axes>"
      ]
     },
     "metadata": {},
     "output_type": "display_data"
    }
   ],
   "source": [
    "plt.figure(figsize=(10, 6))\n",
    "instacart_order['days_since_prior_order'].plot(kind='hist', bins=30)\n",
    "plt.title('Distribución de días hasta el próximo pedido')\n",
    "plt.xlabel('Días desde el último pedido')\n",
    "plt.ylabel('Frecuencia')\n",
    "plt.show()"
   ]
  },
  {
   "cell_type": "markdown",
   "id": "discrete-vertex",
   "metadata": {
    "id": "discrete-vertex"
   },
   "source": [
    "Escribe aquí tus conclusiones.\n",
    "\n",
    "**Conclusiones:**\n",
    "\n",
    "    Esperas entre Pedidos: El histograma muestra cómo varía el tiempo que los clientes esperan antes de hacer un nuevo pedido. Se pueden observar tanto días cortos como largos entre pedidos.\n",
    "\n",
    "    Valores Mínimos y Máximos: La mayoría de las frecuencias parecen concentrarse en un rango de días bajos, indicando que muchos clientes tienden a hacer pedidos con frecuencia. Sin embargo, también hay casos de esperas más largas, lo que puede implicar que algunos clientes solo compran ocasionalmente.\n",
    "\n",
    "    Implicaciones de Comportamiento del Cliente: Este comportamiento puede indicar la fidelidad del cliente y sus hábitos de compra. Analizar estos patrones puede ayudar a las empresas a desarrollar estrategias para incentivar compras más frecuentes, como recordatorios o promociones para clientes que no han comprado recientemente."
   ]
  },
  {
   "cell_type": "markdown",
   "id": "tight-staff",
   "metadata": {
    "id": "tight-staff"
   },
   "source": [
    "# [B] Intermedio (deben completarse todos para aprobar)\n",
    "\n",
    "1. ¿Existe alguna diferencia entre las distribuciones `'order_hour_of_day'` de los miércoles y los sábados? Traza gráficos de barra de `'order_hour_of_day'` para ambos días en la misma figura y describe las diferencias que observes.\n",
    "2. Grafica la distribución para el número de órdenes que hacen los clientes (es decir, cuántos clientes hicieron solo 1 pedido, cuántos hicieron 2, cuántos 3, y así sucesivamente...).\n",
    "3. ¿Cuáles son los 20 principales productos que se piden con más frecuencia (muestra su identificación y nombre)?"
   ]
  },
  {
   "cell_type": "markdown",
   "id": "packed-classic",
   "metadata": {
    "id": "packed-classic"
   },
   "source": [
    "### [B1] Diferencia entre miércoles y sábados para  `'order_hour_of_day'`. Traza gráficos de barra para los dos días y describe las diferencias que veas."
   ]
  },
  {
   "cell_type": "code",
   "execution_count": 41,
   "id": "d89b8403",
   "metadata": {
    "id": "d89b8403"
   },
   "outputs": [],
   "source": [
    "wednesday = instacart_order[instacart_order['order_dow'] == 3]['order_hour_of_day']"
   ]
  },
  {
   "cell_type": "code",
   "execution_count": 42,
   "id": "94e54e8a",
   "metadata": {
    "id": "94e54e8a"
   },
   "outputs": [],
   "source": [
    "saturday = instacart_order[instacart_order['order_dow'] == 5]['order_hour_of_day']"
   ]
  },
  {
   "cell_type": "code",
   "execution_count": 43,
   "id": "797c90a8",
   "metadata": {
    "id": "797c90a8"
   },
   "outputs": [
    {
     "data": {
      "image/png": "[encoded data removed]",
      "text/plain": [
       "<Figure size 1200x600 with 1 Axes>"
      ]
     },
     "metadata": {},
     "output_type": "display_data"
    },
    {
     "name": "stdout",
     "output_type": "stream",
     "text": [
      "\n"
     ]
    },
    {
     "data": {
      "image/png": "[encoded data removed]",
      "text/plain": [
       "<Figure size 1200x600 with 1 Axes>"
      ]
     },
     "metadata": {},
     "output_type": "display_data"
    }
   ],
   "source": [
    "plt.figure(figsize=(12, 6))\n",
    "plt.hist(wednesday, bins=24, alpha=0.7, color='blue', edgecolor='black')\n",
    "plt.title('Distribución de la hora de pedidos los miércoles')\n",
    "plt.xlabel('Hora del día')\n",
    "plt.ylabel('Frecuencia')\n",
    "plt.xticks(range(0, 24))  # Establecer marcas de ticks en cada hora\n",
    "plt.grid(axis='y', alpha=0.75)\n",
    "plt.show()\n",
    "print()\n",
    "\n",
    "plt.figure(figsize=(12, 6))\n",
    "plt.hist(saturday, bins=24, alpha=0.7, color='orange', edgecolor='black')\n",
    "plt.title('Distribución de la hora de pedidos los sábados')\n",
    "plt.xlabel('Hora del día')\n",
    "plt.ylabel('Frecuencia')\n",
    "plt.xticks(range(0, 24))  # Establecer marcas de ticks en cada hora\n",
    "plt.grid(axis='y', alpha=0.75)\n",
    "plt.show()"
   ]
  },
  {
   "cell_type": "code",
   "execution_count": 44,
   "id": "35bcea30",
   "metadata": {
    "id": "35bcea30"
   },
   "outputs": [
    {
     "data": {
      "image/png": "[encoded data removed]",
      "text/plain": [
       "<Figure size 1000x600 with 1 Axes>"
      ]
     },
     "metadata": {},
     "output_type": "display_data"
    }
   ],
   "source": [
    "plt.figure(figsize=(10, 6))\n",
    "plt.hist(wednesday, bins=24, alpha=0.5, label='Miércoles')\n",
    "plt.hist(saturday, bins=24, alpha=0.5, label='Sábado')\n",
    "plt.legend()\n",
    "plt.title('Distribución de la hora de pedidos los miércoles y sábados')\n",
    "plt.xlabel('Hora del día')\n",
    "plt.ylabel('Frecuencia')\n",
    "plt.show()"
   ]
  },
  {
   "cell_type": "markdown",
   "id": "e3891143",
   "metadata": {
    "id": "e3891143"
   },
   "source": [
    "### [B2] ¿Cuál es la distribución para el número de pedidos por cliente?"
   ]
  },
  {
   "cell_type": "code",
   "execution_count": 45,
   "id": "d8c26c23",
   "metadata": {
    "id": "d8c26c23"
   },
   "outputs": [],
   "source": [
    "order_counts = instacart_order['user_id'].value_counts()"
   ]
  },
  {
   "cell_type": "code",
   "execution_count": 46,
   "id": "00e69a66",
   "metadata": {
    "id": "00e69a66"
   },
   "outputs": [
    {
     "data": {
      "image/png": "[encoded data removed]",
      "text/plain": [
       "<Figure size 640x480 with 1 Axes>"
      ]
     },
     "metadata": {},
     "output_type": "display_data"
    }
   ],
   "source": [
    "order_counts.plot(kind='hist', bins=30)\n",
    "plt.title('Distribución del número de pedidos por cliente')\n",
    "plt.xlabel('Número de pedidos')\n",
    "plt.ylabel('Frecuencia')\n",
    "plt.show()"
   ]
  },
  {
   "cell_type": "markdown",
   "id": "d2eff7d5",
   "metadata": {
    "id": "d2eff7d5"
   },
   "source": [
    "Escribe aquí tus conclusiones.\n",
    "\n",
    "**Conclusiones:**\n",
    "\n",
    "    La distribución muestra que la mayoría de los clientes realizan un número relativamente bajo de pedidos, con algunos clientes haciendo más pedidos que otros.\n",
    "\n",
    "    Puede observarse un pico en la frecuencia de clientes que hacen de 1 a 5 pedidos, indicando que muchos usuarios son compradores ocasionales.\n",
    "\n",
    "    Un pequeño número de clientes realiza un número significativamente mayor de pedidos, lo que sugiere la existencia de clientes leales o habituales que probablemente utilizan Instacart de manera regular."
   ]
  },
  {
   "cell_type": "markdown",
   "id": "54a0319c",
   "metadata": {
    "id": "54a0319c"
   },
   "source": [
    "### [B3] ¿Cuáles son los 20 productos más populares (muestra su ID y nombre)?"
   ]
  },
  {
   "cell_type": "code",
   "execution_count": 47,
   "id": "exterior-arizona",
   "metadata": {
    "id": "exterior-arizona",
    "scrolled": true
   },
   "outputs": [],
   "source": [
    "top_20_products = order_products['product_id'].value_counts().nlargest(20)"
   ]
  },
  {
   "cell_type": "code",
   "execution_count": 48,
   "id": "universal-facial",
   "metadata": {
    "id": "universal-facial"
   },
   "outputs": [],
   "source": [
    "top_20_products_names = products[products['product_id'].isin(top_20_products.index)]"
   ]
  },
  {
   "cell_type": "code",
   "execution_count": 49,
   "id": "bbcdd20b",
   "metadata": {
    "id": "bbcdd20b"
   },
   "outputs": [
    {
     "data": {
      "text/html": [
       "<div>\n",
       "<style scoped>\n",
       "    .dataframe tbody tr th:only-of-type {\n",
       "        vertical-align: middle;\n",
       "    }\n",
       "\n",
       "    .dataframe tbody tr th {\n",
       "        vertical-align: top;\n",
       "    }\n",
       "\n",
       "    .dataframe thead th {\n",
       "        text-align: right;\n",
       "    }\n",
       "</style>\n",
       "<table border=\"1\" class=\"dataframe\">\n",
       "  <thead>\n",
       "    <tr style=\"text-align: right;\">\n",
       "      <th></th>\n",
       "      <th>product_id</th>\n",
       "      <th>product_name</th>\n",
       "    </tr>\n",
       "  </thead>\n",
       "  <tbody>\n",
       "    <tr>\n",
       "      <th>5875</th>\n",
       "      <td>5876</td>\n",
       "      <td>Organic Lemon</td>\n",
       "    </tr>\n",
       "    <tr>\n",
       "      <th>8276</th>\n",
       "      <td>8277</td>\n",
       "      <td>Apple Honeycrisp Organic</td>\n",
       "    </tr>\n",
       "    <tr>\n",
       "      <th>13175</th>\n",
       "      <td>13176</td>\n",
       "      <td>Bag of Organic Bananas</td>\n",
       "    </tr>\n",
       "    <tr>\n",
       "      <th>16796</th>\n",
       "      <td>16797</td>\n",
       "      <td>Strawberries</td>\n",
       "    </tr>\n",
       "    <tr>\n",
       "      <th>21136</th>\n",
       "      <td>21137</td>\n",
       "      <td>Organic Strawberries</td>\n",
       "    </tr>\n",
       "    <tr>\n",
       "      <th>21902</th>\n",
       "      <td>21903</td>\n",
       "      <td>Organic Baby Spinach</td>\n",
       "    </tr>\n",
       "    <tr>\n",
       "      <th>22934</th>\n",
       "      <td>22935</td>\n",
       "      <td>Organic Yellow Onion</td>\n",
       "    </tr>\n",
       "    <tr>\n",
       "      <th>24851</th>\n",
       "      <td>24852</td>\n",
       "      <td>Banana</td>\n",
       "    </tr>\n",
       "    <tr>\n",
       "      <th>24963</th>\n",
       "      <td>24964</td>\n",
       "      <td>Organic Garlic</td>\n",
       "    </tr>\n",
       "    <tr>\n",
       "      <th>26208</th>\n",
       "      <td>26209</td>\n",
       "      <td>Limes</td>\n",
       "    </tr>\n",
       "    <tr>\n",
       "      <th>27844</th>\n",
       "      <td>27845</td>\n",
       "      <td>Organic Whole Milk</td>\n",
       "    </tr>\n",
       "    <tr>\n",
       "      <th>27965</th>\n",
       "      <td>27966</td>\n",
       "      <td>Organic Raspberries</td>\n",
       "    </tr>\n",
       "    <tr>\n",
       "      <th>28203</th>\n",
       "      <td>28204</td>\n",
       "      <td>Organic Fuji Apple</td>\n",
       "    </tr>\n",
       "    <tr>\n",
       "      <th>39274</th>\n",
       "      <td>39275</td>\n",
       "      <td>Organic Blueberries</td>\n",
       "    </tr>\n",
       "    <tr>\n",
       "      <th>40705</th>\n",
       "      <td>40706</td>\n",
       "      <td>Organic Grape Tomatoes</td>\n",
       "    </tr>\n",
       "    <tr>\n",
       "      <th>45006</th>\n",
       "      <td>45007</td>\n",
       "      <td>Organic Zucchini</td>\n",
       "    </tr>\n",
       "    <tr>\n",
       "      <th>47208</th>\n",
       "      <td>47209</td>\n",
       "      <td>Organic Hass Avocado</td>\n",
       "    </tr>\n",
       "    <tr>\n",
       "      <th>47625</th>\n",
       "      <td>47626</td>\n",
       "      <td>Large Lemon</td>\n",
       "    </tr>\n",
       "    <tr>\n",
       "      <th>47765</th>\n",
       "      <td>47766</td>\n",
       "      <td>Organic Avocado</td>\n",
       "    </tr>\n",
       "    <tr>\n",
       "      <th>49682</th>\n",
       "      <td>49683</td>\n",
       "      <td>Cucumber Kirby</td>\n",
       "    </tr>\n",
       "  </tbody>\n",
       "</table>\n",
       "</div>"
      ],
      "text/plain": [
       "       product_id              product_name\n",
       "5875         5876             Organic Lemon\n",
       "8276         8277  Apple Honeycrisp Organic\n",
       "13175       13176    Bag of Organic Bananas\n",
       "16796       16797              Strawberries\n",
       "21136       21137      Organic Strawberries\n",
       "21902       21903      Organic Baby Spinach\n",
       "22934       22935      Organic Yellow Onion\n",
       "24851       24852                    Banana\n",
       "24963       24964            Organic Garlic\n",
       "26208       26209                     Limes\n",
       "27844       27845        Organic Whole Milk\n",
       "27965       27966       Organic Raspberries\n",
       "28203       28204        Organic Fuji Apple\n",
       "39274       39275       Organic Blueberries\n",
       "40705       40706    Organic Grape Tomatoes\n",
       "45006       45007          Organic Zucchini\n",
       "47208       47209      Organic Hass Avocado\n",
       "47625       47626               Large Lemon\n",
       "47765       47766           Organic Avocado\n",
       "49682       49683            Cucumber Kirby"
      ]
     },
     "metadata": {},
     "output_type": "display_data"
    }
   ],
   "source": [
    "display(top_20_products_names[['product_id', 'product_name']])"
   ]
  },
  {
   "cell_type": "markdown",
   "id": "7df00f47",
   "metadata": {
    "id": "7df00f47"
   },
   "source": [
    "Escribe aquí tus conclusiones,\n",
    "\n",
    "**Conclusiones:**\n",
    "\n",
    "    Los productos más populares incluyen frutas y vegetales orgánicos, lo que indica una preferencia por productos frescos y saludables entre los consumidores.\n",
    "\n",
    "    La variedad de productos también muestra que los clientes están dispuestos a comprar tanto productos básicos como elementos más específicos, como leches orgánicas y aguacates."
   ]
  },
  {
   "cell_type": "markdown",
   "id": "gross-theme",
   "metadata": {
    "id": "gross-theme"
   },
   "source": [
    "# [C] Difícil (deben completarse todos para aprobar)\n",
    "\n",
    "1. ¿Cuántos artículos suelen comprar las personas en un pedido? ¿Cómo es la distribución?\n",
    "2. ¿Cuáles son los 20 principales artículos que vuelven a pedirse con mayor frecuencia (muestra sus nombres e IDs de los productos)?\n",
    "3. Para cada producto, ¿cuál es la tasa de repetición del pedido (número de repeticiones de pedido/total de pedidos?\n",
    "4. Para cada cliente, ¿qué proporción de los productos que pidió ya los había pedido? Calcula la tasa de repetición de pedido para cada usuario en lugar de para cada producto.\n",
    "5. ¿Cuáles son los 20 principales artículos que la gente pone primero en sus carritos (muestra las IDs de los productos, sus nombres, y el número de veces en que fueron el primer artículo en añadirse al carrito)?"
   ]
  },
  {
   "cell_type": "markdown",
   "id": "romantic-deposit",
   "metadata": {
    "id": "romantic-deposit"
   },
   "source": [
    "### [C1] ¿Cuántos artículos compran normalmente las personas en un pedido? ¿Cómo es la distribución?"
   ]
  },
  {
   "cell_type": "code",
   "execution_count": 50,
   "id": "virtual-punch",
   "metadata": {
    "id": "virtual-punch"
   },
   "outputs": [],
   "source": [
    "items_per_order = order_products.groupby('order_id').size()"
   ]
  },
  {
   "cell_type": "code",
   "execution_count": 51,
   "id": "sensitive-breathing",
   "metadata": {
    "id": "sensitive-breathing"
   },
   "outputs": [
    {
     "data": {
      "text/plain": [
       "order_id\n",
       "4          13\n",
       "9          15\n",
       "11          5\n",
       "19          3\n",
       "20          8\n",
       "           ..\n",
       "3421034    17\n",
       "3421053     9\n",
       "3421071     5\n",
       "3421077     4\n",
       "3421079     1\n",
       "Length: 450046, dtype: int64"
      ]
     },
     "metadata": {},
     "output_type": "display_data"
    }
   ],
   "source": [
    "display(items_per_order)"
   ]
  },
  {
   "cell_type": "code",
   "execution_count": 52,
   "id": "completed-frank",
   "metadata": {
    "id": "completed-frank"
   },
   "outputs": [
    {
     "data": {
      "image/png": "[encoded data removed]",
      "text/plain": [
       "<Figure size 640x480 with 1 Axes>"
      ]
     },
     "metadata": {},
     "output_type": "display_data"
    }
   ],
   "source": [
    "items_per_order.plot(kind='hist', bins=30)\n",
    "plt.title('Distribución de la cantidad de artículos por pedido')\n",
    "plt.xlabel('Cantidad de artículos')\n",
    "plt.ylabel('Frecuencia')\n",
    "plt.show()"
   ]
  },
  {
   "cell_type": "markdown",
   "id": "designed-mortality",
   "metadata": {
    "id": "designed-mortality"
   },
   "source": [
    "Escribe aquí tus conclusiones.\n",
    "\n",
    "**Conclusiones:**\n",
    "\n",
    "    La mayoría de los pedidos contienen entre 1 y 10 artículos, con una tendencia a incluir alrededor de 5 artículos en promedio.\n",
    "\n",
    "    Hay un ligero número de pedidos que incluyen más de 10 artículos, sugiriendo que algunos clientes tienden a hacer compras más grandes, posiblemente en la preparación de eventos o reuniones."
   ]
  },
  {
   "cell_type": "code",
   "execution_count": 53,
   "id": "9374e55a",
   "metadata": {
    "id": "9374e55a"
   },
   "outputs": [],
   "source": [
    "top_reordered = order_products[order_products['reordered'] == 1]['product_id'].value_counts().nlargest(20)"
   ]
  },
  {
   "cell_type": "code",
   "execution_count": 54,
   "id": "possible-change",
   "metadata": {
    "id": "possible-change",
    "scrolled": true
   },
   "outputs": [
    {
     "name": "stdout",
     "output_type": "stream",
     "text": [
      "24852    55763\n",
      "13176    44450\n",
      "21137    28639\n",
      "21903    26233\n",
      "47209    23629\n",
      "47766    18743\n",
      "27845    16251\n",
      "47626    15044\n",
      "27966    14748\n",
      "16797    13945\n",
      "26209    13327\n",
      "22935    11145\n",
      "24964    10411\n",
      "45007    10076\n",
      "49683     9538\n",
      "28204     8989\n",
      "8277      8836\n",
      "39275     8799\n",
      "5876      8412\n",
      "49235     8389\n",
      "Name: product_id, dtype: int64\n"
     ]
    }
   ],
   "source": [
    "print(top_reordered)"
   ]
  },
  {
   "cell_type": "code",
   "execution_count": 55,
   "id": "professional-surfing",
   "metadata": {
    "id": "professional-surfing",
    "scrolled": true
   },
   "outputs": [],
   "source": [
    "top_reordered_names = products[products['product_id'].isin(top_reordered.index)]"
   ]
  },
  {
   "cell_type": "code",
   "execution_count": 56,
   "id": "48dd3658",
   "metadata": {
    "id": "48dd3658"
   },
   "outputs": [
    {
     "data": {
      "text/html": [
       "<div>\n",
       "<style scoped>\n",
       "    .dataframe tbody tr th:only-of-type {\n",
       "        vertical-align: middle;\n",
       "    }\n",
       "\n",
       "    .dataframe tbody tr th {\n",
       "        vertical-align: top;\n",
       "    }\n",
       "\n",
       "    .dataframe thead th {\n",
       "        text-align: right;\n",
       "    }\n",
       "</style>\n",
       "<table border=\"1\" class=\"dataframe\">\n",
       "  <thead>\n",
       "    <tr style=\"text-align: right;\">\n",
       "      <th></th>\n",
       "      <th>product_id</th>\n",
       "      <th>product_name</th>\n",
       "    </tr>\n",
       "  </thead>\n",
       "  <tbody>\n",
       "    <tr>\n",
       "      <th>5875</th>\n",
       "      <td>5876</td>\n",
       "      <td>Organic Lemon</td>\n",
       "    </tr>\n",
       "    <tr>\n",
       "      <th>8276</th>\n",
       "      <td>8277</td>\n",
       "      <td>Apple Honeycrisp Organic</td>\n",
       "    </tr>\n",
       "    <tr>\n",
       "      <th>13175</th>\n",
       "      <td>13176</td>\n",
       "      <td>Bag of Organic Bananas</td>\n",
       "    </tr>\n",
       "    <tr>\n",
       "      <th>16796</th>\n",
       "      <td>16797</td>\n",
       "      <td>Strawberries</td>\n",
       "    </tr>\n",
       "    <tr>\n",
       "      <th>21136</th>\n",
       "      <td>21137</td>\n",
       "      <td>Organic Strawberries</td>\n",
       "    </tr>\n",
       "    <tr>\n",
       "      <th>21902</th>\n",
       "      <td>21903</td>\n",
       "      <td>Organic Baby Spinach</td>\n",
       "    </tr>\n",
       "    <tr>\n",
       "      <th>22934</th>\n",
       "      <td>22935</td>\n",
       "      <td>Organic Yellow Onion</td>\n",
       "    </tr>\n",
       "    <tr>\n",
       "      <th>24851</th>\n",
       "      <td>24852</td>\n",
       "      <td>Banana</td>\n",
       "    </tr>\n",
       "    <tr>\n",
       "      <th>24963</th>\n",
       "      <td>24964</td>\n",
       "      <td>Organic Garlic</td>\n",
       "    </tr>\n",
       "    <tr>\n",
       "      <th>26208</th>\n",
       "      <td>26209</td>\n",
       "      <td>Limes</td>\n",
       "    </tr>\n",
       "    <tr>\n",
       "      <th>27844</th>\n",
       "      <td>27845</td>\n",
       "      <td>Organic Whole Milk</td>\n",
       "    </tr>\n",
       "    <tr>\n",
       "      <th>27965</th>\n",
       "      <td>27966</td>\n",
       "      <td>Organic Raspberries</td>\n",
       "    </tr>\n",
       "    <tr>\n",
       "      <th>28203</th>\n",
       "      <td>28204</td>\n",
       "      <td>Organic Fuji Apple</td>\n",
       "    </tr>\n",
       "    <tr>\n",
       "      <th>39274</th>\n",
       "      <td>39275</td>\n",
       "      <td>Organic Blueberries</td>\n",
       "    </tr>\n",
       "    <tr>\n",
       "      <th>45006</th>\n",
       "      <td>45007</td>\n",
       "      <td>Organic Zucchini</td>\n",
       "    </tr>\n",
       "    <tr>\n",
       "      <th>47208</th>\n",
       "      <td>47209</td>\n",
       "      <td>Organic Hass Avocado</td>\n",
       "    </tr>\n",
       "    <tr>\n",
       "      <th>47625</th>\n",
       "      <td>47626</td>\n",
       "      <td>Large Lemon</td>\n",
       "    </tr>\n",
       "    <tr>\n",
       "      <th>47765</th>\n",
       "      <td>47766</td>\n",
       "      <td>Organic Avocado</td>\n",
       "    </tr>\n",
       "    <tr>\n",
       "      <th>49234</th>\n",
       "      <td>49235</td>\n",
       "      <td>Organic Half &amp; Half</td>\n",
       "    </tr>\n",
       "    <tr>\n",
       "      <th>49682</th>\n",
       "      <td>49683</td>\n",
       "      <td>Cucumber Kirby</td>\n",
       "    </tr>\n",
       "  </tbody>\n",
       "</table>\n",
       "</div>"
      ],
      "text/plain": [
       "       product_id              product_name\n",
       "5875         5876             Organic Lemon\n",
       "8276         8277  Apple Honeycrisp Organic\n",
       "13175       13176    Bag of Organic Bananas\n",
       "16796       16797              Strawberries\n",
       "21136       21137      Organic Strawberries\n",
       "21902       21903      Organic Baby Spinach\n",
       "22934       22935      Organic Yellow Onion\n",
       "24851       24852                    Banana\n",
       "24963       24964            Organic Garlic\n",
       "26208       26209                     Limes\n",
       "27844       27845        Organic Whole Milk\n",
       "27965       27966       Organic Raspberries\n",
       "28203       28204        Organic Fuji Apple\n",
       "39274       39275       Organic Blueberries\n",
       "45006       45007          Organic Zucchini\n",
       "47208       47209      Organic Hass Avocado\n",
       "47625       47626               Large Lemon\n",
       "47765       47766           Organic Avocado\n",
       "49234       49235       Organic Half & Half\n",
       "49682       49683            Cucumber Kirby"
      ]
     },
     "metadata": {},
     "output_type": "display_data"
    }
   ],
   "source": [
    "display(top_reordered_names[['product_id', 'product_name']])"
   ]
  },
  {
   "cell_type": "markdown",
   "id": "80e70c74",
   "metadata": {
    "id": "80e70c74"
   },
   "source": [
    "Escribe aquí tus conclusiones.\n",
    "\n",
    "**Conclusiones:**\n",
    "\n",
    "    Los artículos que más se vuelven a pedir incluyen productos frescos y básicos, lo que refleja hábitos de compra regulares y la necesidad de reabastecimiento constante por parte de los consumidores.\n",
    "    Esto también sugiere que los clientes valoran la conveniencia de poder volver a pedir sus productos favoritos fácilmente."
   ]
  },
  {
   "cell_type": "markdown",
   "id": "9d312b14",
   "metadata": {
    "id": "9d312b14"
   },
   "source": [
    "### [C3] Para cada producto, ¿cuál es la proporción de las veces que se pide y que se vuelve a pedir?"
   ]
  },
  {
   "cell_type": "code",
   "execution_count": 57,
   "id": "8ae9f4b1",
   "metadata": {
    "id": "8ae9f4b1"
   },
   "outputs": [],
   "source": [
    "reorder_ratio = order_products.groupby('product_id')['reordered'].mean().reset_index()"
   ]
  },
  {
   "cell_type": "code",
   "execution_count": 58,
   "id": "103e7fe1",
   "metadata": {
    "id": "103e7fe1"
   },
   "outputs": [],
   "source": [
    "reorder_ratio = reorder_ratio.merge(products[['product_id', 'product_name']], on='product_id', how='left')"
   ]
  },
  {
   "cell_type": "code",
   "execution_count": 59,
   "id": "social-individual",
   "metadata": {
    "id": "social-individual"
   },
   "outputs": [
    {
     "data": {
      "text/html": [
       "<div>\n",
       "<style scoped>\n",
       "    .dataframe tbody tr th:only-of-type {\n",
       "        vertical-align: middle;\n",
       "    }\n",
       "\n",
       "    .dataframe tbody tr th {\n",
       "        vertical-align: top;\n",
       "    }\n",
       "\n",
       "    .dataframe thead th {\n",
       "        text-align: right;\n",
       "    }\n",
       "</style>\n",
       "<table border=\"1\" class=\"dataframe\">\n",
       "  <thead>\n",
       "    <tr style=\"text-align: right;\">\n",
       "      <th></th>\n",
       "      <th>product_id</th>\n",
       "      <th>reorder_ratio</th>\n",
       "      <th>product_name</th>\n",
       "    </tr>\n",
       "  </thead>\n",
       "  <tbody>\n",
       "    <tr>\n",
       "      <th>0</th>\n",
       "      <td>1</td>\n",
       "      <td>0.564286</td>\n",
       "      <td>Chocolate Sandwich Cookies</td>\n",
       "    </tr>\n",
       "    <tr>\n",
       "      <th>1</th>\n",
       "      <td>2</td>\n",
       "      <td>0.000000</td>\n",
       "      <td>All-Seasons Salt</td>\n",
       "    </tr>\n",
       "    <tr>\n",
       "      <th>2</th>\n",
       "      <td>3</td>\n",
       "      <td>0.738095</td>\n",
       "      <td>Robust Golden Unsweetened Oolong Tea</td>\n",
       "    </tr>\n",
       "    <tr>\n",
       "      <th>3</th>\n",
       "      <td>4</td>\n",
       "      <td>0.510204</td>\n",
       "      <td>Smart Ones Classic Favorites Mini Rigatoni Wit...</td>\n",
       "    </tr>\n",
       "    <tr>\n",
       "      <th>4</th>\n",
       "      <td>7</td>\n",
       "      <td>0.500000</td>\n",
       "      <td>Pure Coconut Water With Orange</td>\n",
       "    </tr>\n",
       "  </tbody>\n",
       "</table>\n",
       "</div>"
      ],
      "text/plain": [
       "   product_id  reorder_ratio  \\\n",
       "0           1       0.564286   \n",
       "1           2       0.000000   \n",
       "2           3       0.738095   \n",
       "3           4       0.510204   \n",
       "4           7       0.500000   \n",
       "\n",
       "                                        product_name  \n",
       "0                         Chocolate Sandwich Cookies  \n",
       "1                                   All-Seasons Salt  \n",
       "2               Robust Golden Unsweetened Oolong Tea  \n",
       "3  Smart Ones Classic Favorites Mini Rigatoni Wit...  \n",
       "4                     Pure Coconut Water With Orange  "
      ]
     },
     "metadata": {},
     "output_type": "display_data"
    }
   ],
   "source": [
    "reorder_ratio.columns = ['product_id', 'reorder_ratio', 'product_name']\n",
    "display(reorder_ratio.head())"
   ]
  },
  {
   "cell_type": "markdown",
   "id": "I10dEIAyldcO",
   "metadata": {
    "id": "I10dEIAyldcO"
   },
   "source": [
    "Escribe aquí tus conclusiones.\n",
    "\n",
    "**Conclusiones:**\n",
    "\n",
    "    La tasa de repetición de pedidos varía significativamente entre los productos, con algunos productos que tienen tasas de repetición superiores al 70%, indicando que son esenciales o muy apreciados por los consumidores.\n",
    "\n",
    "    Otros productos muestran tasas de repetición mucho más bajas, lo que puede deberse a que son menos populares o son comprados de forma esporádica."
   ]
  },
  {
   "cell_type": "markdown",
   "id": "subject-boxing",
   "metadata": {
    "id": "subject-boxing"
   },
   "source": [
    "### [C4] Para cada cliente, ¿qué proporción de sus productos ya los había pedido?"
   ]
  },
  {
   "cell_type": "code",
   "execution_count": 60,
   "id": "medical-couple",
   "metadata": {
    "id": "medical-couple",
    "scrolled": true
   },
   "outputs": [],
   "source": [
    "customer_reorder_ratio = order_products.groupby('order_id')['reordered'].mean().reset_index()"
   ]
  },
  {
   "cell_type": "code",
   "execution_count": 61,
   "id": "8892e4b4",
   "metadata": {
    "id": "8892e4b4"
   },
   "outputs": [
    {
     "data": {
      "text/html": [
       "<div>\n",
       "<style scoped>\n",
       "    .dataframe tbody tr th:only-of-type {\n",
       "        vertical-align: middle;\n",
       "    }\n",
       "\n",
       "    .dataframe tbody tr th {\n",
       "        vertical-align: top;\n",
       "    }\n",
       "\n",
       "    .dataframe thead th {\n",
       "        text-align: right;\n",
       "    }\n",
       "</style>\n",
       "<table border=\"1\" class=\"dataframe\">\n",
       "  <thead>\n",
       "    <tr style=\"text-align: right;\">\n",
       "      <th></th>\n",
       "      <th>order_id</th>\n",
       "      <th>reordered</th>\n",
       "    </tr>\n",
       "  </thead>\n",
       "  <tbody>\n",
       "    <tr>\n",
       "      <th>0</th>\n",
       "      <td>4</td>\n",
       "      <td>0.923077</td>\n",
       "    </tr>\n",
       "    <tr>\n",
       "      <th>1</th>\n",
       "      <td>9</td>\n",
       "      <td>0.666667</td>\n",
       "    </tr>\n",
       "    <tr>\n",
       "      <th>2</th>\n",
       "      <td>11</td>\n",
       "      <td>1.000000</td>\n",
       "    </tr>\n",
       "    <tr>\n",
       "      <th>3</th>\n",
       "      <td>19</td>\n",
       "      <td>1.000000</td>\n",
       "    </tr>\n",
       "    <tr>\n",
       "      <th>4</th>\n",
       "      <td>20</td>\n",
       "      <td>0.000000</td>\n",
       "    </tr>\n",
       "  </tbody>\n",
       "</table>\n",
       "</div>"
      ],
      "text/plain": [
       "   order_id  reordered\n",
       "0         4   0.923077\n",
       "1         9   0.666667\n",
       "2        11   1.000000\n",
       "3        19   1.000000\n",
       "4        20   0.000000"
      ]
     },
     "metadata": {},
     "output_type": "display_data"
    }
   ],
   "source": [
    "display(customer_reorder_ratio.head())"
   ]
  },
  {
   "cell_type": "markdown",
   "id": "BgJSvXDsleXz",
   "metadata": {
    "id": "BgJSvXDsleXz"
   },
   "source": [
    "Escribe aquí tus conclusiones.\n",
    "\n",
    "**Conclusiones:**\n",
    "\n",
    "    Las proporciones de productos repetidos varían entre los clientes, con algunos mostrando una alta tasa de repetición, lo que indica que tienen patrones de compra consistentes.\n",
    "\n",
    "    Esto puede ser útil para identificar clientes leales que podrían beneficiarse de promociones personalizadas."
   ]
  },
  {
   "cell_type": "markdown",
   "id": "92d35137",
   "metadata": {
    "id": "92d35137"
   },
   "source": [
    "### [C5] ¿Cuáles son los 20 principales artículos que las personas ponen primero en sus carritos?"
   ]
  },
  {
   "cell_type": "code",
   "execution_count": 62,
   "id": "0ae57274",
   "metadata": {
    "id": "0ae57274",
    "scrolled": true
   },
   "outputs": [],
   "source": [
    "first_in_cart = order_products[order_products['add_to_cart_order'] == 1]"
   ]
  },
  {
   "cell_type": "code",
   "execution_count": 63,
   "id": "forty-netherlands",
   "metadata": {
    "id": "forty-netherlands",
    "scrolled": true
   },
   "outputs": [],
   "source": [
    "top_first_added = first_in_cart['product_id'].value_counts().nlargest(20)"
   ]
  },
  {
   "cell_type": "code",
   "execution_count": 64,
   "id": "08e41ec2",
   "metadata": {
    "id": "08e41ec2"
   },
   "outputs": [
    {
     "data": {
      "text/html": [
       "<div>\n",
       "<style scoped>\n",
       "    .dataframe tbody tr th:only-of-type {\n",
       "        vertical-align: middle;\n",
       "    }\n",
       "\n",
       "    .dataframe tbody tr th {\n",
       "        vertical-align: top;\n",
       "    }\n",
       "\n",
       "    .dataframe thead th {\n",
       "        text-align: right;\n",
       "    }\n",
       "</style>\n",
       "<table border=\"1\" class=\"dataframe\">\n",
       "  <thead>\n",
       "    <tr style=\"text-align: right;\">\n",
       "      <th></th>\n",
       "      <th>product_id</th>\n",
       "      <th>product_name</th>\n",
       "    </tr>\n",
       "  </thead>\n",
       "  <tbody>\n",
       "    <tr>\n",
       "      <th>195</th>\n",
       "      <td>196</td>\n",
       "      <td>Soda</td>\n",
       "    </tr>\n",
       "    <tr>\n",
       "      <th>5784</th>\n",
       "      <td>5785</td>\n",
       "      <td>Organic Reduced Fat 2% Milk</td>\n",
       "    </tr>\n",
       "    <tr>\n",
       "      <th>12340</th>\n",
       "      <td>12341</td>\n",
       "      <td>Hass Avocados</td>\n",
       "    </tr>\n",
       "    <tr>\n",
       "      <th>13175</th>\n",
       "      <td>13176</td>\n",
       "      <td>Bag of Organic Bananas</td>\n",
       "    </tr>\n",
       "    <tr>\n",
       "      <th>16796</th>\n",
       "      <td>16797</td>\n",
       "      <td>Strawberries</td>\n",
       "    </tr>\n",
       "    <tr>\n",
       "      <th>19659</th>\n",
       "      <td>19660</td>\n",
       "      <td>Spring Water</td>\n",
       "    </tr>\n",
       "    <tr>\n",
       "      <th>21136</th>\n",
       "      <td>21137</td>\n",
       "      <td>Organic Strawberries</td>\n",
       "    </tr>\n",
       "    <tr>\n",
       "      <th>21902</th>\n",
       "      <td>21903</td>\n",
       "      <td>Organic Baby Spinach</td>\n",
       "    </tr>\n",
       "    <tr>\n",
       "      <th>22934</th>\n",
       "      <td>22935</td>\n",
       "      <td>Organic Yellow Onion</td>\n",
       "    </tr>\n",
       "    <tr>\n",
       "      <th>24851</th>\n",
       "      <td>24852</td>\n",
       "      <td>Banana</td>\n",
       "    </tr>\n",
       "    <tr>\n",
       "      <th>26208</th>\n",
       "      <td>26209</td>\n",
       "      <td>Limes</td>\n",
       "    </tr>\n",
       "    <tr>\n",
       "      <th>27085</th>\n",
       "      <td>27086</td>\n",
       "      <td>Half &amp; Half</td>\n",
       "    </tr>\n",
       "    <tr>\n",
       "      <th>27844</th>\n",
       "      <td>27845</td>\n",
       "      <td>Organic Whole Milk</td>\n",
       "    </tr>\n",
       "    <tr>\n",
       "      <th>27965</th>\n",
       "      <td>27966</td>\n",
       "      <td>Organic Raspberries</td>\n",
       "    </tr>\n",
       "    <tr>\n",
       "      <th>38688</th>\n",
       "      <td>38689</td>\n",
       "      <td>Organic Reduced Fat Milk</td>\n",
       "    </tr>\n",
       "    <tr>\n",
       "      <th>44631</th>\n",
       "      <td>44632</td>\n",
       "      <td>Sparkling Water Grapefruit</td>\n",
       "    </tr>\n",
       "    <tr>\n",
       "      <th>47208</th>\n",
       "      <td>47209</td>\n",
       "      <td>Organic Hass Avocado</td>\n",
       "    </tr>\n",
       "    <tr>\n",
       "      <th>47625</th>\n",
       "      <td>47626</td>\n",
       "      <td>Large Lemon</td>\n",
       "    </tr>\n",
       "    <tr>\n",
       "      <th>47765</th>\n",
       "      <td>47766</td>\n",
       "      <td>Organic Avocado</td>\n",
       "    </tr>\n",
       "    <tr>\n",
       "      <th>49234</th>\n",
       "      <td>49235</td>\n",
       "      <td>Organic Half &amp; Half</td>\n",
       "    </tr>\n",
       "  </tbody>\n",
       "</table>\n",
       "</div>"
      ],
      "text/plain": [
       "       product_id                 product_name\n",
       "195           196                         Soda\n",
       "5784         5785  Organic Reduced Fat 2% Milk\n",
       "12340       12341                Hass Avocados\n",
       "13175       13176       Bag of Organic Bananas\n",
       "16796       16797                 Strawberries\n",
       "19659       19660                 Spring Water\n",
       "21136       21137         Organic Strawberries\n",
       "21902       21903         Organic Baby Spinach\n",
       "22934       22935         Organic Yellow Onion\n",
       "24851       24852                       Banana\n",
       "26208       26209                        Limes\n",
       "27085       27086                  Half & Half\n",
       "27844       27845           Organic Whole Milk\n",
       "27965       27966          Organic Raspberries\n",
       "38688       38689     Organic Reduced Fat Milk\n",
       "44631       44632   Sparkling Water Grapefruit\n",
       "47208       47209         Organic Hass Avocado\n",
       "47625       47626                  Large Lemon\n",
       "47765       47766              Organic Avocado\n",
       "49234       49235          Organic Half & Half"
      ]
     },
     "metadata": {},
     "output_type": "display_data"
    }
   ],
   "source": [
    "top_first_added_names = products[products['product_id'].isin(top_first_added.index)]\n",
    "display(top_first_added_names[['product_id', 'product_name']])"
   ]
  },
  {
   "cell_type": "markdown",
   "id": "28ce9872",
   "metadata": {
    "id": "28ce9872"
   },
   "source": [
    "Escribe aquí tus conclusiones.\n",
    "\n",
    "**Conclusiones:**\n",
    "\n",
    "    Los artículos que se añaden primero al carrito suelen ser productos de uso diario, como leches y frutas, lo que sugiere que los consumidores tienden a priorizar estos productos esenciales al realizar sus compras.\n",
    "\n",
    "    Esto también puede reflejar hábitos de compra donde los clientes tienen una lista de productos básicos que necesitan adquirir en cada compra."
   ]
  },
  {
   "cell_type": "markdown",
   "id": "uITbFCEoDosC",
   "metadata": {
    "id": "uITbFCEoDosC"
   },
   "source": [
    "### Conclusion general del proyecto:"
   ]
  },
  {
   "cell_type": "markdown",
   "id": "def7ab67",
   "metadata": {
    "id": "Nk-4GS7mDwqY"
   },
   "source": [
    "**Conclusión General:**\n",
    "\n",
    "   *El análisis completo de los datos de Instacart busca no solo limpiar y explorar los datos, sino también identificar patrones clave en el comportamiento de compra de los usuarios. Desde la preparación inicial hasta el análisis final, cada paso está diseñado para proporcionar un conocimiento profundo del conjunto de datos. Además, se pretende que los resultados obtenidos sean interpretables y relevantes para el negocio, destacando patrones de compra, productos populares y el comportamiento de repetición.*\n",
    "     \n",
    "   *El análisis realizado a través de las diferentes secciones proporciona una visión clara sobre los comportamientos de compra de los clientes de Instacart. Se observa que:*\n",
    "\n",
    "   **Patrones de Compra:**\n",
    "   \n",
    "    Los clientes tienen patrones de compra definidos, con una clara preferencia por productos frescos y saludables. La lealtad del cliente se manifiesta a través de tasas de repetición de productos y pedidos regulares.\n",
    "    \n",
    "   **Diferencias entre Clientes:**\n",
    "    \n",
    "    Existe una notable variabilidad en el comportamiento de los clientes, donde algunos son compradores ocasionales mientras que otros son leales y frecuentes. Esto sugiere la posibilidad de segmentar clientes para campañas de marketing más efectivas.\n",
    "\n",
    "   **Estrategias de Mejora:**\n",
    "    \n",
    "    Basándose en estos patrones, Instacart podría implementar estrategias personalizadas de marketing, ofertas especiales y programas de lealtad que incentiven la repetición de compras y fomenten la adquisición de productos populares.\n",
    "\n",
    "   **Datos Clave para el Futuro:**\n",
    "   \n",
    "    Los insights derivados de este análisis son fundamentales para tomar decisiones informadas que impulsen el crecimiento de la plataforma y la satisfacción del cliente.\n",
    "\n",
    "***Este análisis puede servir de base para futuras investigaciones y para la implementación de estrategias que mejoren la experiencia del cliente en la plataforma de compras.***"
   ]
  }
 ],
 "metadata": {
  "ExecuteTimeLog": [
   {
    "duration": 874,
    "start_time": "2024-11-04T20:29:54.888Z"
   },
   {
    "duration": 2115,
    "start_time": "2024-11-04T20:29:55.764Z"
   },
   {
    "duration": 22,
    "start_time": "2024-11-04T20:29:57.880Z"
   },
   {
    "duration": 11,
    "start_time": "2024-11-04T20:29:57.903Z"
   },
   {
    "duration": 133,
    "start_time": "2024-11-04T20:29:57.916Z"
   },
   {
    "duration": 10,
    "start_time": "2024-11-04T20:30:04.809Z"
   },
   {
    "duration": 8,
    "start_time": "2024-11-04T20:30:05.722Z"
   },
   {
    "duration": 216,
    "start_time": "2024-11-04T20:30:12.004Z"
   },
   {
    "duration": 17,
    "start_time": "2024-11-04T20:31:02.902Z"
   },
   {
    "duration": 798,
    "start_time": "2024-11-04T20:36:33.039Z"
   },
   {
    "duration": 2117,
    "start_time": "2024-11-04T20:36:33.840Z"
   },
   {
    "duration": 21,
    "start_time": "2024-11-04T20:36:35.958Z"
   },
   {
    "duration": 9,
    "start_time": "2024-11-04T20:36:35.981Z"
   },
   {
    "duration": 136,
    "start_time": "2024-11-04T20:36:35.993Z"
   },
   {
    "duration": 8,
    "start_time": "2024-11-04T20:36:36.131Z"
   },
   {
    "duration": 7,
    "start_time": "2024-11-04T20:36:36.141Z"
   },
   {
    "duration": 300,
    "start_time": "2024-11-04T20:36:36.150Z"
   },
   {
    "duration": 0,
    "start_time": "2024-11-04T20:36:36.453Z"
   },
   {
    "duration": 0,
    "start_time": "2024-11-04T20:36:36.454Z"
   },
   {
    "duration": 0,
    "start_time": "2024-11-04T20:36:36.455Z"
   },
   {
    "duration": 0,
    "start_time": "2024-11-04T20:36:36.456Z"
   },
   {
    "duration": 0,
    "start_time": "2024-11-04T20:36:36.469Z"
   },
   {
    "duration": 0,
    "start_time": "2024-11-04T20:36:36.470Z"
   },
   {
    "duration": 0,
    "start_time": "2024-11-04T20:36:36.472Z"
   },
   {
    "duration": 0,
    "start_time": "2024-11-04T20:36:36.472Z"
   },
   {
    "duration": 0,
    "start_time": "2024-11-04T20:36:36.473Z"
   },
   {
    "duration": 0,
    "start_time": "2024-11-04T20:36:36.474Z"
   },
   {
    "duration": 0,
    "start_time": "2024-11-04T20:36:36.475Z"
   },
   {
    "duration": 0,
    "start_time": "2024-11-04T20:36:36.477Z"
   },
   {
    "duration": 0,
    "start_time": "2024-11-04T20:36:36.478Z"
   },
   {
    "duration": 0,
    "start_time": "2024-11-04T20:36:36.480Z"
   },
   {
    "duration": 0,
    "start_time": "2024-11-04T20:36:36.482Z"
   },
   {
    "duration": 0,
    "start_time": "2024-11-04T20:36:36.484Z"
   },
   {
    "duration": 0,
    "start_time": "2024-11-04T20:36:36.486Z"
   },
   {
    "duration": 0,
    "start_time": "2024-11-04T20:36:36.488Z"
   },
   {
    "duration": 0,
    "start_time": "2024-11-04T20:36:36.489Z"
   },
   {
    "duration": 0,
    "start_time": "2024-11-04T20:36:36.490Z"
   },
   {
    "duration": 0,
    "start_time": "2024-11-04T20:36:36.491Z"
   },
   {
    "duration": 0,
    "start_time": "2024-11-04T20:36:36.493Z"
   },
   {
    "duration": 0,
    "start_time": "2024-11-04T20:36:36.494Z"
   },
   {
    "duration": 0,
    "start_time": "2024-11-04T20:36:36.495Z"
   },
   {
    "duration": 0,
    "start_time": "2024-11-04T20:36:36.496Z"
   },
   {
    "duration": 0,
    "start_time": "2024-11-04T20:36:36.498Z"
   },
   {
    "duration": 0,
    "start_time": "2024-11-04T20:36:36.499Z"
   },
   {
    "duration": 436,
    "start_time": "2024-11-04T20:37:26.416Z"
   },
   {
    "duration": 919,
    "start_time": "2024-11-04T20:40:12.800Z"
   },
   {
    "duration": 21,
    "start_time": "2024-11-04T20:40:13.721Z"
   },
   {
    "duration": 806,
    "start_time": "2024-11-04T20:42:34.044Z"
   },
   {
    "duration": 881,
    "start_time": "2024-11-04T20:42:34.852Z"
   },
   {
    "duration": 12,
    "start_time": "2024-11-04T20:42:35.734Z"
   },
   {
    "duration": 9,
    "start_time": "2024-11-04T20:42:35.748Z"
   },
   {
    "duration": 32,
    "start_time": "2024-11-04T20:42:35.759Z"
   },
   {
    "duration": 8,
    "start_time": "2024-11-04T20:42:35.793Z"
   },
   {
    "duration": 9,
    "start_time": "2024-11-04T20:42:35.802Z"
   },
   {
    "duration": 66,
    "start_time": "2024-11-04T20:42:35.812Z"
   },
   {
    "duration": 3,
    "start_time": "2024-11-04T20:42:35.880Z"
   },
   {
    "duration": 2,
    "start_time": "2024-11-04T20:42:35.885Z"
   },
   {
    "duration": 2,
    "start_time": "2024-11-04T20:42:35.889Z"
   },
   {
    "duration": 2,
    "start_time": "2024-11-04T20:42:35.893Z"
   },
   {
    "duration": 3,
    "start_time": "2024-11-04T20:42:35.896Z"
   },
   {
    "duration": 3,
    "start_time": "2024-11-04T20:42:35.903Z"
   },
   {
    "duration": 3,
    "start_time": "2024-11-04T20:42:35.907Z"
   },
   {
    "duration": 3,
    "start_time": "2024-11-04T20:42:35.911Z"
   },
   {
    "duration": 2,
    "start_time": "2024-11-04T20:42:35.915Z"
   },
   {
    "duration": 2,
    "start_time": "2024-11-04T20:42:35.919Z"
   },
   {
    "duration": 49,
    "start_time": "2024-11-04T20:42:35.922Z"
   },
   {
    "duration": 3,
    "start_time": "2024-11-04T20:42:35.972Z"
   },
   {
    "duration": 3,
    "start_time": "2024-11-04T20:42:35.976Z"
   },
   {
    "duration": 3,
    "start_time": "2024-11-04T20:42:35.980Z"
   },
   {
    "duration": 2,
    "start_time": "2024-11-04T20:42:35.984Z"
   },
   {
    "duration": 2,
    "start_time": "2024-11-04T20:42:35.988Z"
   },
   {
    "duration": 3,
    "start_time": "2024-11-04T20:42:35.992Z"
   },
   {
    "duration": 3,
    "start_time": "2024-11-04T20:42:35.996Z"
   },
   {
    "duration": 3,
    "start_time": "2024-11-04T20:42:36.000Z"
   },
   {
    "duration": 3,
    "start_time": "2024-11-04T20:42:36.004Z"
   },
   {
    "duration": 2,
    "start_time": "2024-11-04T20:42:36.008Z"
   },
   {
    "duration": 3,
    "start_time": "2024-11-04T20:42:36.012Z"
   },
   {
    "duration": 3,
    "start_time": "2024-11-04T20:42:36.016Z"
   },
   {
    "duration": 2,
    "start_time": "2024-11-04T20:42:36.071Z"
   },
   {
    "duration": 3,
    "start_time": "2024-11-04T20:42:36.074Z"
   },
   {
    "duration": 2,
    "start_time": "2024-11-04T20:42:36.079Z"
   },
   {
    "duration": 3,
    "start_time": "2024-11-04T20:42:36.082Z"
   },
   {
    "duration": 43,
    "start_time": "2024-11-04T20:44:03.780Z"
   },
   {
    "duration": 279,
    "start_time": "2024-11-04T20:59:29.801Z"
   },
   {
    "duration": 462,
    "start_time": "2024-11-04T21:00:00.045Z"
   },
   {
    "duration": 20,
    "start_time": "2024-11-04T21:02:20.359Z"
   },
   {
    "duration": 52,
    "start_time": "2024-11-04T21:02:43.326Z"
   },
   {
    "duration": 54,
    "start_time": "2024-11-04T21:03:07.176Z"
   },
   {
    "duration": 1039,
    "start_time": "2024-11-04T21:07:02.034Z"
   },
   {
    "duration": 1078,
    "start_time": "2024-11-04T21:08:35.218Z"
   },
   {
    "duration": 37,
    "start_time": "2024-11-04T21:15:30.420Z"
   },
   {
    "duration": 251,
    "start_time": "2024-11-04T21:17:40.724Z"
   },
   {
    "duration": 291,
    "start_time": "2024-11-04T21:18:06.047Z"
   },
   {
    "duration": 306,
    "start_time": "2024-11-04T21:29:14.182Z"
   },
   {
    "duration": 310,
    "start_time": "2024-11-04T21:30:44.862Z"
   },
   {
    "duration": 216,
    "start_time": "2024-11-04T21:32:30.187Z"
   },
   {
    "duration": 294,
    "start_time": "2024-11-04T21:33:25.416Z"
   },
   {
    "duration": 832,
    "start_time": "2024-11-04T21:34:03.827Z"
   },
   {
    "duration": 878,
    "start_time": "2024-11-04T21:34:04.661Z"
   },
   {
    "duration": 14,
    "start_time": "2024-11-04T21:34:05.541Z"
   },
   {
    "duration": 17,
    "start_time": "2024-11-04T21:34:05.558Z"
   },
   {
    "duration": 25,
    "start_time": "2024-11-04T21:34:05.577Z"
   },
   {
    "duration": 8,
    "start_time": "2024-11-04T21:34:05.604Z"
   },
   {
    "duration": 8,
    "start_time": "2024-11-04T21:34:05.613Z"
   },
   {
    "duration": 76,
    "start_time": "2024-11-04T21:34:05.623Z"
   },
   {
    "duration": 371,
    "start_time": "2024-11-04T21:34:05.700Z"
   },
   {
    "duration": 286,
    "start_time": "2024-11-04T21:34:06.075Z"
   },
   {
    "duration": 0,
    "start_time": "2024-11-04T21:34:06.371Z"
   },
   {
    "duration": 0,
    "start_time": "2024-11-04T21:34:06.372Z"
   },
   {
    "duration": 0,
    "start_time": "2024-11-04T21:34:06.374Z"
   },
   {
    "duration": 0,
    "start_time": "2024-11-04T21:34:06.375Z"
   },
   {
    "duration": 0,
    "start_time": "2024-11-04T21:34:06.376Z"
   },
   {
    "duration": 0,
    "start_time": "2024-11-04T21:34:06.377Z"
   },
   {
    "duration": 0,
    "start_time": "2024-11-04T21:34:06.379Z"
   },
   {
    "duration": 0,
    "start_time": "2024-11-04T21:34:06.380Z"
   },
   {
    "duration": 0,
    "start_time": "2024-11-04T21:34:06.382Z"
   },
   {
    "duration": 0,
    "start_time": "2024-11-04T21:34:06.383Z"
   },
   {
    "duration": 0,
    "start_time": "2024-11-04T21:34:06.384Z"
   },
   {
    "duration": 0,
    "start_time": "2024-11-04T21:34:06.386Z"
   },
   {
    "duration": 0,
    "start_time": "2024-11-04T21:34:06.387Z"
   },
   {
    "duration": 0,
    "start_time": "2024-11-04T21:34:06.389Z"
   },
   {
    "duration": 0,
    "start_time": "2024-11-04T21:34:06.390Z"
   },
   {
    "duration": 0,
    "start_time": "2024-11-04T21:34:06.391Z"
   },
   {
    "duration": 0,
    "start_time": "2024-11-04T21:34:06.392Z"
   },
   {
    "duration": 0,
    "start_time": "2024-11-04T21:34:06.393Z"
   },
   {
    "duration": 0,
    "start_time": "2024-11-04T21:34:06.396Z"
   },
   {
    "duration": 0,
    "start_time": "2024-11-04T21:34:06.397Z"
   },
   {
    "duration": 0,
    "start_time": "2024-11-04T21:34:06.398Z"
   },
   {
    "duration": 0,
    "start_time": "2024-11-04T21:34:06.399Z"
   },
   {
    "duration": 0,
    "start_time": "2024-11-04T21:34:06.400Z"
   },
   {
    "duration": 0,
    "start_time": "2024-11-04T21:34:06.401Z"
   },
   {
    "duration": 0,
    "start_time": "2024-11-04T21:34:06.403Z"
   },
   {
    "duration": 0,
    "start_time": "2024-11-04T21:34:06.404Z"
   },
   {
    "duration": 0,
    "start_time": "2024-11-04T21:34:06.405Z"
   },
   {
    "duration": 47,
    "start_time": "2024-11-04T21:35:03.739Z"
   },
   {
    "duration": 1102,
    "start_time": "2024-11-04T21:38:59.347Z"
   },
   {
    "duration": 2345,
    "start_time": "2024-11-04T21:41:02.734Z"
   },
   {
    "duration": 3477,
    "start_time": "2024-11-04T21:42:05.832Z"
   },
   {
    "duration": 3398,
    "start_time": "2024-11-04T21:43:18.726Z"
   },
   {
    "duration": 1046,
    "start_time": "2024-11-04T21:43:56.374Z"
   },
   {
    "duration": 851,
    "start_time": "2024-11-04T21:44:23.004Z"
   },
   {
    "duration": 889,
    "start_time": "2024-11-04T21:44:23.857Z"
   },
   {
    "duration": 11,
    "start_time": "2024-11-04T21:44:24.748Z"
   },
   {
    "duration": 16,
    "start_time": "2024-11-04T21:44:24.761Z"
   },
   {
    "duration": 24,
    "start_time": "2024-11-04T21:44:24.780Z"
   },
   {
    "duration": 7,
    "start_time": "2024-11-04T21:44:24.806Z"
   },
   {
    "duration": 7,
    "start_time": "2024-11-04T21:44:24.815Z"
   },
   {
    "duration": 75,
    "start_time": "2024-11-04T21:44:24.824Z"
   },
   {
    "duration": 371,
    "start_time": "2024-11-04T21:44:24.902Z"
   },
   {
    "duration": 1052,
    "start_time": "2024-11-04T21:44:25.275Z"
   },
   {
    "duration": 2,
    "start_time": "2024-11-04T21:44:26.330Z"
   },
   {
    "duration": 4,
    "start_time": "2024-11-04T21:44:26.341Z"
   },
   {
    "duration": 2,
    "start_time": "2024-11-04T21:44:26.347Z"
   },
   {
    "duration": 2,
    "start_time": "2024-11-04T21:44:26.353Z"
   },
   {
    "duration": 15,
    "start_time": "2024-11-04T21:44:26.356Z"
   },
   {
    "duration": 2,
    "start_time": "2024-11-04T21:44:26.373Z"
   },
   {
    "duration": 2,
    "start_time": "2024-11-04T21:44:26.378Z"
   },
   {
    "duration": 2,
    "start_time": "2024-11-04T21:44:26.382Z"
   },
   {
    "duration": 2,
    "start_time": "2024-11-04T21:44:26.386Z"
   },
   {
    "duration": 2,
    "start_time": "2024-11-04T21:44:26.390Z"
   },
   {
    "duration": 2,
    "start_time": "2024-11-04T21:44:26.394Z"
   },
   {
    "duration": 3,
    "start_time": "2024-11-04T21:44:26.398Z"
   },
   {
    "duration": 2,
    "start_time": "2024-11-04T21:44:26.404Z"
   },
   {
    "duration": 2,
    "start_time": "2024-11-04T21:44:26.407Z"
   },
   {
    "duration": 2,
    "start_time": "2024-11-04T21:44:26.411Z"
   },
   {
    "duration": 2,
    "start_time": "2024-11-04T21:44:26.415Z"
   },
   {
    "duration": 53,
    "start_time": "2024-11-04T21:44:26.418Z"
   },
   {
    "duration": 3,
    "start_time": "2024-11-04T21:44:26.473Z"
   },
   {
    "duration": 3,
    "start_time": "2024-11-04T21:44:26.477Z"
   },
   {
    "duration": 2,
    "start_time": "2024-11-04T21:44:26.482Z"
   },
   {
    "duration": 3,
    "start_time": "2024-11-04T21:44:26.485Z"
   },
   {
    "duration": 3,
    "start_time": "2024-11-04T21:44:26.490Z"
   },
   {
    "duration": 2,
    "start_time": "2024-11-04T21:44:26.495Z"
   },
   {
    "duration": 2,
    "start_time": "2024-11-04T21:44:26.499Z"
   },
   {
    "duration": 2,
    "start_time": "2024-11-04T21:44:26.503Z"
   },
   {
    "duration": 2,
    "start_time": "2024-11-04T21:44:26.507Z"
   },
   {
    "duration": 3,
    "start_time": "2024-11-04T21:44:26.511Z"
   },
   {
    "duration": 2597,
    "start_time": "2024-11-04T21:45:12.698Z"
   },
   {
    "duration": 2204,
    "start_time": "2024-11-04T21:45:33.783Z"
   },
   {
    "duration": 78,
    "start_time": "2024-11-04T21:46:59.025Z"
   },
   {
    "duration": 2097,
    "start_time": "2024-11-04T21:47:11.255Z"
   },
   {
    "duration": 77,
    "start_time": "2024-11-04T21:47:16.207Z"
   },
   {
    "duration": 2079,
    "start_time": "2024-11-04T21:47:26.104Z"
   },
   {
    "duration": 90,
    "start_time": "2024-11-04T21:47:37.056Z"
   },
   {
    "duration": 878,
    "start_time": "2024-11-04T21:47:44.694Z"
   },
   {
    "duration": 924,
    "start_time": "2024-11-04T21:47:45.575Z"
   },
   {
    "duration": 11,
    "start_time": "2024-11-04T21:47:46.501Z"
   },
   {
    "duration": 10,
    "start_time": "2024-11-04T21:47:46.514Z"
   },
   {
    "duration": 56,
    "start_time": "2024-11-04T21:47:46.528Z"
   },
   {
    "duration": 7,
    "start_time": "2024-11-04T21:47:46.588Z"
   },
   {
    "duration": 7,
    "start_time": "2024-11-04T21:47:46.597Z"
   },
   {
    "duration": 65,
    "start_time": "2024-11-04T21:47:46.605Z"
   },
   {
    "duration": 371,
    "start_time": "2024-11-04T21:47:46.672Z"
   },
   {
    "duration": 1096,
    "start_time": "2024-11-04T21:47:47.045Z"
   },
   {
    "duration": 2109,
    "start_time": "2024-11-04T21:47:48.142Z"
   },
   {
    "duration": 93,
    "start_time": "2024-11-04T21:47:50.252Z"
   },
   {
    "duration": 2,
    "start_time": "2024-11-04T21:47:50.346Z"
   },
   {
    "duration": 2,
    "start_time": "2024-11-04T21:47:50.352Z"
   },
   {
    "duration": 15,
    "start_time": "2024-11-04T21:47:50.356Z"
   },
   {
    "duration": 2,
    "start_time": "2024-11-04T21:47:50.373Z"
   },
   {
    "duration": 3,
    "start_time": "2024-11-04T21:47:50.377Z"
   },
   {
    "duration": 2,
    "start_time": "2024-11-04T21:47:50.382Z"
   },
   {
    "duration": 3,
    "start_time": "2024-11-04T21:47:50.386Z"
   },
   {
    "duration": 2,
    "start_time": "2024-11-04T21:47:50.391Z"
   },
   {
    "duration": 3,
    "start_time": "2024-11-04T21:47:50.394Z"
   },
   {
    "duration": 2,
    "start_time": "2024-11-04T21:47:50.399Z"
   },
   {
    "duration": 2,
    "start_time": "2024-11-04T21:47:50.403Z"
   },
   {
    "duration": 4,
    "start_time": "2024-11-04T21:47:50.407Z"
   },
   {
    "duration": 2,
    "start_time": "2024-11-04T21:47:50.413Z"
   },
   {
    "duration": 54,
    "start_time": "2024-11-04T21:47:50.417Z"
   },
   {
    "duration": 2,
    "start_time": "2024-11-04T21:47:50.473Z"
   },
   {
    "duration": 2,
    "start_time": "2024-11-04T21:47:50.477Z"
   },
   {
    "duration": 2,
    "start_time": "2024-11-04T21:47:50.481Z"
   },
   {
    "duration": 2,
    "start_time": "2024-11-04T21:47:50.485Z"
   },
   {
    "duration": 2,
    "start_time": "2024-11-04T21:47:50.489Z"
   },
   {
    "duration": 2,
    "start_time": "2024-11-04T21:47:50.493Z"
   },
   {
    "duration": 2,
    "start_time": "2024-11-04T21:47:50.497Z"
   },
   {
    "duration": 3,
    "start_time": "2024-11-04T21:47:50.500Z"
   },
   {
    "duration": 2,
    "start_time": "2024-11-04T21:47:50.505Z"
   },
   {
    "duration": 3,
    "start_time": "2024-11-04T21:47:50.508Z"
   },
   {
    "duration": 3,
    "start_time": "2024-11-04T21:47:50.512Z"
   },
   {
    "duration": 55,
    "start_time": "2024-11-04T21:47:50.516Z"
   },
   {
    "duration": 292,
    "start_time": "2024-11-04T21:53:32.819Z"
   },
   {
    "duration": 14,
    "start_time": "2024-11-04T21:54:11.358Z"
   },
   {
    "duration": 14,
    "start_time": "2024-11-04T21:54:24.737Z"
   },
   {
    "duration": 11,
    "start_time": "2024-11-04T21:58:38.743Z"
   },
   {
    "duration": 87,
    "start_time": "2024-11-04T21:59:40.547Z"
   },
   {
    "duration": 83,
    "start_time": "2024-11-04T21:59:54.818Z"
   },
   {
    "duration": 335,
    "start_time": "2024-11-04T22:00:46.287Z"
   },
   {
    "duration": 305,
    "start_time": "2024-11-04T22:01:06.919Z"
   },
   {
    "duration": 192,
    "start_time": "2024-11-04T22:01:32.454Z"
   },
   {
    "duration": 114,
    "start_time": "2024-11-04T22:04:03.360Z"
   },
   {
    "duration": 93,
    "start_time": "2024-11-04T22:04:19.271Z"
   },
   {
    "duration": 93,
    "start_time": "2024-11-04T22:10:08.873Z"
   },
   {
    "duration": 104,
    "start_time": "2024-11-04T22:11:46.636Z"
   },
   {
    "duration": 85,
    "start_time": "2024-11-04T22:11:47.538Z"
   },
   {
    "duration": 60,
    "start_time": "2024-11-04T22:12:50.208Z"
   },
   {
    "duration": 2087,
    "start_time": "2024-11-04T22:30:29.295Z"
   },
   {
    "duration": 14,
    "start_time": "2024-11-04T22:31:12.847Z"
   },
   {
    "duration": 909,
    "start_time": "2024-11-04T22:32:28.653Z"
   },
   {
    "duration": 1997,
    "start_time": "2024-11-04T22:32:35.415Z"
   },
   {
    "duration": 799,
    "start_time": "2024-11-04T22:32:48.349Z"
   },
   {
    "duration": 870,
    "start_time": "2024-11-04T22:32:49.150Z"
   },
   {
    "duration": 13,
    "start_time": "2024-11-04T22:32:50.023Z"
   },
   {
    "duration": 10,
    "start_time": "2024-11-04T22:32:50.038Z"
   },
   {
    "duration": 41,
    "start_time": "2024-11-04T22:32:50.050Z"
   },
   {
    "duration": 7,
    "start_time": "2024-11-04T22:32:50.093Z"
   },
   {
    "duration": 7,
    "start_time": "2024-11-04T22:32:50.102Z"
   },
   {
    "duration": 69,
    "start_time": "2024-11-04T22:32:50.111Z"
   },
   {
    "duration": 344,
    "start_time": "2024-11-04T22:32:50.182Z"
   },
   {
    "duration": 974,
    "start_time": "2024-11-04T22:32:50.530Z"
   },
   {
    "duration": 2102,
    "start_time": "2024-11-04T22:32:51.506Z"
   },
   {
    "duration": 106,
    "start_time": "2024-11-04T22:32:53.610Z"
   },
   {
    "duration": 12,
    "start_time": "2024-11-04T22:32:53.718Z"
   },
   {
    "duration": 105,
    "start_time": "2024-11-04T22:32:53.731Z"
   },
   {
    "duration": 91,
    "start_time": "2024-11-04T22:32:53.838Z"
   },
   {
    "duration": 58,
    "start_time": "2024-11-04T22:32:53.931Z"
   },
   {
    "duration": 12,
    "start_time": "2024-11-04T22:32:53.991Z"
   },
   {
    "duration": 2,
    "start_time": "2024-11-04T22:32:54.005Z"
   },
   {
    "duration": 2,
    "start_time": "2024-11-04T22:32:54.009Z"
   },
   {
    "duration": 2,
    "start_time": "2024-11-04T22:32:54.013Z"
   },
   {
    "duration": 2,
    "start_time": "2024-11-04T22:32:54.017Z"
   },
   {
    "duration": 3,
    "start_time": "2024-11-04T22:32:54.020Z"
   },
   {
    "duration": 3,
    "start_time": "2024-11-04T22:32:54.024Z"
   },
   {
    "duration": 3,
    "start_time": "2024-11-04T22:32:54.028Z"
   },
   {
    "duration": 2,
    "start_time": "2024-11-04T22:32:54.071Z"
   },
   {
    "duration": 2,
    "start_time": "2024-11-04T22:32:54.075Z"
   },
   {
    "duration": 2,
    "start_time": "2024-11-04T22:32:54.079Z"
   },
   {
    "duration": 2,
    "start_time": "2024-11-04T22:32:54.084Z"
   },
   {
    "duration": 2,
    "start_time": "2024-11-04T22:32:54.088Z"
   },
   {
    "duration": 2,
    "start_time": "2024-11-04T22:32:54.092Z"
   },
   {
    "duration": 3,
    "start_time": "2024-11-04T22:32:54.096Z"
   },
   {
    "duration": 3,
    "start_time": "2024-11-04T22:32:54.100Z"
   },
   {
    "duration": 2,
    "start_time": "2024-11-04T22:32:54.104Z"
   },
   {
    "duration": 3,
    "start_time": "2024-11-04T22:32:54.108Z"
   },
   {
    "duration": 5,
    "start_time": "2024-11-04T22:32:54.112Z"
   },
   {
    "duration": 2,
    "start_time": "2024-11-04T22:32:54.119Z"
   },
   {
    "duration": 49,
    "start_time": "2024-11-04T22:32:54.122Z"
   },
   {
    "duration": 2,
    "start_time": "2024-11-04T22:32:54.173Z"
   },
   {
    "duration": 8,
    "start_time": "2024-11-04T22:34:12.976Z"
   },
   {
    "duration": 49,
    "start_time": "2024-11-04T22:35:18.319Z"
   },
   {
    "duration": 853,
    "start_time": "2024-11-04T22:35:47.785Z"
   },
   {
    "duration": 881,
    "start_time": "2024-11-04T22:35:48.640Z"
   },
   {
    "duration": 13,
    "start_time": "2024-11-04T22:35:49.524Z"
   },
   {
    "duration": 10,
    "start_time": "2024-11-04T22:35:49.539Z"
   },
   {
    "duration": 37,
    "start_time": "2024-11-04T22:35:49.552Z"
   },
   {
    "duration": 8,
    "start_time": "2024-11-04T22:35:49.591Z"
   },
   {
    "duration": 8,
    "start_time": "2024-11-04T22:35:49.601Z"
   },
   {
    "duration": 70,
    "start_time": "2024-11-04T22:35:49.610Z"
   },
   {
    "duration": 344,
    "start_time": "2024-11-04T22:35:49.682Z"
   },
   {
    "duration": 990,
    "start_time": "2024-11-04T22:35:50.028Z"
   },
   {
    "duration": 2077,
    "start_time": "2024-11-04T22:35:51.019Z"
   },
   {
    "duration": 112,
    "start_time": "2024-11-04T22:35:53.098Z"
   },
   {
    "duration": 14,
    "start_time": "2024-11-04T22:35:53.212Z"
   },
   {
    "duration": 100,
    "start_time": "2024-11-04T22:35:53.229Z"
   },
   {
    "duration": 96,
    "start_time": "2024-11-04T22:35:53.331Z"
   },
   {
    "duration": 55,
    "start_time": "2024-11-04T22:35:53.428Z"
   },
   {
    "duration": 14,
    "start_time": "2024-11-04T22:35:53.484Z"
   },
   {
    "duration": 8,
    "start_time": "2024-11-04T22:35:53.500Z"
   },
   {
    "duration": 2,
    "start_time": "2024-11-04T22:35:53.509Z"
   },
   {
    "duration": 2,
    "start_time": "2024-11-04T22:35:53.513Z"
   },
   {
    "duration": 3,
    "start_time": "2024-11-04T22:35:53.516Z"
   },
   {
    "duration": 2,
    "start_time": "2024-11-04T22:35:53.520Z"
   },
   {
    "duration": 2,
    "start_time": "2024-11-04T22:35:53.524Z"
   },
   {
    "duration": 42,
    "start_time": "2024-11-04T22:35:53.528Z"
   },
   {
    "duration": 2,
    "start_time": "2024-11-04T22:35:53.572Z"
   },
   {
    "duration": 2,
    "start_time": "2024-11-04T22:35:53.576Z"
   },
   {
    "duration": 3,
    "start_time": "2024-11-04T22:35:53.579Z"
   },
   {
    "duration": 3,
    "start_time": "2024-11-04T22:35:53.583Z"
   },
   {
    "duration": 3,
    "start_time": "2024-11-04T22:35:53.587Z"
   },
   {
    "duration": 2,
    "start_time": "2024-11-04T22:35:53.592Z"
   },
   {
    "duration": 3,
    "start_time": "2024-11-04T22:35:53.595Z"
   },
   {
    "duration": 2,
    "start_time": "2024-11-04T22:35:53.599Z"
   },
   {
    "duration": 3,
    "start_time": "2024-11-04T22:35:53.603Z"
   },
   {
    "duration": 2,
    "start_time": "2024-11-04T22:35:53.607Z"
   },
   {
    "duration": 2,
    "start_time": "2024-11-04T22:35:53.611Z"
   },
   {
    "duration": 2,
    "start_time": "2024-11-04T22:35:53.615Z"
   },
   {
    "duration": 53,
    "start_time": "2024-11-04T22:35:53.619Z"
   },
   {
    "duration": 2,
    "start_time": "2024-11-04T22:35:53.674Z"
   },
   {
    "duration": 19,
    "start_time": "2024-11-04T22:37:31.846Z"
   },
   {
    "duration": 22,
    "start_time": "2024-11-04T22:40:19.679Z"
   },
   {
    "duration": 194,
    "start_time": "2024-11-04T22:49:47.708Z"
   },
   {
    "duration": 836,
    "start_time": "2024-11-04T22:50:36.874Z"
   },
   {
    "duration": 894,
    "start_time": "2024-11-04T22:50:37.712Z"
   },
   {
    "duration": 12,
    "start_time": "2024-11-04T22:50:38.608Z"
   },
   {
    "duration": 9,
    "start_time": "2024-11-04T22:50:38.623Z"
   },
   {
    "duration": 46,
    "start_time": "2024-11-04T22:50:38.633Z"
   },
   {
    "duration": 8,
    "start_time": "2024-11-04T22:50:38.681Z"
   },
   {
    "duration": 7,
    "start_time": "2024-11-04T22:50:38.690Z"
   },
   {
    "duration": 47,
    "start_time": "2024-11-04T22:50:38.699Z"
   },
   {
    "duration": 339,
    "start_time": "2024-11-04T22:50:38.769Z"
   },
   {
    "duration": 971,
    "start_time": "2024-11-04T22:50:39.112Z"
   },
   {
    "duration": 2178,
    "start_time": "2024-11-04T22:50:40.085Z"
   },
   {
    "duration": 107,
    "start_time": "2024-11-04T22:50:42.265Z"
   },
   {
    "duration": 10,
    "start_time": "2024-11-04T22:50:42.373Z"
   },
   {
    "duration": 112,
    "start_time": "2024-11-04T22:50:42.385Z"
   },
   {
    "duration": 90,
    "start_time": "2024-11-04T22:50:42.499Z"
   },
   {
    "duration": 49,
    "start_time": "2024-11-04T22:50:42.591Z"
   },
   {
    "duration": 32,
    "start_time": "2024-11-04T22:50:42.641Z"
   },
   {
    "duration": 8,
    "start_time": "2024-11-04T22:50:42.675Z"
   },
   {
    "duration": 17,
    "start_time": "2024-11-04T22:50:42.685Z"
   },
   {
    "duration": 2,
    "start_time": "2024-11-04T22:50:42.703Z"
   },
   {
    "duration": 2,
    "start_time": "2024-11-04T22:50:42.707Z"
   },
   {
    "duration": 2,
    "start_time": "2024-11-04T22:50:42.711Z"
   },
   {
    "duration": 2,
    "start_time": "2024-11-04T22:50:42.715Z"
   },
   {
    "duration": 2,
    "start_time": "2024-11-04T22:50:42.719Z"
   },
   {
    "duration": 2,
    "start_time": "2024-11-04T22:50:42.723Z"
   },
   {
    "duration": 43,
    "start_time": "2024-11-04T22:50:42.727Z"
   },
   {
    "duration": 2,
    "start_time": "2024-11-04T22:50:42.772Z"
   },
   {
    "duration": 3,
    "start_time": "2024-11-04T22:50:42.779Z"
   },
   {
    "duration": 2,
    "start_time": "2024-11-04T22:50:42.783Z"
   },
   {
    "duration": 2,
    "start_time": "2024-11-04T22:50:42.787Z"
   },
   {
    "duration": 3,
    "start_time": "2024-11-04T22:50:42.790Z"
   },
   {
    "duration": 3,
    "start_time": "2024-11-04T22:50:42.794Z"
   },
   {
    "duration": 2,
    "start_time": "2024-11-04T22:50:42.798Z"
   },
   {
    "duration": 2,
    "start_time": "2024-11-04T22:50:42.802Z"
   },
   {
    "duration": 2,
    "start_time": "2024-11-04T22:50:42.806Z"
   },
   {
    "duration": 3,
    "start_time": "2024-11-04T22:50:42.810Z"
   },
   {
    "duration": 2,
    "start_time": "2024-11-04T22:50:42.815Z"
   },
   {
    "duration": 53,
    "start_time": "2024-11-04T22:50:42.818Z"
   },
   {
    "duration": 2750,
    "start_time": "2024-11-05T00:03:50.605Z"
   },
   {
    "duration": 1069,
    "start_time": "2024-11-05T00:03:53.357Z"
   },
   {
    "duration": 15,
    "start_time": "2024-11-05T00:03:54.428Z"
   },
   {
    "duration": 13,
    "start_time": "2024-11-05T00:03:54.445Z"
   },
   {
    "duration": 24,
    "start_time": "2024-11-05T00:03:54.460Z"
   },
   {
    "duration": 8,
    "start_time": "2024-11-05T00:03:54.486Z"
   },
   {
    "duration": 10,
    "start_time": "2024-11-05T00:03:54.524Z"
   },
   {
    "duration": 47,
    "start_time": "2024-11-05T00:03:54.536Z"
   },
   {
    "duration": 348,
    "start_time": "2024-11-05T00:03:54.585Z"
   },
   {
    "duration": 1050,
    "start_time": "2024-11-05T00:03:54.935Z"
   },
   {
    "duration": 2249,
    "start_time": "2024-11-05T00:03:55.988Z"
   },
   {
    "duration": 141,
    "start_time": "2024-11-05T00:03:58.239Z"
   },
   {
    "duration": 14,
    "start_time": "2024-11-05T00:03:58.382Z"
   },
   {
    "duration": 111,
    "start_time": "2024-11-05T00:03:58.400Z"
   },
   {
    "duration": 94,
    "start_time": "2024-11-05T00:03:58.512Z"
   },
   {
    "duration": 78,
    "start_time": "2024-11-05T00:03:58.608Z"
   },
   {
    "duration": 13,
    "start_time": "2024-11-05T00:03:58.688Z"
   },
   {
    "duration": 21,
    "start_time": "2024-11-05T00:03:58.703Z"
   },
   {
    "duration": 24,
    "start_time": "2024-11-05T00:03:58.726Z"
   },
   {
    "duration": 22,
    "start_time": "2024-11-05T00:03:58.752Z"
   },
   {
    "duration": 3,
    "start_time": "2024-11-05T00:03:58.776Z"
   },
   {
    "duration": 3,
    "start_time": "2024-11-05T00:03:58.781Z"
   },
   {
    "duration": 3,
    "start_time": "2024-11-05T00:03:58.786Z"
   },
   {
    "duration": 4,
    "start_time": "2024-11-05T00:03:58.825Z"
   },
   {
    "duration": 3,
    "start_time": "2024-11-05T00:03:58.831Z"
   },
   {
    "duration": 2,
    "start_time": "2024-11-05T00:03:58.837Z"
   },
   {
    "duration": 3,
    "start_time": "2024-11-05T00:03:58.841Z"
   },
   {
    "duration": 4,
    "start_time": "2024-11-05T00:03:58.845Z"
   },
   {
    "duration": 5,
    "start_time": "2024-11-05T00:03:58.850Z"
   },
   {
    "duration": 2,
    "start_time": "2024-11-05T00:03:58.857Z"
   },
   {
    "duration": 2,
    "start_time": "2024-11-05T00:03:58.861Z"
   },
   {
    "duration": 3,
    "start_time": "2024-11-05T00:03:58.864Z"
   },
   {
    "duration": 2,
    "start_time": "2024-11-05T00:03:58.869Z"
   },
   {
    "duration": 3,
    "start_time": "2024-11-05T00:03:58.873Z"
   },
   {
    "duration": 47,
    "start_time": "2024-11-05T00:03:58.878Z"
   },
   {
    "duration": 3,
    "start_time": "2024-11-05T00:03:58.927Z"
   },
   {
    "duration": 3,
    "start_time": "2024-11-05T00:03:58.932Z"
   },
   {
    "duration": 3,
    "start_time": "2024-11-05T00:03:58.936Z"
   },
   {
    "duration": 4,
    "start_time": "2024-11-05T00:11:22.561Z"
   },
   {
    "duration": 3,
    "start_time": "2024-11-05T00:11:37.197Z"
   },
   {
    "duration": 7,
    "start_time": "2024-11-05T00:11:46.148Z"
   },
   {
    "duration": 4,
    "start_time": "2024-11-05T00:16:51.786Z"
   },
   {
    "duration": 7,
    "start_time": "2024-11-05T00:16:53.117Z"
   },
   {
    "duration": 956,
    "start_time": "2024-11-05T00:28:50.944Z"
   },
   {
    "duration": 744,
    "start_time": "2024-11-05T00:28:53.814Z"
   },
   {
    "duration": 12,
    "start_time": "2024-11-05T00:34:09.069Z"
   },
   {
    "duration": 5,
    "start_time": "2024-11-05T00:35:01.866Z"
   },
   {
    "duration": 5,
    "start_time": "2024-11-05T00:35:49.857Z"
   },
   {
    "duration": 10,
    "start_time": "2024-11-05T00:36:30.477Z"
   },
   {
    "duration": 6,
    "start_time": "2024-11-05T00:37:24.790Z"
   },
   {
    "duration": 5,
    "start_time": "2024-11-05T00:38:08.866Z"
   },
   {
    "duration": 223,
    "start_time": "2024-11-05T00:39:44.178Z"
   },
   {
    "duration": 809,
    "start_time": "2024-11-05T00:45:21.815Z"
   },
   {
    "duration": 871,
    "start_time": "2024-11-05T00:45:22.627Z"
   },
   {
    "duration": 10,
    "start_time": "2024-11-05T00:45:23.501Z"
   },
   {
    "duration": 19,
    "start_time": "2024-11-05T00:45:23.513Z"
   },
   {
    "duration": 23,
    "start_time": "2024-11-05T00:45:23.534Z"
   },
   {
    "duration": 8,
    "start_time": "2024-11-05T00:45:23.559Z"
   },
   {
    "duration": 7,
    "start_time": "2024-11-05T00:45:23.568Z"
   },
   {
    "duration": 77,
    "start_time": "2024-11-05T00:45:23.577Z"
   },
   {
    "duration": 343,
    "start_time": "2024-11-05T00:45:23.656Z"
   },
   {
    "duration": 1009,
    "start_time": "2024-11-05T00:45:24.002Z"
   },
   {
    "duration": 105,
    "start_time": "2024-11-05T00:45:25.013Z"
   },
   {
    "duration": 11,
    "start_time": "2024-11-05T00:45:25.120Z"
   },
   {
    "duration": 122,
    "start_time": "2024-11-05T00:45:25.133Z"
   },
   {
    "duration": 92,
    "start_time": "2024-11-05T00:45:25.256Z"
   },
   {
    "duration": 49,
    "start_time": "2024-11-05T00:45:25.350Z"
   },
   {
    "duration": 26,
    "start_time": "2024-11-05T00:45:25.401Z"
   },
   {
    "duration": 7,
    "start_time": "2024-11-05T00:45:25.429Z"
   },
   {
    "duration": 17,
    "start_time": "2024-11-05T00:45:25.438Z"
   },
   {
    "duration": 17,
    "start_time": "2024-11-05T00:45:25.456Z"
   },
   {
    "duration": 4,
    "start_time": "2024-11-05T00:45:25.474Z"
   },
   {
    "duration": 6,
    "start_time": "2024-11-05T00:45:25.480Z"
   },
   {
    "duration": 38,
    "start_time": "2024-11-05T00:45:25.488Z"
   },
   {
    "duration": 6,
    "start_time": "2024-11-05T00:45:25.529Z"
   },
   {
    "duration": 957,
    "start_time": "2024-11-05T00:45:25.537Z"
   },
   {
    "duration": 773,
    "start_time": "2024-11-05T00:45:26.496Z"
   },
   {
    "duration": 12,
    "start_time": "2024-11-05T00:45:27.271Z"
   },
   {
    "duration": 5,
    "start_time": "2024-11-05T00:45:27.284Z"
   },
   {
    "duration": 3,
    "start_time": "2024-11-05T00:45:27.293Z"
   },
   {
    "duration": 8,
    "start_time": "2024-11-05T00:45:27.325Z"
   },
   {
    "duration": 5,
    "start_time": "2024-11-05T00:45:27.335Z"
   },
   {
    "duration": 302,
    "start_time": "2024-11-05T00:45:27.342Z"
   },
   {
    "duration": 0,
    "start_time": "2024-11-05T00:45:27.646Z"
   },
   {
    "duration": 0,
    "start_time": "2024-11-05T00:45:27.647Z"
   },
   {
    "duration": 0,
    "start_time": "2024-11-05T00:45:27.648Z"
   },
   {
    "duration": 0,
    "start_time": "2024-11-05T00:45:27.649Z"
   },
   {
    "duration": 0,
    "start_time": "2024-11-05T00:45:27.651Z"
   },
   {
    "duration": 0,
    "start_time": "2024-11-05T00:45:27.652Z"
   },
   {
    "duration": 830,
    "start_time": "2024-11-05T00:57:13.129Z"
   },
   {
    "duration": 873,
    "start_time": "2024-11-05T00:57:13.961Z"
   },
   {
    "duration": 11,
    "start_time": "2024-11-05T00:57:14.837Z"
   },
   {
    "duration": 10,
    "start_time": "2024-11-05T00:57:14.850Z"
   },
   {
    "duration": 24,
    "start_time": "2024-11-05T00:57:14.863Z"
   },
   {
    "duration": 36,
    "start_time": "2024-11-05T00:57:14.889Z"
   },
   {
    "duration": 7,
    "start_time": "2024-11-05T00:57:14.927Z"
   },
   {
    "duration": 49,
    "start_time": "2024-11-05T00:57:14.935Z"
   },
   {
    "duration": 121,
    "start_time": "2024-11-05T00:57:14.986Z"
   },
   {
    "duration": 19,
    "start_time": "2024-11-05T00:57:15.109Z"
   },
   {
    "duration": 98,
    "start_time": "2024-11-05T00:57:15.129Z"
   },
   {
    "duration": 84,
    "start_time": "2024-11-05T00:57:15.228Z"
   },
   {
    "duration": 55,
    "start_time": "2024-11-05T00:57:15.314Z"
   },
   {
    "duration": 12,
    "start_time": "2024-11-05T00:57:15.373Z"
   },
   {
    "duration": 7,
    "start_time": "2024-11-05T00:57:15.387Z"
   },
   {
    "duration": 37,
    "start_time": "2024-11-05T00:57:15.395Z"
   },
   {
    "duration": 16,
    "start_time": "2024-11-05T00:57:15.434Z"
   },
   {
    "duration": 3,
    "start_time": "2024-11-05T00:57:15.452Z"
   },
   {
    "duration": 6,
    "start_time": "2024-11-05T00:57:15.457Z"
   },
   {
    "duration": 4,
    "start_time": "2024-11-05T00:57:15.465Z"
   },
   {
    "duration": 6,
    "start_time": "2024-11-05T00:57:15.470Z"
   },
   {
    "duration": 811,
    "start_time": "2024-11-05T00:57:15.478Z"
   },
   {
    "duration": 819,
    "start_time": "2024-11-05T00:57:16.291Z"
   },
   {
    "duration": 16,
    "start_time": "2024-11-05T00:57:17.112Z"
   },
   {
    "duration": 4,
    "start_time": "2024-11-05T00:57:17.129Z"
   },
   {
    "duration": 3,
    "start_time": "2024-11-05T00:57:17.135Z"
   },
   {
    "duration": 10,
    "start_time": "2024-11-05T00:57:17.140Z"
   },
   {
    "duration": 5,
    "start_time": "2024-11-05T00:57:17.151Z"
   },
   {
    "duration": 307,
    "start_time": "2024-11-05T00:57:17.158Z"
   },
   {
    "duration": 0,
    "start_time": "2024-11-05T00:57:17.467Z"
   },
   {
    "duration": 0,
    "start_time": "2024-11-05T00:57:17.468Z"
   },
   {
    "duration": 0,
    "start_time": "2024-11-05T00:57:17.470Z"
   },
   {
    "duration": 0,
    "start_time": "2024-11-05T00:57:17.472Z"
   },
   {
    "duration": 0,
    "start_time": "2024-11-05T00:57:17.473Z"
   },
   {
    "duration": 0,
    "start_time": "2024-11-05T00:57:17.475Z"
   },
   {
    "duration": 14,
    "start_time": "2024-11-05T01:18:33.369Z"
   },
   {
    "duration": 4,
    "start_time": "2024-11-05T01:19:21.349Z"
   },
   {
    "duration": 862,
    "start_time": "2024-11-05T01:30:32.350Z"
   },
   {
    "duration": 891,
    "start_time": "2024-11-05T01:30:33.215Z"
   },
   {
    "duration": 20,
    "start_time": "2024-11-05T01:30:34.107Z"
   },
   {
    "duration": 10,
    "start_time": "2024-11-05T01:30:34.129Z"
   },
   {
    "duration": 25,
    "start_time": "2024-11-05T01:30:34.141Z"
   },
   {
    "duration": 8,
    "start_time": "2024-11-05T01:30:34.168Z"
   },
   {
    "duration": 10,
    "start_time": "2024-11-05T01:30:34.177Z"
   },
   {
    "duration": 77,
    "start_time": "2024-11-05T01:30:34.190Z"
   },
   {
    "duration": 108,
    "start_time": "2024-11-05T01:30:34.269Z"
   },
   {
    "duration": 13,
    "start_time": "2024-11-05T01:30:34.379Z"
   },
   {
    "duration": 113,
    "start_time": "2024-11-05T01:30:34.394Z"
   },
   {
    "duration": 91,
    "start_time": "2024-11-05T01:30:34.508Z"
   },
   {
    "duration": 62,
    "start_time": "2024-11-05T01:30:34.601Z"
   },
   {
    "duration": 13,
    "start_time": "2024-11-05T01:30:34.668Z"
   },
   {
    "duration": 10,
    "start_time": "2024-11-05T01:30:34.684Z"
   },
   {
    "duration": 38,
    "start_time": "2024-11-05T01:30:34.697Z"
   },
   {
    "duration": 18,
    "start_time": "2024-11-05T01:30:34.738Z"
   },
   {
    "duration": 4,
    "start_time": "2024-11-05T01:30:34.757Z"
   },
   {
    "duration": 7,
    "start_time": "2024-11-05T01:30:34.762Z"
   },
   {
    "duration": 4,
    "start_time": "2024-11-05T01:30:34.770Z"
   },
   {
    "duration": 6,
    "start_time": "2024-11-05T01:30:34.776Z"
   },
   {
    "duration": 871,
    "start_time": "2024-11-05T01:30:34.783Z"
   },
   {
    "duration": 856,
    "start_time": "2024-11-05T01:30:35.656Z"
   },
   {
    "duration": 21,
    "start_time": "2024-11-05T01:30:36.513Z"
   },
   {
    "duration": 5,
    "start_time": "2024-11-05T01:30:36.535Z"
   },
   {
    "duration": 5,
    "start_time": "2024-11-05T01:30:36.541Z"
   },
   {
    "duration": 10,
    "start_time": "2024-11-05T01:30:36.547Z"
   },
   {
    "duration": 5,
    "start_time": "2024-11-05T01:30:36.558Z"
   },
   {
    "duration": 14,
    "start_time": "2024-11-05T01:30:36.565Z"
   },
   {
    "duration": 4,
    "start_time": "2024-11-05T01:30:36.581Z"
   },
   {
    "duration": 24,
    "start_time": "2024-11-05T01:30:36.625Z"
   },
   {
    "duration": 33,
    "start_time": "2024-11-05T01:30:36.651Z"
   },
   {
    "duration": 4,
    "start_time": "2024-11-05T01:30:36.685Z"
   },
   {
    "duration": 34,
    "start_time": "2024-11-05T01:30:36.690Z"
   },
   {
    "duration": 24,
    "start_time": "2024-11-05T01:30:36.726Z"
   },
   {
    "duration": 255,
    "start_time": "2024-11-05T01:38:26.454Z"
   },
   {
    "duration": 13,
    "start_time": "2024-11-05T01:38:28.521Z"
   },
   {
    "duration": 4,
    "start_time": "2024-11-05T01:39:35.409Z"
   },
   {
    "duration": 4,
    "start_time": "2024-11-05T01:39:39.728Z"
   },
   {
    "duration": 20,
    "start_time": "2024-11-05T01:40:39.601Z"
   },
   {
    "duration": 215,
    "start_time": "2024-11-05T01:41:06.446Z"
   },
   {
    "duration": 131,
    "start_time": "2024-11-05T01:42:07.652Z"
   },
   {
    "duration": 174,
    "start_time": "2024-11-05T01:42:52.472Z"
   },
   {
    "duration": 10,
    "start_time": "2024-11-05T01:44:40.762Z"
   },
   {
    "duration": 6,
    "start_time": "2024-11-05T01:47:54.361Z"
   },
   {
    "duration": 6,
    "start_time": "2024-11-05T01:47:55.782Z"
   },
   {
    "duration": 175,
    "start_time": "2024-11-05T01:47:56.662Z"
   },
   {
    "duration": 386,
    "start_time": "2024-11-05T01:52:46.448Z"
   },
   {
    "duration": 183,
    "start_time": "2024-11-05T01:52:53.626Z"
   },
   {
    "duration": 139,
    "start_time": "2024-11-05T01:55:37.125Z"
   },
   {
    "duration": 170,
    "start_time": "2024-11-05T01:55:39.513Z"
   },
   {
    "duration": 15,
    "start_time": "2024-11-05T01:55:56.216Z"
   },
   {
    "duration": 134,
    "start_time": "2024-11-05T01:56:07.566Z"
   },
   {
    "duration": 87,
    "start_time": "2024-11-05T01:58:17.405Z"
   },
   {
    "duration": 3,
    "start_time": "2024-11-05T01:58:18.317Z"
   },
   {
    "duration": 5,
    "start_time": "2024-11-05T01:58:19.484Z"
   },
   {
    "duration": 262,
    "start_time": "2024-11-05T01:59:39.940Z"
   },
   {
    "duration": 150,
    "start_time": "2024-11-05T01:59:41.081Z"
   },
   {
    "duration": 90,
    "start_time": "2024-11-05T01:59:42.849Z"
   },
   {
    "duration": 285,
    "start_time": "2024-11-05T02:03:47.587Z"
   },
   {
    "duration": 155,
    "start_time": "2024-11-05T02:03:48.532Z"
   },
   {
    "duration": 3,
    "start_time": "2024-11-05T02:03:56.024Z"
   },
   {
    "duration": 248,
    "start_time": "2024-11-05T02:04:14.072Z"
   },
   {
    "duration": 155,
    "start_time": "2024-11-05T02:04:15.239Z"
   },
   {
    "duration": 3,
    "start_time": "2024-11-05T02:04:17.707Z"
   },
   {
    "duration": 155,
    "start_time": "2024-11-05T02:04:59.613Z"
   },
   {
    "duration": 240,
    "start_time": "2024-11-05T02:05:33.381Z"
   },
   {
    "duration": 153,
    "start_time": "2024-11-05T02:05:35.744Z"
   },
   {
    "duration": 250,
    "start_time": "2024-11-05T02:09:48.144Z"
   },
   {
    "duration": 4,
    "start_time": "2024-11-05T02:09:49.789Z"
   },
   {
    "duration": 7,
    "start_time": "2024-11-05T02:10:55.610Z"
   },
   {
    "duration": 10,
    "start_time": "2024-11-05T02:11:17.642Z"
   },
   {
    "duration": 8,
    "start_time": "2024-11-05T02:12:27.432Z"
   },
   {
    "duration": 6,
    "start_time": "2024-11-05T02:13:06.755Z"
   },
   {
    "duration": 7,
    "start_time": "2024-11-05T02:14:08.103Z"
   },
   {
    "duration": 5,
    "start_time": "2024-11-05T02:14:31.290Z"
   },
   {
    "duration": 283,
    "start_time": "2024-11-05T02:14:39.141Z"
   },
   {
    "duration": 5,
    "start_time": "2024-11-05T02:14:54.848Z"
   },
   {
    "duration": 153,
    "start_time": "2024-11-05T02:15:09.355Z"
   },
   {
    "duration": 142,
    "start_time": "2024-11-05T02:19:27.907Z"
   },
   {
    "duration": 4,
    "start_time": "2024-11-05T02:19:29.412Z"
   },
   {
    "duration": 3,
    "start_time": "2024-11-05T02:19:50.849Z"
   },
   {
    "duration": 4,
    "start_time": "2024-11-05T02:19:57.732Z"
   },
   {
    "duration": 7,
    "start_time": "2024-11-05T02:19:59.819Z"
   },
   {
    "duration": 107,
    "start_time": "2024-11-05T02:20:52.928Z"
   },
   {
    "duration": 4,
    "start_time": "2024-11-05T02:21:01.307Z"
   },
   {
    "duration": 6,
    "start_time": "2024-11-05T02:21:09.617Z"
   },
   {
    "duration": 8,
    "start_time": "2024-11-05T02:21:14.308Z"
   },
   {
    "duration": 103,
    "start_time": "2024-11-05T02:21:58.931Z"
   },
   {
    "duration": 12,
    "start_time": "2024-11-05T02:22:00.217Z"
   },
   {
    "duration": 397,
    "start_time": "2024-11-05T02:22:01.447Z"
   },
   {
    "duration": 100,
    "start_time": "2024-11-05T02:24:44.837Z"
   },
   {
    "duration": 13,
    "start_time": "2024-11-05T02:24:46.249Z"
   },
   {
    "duration": 844,
    "start_time": "2024-11-05T02:25:50.258Z"
   },
   {
    "duration": 913,
    "start_time": "2024-11-05T02:25:51.104Z"
   },
   {
    "duration": 14,
    "start_time": "2024-11-05T02:25:52.019Z"
   },
   {
    "duration": 9,
    "start_time": "2024-11-05T02:25:52.035Z"
   },
   {
    "duration": 24,
    "start_time": "2024-11-05T02:25:52.045Z"
   },
   {
    "duration": 8,
    "start_time": "2024-11-05T02:25:52.071Z"
   },
   {
    "duration": 8,
    "start_time": "2024-11-05T02:25:52.080Z"
   },
   {
    "duration": 74,
    "start_time": "2024-11-05T02:25:52.092Z"
   },
   {
    "duration": 134,
    "start_time": "2024-11-05T02:25:52.168Z"
   },
   {
    "duration": 20,
    "start_time": "2024-11-05T02:25:52.305Z"
   },
   {
    "duration": 89,
    "start_time": "2024-11-05T02:25:52.326Z"
   },
   {
    "duration": 82,
    "start_time": "2024-11-05T02:25:52.424Z"
   },
   {
    "duration": 56,
    "start_time": "2024-11-05T02:25:52.508Z"
   },
   {
    "duration": 12,
    "start_time": "2024-11-05T02:25:52.566Z"
   },
   {
    "duration": 8,
    "start_time": "2024-11-05T02:25:52.580Z"
   },
   {
    "duration": 41,
    "start_time": "2024-11-05T02:25:52.590Z"
   },
   {
    "duration": 17,
    "start_time": "2024-11-05T02:25:52.633Z"
   },
   {
    "duration": 3,
    "start_time": "2024-11-05T02:25:52.652Z"
   },
   {
    "duration": 7,
    "start_time": "2024-11-05T02:25:52.657Z"
   },
   {
    "duration": 4,
    "start_time": "2024-11-05T02:25:52.667Z"
   },
   {
    "duration": 6,
    "start_time": "2024-11-05T02:25:52.673Z"
   },
   {
    "duration": 843,
    "start_time": "2024-11-05T02:25:52.681Z"
   },
   {
    "duration": 800,
    "start_time": "2024-11-05T02:25:53.526Z"
   },
   {
    "duration": 12,
    "start_time": "2024-11-05T02:25:54.327Z"
   },
   {
    "duration": 4,
    "start_time": "2024-11-05T02:25:54.341Z"
   },
   {
    "duration": 4,
    "start_time": "2024-11-05T02:25:54.347Z"
   },
   {
    "duration": 9,
    "start_time": "2024-11-05T02:25:54.353Z"
   },
   {
    "duration": 4,
    "start_time": "2024-11-05T02:25:54.367Z"
   },
   {
    "duration": 54,
    "start_time": "2024-11-05T02:25:54.373Z"
   },
   {
    "duration": 4,
    "start_time": "2024-11-05T02:25:54.428Z"
   },
   {
    "duration": 24,
    "start_time": "2024-11-05T02:25:54.434Z"
   },
   {
    "duration": 32,
    "start_time": "2024-11-05T02:25:54.460Z"
   },
   {
    "duration": 32,
    "start_time": "2024-11-05T02:25:54.494Z"
   },
   {
    "duration": 4,
    "start_time": "2024-11-05T02:25:54.528Z"
   },
   {
    "duration": 23,
    "start_time": "2024-11-05T02:25:54.534Z"
   },
   {
    "duration": 4,
    "start_time": "2024-11-05T02:25:54.559Z"
   },
   {
    "duration": 4,
    "start_time": "2024-11-05T02:25:54.564Z"
   },
   {
    "duration": 224,
    "start_time": "2024-11-05T02:25:54.569Z"
   },
   {
    "duration": 209,
    "start_time": "2024-11-05T02:25:54.795Z"
   },
   {
    "duration": 182,
    "start_time": "2024-11-05T02:25:55.006Z"
   },
   {
    "duration": 6,
    "start_time": "2024-11-05T02:25:55.190Z"
   },
   {
    "duration": 6,
    "start_time": "2024-11-05T02:25:55.197Z"
   },
   {
    "duration": 402,
    "start_time": "2024-11-05T02:25:55.205Z"
   },
   {
    "duration": 192,
    "start_time": "2024-11-05T02:25:55.609Z"
   },
   {
    "duration": 22,
    "start_time": "2024-11-05T02:25:55.802Z"
   },
   {
    "duration": 131,
    "start_time": "2024-11-05T02:25:55.825Z"
   },
   {
    "duration": 100,
    "start_time": "2024-11-05T02:25:55.958Z"
   },
   {
    "duration": 4,
    "start_time": "2024-11-05T02:25:56.060Z"
   },
   {
    "duration": 5,
    "start_time": "2024-11-05T02:25:56.065Z"
   },
   {
    "duration": 280,
    "start_time": "2024-11-05T02:25:56.072Z"
   },
   {
    "duration": 5,
    "start_time": "2024-11-05T02:25:56.353Z"
   },
   {
    "duration": 166,
    "start_time": "2024-11-05T02:25:56.360Z"
   },
   {
    "duration": 156,
    "start_time": "2024-11-05T02:25:56.528Z"
   },
   {
    "duration": 3,
    "start_time": "2024-11-05T02:25:56.686Z"
   },
   {
    "duration": 3,
    "start_time": "2024-11-05T02:25:56.691Z"
   },
   {
    "duration": 7,
    "start_time": "2024-11-05T02:25:56.696Z"
   },
   {
    "duration": 132,
    "start_time": "2024-11-05T02:25:56.704Z"
   },
   {
    "duration": 12,
    "start_time": "2024-11-05T02:25:56.837Z"
   },
   {
    "duration": 5,
    "start_time": "2024-11-05T02:25:56.850Z"
   },
   {
    "duration": 6,
    "start_time": "2024-11-05T02:26:27.688Z"
   },
   {
    "duration": 295,
    "start_time": "2024-11-05T02:27:11.162Z"
   },
   {
    "duration": 5,
    "start_time": "2024-11-05T02:27:13.189Z"
   },
   {
    "duration": 6,
    "start_time": "2024-11-05T02:27:24.801Z"
   },
   {
    "duration": 23,
    "start_time": "2024-11-05T02:28:12.416Z"
   },
   {
    "duration": 10,
    "start_time": "2024-11-05T02:28:13.748Z"
   },
   {
    "duration": 6,
    "start_time": "2024-11-05T02:28:15.193Z"
   },
   {
    "duration": 834,
    "start_time": "2024-11-05T02:28:35.233Z"
   },
   {
    "duration": 915,
    "start_time": "2024-11-05T02:28:36.069Z"
   },
   {
    "duration": 11,
    "start_time": "2024-11-05T02:28:36.986Z"
   },
   {
    "duration": 10,
    "start_time": "2024-11-05T02:28:36.999Z"
   },
   {
    "duration": 25,
    "start_time": "2024-11-05T02:28:37.025Z"
   },
   {
    "duration": 10,
    "start_time": "2024-11-05T02:28:37.052Z"
   },
   {
    "duration": 9,
    "start_time": "2024-11-05T02:28:37.064Z"
   },
   {
    "duration": 77,
    "start_time": "2024-11-05T02:28:37.075Z"
   },
   {
    "duration": 145,
    "start_time": "2024-11-05T02:28:37.155Z"
   },
   {
    "duration": 10,
    "start_time": "2024-11-05T02:28:37.302Z"
   },
   {
    "duration": 103,
    "start_time": "2024-11-05T02:28:37.314Z"
   },
   {
    "duration": 125,
    "start_time": "2024-11-05T02:28:37.423Z"
   },
   {
    "duration": 57,
    "start_time": "2024-11-05T02:28:37.551Z"
   },
   {
    "duration": 16,
    "start_time": "2024-11-05T02:28:37.612Z"
   },
   {
    "duration": 9,
    "start_time": "2024-11-05T02:28:37.630Z"
   },
   {
    "duration": 18,
    "start_time": "2024-11-05T02:28:37.641Z"
   },
   {
    "duration": 16,
    "start_time": "2024-11-05T02:28:37.660Z"
   },
   {
    "duration": 3,
    "start_time": "2024-11-05T02:28:37.678Z"
   },
   {
    "duration": 44,
    "start_time": "2024-11-05T02:28:37.682Z"
   },
   {
    "duration": 4,
    "start_time": "2024-11-05T02:28:37.729Z"
   },
   {
    "duration": 7,
    "start_time": "2024-11-05T02:28:37.735Z"
   },
   {
    "duration": 806,
    "start_time": "2024-11-05T02:28:37.743Z"
   },
   {
    "duration": 813,
    "start_time": "2024-11-05T02:28:38.551Z"
   },
   {
    "duration": 11,
    "start_time": "2024-11-05T02:28:39.366Z"
   },
   {
    "duration": 3,
    "start_time": "2024-11-05T02:28:39.379Z"
   },
   {
    "duration": 3,
    "start_time": "2024-11-05T02:28:39.385Z"
   },
   {
    "duration": 37,
    "start_time": "2024-11-05T02:28:39.390Z"
   },
   {
    "duration": 4,
    "start_time": "2024-11-05T02:28:39.429Z"
   },
   {
    "duration": 14,
    "start_time": "2024-11-05T02:28:39.435Z"
   },
   {
    "duration": 4,
    "start_time": "2024-11-05T02:28:39.451Z"
   },
   {
    "duration": 23,
    "start_time": "2024-11-05T02:28:39.456Z"
   },
   {
    "duration": 58,
    "start_time": "2024-11-05T02:28:39.480Z"
   },
   {
    "duration": 4,
    "start_time": "2024-11-05T02:28:39.540Z"
   },
   {
    "duration": 4,
    "start_time": "2024-11-05T02:28:39.546Z"
   },
   {
    "duration": 22,
    "start_time": "2024-11-05T02:28:39.552Z"
   },
   {
    "duration": 5,
    "start_time": "2024-11-05T02:28:39.576Z"
   },
   {
    "duration": 4,
    "start_time": "2024-11-05T02:28:39.582Z"
   },
   {
    "duration": 237,
    "start_time": "2024-11-05T02:28:39.588Z"
   },
   {
    "duration": 188,
    "start_time": "2024-11-05T02:28:39.827Z"
   },
   {
    "duration": 178,
    "start_time": "2024-11-05T02:28:40.023Z"
   },
   {
    "duration": 6,
    "start_time": "2024-11-05T02:28:40.206Z"
   },
   {
    "duration": 6,
    "start_time": "2024-11-05T02:28:40.223Z"
   },
   {
    "duration": 389,
    "start_time": "2024-11-05T02:28:40.230Z"
   },
   {
    "duration": 180,
    "start_time": "2024-11-05T02:28:40.625Z"
   },
   {
    "duration": 25,
    "start_time": "2024-11-05T02:28:40.806Z"
   },
   {
    "duration": 130,
    "start_time": "2024-11-05T02:28:40.832Z"
   },
   {
    "duration": 100,
    "start_time": "2024-11-05T02:28:40.964Z"
   },
   {
    "duration": 4,
    "start_time": "2024-11-05T02:28:41.066Z"
   },
   {
    "duration": 5,
    "start_time": "2024-11-05T02:28:41.071Z"
   },
   {
    "duration": 290,
    "start_time": "2024-11-05T02:28:41.080Z"
   },
   {
    "duration": 5,
    "start_time": "2024-11-05T02:28:41.373Z"
   },
   {
    "duration": 165,
    "start_time": "2024-11-05T02:28:41.379Z"
   },
   {
    "duration": 162,
    "start_time": "2024-11-05T02:28:41.546Z"
   },
   {
    "duration": 3,
    "start_time": "2024-11-05T02:28:41.710Z"
   },
   {
    "duration": 3,
    "start_time": "2024-11-05T02:28:41.724Z"
   },
   {
    "duration": 6,
    "start_time": "2024-11-05T02:28:41.729Z"
   },
   {
    "duration": 121,
    "start_time": "2024-11-05T02:28:41.736Z"
   },
   {
    "duration": 13,
    "start_time": "2024-11-05T02:28:41.859Z"
   },
   {
    "duration": 7,
    "start_time": "2024-11-05T02:28:41.873Z"
   },
   {
    "duration": 314,
    "start_time": "2024-11-05T02:28:41.881Z"
   },
   {
    "duration": 6,
    "start_time": "2024-11-05T02:28:42.197Z"
   },
   {
    "duration": 34,
    "start_time": "2024-11-05T02:28:42.205Z"
   },
   {
    "duration": 9,
    "start_time": "2024-11-05T02:28:42.240Z"
   },
   {
    "duration": 3,
    "start_time": "2024-11-05T02:28:42.251Z"
   },
   {
    "duration": 23,
    "start_time": "2024-11-05T02:30:14.416Z"
   },
   {
    "duration": 9,
    "start_time": "2024-11-05T02:30:15.828Z"
   },
   {
    "duration": 7,
    "start_time": "2024-11-05T02:30:20.422Z"
   },
   {
    "duration": 9,
    "start_time": "2024-11-05T02:30:31.838Z"
   },
   {
    "duration": 216,
    "start_time": "2024-11-05T02:59:06.883Z"
   },
   {
    "duration": 17,
    "start_time": "2024-11-05T02:59:45.416Z"
   },
   {
    "duration": 843,
    "start_time": "2024-11-05T03:01:48.357Z"
   },
   {
    "duration": 881,
    "start_time": "2024-11-05T03:01:49.201Z"
   },
   {
    "duration": 10,
    "start_time": "2024-11-05T03:01:50.084Z"
   },
   {
    "duration": 9,
    "start_time": "2024-11-05T03:01:50.097Z"
   },
   {
    "duration": 23,
    "start_time": "2024-11-05T03:01:50.125Z"
   },
   {
    "duration": 8,
    "start_time": "2024-11-05T03:01:50.150Z"
   },
   {
    "duration": 8,
    "start_time": "2024-11-05T03:01:50.159Z"
   },
   {
    "duration": 68,
    "start_time": "2024-11-05T03:01:50.168Z"
   },
   {
    "duration": 110,
    "start_time": "2024-11-05T03:01:50.238Z"
   },
   {
    "duration": 11,
    "start_time": "2024-11-05T03:01:50.351Z"
   },
   {
    "duration": 106,
    "start_time": "2024-11-05T03:01:50.364Z"
   },
   {
    "duration": 102,
    "start_time": "2024-11-05T03:01:50.472Z"
   },
   {
    "duration": 52,
    "start_time": "2024-11-05T03:01:50.576Z"
   },
   {
    "duration": 12,
    "start_time": "2024-11-05T03:01:50.630Z"
   },
   {
    "duration": 8,
    "start_time": "2024-11-05T03:01:50.644Z"
   },
   {
    "duration": 17,
    "start_time": "2024-11-05T03:01:50.653Z"
   },
   {
    "duration": 15,
    "start_time": "2024-11-05T03:01:50.672Z"
   },
   {
    "duration": 36,
    "start_time": "2024-11-05T03:01:50.689Z"
   },
   {
    "duration": 8,
    "start_time": "2024-11-05T03:01:50.727Z"
   },
   {
    "duration": 4,
    "start_time": "2024-11-05T03:01:50.736Z"
   },
   {
    "duration": 6,
    "start_time": "2024-11-05T03:01:50.741Z"
   },
   {
    "duration": 784,
    "start_time": "2024-11-05T03:01:50.749Z"
   },
   {
    "duration": 811,
    "start_time": "2024-11-05T03:01:51.535Z"
   },
   {
    "duration": 11,
    "start_time": "2024-11-05T03:01:52.348Z"
   },
   {
    "duration": 4,
    "start_time": "2024-11-05T03:01:52.361Z"
   },
   {
    "duration": 4,
    "start_time": "2024-11-05T03:01:52.367Z"
   },
   {
    "duration": 9,
    "start_time": "2024-11-05T03:01:52.372Z"
   },
   {
    "duration": 38,
    "start_time": "2024-11-05T03:01:52.385Z"
   },
   {
    "duration": 13,
    "start_time": "2024-11-05T03:01:52.425Z"
   },
   {
    "duration": 5,
    "start_time": "2024-11-05T03:01:52.439Z"
   },
   {
    "duration": 25,
    "start_time": "2024-11-05T03:01:52.445Z"
   },
   {
    "duration": 59,
    "start_time": "2024-11-05T03:01:52.472Z"
   },
   {
    "duration": 4,
    "start_time": "2024-11-05T03:01:52.533Z"
   },
   {
    "duration": 4,
    "start_time": "2024-11-05T03:01:52.539Z"
   },
   {
    "duration": 23,
    "start_time": "2024-11-05T03:01:52.545Z"
   },
   {
    "duration": 4,
    "start_time": "2024-11-05T03:01:52.570Z"
   },
   {
    "duration": 4,
    "start_time": "2024-11-05T03:01:52.575Z"
   },
   {
    "duration": 244,
    "start_time": "2024-11-05T03:01:52.581Z"
   },
   {
    "duration": 178,
    "start_time": "2024-11-05T03:01:52.826Z"
   },
   {
    "duration": 192,
    "start_time": "2024-11-05T03:01:53.006Z"
   },
   {
    "duration": 6,
    "start_time": "2024-11-05T03:01:53.200Z"
   },
   {
    "duration": 17,
    "start_time": "2024-11-05T03:01:53.208Z"
   },
   {
    "duration": 371,
    "start_time": "2024-11-05T03:01:53.227Z"
   },
   {
    "duration": 187,
    "start_time": "2024-11-05T03:01:53.599Z"
   },
   {
    "duration": 16,
    "start_time": "2024-11-05T03:01:53.788Z"
   },
   {
    "duration": 144,
    "start_time": "2024-11-05T03:01:53.805Z"
   },
   {
    "duration": 93,
    "start_time": "2024-11-05T03:01:53.951Z"
   },
   {
    "duration": 3,
    "start_time": "2024-11-05T03:01:54.046Z"
   },
   {
    "duration": 5,
    "start_time": "2024-11-05T03:01:54.051Z"
   },
   {
    "duration": 280,
    "start_time": "2024-11-05T03:01:54.057Z"
   },
   {
    "duration": 6,
    "start_time": "2024-11-05T03:01:54.338Z"
   },
   {
    "duration": 162,
    "start_time": "2024-11-05T03:01:54.345Z"
   },
   {
    "duration": 158,
    "start_time": "2024-11-05T03:01:54.509Z"
   },
   {
    "duration": 3,
    "start_time": "2024-11-05T03:01:54.669Z"
   },
   {
    "duration": 4,
    "start_time": "2024-11-05T03:01:54.674Z"
   },
   {
    "duration": 7,
    "start_time": "2024-11-05T03:01:54.679Z"
   },
   {
    "duration": 134,
    "start_time": "2024-11-05T03:01:54.687Z"
   },
   {
    "duration": 11,
    "start_time": "2024-11-05T03:01:54.825Z"
   },
   {
    "duration": 6,
    "start_time": "2024-11-05T03:01:54.838Z"
   },
   {
    "duration": 323,
    "start_time": "2024-11-05T03:01:54.846Z"
   },
   {
    "duration": 6,
    "start_time": "2024-11-05T03:01:55.171Z"
   },
   {
    "duration": 22,
    "start_time": "2024-11-05T03:01:55.179Z"
   },
   {
    "duration": 24,
    "start_time": "2024-11-05T03:01:55.203Z"
   },
   {
    "duration": 7,
    "start_time": "2024-11-05T03:01:55.229Z"
   },
   {
    "duration": 7,
    "start_time": "2024-11-05T03:23:26.464Z"
   },
   {
    "duration": 833,
    "start_time": "2024-11-05T03:47:23.675Z"
   },
   {
    "duration": 886,
    "start_time": "2024-11-05T03:47:24.510Z"
   },
   {
    "duration": 13,
    "start_time": "2024-11-05T03:47:25.397Z"
   },
   {
    "duration": 19,
    "start_time": "2024-11-05T03:47:25.411Z"
   },
   {
    "duration": 24,
    "start_time": "2024-11-05T03:47:25.434Z"
   },
   {
    "duration": 8,
    "start_time": "2024-11-05T03:47:25.460Z"
   },
   {
    "duration": 8,
    "start_time": "2024-11-05T03:47:25.469Z"
   },
   {
    "duration": 75,
    "start_time": "2024-11-05T03:47:25.478Z"
   },
   {
    "duration": 111,
    "start_time": "2024-11-05T03:47:25.554Z"
   },
   {
    "duration": 11,
    "start_time": "2024-11-05T03:47:25.667Z"
   },
   {
    "duration": 109,
    "start_time": "2024-11-05T03:47:25.679Z"
   },
   {
    "duration": 89,
    "start_time": "2024-11-05T03:47:25.789Z"
   },
   {
    "duration": 57,
    "start_time": "2024-11-05T03:47:25.880Z"
   },
   {
    "duration": 11,
    "start_time": "2024-11-05T03:47:25.941Z"
   },
   {
    "duration": 7,
    "start_time": "2024-11-05T03:47:25.954Z"
   },
   {
    "duration": 17,
    "start_time": "2024-11-05T03:47:25.963Z"
   },
   {
    "duration": 44,
    "start_time": "2024-11-05T03:47:25.982Z"
   },
   {
    "duration": 4,
    "start_time": "2024-11-05T03:47:26.027Z"
   },
   {
    "duration": 8,
    "start_time": "2024-11-05T03:47:26.033Z"
   },
   {
    "duration": 4,
    "start_time": "2024-11-05T03:47:26.042Z"
   },
   {
    "duration": 6,
    "start_time": "2024-11-05T03:47:26.048Z"
   },
   {
    "duration": 833,
    "start_time": "2024-11-05T03:47:26.056Z"
   },
   {
    "duration": 803,
    "start_time": "2024-11-05T03:47:26.891Z"
   },
   {
    "duration": 11,
    "start_time": "2024-11-05T03:47:27.696Z"
   },
   {
    "duration": 15,
    "start_time": "2024-11-05T03:47:27.709Z"
   },
   {
    "duration": 4,
    "start_time": "2024-11-05T03:47:27.726Z"
   },
   {
    "duration": 10,
    "start_time": "2024-11-05T03:47:27.732Z"
   },
   {
    "duration": 5,
    "start_time": "2024-11-05T03:47:27.744Z"
   },
   {
    "duration": 14,
    "start_time": "2024-11-05T03:47:27.750Z"
   },
   {
    "duration": 4,
    "start_time": "2024-11-05T03:47:27.765Z"
   },
   {
    "duration": 65,
    "start_time": "2024-11-05T03:47:27.770Z"
   },
   {
    "duration": 31,
    "start_time": "2024-11-05T03:47:27.837Z"
   },
   {
    "duration": 4,
    "start_time": "2024-11-05T03:47:27.870Z"
   },
   {
    "duration": 4,
    "start_time": "2024-11-05T03:47:27.876Z"
   },
   {
    "duration": 52,
    "start_time": "2024-11-05T03:47:27.882Z"
   },
   {
    "duration": 4,
    "start_time": "2024-11-05T03:47:27.937Z"
   },
   {
    "duration": 4,
    "start_time": "2024-11-05T03:47:27.943Z"
   },
   {
    "duration": 218,
    "start_time": "2024-11-05T03:47:27.949Z"
   },
   {
    "duration": 191,
    "start_time": "2024-11-05T03:47:28.169Z"
   },
   {
    "duration": 184,
    "start_time": "2024-11-05T03:47:28.361Z"
   },
   {
    "duration": 5,
    "start_time": "2024-11-05T03:47:28.550Z"
   },
   {
    "duration": 5,
    "start_time": "2024-11-05T03:47:28.557Z"
   },
   {
    "duration": 389,
    "start_time": "2024-11-05T03:47:28.563Z"
   },
   {
    "duration": 185,
    "start_time": "2024-11-05T03:47:28.954Z"
   },
   {
    "duration": 16,
    "start_time": "2024-11-05T03:47:29.141Z"
   },
   {
    "duration": 141,
    "start_time": "2024-11-05T03:47:29.158Z"
   },
   {
    "duration": 96,
    "start_time": "2024-11-05T03:47:29.301Z"
   },
   {
    "duration": 4,
    "start_time": "2024-11-05T03:47:29.399Z"
   },
   {
    "duration": 21,
    "start_time": "2024-11-05T03:47:29.404Z"
   },
   {
    "duration": 261,
    "start_time": "2024-11-05T03:47:29.426Z"
   },
   {
    "duration": 4,
    "start_time": "2024-11-05T03:47:29.689Z"
   },
   {
    "duration": 164,
    "start_time": "2024-11-05T03:47:29.696Z"
   },
   {
    "duration": 157,
    "start_time": "2024-11-05T03:47:29.861Z"
   },
   {
    "duration": 4,
    "start_time": "2024-11-05T03:47:30.020Z"
   },
   {
    "duration": 3,
    "start_time": "2024-11-05T03:47:30.026Z"
   },
   {
    "duration": 7,
    "start_time": "2024-11-05T03:47:30.030Z"
   },
   {
    "duration": 126,
    "start_time": "2024-11-05T03:47:30.038Z"
   },
   {
    "duration": 11,
    "start_time": "2024-11-05T03:47:30.166Z"
   },
   {
    "duration": 6,
    "start_time": "2024-11-05T03:47:30.179Z"
   },
   {
    "duration": 315,
    "start_time": "2024-11-05T03:47:30.187Z"
   },
   {
    "duration": 7,
    "start_time": "2024-11-05T03:47:30.503Z"
   },
   {
    "duration": 30,
    "start_time": "2024-11-05T03:47:30.512Z"
   },
   {
    "duration": 7,
    "start_time": "2024-11-05T03:47:30.544Z"
   },
   {
    "duration": 8,
    "start_time": "2024-11-05T03:47:30.553Z"
   }
  ],
  "colab": {
   "provenance": []
  },
  "kernelspec": {
   "display_name": "Python [conda env:base] *",
   "language": "python",
   "name": "conda-base-py"
  },
  "language_info": {
   "codemirror_mode": {
    "name": "ipython",
    "version": 3
   },
   "file_extension": ".py",
   "mimetype": "text/x-python",
   "name": "python",
   "nbconvert_exporter": "python",
   "pygments_lexer": "ipython3",
   "version": "3.12.7"
  },
  "toc": {
   "base_numbering": 1,
   "nav_menu": {},
   "number_sections": true,
   "sideBar": true,
   "skip_h1_title": true,
   "title_cell": "Table of Contents",
   "title_sidebar": "Contents",
   "toc_cell": false,
   "toc_position": {},
   "toc_section_display": true,
   "toc_window_display": false
  },
  "vscode": {
   "interpreter": {
    "hash": "01a7be9ec63e704a62cefc5fe7a4756944464ee731be31632bdf42a4cb4688cf"
   }
  }
 },
 "nbformat": 4,
 "nbformat_minor": 5
}
